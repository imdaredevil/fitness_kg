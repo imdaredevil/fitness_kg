{
 "cells": [
  {
   "cell_type": "code",
   "execution_count": 1,
   "id": "44c0acba",
   "metadata": {},
   "outputs": [],
   "source": [
    "import pandas as pd\n",
    "import json\n",
    "import numpy as np\n",
    "import math\n",
    "from copy import deepcopy"
   ]
  },
  {
   "cell_type": "code",
   "execution_count": 2,
   "id": "dcf538c4",
   "metadata": {},
   "outputs": [],
   "source": [
    "import functools as ft"
   ]
  },
  {
   "cell_type": "markdown",
   "id": "8759a360",
   "metadata": {},
   "source": [
    "> Link muscle group in exrx and gym building exercises\n",
    "\n",
    "> Link those with the anatomy of yoga\n",
    "\n",
    "> seperate anatomy and muscles\n",
    "\n",
    ">"
   ]
  },
  {
   "cell_type": "markdown",
   "id": "913efcef",
   "metadata": {},
   "source": [
    "# Exract Yoga Data"
   ]
  },
  {
   "cell_type": "markdown",
   "id": "d8208ca4",
   "metadata": {},
   "source": [
    "#### Load yoga mapping file"
   ]
  },
  {
   "cell_type": "code",
   "execution_count": 3,
   "id": "c9ea3db9",
   "metadata": {},
   "outputs": [
    {
     "data": {
      "text/html": [
       "<div>\n",
       "<style scoped>\n",
       "    .dataframe tbody tr th:only-of-type {\n",
       "        vertical-align: middle;\n",
       "    }\n",
       "\n",
       "    .dataframe tbody tr th {\n",
       "        vertical-align: top;\n",
       "    }\n",
       "\n",
       "    .dataframe thead th {\n",
       "        text-align: right;\n",
       "    }\n",
       "</style>\n",
       "<table border=\"1\" class=\"dataframe\">\n",
       "  <thead>\n",
       "    <tr style=\"text-align: right;\">\n",
       "      <th></th>\n",
       "      <th>AlternateName</th>\n",
       "      <th>OriginalName</th>\n",
       "    </tr>\n",
       "  </thead>\n",
       "  <tbody>\n",
       "    <tr>\n",
       "      <th>113</th>\n",
       "      <td>pose dedicated to the sage marichi iii</td>\n",
       "      <td>marichi's pose</td>\n",
       "    </tr>\n",
       "    <tr>\n",
       "      <th>114</th>\n",
       "      <td>king pigeon pose</td>\n",
       "      <td>pigeon pose</td>\n",
       "    </tr>\n",
       "    <tr>\n",
       "      <th>115</th>\n",
       "      <td>reclining hand-to-big-toe pose i</td>\n",
       "      <td>reclining hand-to-big-toe pose</td>\n",
       "    </tr>\n",
       "    <tr>\n",
       "      <th>116</th>\n",
       "      <td>wide-angled seated forward bend</td>\n",
       "      <td>wide-angle seated forward bend</td>\n",
       "    </tr>\n",
       "    <tr>\n",
       "      <th>117</th>\n",
       "      <td>wide-legged standing forward bend</td>\n",
       "      <td>wide-legged forward bend</td>\n",
       "    </tr>\n",
       "  </tbody>\n",
       "</table>\n",
       "</div>"
      ],
      "text/plain": [
       "                              AlternateName                    OriginalName\n",
       "113  pose dedicated to the sage marichi iii                  marichi's pose\n",
       "114                        king pigeon pose                     pigeon pose\n",
       "115        reclining hand-to-big-toe pose i  reclining hand-to-big-toe pose\n",
       "116         wide-angled seated forward bend  wide-angle seated forward bend\n",
       "117       wide-legged standing forward bend        wide-legged forward bend"
      ]
     },
     "execution_count": 3,
     "metadata": {},
     "output_type": "execute_result"
    }
   ],
   "source": [
    "yoga_name_map_df = pd.read_excel(\"Mapping/new_mapping_master.xlsx\", sheet_name = \"Yoga Name Mapping\")\n",
    "yoga_name_map_df.tail()"
   ]
  },
  {
   "cell_type": "code",
   "execution_count": 4,
   "id": "23c62994",
   "metadata": {},
   "outputs": [
    {
     "data": {
      "text/plain": [
       "(118, 2)"
      ]
     },
     "execution_count": 4,
     "metadata": {},
     "output_type": "execute_result"
    }
   ],
   "source": [
    "yoga_name_map_df.shape"
   ]
  },
  {
   "cell_type": "code",
   "execution_count": 5,
   "id": "0ee854ac",
   "metadata": {},
   "outputs": [],
   "source": [
    "yoga_name_map = yoga_name_map_df.set_index(\"AlternateName\").to_dict()[\"OriginalName\"]"
   ]
  },
  {
   "cell_type": "markdown",
   "id": "a5d637e1",
   "metadata": {},
   "source": [
    "###### Yoga Name Mapping function"
   ]
  },
  {
   "cell_type": "code",
   "execution_count": 6,
   "id": "9a07a43f",
   "metadata": {},
   "outputs": [],
   "source": [
    "def unifyYogaNames(x):\n",
    "    name = x.split(\"|\")[0].strip().lower()\n",
    "    name = name.replace(\"’\", \"'\")\n",
    "    if name in yoga_name_map:\n",
    "        name = yoga_name_map[name]\n",
    "    return name"
   ]
  },
  {
   "cell_type": "markdown",
   "id": "9832a439",
   "metadata": {},
   "source": [
    "#### Load the muscle same as mapping function"
   ]
  },
  {
   "cell_type": "code",
   "execution_count": 7,
   "id": "35e5baed",
   "metadata": {},
   "outputs": [
    {
     "data": {
      "text/html": [
       "<div>\n",
       "<style scoped>\n",
       "    .dataframe tbody tr th:only-of-type {\n",
       "        vertical-align: middle;\n",
       "    }\n",
       "\n",
       "    .dataframe tbody tr th {\n",
       "        vertical-align: top;\n",
       "    }\n",
       "\n",
       "    .dataframe thead th {\n",
       "        text-align: right;\n",
       "    }\n",
       "</style>\n",
       "<table border=\"1\" class=\"dataframe\">\n",
       "  <thead>\n",
       "    <tr style=\"text-align: right;\">\n",
       "      <th></th>\n",
       "      <th>alternate_name</th>\n",
       "      <th>name</th>\n",
       "    </tr>\n",
       "  </thead>\n",
       "  <tbody>\n",
       "    <tr>\n",
       "      <th>0</th>\n",
       "      <td>biceps</td>\n",
       "      <td>biceps brachii</td>\n",
       "    </tr>\n",
       "    <tr>\n",
       "      <th>1</th>\n",
       "      <td>glutes</td>\n",
       "      <td>gluteus maximus</td>\n",
       "    </tr>\n",
       "    <tr>\n",
       "      <th>2</th>\n",
       "      <td>lats</td>\n",
       "      <td>latissimus dorsi</td>\n",
       "    </tr>\n",
       "    <tr>\n",
       "      <th>3</th>\n",
       "      <td>quads</td>\n",
       "      <td>quadriceps</td>\n",
       "    </tr>\n",
       "    <tr>\n",
       "      <th>4</th>\n",
       "      <td>triceps</td>\n",
       "      <td>triceps brachii</td>\n",
       "    </tr>\n",
       "  </tbody>\n",
       "</table>\n",
       "</div>"
      ],
      "text/plain": [
       "  alternate_name              name\n",
       "0         biceps    biceps brachii\n",
       "1         glutes   gluteus maximus\n",
       "2           lats  latissimus dorsi\n",
       "3          quads        quadriceps\n",
       "4        triceps   triceps brachii"
      ]
     },
     "execution_count": 7,
     "metadata": {},
     "output_type": "execute_result"
    }
   ],
   "source": [
    "same_as_muscles_df = pd.read_excel(\"Mapping/new_mapping_master.xlsx\", sheet_name = \"SAME_AS\")\n",
    "same_as_muscles_df.tail()"
   ]
  },
  {
   "cell_type": "code",
   "execution_count": 8,
   "id": "3e4424a7",
   "metadata": {},
   "outputs": [],
   "source": [
    "same_as_muscle_map = same_as_muscles_df.set_index('alternate_name').to_dict()['name']"
   ]
  },
  {
   "cell_type": "code",
   "execution_count": 9,
   "id": "c5740ec5",
   "metadata": {},
   "outputs": [],
   "source": [
    "def unifyMuscleNames(x):\n",
    "    name = x.strip().lower()\n",
    "    name = name.replace(\", \", \"-\")\n",
    "    name = name.replace(\".html\", \"\")#Specific to an expection\n",
    "    if name in same_as_muscle_map:\n",
    "        name = same_as_muscle_map[name]\n",
    "    return name"
   ]
  },
  {
   "cell_type": "markdown",
   "id": "381ab415",
   "metadata": {},
   "source": [
    "## Pose Details"
   ]
  },
  {
   "cell_type": "code",
   "execution_count": 10,
   "id": "726b2859",
   "metadata": {},
   "outputs": [],
   "source": [
    "pose_details_dict = {\n",
    "                 'name':[], 'description':[], 'target_areas':[],'benefits': [],\n",
    "                 'preparatory_poses':[], 'followup_poses':[],'instructions':[],'variation':[],\n",
    "                'url': []}\n",
    "\n",
    "with open('..\\Data_Scrape_Yoga\\yoga\\Extracted\\pose_details.jsonl', 'r', encoding=\"utf8\") as json_file:\n",
    "    json_list = list(json_file)\n",
    "    \n",
    "for json_str in json_list:\n",
    "    result = json.loads(json_str)\n",
    "    \n",
    "    pose_details_dict['name'].append(result['name'])\n",
    "    pose_details_dict['description'].append(result['description'])\n",
    "    pose_details_dict['target_areas'].append(result['target_areas'])\n",
    "    pose_details_dict['benefits'].append(result['benefits'])\n",
    "    pose_details_dict['preparatory_poses'].append(result['preparatory_poses'])\n",
    "    pose_details_dict['followup_poses'].append(result['followup_poses'])\n",
    "    pose_details_dict['instructions'].append(result['intructions'])\n",
    "    pose_details_dict['variation'].append(result['variation'])\n",
    "    pose_details_dict['url'].append(result['url'])\n",
    "    \n",
    "yoga_pose_details_df = pd.DataFrame.from_dict(pose_details_dict)    "
   ]
  },
  {
   "cell_type": "code",
   "execution_count": 11,
   "id": "9ab506a5",
   "metadata": {},
   "outputs": [
    {
     "data": {
      "text/html": [
       "<div>\n",
       "<style scoped>\n",
       "    .dataframe tbody tr th:only-of-type {\n",
       "        vertical-align: middle;\n",
       "    }\n",
       "\n",
       "    .dataframe tbody tr th {\n",
       "        vertical-align: top;\n",
       "    }\n",
       "\n",
       "    .dataframe thead th {\n",
       "        text-align: right;\n",
       "    }\n",
       "</style>\n",
       "<table border=\"1\" class=\"dataframe\">\n",
       "  <thead>\n",
       "    <tr style=\"text-align: right;\">\n",
       "      <th></th>\n",
       "      <th>name</th>\n",
       "      <th>description</th>\n",
       "      <th>target_areas</th>\n",
       "      <th>benefits</th>\n",
       "      <th>preparatory_poses</th>\n",
       "      <th>followup_poses</th>\n",
       "      <th>instructions</th>\n",
       "      <th>variation</th>\n",
       "      <th>url</th>\n",
       "    </tr>\n",
       "  </thead>\n",
       "  <tbody>\n",
       "    <tr>\n",
       "      <th>0</th>\n",
       "      <td>Child’s Pose</td>\n",
       "      <td>[Child’s Pose (Balasana) centers on creating a...</td>\n",
       "      <td>[Full Body]</td>\n",
       "      <td>[Other Child’s Pose perks:]</td>\n",
       "      <td>[Balasana can appear at the beginning of class...</td>\n",
       "      <td>[]</td>\n",
       "      <td>[Kneel on the floor. Touch your big toes toget...</td>\n",
       "      <td>[Child’s Pose with a bolster, Begin on your ha...</td>\n",
       "      <td>https://www.yogajournal.com/poses/child-s-pose/</td>\n",
       "    </tr>\n",
       "    <tr>\n",
       "      <th>1</th>\n",
       "      <td>Crow Pose | Crane Pose</td>\n",
       "      <td>[For many of us, our first attempt at an arm b...</td>\n",
       "      <td>[Upper body]</td>\n",
       "      <td>[Crow Pose and Crane Pose improve focus and st...</td>\n",
       "      <td>[Chaturanga Dandasana (Four-Limbed Staff Pose)]</td>\n",
       "      <td>[Chaturanga Dandasana (Four-Limbed Staff Pose)]</td>\n",
       "      <td>[Begin in a squat with your knees wide apart.,...</td>\n",
       "      <td>[Because Bakasana and Kakasana are so closely ...</td>\n",
       "      <td>https://www.yogajournal.com/poses/crane-pose/</td>\n",
       "    </tr>\n",
       "    <tr>\n",
       "      <th>2</th>\n",
       "      <td>Cat Pose</td>\n",
       "      <td>[You will encounter Marjaryasana (Cat Pose) an...</td>\n",
       "      <td>[Core]</td>\n",
       "      <td>[Other Cat Pose perks]</td>\n",
       "      <td>[Tabletop]</td>\n",
       "      <td>[Bitilasana (Cow Pose)]</td>\n",
       "      <td>[Begin Tabletop with your hips directly over y...</td>\n",
       "      <td>[Photo: Andrew Clark, Cat Pose with blocks, If...</td>\n",
       "      <td>https://www.yogajournal.com/poses/cat-pose/</td>\n",
       "    </tr>\n",
       "    <tr>\n",
       "      <th>3</th>\n",
       "      <td>Cow Pose</td>\n",
       "      <td>[Bitilasana (Cow Pose), a backbend, is commonl...</td>\n",
       "      <td>[Core]</td>\n",
       "      <td>[Other Cow Pose Perks]</td>\n",
       "      <td>[Marjaryasana (Cat Pose), Balasana (Child’s Po...</td>\n",
       "      <td>[Marjaryasana (Cat Pose), Balasana (Child’s Po...</td>\n",
       "      <td>[Begin in Tabletop with your hips directly ove...</td>\n",
       "      <td>[Photo: Christopher Dougherty, Cow Pose with b...</td>\n",
       "      <td>https://www.yogajournal.com/poses/cow-pose/</td>\n",
       "    </tr>\n",
       "    <tr>\n",
       "      <th>4</th>\n",
       "      <td>Corpse Pose</td>\n",
       "      <td>[Savasana is a pose of total relaxation—making...</td>\n",
       "      <td>[Target Area:, Full Body]</td>\n",
       "      <td>[If your low back is achy, relax your back and...</td>\n",
       "      <td>[Any poses you practiced prior to Savasana ser...</td>\n",
       "      <td>[]</td>\n",
       "      <td>[Sit on the floor with your knees bent, feet o...</td>\n",
       "      <td>[If your low back is achy, relax your back and...</td>\n",
       "      <td>https://www.yogajournal.com/poses/corpse-pose-2/</td>\n",
       "    </tr>\n",
       "  </tbody>\n",
       "</table>\n",
       "</div>"
      ],
      "text/plain": [
       "                     name                                        description  \\\n",
       "0            Child’s Pose  [Child’s Pose (Balasana) centers on creating a...   \n",
       "1  Crow Pose | Crane Pose  [For many of us, our first attempt at an arm b...   \n",
       "2                Cat Pose  [You will encounter Marjaryasana (Cat Pose) an...   \n",
       "3                Cow Pose  [Bitilasana (Cow Pose), a backbend, is commonl...   \n",
       "4             Corpse Pose  [Savasana is a pose of total relaxation—making...   \n",
       "\n",
       "                target_areas  \\\n",
       "0                [Full Body]   \n",
       "1               [Upper body]   \n",
       "2                     [Core]   \n",
       "3                     [Core]   \n",
       "4  [Target Area:, Full Body]   \n",
       "\n",
       "                                            benefits  \\\n",
       "0                        [Other Child’s Pose perks:]   \n",
       "1  [Crow Pose and Crane Pose improve focus and st...   \n",
       "2                             [Other Cat Pose perks]   \n",
       "3                             [Other Cow Pose Perks]   \n",
       "4  [If your low back is achy, relax your back and...   \n",
       "\n",
       "                                   preparatory_poses  \\\n",
       "0  [Balasana can appear at the beginning of class...   \n",
       "1    [Chaturanga Dandasana (Four-Limbed Staff Pose)]   \n",
       "2                                         [Tabletop]   \n",
       "3  [Marjaryasana (Cat Pose), Balasana (Child’s Po...   \n",
       "4  [Any poses you practiced prior to Savasana ser...   \n",
       "\n",
       "                                      followup_poses  \\\n",
       "0                                                 []   \n",
       "1    [Chaturanga Dandasana (Four-Limbed Staff Pose)]   \n",
       "2                            [Bitilasana (Cow Pose)]   \n",
       "3  [Marjaryasana (Cat Pose), Balasana (Child’s Po...   \n",
       "4                                                 []   \n",
       "\n",
       "                                        instructions  \\\n",
       "0  [Kneel on the floor. Touch your big toes toget...   \n",
       "1  [Begin in a squat with your knees wide apart.,...   \n",
       "2  [Begin Tabletop with your hips directly over y...   \n",
       "3  [Begin in Tabletop with your hips directly ove...   \n",
       "4  [Sit on the floor with your knees bent, feet o...   \n",
       "\n",
       "                                           variation  \\\n",
       "0  [Child’s Pose with a bolster, Begin on your ha...   \n",
       "1  [Because Bakasana and Kakasana are so closely ...   \n",
       "2  [Photo: Andrew Clark, Cat Pose with blocks, If...   \n",
       "3  [Photo: Christopher Dougherty, Cow Pose with b...   \n",
       "4  [If your low back is achy, relax your back and...   \n",
       "\n",
       "                                                url  \n",
       "0   https://www.yogajournal.com/poses/child-s-pose/  \n",
       "1     https://www.yogajournal.com/poses/crane-pose/  \n",
       "2       https://www.yogajournal.com/poses/cat-pose/  \n",
       "3       https://www.yogajournal.com/poses/cow-pose/  \n",
       "4  https://www.yogajournal.com/poses/corpse-pose-2/  "
      ]
     },
     "execution_count": 11,
     "metadata": {},
     "output_type": "execute_result"
    }
   ],
   "source": [
    "yoga_pose_details_df.head()"
   ]
  },
  {
   "cell_type": "code",
   "execution_count": 12,
   "id": "41ff8517",
   "metadata": {},
   "outputs": [
    {
     "data": {
      "text/plain": [
       "(92, 9)"
      ]
     },
     "execution_count": 12,
     "metadata": {},
     "output_type": "execute_result"
    }
   ],
   "source": [
    "yoga_pose_details_df.shape"
   ]
  },
  {
   "cell_type": "code",
   "execution_count": 13,
   "id": "8505692e",
   "metadata": {},
   "outputs": [],
   "source": [
    "# yoga_pose_details_df.name = yoga_pose_details_df.name.str.replace(\"’\", \"'\")"
   ]
  },
  {
   "cell_type": "code",
   "execution_count": 14,
   "id": "d1577441",
   "metadata": {},
   "outputs": [],
   "source": [
    "###unify the name columns\n",
    "yoga_pose_details_df.name = yoga_pose_details_df.name.apply(lambda x: unifyYogaNames(x))"
   ]
  },
  {
   "cell_type": "code",
   "execution_count": 15,
   "id": "8f830ca1",
   "metadata": {},
   "outputs": [
    {
     "data": {
      "text/plain": [
       "name                 0\n",
       "description          0\n",
       "target_areas         0\n",
       "benefits             0\n",
       "preparatory_poses    0\n",
       "followup_poses       0\n",
       "instructions         0\n",
       "variation            0\n",
       "url                  0\n",
       "dtype: int64"
      ]
     },
     "execution_count": 15,
     "metadata": {},
     "output_type": "execute_result"
    }
   ],
   "source": [
    "yoga_pose_details_df.isnull().sum()"
   ]
  },
  {
   "cell_type": "markdown",
   "id": "51794a35",
   "metadata": {},
   "source": [
    "### Pose Table"
   ]
  },
  {
   "cell_type": "code",
   "execution_count": 16,
   "id": "ccb3a5b7",
   "metadata": {},
   "outputs": [],
   "source": [
    "pose_table_dict = {\n",
    "                 'english_Name':[], 'sanskrit_Name':[], 'pose_Type':[],'url': []}\n",
    "\n",
    "with open('..\\Data_Scrape_Yoga\\yoga\\Extracted\\poseTable.jsonl', 'r', encoding=\"utf8\") as json_file:\n",
    "    json_list = list(json_file)\n",
    "    \n",
    "for json_str in json_list:\n",
    "    result = json.loads(json_str)\n",
    "    \n",
    "    pose_table_dict['english_Name'].append(result['english_Name'])\n",
    "    pose_table_dict['sanskrit_Name'].append(result['sanskrit_Name'])\n",
    "    pose_table_dict['pose_Type'].append(result['pose_Type'])\n",
    "    pose_table_dict['url'].append(result['url'])\n",
    "\n",
    "yoga_pose_df = pd.DataFrame.from_dict(pose_table_dict)"
   ]
  },
  {
   "cell_type": "code",
   "execution_count": 17,
   "id": "2b963e7e",
   "metadata": {},
   "outputs": [
    {
     "data": {
      "text/html": [
       "<div>\n",
       "<style scoped>\n",
       "    .dataframe tbody tr th:only-of-type {\n",
       "        vertical-align: middle;\n",
       "    }\n",
       "\n",
       "    .dataframe tbody tr th {\n",
       "        vertical-align: top;\n",
       "    }\n",
       "\n",
       "    .dataframe thead th {\n",
       "        text-align: right;\n",
       "    }\n",
       "</style>\n",
       "<table border=\"1\" class=\"dataframe\">\n",
       "  <thead>\n",
       "    <tr style=\"text-align: right;\">\n",
       "      <th></th>\n",
       "      <th>english_Name</th>\n",
       "      <th>sanskrit_Name</th>\n",
       "      <th>pose_Type</th>\n",
       "      <th>url</th>\n",
       "    </tr>\n",
       "  </thead>\n",
       "  <tbody>\n",
       "    <tr>\n",
       "      <th>30</th>\n",
       "      <td>Garland Pose</td>\n",
       "      <td>Malasana</td>\n",
       "      <td>[Standing Yoga Poses]</td>\n",
       "      <td>https://www.yogajournal.com/poses/garland-pose/</td>\n",
       "    </tr>\n",
       "    <tr>\n",
       "      <th>31</th>\n",
       "      <td>Gate Pose</td>\n",
       "      <td>Parighasana</td>\n",
       "      <td>[Standing Yoga Poses]</td>\n",
       "      <td>https://www.yogajournal.com/poses/gate-pose-2/</td>\n",
       "    </tr>\n",
       "    <tr>\n",
       "      <th>32</th>\n",
       "      <td>Half Frog Pose</td>\n",
       "      <td>Ardha Bhekasana</td>\n",
       "      <td>[Chest-Opening Yoga Poses, Yoga Backbends]</td>\n",
       "      <td>https://www.yogajournal.com/poses/half-frog-pose/</td>\n",
       "    </tr>\n",
       "    <tr>\n",
       "      <th>33</th>\n",
       "      <td>Half Lord of the Fishes Pose</td>\n",
       "      <td>Ardha Matsyendrasana</td>\n",
       "      <td>[Hip-Opening Yoga Poses, Seated Yoga Poses, Tw...</td>\n",
       "      <td>https://www.yogajournal.com/poses/half-lord-of...</td>\n",
       "    </tr>\n",
       "    <tr>\n",
       "      <th>34</th>\n",
       "      <td>Half Moon Pose</td>\n",
       "      <td>Ardha Chandrasana</td>\n",
       "      <td>[Balancing Yoga Poses, Standing Yoga Poses]</td>\n",
       "      <td>https://www.yogajournal.com/poses/half-moon-po...</td>\n",
       "    </tr>\n",
       "  </tbody>\n",
       "</table>\n",
       "</div>"
      ],
      "text/plain": [
       "                    english_Name         sanskrit_Name  \\\n",
       "30                  Garland Pose              Malasana   \n",
       "31                     Gate Pose           Parighasana   \n",
       "32                Half Frog Pose       Ardha Bhekasana   \n",
       "33  Half Lord of the Fishes Pose  Ardha Matsyendrasana   \n",
       "34                Half Moon Pose     Ardha Chandrasana   \n",
       "\n",
       "                                            pose_Type  \\\n",
       "30                              [Standing Yoga Poses]   \n",
       "31                              [Standing Yoga Poses]   \n",
       "32         [Chest-Opening Yoga Poses, Yoga Backbends]   \n",
       "33  [Hip-Opening Yoga Poses, Seated Yoga Poses, Tw...   \n",
       "34        [Balancing Yoga Poses, Standing Yoga Poses]   \n",
       "\n",
       "                                                  url  \n",
       "30    https://www.yogajournal.com/poses/garland-pose/  \n",
       "31     https://www.yogajournal.com/poses/gate-pose-2/  \n",
       "32  https://www.yogajournal.com/poses/half-frog-pose/  \n",
       "33  https://www.yogajournal.com/poses/half-lord-of...  \n",
       "34  https://www.yogajournal.com/poses/half-moon-po...  "
      ]
     },
     "execution_count": 17,
     "metadata": {},
     "output_type": "execute_result"
    }
   ],
   "source": [
    "yoga_pose_df.iloc[30:35,:]"
   ]
  },
  {
   "cell_type": "code",
   "execution_count": 18,
   "id": "da76c323",
   "metadata": {},
   "outputs": [],
   "source": [
    "# yoga_pose_df.english_Name = yoga_pose_df.english_Name.str.replace(\"’\", \"'\")"
   ]
  },
  {
   "cell_type": "code",
   "execution_count": 19,
   "id": "a1f253f1",
   "metadata": {},
   "outputs": [],
   "source": [
    "yoga_pose_df.loc[yoga_pose_df.sanskrit_Name==\"Eka Pada Koundinyanasana I\",\"english_Name\"] = \"pose dedicated to the sage koundinya i\"\n",
    "yoga_pose_df.loc[yoga_pose_df.sanskrit_Name==\"Eka Pada Koundinyanasana II\",\"english_Name\"] = \"pose dedicated to the sage koundinya ii\""
   ]
  },
  {
   "cell_type": "code",
   "execution_count": 20,
   "id": "2f4bf467",
   "metadata": {},
   "outputs": [
    {
     "data": {
      "text/plain": [
       "'dolphin plank pose'"
      ]
     },
     "execution_count": 20,
     "metadata": {},
     "output_type": "execute_result"
    }
   ],
   "source": [
    "unifyYogaNames(\"Dolphin Plank Pose | Forearm Plank\")"
   ]
  },
  {
   "cell_type": "code",
   "execution_count": 21,
   "id": "3c3ed81e",
   "metadata": {},
   "outputs": [
    {
     "data": {
      "text/plain": [
       "(92, 4)"
      ]
     },
     "execution_count": 21,
     "metadata": {},
     "output_type": "execute_result"
    }
   ],
   "source": [
    "yoga_pose_df.shape"
   ]
  },
  {
   "cell_type": "code",
   "execution_count": 22,
   "id": "b896c35b",
   "metadata": {},
   "outputs": [],
   "source": [
    "###unify the name columns\n",
    "yoga_pose_df.english_Name = yoga_pose_df.english_Name.apply(lambda x: unifyYogaNames(x))"
   ]
  },
  {
   "cell_type": "code",
   "execution_count": 23,
   "id": "688eabde",
   "metadata": {},
   "outputs": [
    {
     "data": {
      "text/plain": [
       "array([], dtype=object)"
      ]
     },
     "execution_count": 23,
     "metadata": {},
     "output_type": "execute_result"
    }
   ],
   "source": [
    "yoga_pose_df[yoga_pose_df.english_Name==\"Rope Pose\"][\"url\"].values"
   ]
  },
  {
   "cell_type": "code",
   "execution_count": 24,
   "id": "e505ce1b",
   "metadata": {},
   "outputs": [
    {
     "data": {
      "text/plain": [
       "array([], dtype=object)"
      ]
     },
     "execution_count": 24,
     "metadata": {},
     "output_type": "execute_result"
    }
   ],
   "source": [
    "yoga_pose_details_df[yoga_pose_details_df.name==\"Rope Pose\"][\"url\"].values"
   ]
  },
  {
   "cell_type": "markdown",
   "id": "f0305583",
   "metadata": {},
   "source": [
    "### Yoga categories"
   ]
  },
  {
   "cell_type": "code",
   "execution_count": 25,
   "id": "50b620a3",
   "metadata": {},
   "outputs": [],
   "source": [
    "pose_category_dict = {\n",
    "                 'anatomy':[], 'url':[]}\n",
    "\n",
    "with open('..\\Data_Scrape_Yoga\\yoga\\Extracted\\yoga_categories.jsonl', 'r', encoding=\"utf8\") as json_file:\n",
    "    json_list = list(json_file)\n",
    "    \n",
    "for json_str in json_list:\n",
    "    result = json.loads(json_str)\n",
    "    pose_category_dict['anatomy'].append(result['anatomy'])\n",
    "    pose_category_dict['url'].append(result['url'])\n",
    "\n",
    "yoga_categories_df = pd.DataFrame.from_dict(pose_category_dict)    "
   ]
  },
  {
   "cell_type": "code",
   "execution_count": 26,
   "id": "75380007",
   "metadata": {},
   "outputs": [
    {
     "data": {
      "text/html": [
       "<div>\n",
       "<style scoped>\n",
       "    .dataframe tbody tr th:only-of-type {\n",
       "        vertical-align: middle;\n",
       "    }\n",
       "\n",
       "    .dataframe tbody tr th {\n",
       "        vertical-align: top;\n",
       "    }\n",
       "\n",
       "    .dataframe thead th {\n",
       "        text-align: right;\n",
       "    }\n",
       "</style>\n",
       "<table border=\"1\" class=\"dataframe\">\n",
       "  <thead>\n",
       "    <tr style=\"text-align: right;\">\n",
       "      <th></th>\n",
       "      <th>anatomy</th>\n",
       "      <th>url</th>\n",
       "    </tr>\n",
       "  </thead>\n",
       "  <tbody>\n",
       "    <tr>\n",
       "      <th>0</th>\n",
       "      <td>Abs</td>\n",
       "      <td>https://www.yogajournal.com/poses/anatomy/abs/</td>\n",
       "    </tr>\n",
       "    <tr>\n",
       "      <th>1</th>\n",
       "      <td>Ankles</td>\n",
       "      <td>https://www.yogajournal.com/poses/anatomy/ankles/</td>\n",
       "    </tr>\n",
       "    <tr>\n",
       "      <th>2</th>\n",
       "      <td>Arms</td>\n",
       "      <td>https://www.yogajournal.com/poses/anatomy/arms/</td>\n",
       "    </tr>\n",
       "    <tr>\n",
       "      <th>3</th>\n",
       "      <td>Back</td>\n",
       "      <td>https://www.yogajournal.com/poses/anatomy/back/</td>\n",
       "    </tr>\n",
       "    <tr>\n",
       "      <th>4</th>\n",
       "      <td>Belly</td>\n",
       "      <td>https://www.yogajournal.com/poses/anatomy/belly/</td>\n",
       "    </tr>\n",
       "  </tbody>\n",
       "</table>\n",
       "</div>"
      ],
      "text/plain": [
       "  anatomy                                                url\n",
       "0     Abs     https://www.yogajournal.com/poses/anatomy/abs/\n",
       "1  Ankles  https://www.yogajournal.com/poses/anatomy/ankles/\n",
       "2    Arms    https://www.yogajournal.com/poses/anatomy/arms/\n",
       "3    Back    https://www.yogajournal.com/poses/anatomy/back/\n",
       "4   Belly   https://www.yogajournal.com/poses/anatomy/belly/"
      ]
     },
     "execution_count": 26,
     "metadata": {},
     "output_type": "execute_result"
    }
   ],
   "source": [
    "yoga_categories_df.head()"
   ]
  },
  {
   "cell_type": "code",
   "execution_count": 27,
   "id": "83b14d44",
   "metadata": {},
   "outputs": [],
   "source": [
    "yoga_categories_df.anatomy = yoga_categories_df.anatomy.str.lower()"
   ]
  },
  {
   "cell_type": "code",
   "execution_count": 28,
   "id": "8796e2e4",
   "metadata": {},
   "outputs": [
    {
     "data": {
      "text/plain": [
       "(24, 2)"
      ]
     },
     "execution_count": 28,
     "metadata": {},
     "output_type": "execute_result"
    }
   ],
   "source": [
    "yoga_categories_df.shape"
   ]
  },
  {
   "cell_type": "code",
   "execution_count": 29,
   "id": "ca676da1",
   "metadata": {},
   "outputs": [
    {
     "data": {
      "text/plain": [
       "array(['abs', 'ankles', 'arms', 'back', 'belly', 'glutes', 'hamstrings',\n",
       "       'hands', 'flexors', 'hips', 'heart', 'kidneys', 'knees', 'legs',\n",
       "       'lungs', 'neck', 'pelvis', 'sacrum', 'shoulders', 'spine',\n",
       "       'thighs', 'wrists'], dtype=object)"
      ]
     },
     "execution_count": 29,
     "metadata": {},
     "output_type": "execute_result"
    }
   ],
   "source": [
    "yoga_categories_df.anatomy.unique()"
   ]
  },
  {
   "cell_type": "markdown",
   "id": "e5e3e5e1",
   "metadata": {},
   "source": [
    "### Yoga poses"
   ]
  },
  {
   "cell_type": "code",
   "execution_count": 30,
   "id": "ca7ac9df",
   "metadata": {},
   "outputs": [],
   "source": [
    "poses_dict = {\n",
    "                 'anatomy':[], 'pose_name':[],'url': []}\n",
    "\n",
    "with open('..\\Data_Scrape_Yoga\\yoga\\Extracted\\yoga_poses.jsonl', 'r', encoding=\"utf8\") as json_file:\n",
    "    json_list = list(json_file)\n",
    "    \n",
    "for json_str in json_list:\n",
    "    result = json.loads(json_str)\n",
    "    \n",
    "    poses_dict['anatomy'].append(result['anatomy'])\n",
    "    poses_dict['pose_name'].append(result['pose_name'])\n",
    "    poses_dict['url'].append(result['url'])\n",
    "\n",
    "yoga_pose_anatomy_df = pd.DataFrame.from_dict(poses_dict)    "
   ]
  },
  {
   "cell_type": "code",
   "execution_count": 31,
   "id": "54802ce2",
   "metadata": {},
   "outputs": [
    {
     "data": {
      "text/html": [
       "<div>\n",
       "<style scoped>\n",
       "    .dataframe tbody tr th:only-of-type {\n",
       "        vertical-align: middle;\n",
       "    }\n",
       "\n",
       "    .dataframe tbody tr th {\n",
       "        vertical-align: top;\n",
       "    }\n",
       "\n",
       "    .dataframe thead th {\n",
       "        text-align: right;\n",
       "    }\n",
       "</style>\n",
       "<table border=\"1\" class=\"dataframe\">\n",
       "  <thead>\n",
       "    <tr style=\"text-align: right;\">\n",
       "      <th></th>\n",
       "      <th>anatomy</th>\n",
       "      <th>pose_name</th>\n",
       "      <th>url</th>\n",
       "    </tr>\n",
       "  </thead>\n",
       "  <tbody>\n",
       "    <tr>\n",
       "      <th>0</th>\n",
       "      <td>Glutes</td>\n",
       "      <td>Big Toe Pose</td>\n",
       "      <td>https://www.yogajournal.com/poses/big-toe-pose/</td>\n",
       "    </tr>\n",
       "    <tr>\n",
       "      <th>1</th>\n",
       "      <td>Hamstrings</td>\n",
       "      <td>Big Toe Pose</td>\n",
       "      <td>https://www.yogajournal.com/poses/big-toe-pose/</td>\n",
       "    </tr>\n",
       "    <tr>\n",
       "      <th>2</th>\n",
       "      <td>Hands</td>\n",
       "      <td>Cobra Pose</td>\n",
       "      <td>https://www.yogajournal.com/poses/cobra-pose-2/</td>\n",
       "    </tr>\n",
       "    <tr>\n",
       "      <th>3</th>\n",
       "      <td>Glutes</td>\n",
       "      <td>Cobra Pose</td>\n",
       "      <td>https://www.yogajournal.com/poses/cobra-pose-2/</td>\n",
       "    </tr>\n",
       "    <tr>\n",
       "      <th>4</th>\n",
       "      <td>Glutes</td>\n",
       "      <td>Extended Hand-to-Big-Toe Pose</td>\n",
       "      <td>https://www.yogajournal.com/poses/extended-han...</td>\n",
       "    </tr>\n",
       "  </tbody>\n",
       "</table>\n",
       "</div>"
      ],
      "text/plain": [
       "      anatomy                      pose_name  \\\n",
       "0      Glutes                   Big Toe Pose   \n",
       "1  Hamstrings                   Big Toe Pose   \n",
       "2       Hands                     Cobra Pose   \n",
       "3      Glutes                     Cobra Pose   \n",
       "4      Glutes  Extended Hand-to-Big-Toe Pose   \n",
       "\n",
       "                                                 url  \n",
       "0    https://www.yogajournal.com/poses/big-toe-pose/  \n",
       "1    https://www.yogajournal.com/poses/big-toe-pose/  \n",
       "2    https://www.yogajournal.com/poses/cobra-pose-2/  \n",
       "3    https://www.yogajournal.com/poses/cobra-pose-2/  \n",
       "4  https://www.yogajournal.com/poses/extended-han...  "
      ]
     },
     "execution_count": 31,
     "metadata": {},
     "output_type": "execute_result"
    }
   ],
   "source": [
    "yoga_pose_anatomy_df.head()"
   ]
  },
  {
   "cell_type": "code",
   "execution_count": 32,
   "id": "5a489dad",
   "metadata": {},
   "outputs": [],
   "source": [
    "##Unify muscle names\n",
    "yoga_pose_anatomy_df.anatomy = yoga_pose_anatomy_df.anatomy.apply(lambda x:unifyMuscleNames(x))"
   ]
  },
  {
   "cell_type": "code",
   "execution_count": 33,
   "id": "0c880f3f",
   "metadata": {},
   "outputs": [],
   "source": [
    "###unify the name columns\n",
    "yoga_pose_anatomy_df.pose_name = yoga_pose_anatomy_df.pose_name.apply(lambda x: unifyYogaNames(x))"
   ]
  },
  {
   "cell_type": "code",
   "execution_count": 34,
   "id": "e70f7108",
   "metadata": {},
   "outputs": [],
   "source": [
    "yoga_pose_anatomy_df = yoga_pose_anatomy_df.groupby(['pose_name','url'])['anatomy'].apply(set).reset_index(name='Anatomies')"
   ]
  },
  {
   "cell_type": "code",
   "execution_count": 35,
   "id": "cd3d743a",
   "metadata": {},
   "outputs": [],
   "source": [
    "yoga_pose_anatomy_df.Anatomies = yoga_pose_anatomy_df.Anatomies.apply(lambda x:list(x))"
   ]
  },
  {
   "cell_type": "code",
   "execution_count": 36,
   "id": "c814c4a0",
   "metadata": {},
   "outputs": [
    {
     "data": {
      "text/html": [
       "<div>\n",
       "<style scoped>\n",
       "    .dataframe tbody tr th:only-of-type {\n",
       "        vertical-align: middle;\n",
       "    }\n",
       "\n",
       "    .dataframe tbody tr th {\n",
       "        vertical-align: top;\n",
       "    }\n",
       "\n",
       "    .dataframe thead th {\n",
       "        text-align: right;\n",
       "    }\n",
       "</style>\n",
       "<table border=\"1\" class=\"dataframe\">\n",
       "  <thead>\n",
       "    <tr style=\"text-align: right;\">\n",
       "      <th></th>\n",
       "      <th>pose_name</th>\n",
       "      <th>url</th>\n",
       "      <th>Anatomies</th>\n",
       "    </tr>\n",
       "  </thead>\n",
       "  <tbody>\n",
       "    <tr>\n",
       "      <th>0</th>\n",
       "      <td>3 ways to modify revolved abdomen pose</td>\n",
       "      <td>https://www.yogajournal.com/poses/types/twists...</td>\n",
       "      <td>[sacrum]</td>\n",
       "    </tr>\n",
       "    <tr>\n",
       "      <th>1</th>\n",
       "      <td>anatomy 101: understanding your sacroiliac joint</td>\n",
       "      <td>https://www.yogajournal.com/yoga-101/anatomy-1...</td>\n",
       "      <td>[sacrum]</td>\n",
       "    </tr>\n",
       "    <tr>\n",
       "      <th>2</th>\n",
       "      <td>bharadvaja's twist</td>\n",
       "      <td>https://www.yogajournal.com/poses/bharadvaja-s...</td>\n",
       "      <td>[back, hips, neck, spine, shoulders, belly]</td>\n",
       "    </tr>\n",
       "    <tr>\n",
       "      <th>3</th>\n",
       "      <td>big toe pose</td>\n",
       "      <td>https://www.yogajournal.com/poses/big-toe-pose/</td>\n",
       "      <td>[thighs, legs, hamstrings, back, knees, pelvis...</td>\n",
       "    </tr>\n",
       "    <tr>\n",
       "      <th>4</th>\n",
       "      <td>boat pose</td>\n",
       "      <td>https://www.yogajournal.com/poses/full-boat-po...</td>\n",
       "      <td>[abs, flexors, hips, kidneys, spine, belly]</td>\n",
       "    </tr>\n",
       "  </tbody>\n",
       "</table>\n",
       "</div>"
      ],
      "text/plain": [
       "                                          pose_name  \\\n",
       "0            3 ways to modify revolved abdomen pose   \n",
       "1  anatomy 101: understanding your sacroiliac joint   \n",
       "2                                bharadvaja's twist   \n",
       "3                                      big toe pose   \n",
       "4                                         boat pose   \n",
       "\n",
       "                                                 url  \\\n",
       "0  https://www.yogajournal.com/poses/types/twists...   \n",
       "1  https://www.yogajournal.com/yoga-101/anatomy-1...   \n",
       "2  https://www.yogajournal.com/poses/bharadvaja-s...   \n",
       "3    https://www.yogajournal.com/poses/big-toe-pose/   \n",
       "4  https://www.yogajournal.com/poses/full-boat-po...   \n",
       "\n",
       "                                           Anatomies  \n",
       "0                                           [sacrum]  \n",
       "1                                           [sacrum]  \n",
       "2        [back, hips, neck, spine, shoulders, belly]  \n",
       "3  [thighs, legs, hamstrings, back, knees, pelvis...  \n",
       "4        [abs, flexors, hips, kidneys, spine, belly]  "
      ]
     },
     "execution_count": 36,
     "metadata": {},
     "output_type": "execute_result"
    }
   ],
   "source": [
    "yoga_pose_anatomy_df.head()"
   ]
  },
  {
   "cell_type": "code",
   "execution_count": 37,
   "id": "19193c00",
   "metadata": {
    "scrolled": true
   },
   "outputs": [
    {
     "data": {
      "text/plain": [
       "(94, 3)"
      ]
     },
     "execution_count": 37,
     "metadata": {},
     "output_type": "execute_result"
    }
   ],
   "source": [
    "yoga_pose_anatomy_df.shape"
   ]
  },
  {
   "cell_type": "markdown",
   "id": "1b5a1496",
   "metadata": {},
   "source": []
  },
  {
   "cell_type": "code",
   "execution_count": 38,
   "id": "d7de1c75",
   "metadata": {},
   "outputs": [],
   "source": [
    "#####1. Check all of the unique pose_names\n",
    "# unique_names = pd.concat([yoga_pose_anatomy_df['pose_name'], yoga_pose_df['english_Name'], yoga_pose_details_df['name']], axis=0, ignore_index= True).drop_duplicates()\n",
    "# unique_names.to_csv(\"test_yoga_names.csv\", index = False)"
   ]
  },
  {
   "cell_type": "code",
   "execution_count": 39,
   "id": "427e10c9",
   "metadata": {},
   "outputs": [],
   "source": [
    "####1.Map all of the sanskrit names to the yoga\n",
    "# yoga_pose_df[[\"english_Name\",\"sanskrit_Name\"]].to_csv(\"test_yoga_sanskrit_names.csv\", index = False)"
   ]
  },
  {
   "cell_type": "markdown",
   "id": "96faa4d8",
   "metadata": {},
   "source": [
    "## => Merge the yoga details"
   ]
  },
  {
   "cell_type": "code",
   "execution_count": 40,
   "id": "03f9b2ea",
   "metadata": {},
   "outputs": [],
   "source": [
    "# yoga_pose_details_df[[\"name\",\"url\"]].to_csv(\"data_test/test_yoga_pose_details_df.csv\", index = False)\n",
    "# yoga_pose_df.to_csv(\"data_test/test_yoga_pose_df.csv\", index = False)\n",
    "# yoga_pose_anatomy_df.to_csv(\"data_test/yoga_pose_anatomy_df.csv\", index = False)"
   ]
  },
  {
   "cell_type": "code",
   "execution_count": 41,
   "id": "fd6df711",
   "metadata": {},
   "outputs": [
    {
     "data": {
      "text/plain": [
       "name                 0\n",
       "description          0\n",
       "target_areas         0\n",
       "benefits             0\n",
       "preparatory_poses    0\n",
       "followup_poses       0\n",
       "instructions         0\n",
       "variation            0\n",
       "url_x                0\n",
       "sanskrit_Name        6\n",
       "pose_Type            0\n",
       "url_y                0\n",
       "dtype: int64"
      ]
     },
     "metadata": {},
     "output_type": "display_data"
    }
   ],
   "source": [
    "yoga_details = yoga_pose_details_df.merge(yoga_pose_df, right_on=\"english_Name\", left_on=\"name\" , how = \"left\").drop(columns = [\"english_Name\"])\n",
    "\n",
    "display(yoga_details.isnull().sum())\n",
    "# yoga_details_full = yoga_details.merge(yoga_pose_anatomy_df[[\"url\",\"Anatomies\"]], on=\"url\", how = \"left\")\n",
    "# yoga_details_full.isnull().sum()"
   ]
  },
  {
   "cell_type": "code",
   "execution_count": 42,
   "id": "a09aa17f",
   "metadata": {},
   "outputs": [],
   "source": [
    "yoga_details_full = yoga_details.merge(yoga_pose_anatomy_df[[\"pose_name\",\"Anatomies\"]], left_on=\"name\", right_on=\"pose_name\", how = \"left\").drop(columns=[\"pose_name\"])"
   ]
  },
  {
   "cell_type": "code",
   "execution_count": 43,
   "id": "d71cca38",
   "metadata": {},
   "outputs": [
    {
     "data": {
      "text/plain": [
       "name                 0\n",
       "description          0\n",
       "target_areas         0\n",
       "benefits             0\n",
       "preparatory_poses    0\n",
       "followup_poses       0\n",
       "instructions         0\n",
       "variation            0\n",
       "url_x                0\n",
       "sanskrit_Name        6\n",
       "pose_Type            0\n",
       "url_y                0\n",
       "Anatomies            6\n",
       "dtype: int64"
      ]
     },
     "execution_count": 43,
     "metadata": {},
     "output_type": "execute_result"
    }
   ],
   "source": [
    "yoga_details_full.isnull().sum()"
   ]
  },
  {
   "cell_type": "code",
   "execution_count": 44,
   "id": "c21376eb",
   "metadata": {},
   "outputs": [
    {
     "data": {
      "text/html": [
       "<div>\n",
       "<style scoped>\n",
       "    .dataframe tbody tr th:only-of-type {\n",
       "        vertical-align: middle;\n",
       "    }\n",
       "\n",
       "    .dataframe tbody tr th {\n",
       "        vertical-align: top;\n",
       "    }\n",
       "\n",
       "    .dataframe thead th {\n",
       "        text-align: right;\n",
       "    }\n",
       "</style>\n",
       "<table border=\"1\" class=\"dataframe\">\n",
       "  <thead>\n",
       "    <tr style=\"text-align: right;\">\n",
       "      <th></th>\n",
       "      <th>name</th>\n",
       "      <th>description</th>\n",
       "      <th>target_areas</th>\n",
       "      <th>benefits</th>\n",
       "      <th>preparatory_poses</th>\n",
       "      <th>followup_poses</th>\n",
       "      <th>instructions</th>\n",
       "      <th>variation</th>\n",
       "      <th>url_x</th>\n",
       "      <th>sanskrit_Name</th>\n",
       "      <th>pose_Type</th>\n",
       "      <th>url_y</th>\n",
       "      <th>Anatomies</th>\n",
       "    </tr>\n",
       "  </thead>\n",
       "  <tbody>\n",
       "    <tr>\n",
       "      <th>4</th>\n",
       "      <td>corpse pose</td>\n",
       "      <td>[Savasana is a pose of total relaxation—making...</td>\n",
       "      <td>[Target Area:, Full Body]</td>\n",
       "      <td>[If your low back is achy, relax your back and...</td>\n",
       "      <td>[Any poses you practiced prior to Savasana ser...</td>\n",
       "      <td>[]</td>\n",
       "      <td>[Sit on the floor with your knees bent, feet o...</td>\n",
       "      <td>[If your low back is achy, relax your back and...</td>\n",
       "      <td>https://www.yogajournal.com/poses/corpse-pose-2/</td>\n",
       "      <td>Savasana</td>\n",
       "      <td>[Restorative Yoga Poses]</td>\n",
       "      <td>https://www.yogajournal.com/poses/corpse-pose-2/</td>\n",
       "      <td>NaN</td>\n",
       "    </tr>\n",
       "    <tr>\n",
       "      <th>22</th>\n",
       "      <td>tree pose</td>\n",
       "      <td>[Vrksasana (Tree Pose) teaches you to simultan...</td>\n",
       "      <td>[Lower-body strength]</td>\n",
       "      <td>[Other Tree Pose perks:]</td>\n",
       "      <td>[To prep for Tree Pose, focus on poses that op...</td>\n",
       "      <td>[Tadasana (Mountain Pose), Prasarita Padottana...</td>\n",
       "      <td>[Stand in, Tadasana., Spread your toes, press ...</td>\n",
       "      <td>[Place your foot on your calf or keep your toe...</td>\n",
       "      <td>https://www.yogajournal.com/poses/types/tree-p...</td>\n",
       "      <td>Vrksasana</td>\n",
       "      <td>[Balancing Yoga Poses, Standing Yoga Poses]</td>\n",
       "      <td>https://www.yogajournal.com/poses/types/tree-p...</td>\n",
       "      <td>NaN</td>\n",
       "    </tr>\n",
       "    <tr>\n",
       "      <th>30</th>\n",
       "      <td>warrior 2 pose</td>\n",
       "      <td>[Virabhadrasana 2 (Warrior 2 Pose), named afte...</td>\n",
       "      <td>[Hip flexibility]</td>\n",
       "      <td>[Some teachers will ask you to bend your front...</td>\n",
       "      <td>[To adequately prepare yourself to engage and ...</td>\n",
       "      <td>[Tadasana (Mountain Pose), Uttanasana (Standin...</td>\n",
       "      <td>[Face the long side of your mat with your arms...</td>\n",
       "      <td>[To help maintain your balance in this pose, p...</td>\n",
       "      <td>https://www.yogajournal.com/poses/warrior-ii-p...</td>\n",
       "      <td>Virabhadrasana II</td>\n",
       "      <td>[Standing Yoga Poses, Strengthening Yoga Poses]</td>\n",
       "      <td>https://www.yogajournal.com/poses/warrior-ii-p...</td>\n",
       "      <td>NaN</td>\n",
       "    </tr>\n",
       "    <tr>\n",
       "      <th>34</th>\n",
       "      <td>wild thing</td>\n",
       "      <td>[One poetic translation of Camatkarasana means...</td>\n",
       "      <td>[Upper Body, Back]</td>\n",
       "      <td>[Wild thing opens up chest, lung, and shoulder...</td>\n",
       "      <td>[Adho Mukha Svanasana (Downward-Facing Dog)]</td>\n",
       "      <td>[Adho Mukha Svanasana (Downward-Facing Dog)]</td>\n",
       "      <td>[Start in, Adho Mukha Svanasana, (Downward-Fac...</td>\n",
       "      <td>[]</td>\n",
       "      <td>https://www.yogajournal.com/poses/wild-thing/</td>\n",
       "      <td>Camatkarasana</td>\n",
       "      <td>[Arm Balance Yoga Poses, Chest-Opening Yoga Po...</td>\n",
       "      <td>https://www.yogajournal.com/poses/wild-thing/</td>\n",
       "      <td>NaN</td>\n",
       "    </tr>\n",
       "    <tr>\n",
       "      <th>35</th>\n",
       "      <td>standing half forward bend</td>\n",
       "      <td>[Find length in front body before forward fold...</td>\n",
       "      <td>[]</td>\n",
       "      <td>[Stretches the front torso, Strengthens the ba...</td>\n",
       "      <td>[]</td>\n",
       "      <td>[]</td>\n",
       "      <td>[From, Uttanasana, (Standing Forward Bend), pr...</td>\n",
       "      <td>[]</td>\n",
       "      <td>https://www.yogajournal.com/poses/standing-hal...</td>\n",
       "      <td>Ardha Uttanasana</td>\n",
       "      <td>[Forward Bend Yoga Poses, Standing Yoga Poses]</td>\n",
       "      <td>https://www.yogajournal.com/poses/standing-hal...</td>\n",
       "      <td>NaN</td>\n",
       "    </tr>\n",
       "    <tr>\n",
       "      <th>39</th>\n",
       "      <td>upward salute</td>\n",
       "      <td>[Urdhva Hastasana translates to \"Raised Hands ...</td>\n",
       "      <td>[Full body]</td>\n",
       "      <td>[As a belly-stretching pose, Upward Salute can...</td>\n",
       "      <td>[Tadasana, (Mountain Pose)]</td>\n",
       "      <td>[Tadasana, (Mountain Pose)]</td>\n",
       "      <td>[Stand with your big toes touching and a small...</td>\n",
       "      <td>[For a more stable base, practice with your fe...</td>\n",
       "      <td>https://www.yogajournal.com/poses/upward-salute/</td>\n",
       "      <td>Urdhva Hastasana</td>\n",
       "      <td>[Standing Yoga Poses]</td>\n",
       "      <td>https://www.yogajournal.com/poses/upward-salute/</td>\n",
       "      <td>NaN</td>\n",
       "    </tr>\n",
       "  </tbody>\n",
       "</table>\n",
       "</div>"
      ],
      "text/plain": [
       "                          name  \\\n",
       "4                  corpse pose   \n",
       "22                   tree pose   \n",
       "30              warrior 2 pose   \n",
       "34                  wild thing   \n",
       "35  standing half forward bend   \n",
       "39               upward salute   \n",
       "\n",
       "                                          description  \\\n",
       "4   [Savasana is a pose of total relaxation—making...   \n",
       "22  [Vrksasana (Tree Pose) teaches you to simultan...   \n",
       "30  [Virabhadrasana 2 (Warrior 2 Pose), named afte...   \n",
       "34  [One poetic translation of Camatkarasana means...   \n",
       "35  [Find length in front body before forward fold...   \n",
       "39  [Urdhva Hastasana translates to \"Raised Hands ...   \n",
       "\n",
       "                 target_areas  \\\n",
       "4   [Target Area:, Full Body]   \n",
       "22      [Lower-body strength]   \n",
       "30          [Hip flexibility]   \n",
       "34         [Upper Body, Back]   \n",
       "35                         []   \n",
       "39                [Full body]   \n",
       "\n",
       "                                             benefits  \\\n",
       "4   [If your low back is achy, relax your back and...   \n",
       "22                           [Other Tree Pose perks:]   \n",
       "30  [Some teachers will ask you to bend your front...   \n",
       "34  [Wild thing opens up chest, lung, and shoulder...   \n",
       "35  [Stretches the front torso, Strengthens the ba...   \n",
       "39  [As a belly-stretching pose, Upward Salute can...   \n",
       "\n",
       "                                    preparatory_poses  \\\n",
       "4   [Any poses you practiced prior to Savasana ser...   \n",
       "22  [To prep for Tree Pose, focus on poses that op...   \n",
       "30  [To adequately prepare yourself to engage and ...   \n",
       "34       [Adho Mukha Svanasana (Downward-Facing Dog)]   \n",
       "35                                                 []   \n",
       "39                        [Tadasana, (Mountain Pose)]   \n",
       "\n",
       "                                       followup_poses  \\\n",
       "4                                                  []   \n",
       "22  [Tadasana (Mountain Pose), Prasarita Padottana...   \n",
       "30  [Tadasana (Mountain Pose), Uttanasana (Standin...   \n",
       "34       [Adho Mukha Svanasana (Downward-Facing Dog)]   \n",
       "35                                                 []   \n",
       "39                        [Tadasana, (Mountain Pose)]   \n",
       "\n",
       "                                         instructions  \\\n",
       "4   [Sit on the floor with your knees bent, feet o...   \n",
       "22  [Stand in, Tadasana., Spread your toes, press ...   \n",
       "30  [Face the long side of your mat with your arms...   \n",
       "34  [Start in, Adho Mukha Svanasana, (Downward-Fac...   \n",
       "35  [From, Uttanasana, (Standing Forward Bend), pr...   \n",
       "39  [Stand with your big toes touching and a small...   \n",
       "\n",
       "                                            variation  \\\n",
       "4   [If your low back is achy, relax your back and...   \n",
       "22  [Place your foot on your calf or keep your toe...   \n",
       "30  [To help maintain your balance in this pose, p...   \n",
       "34                                                 []   \n",
       "35                                                 []   \n",
       "39  [For a more stable base, practice with your fe...   \n",
       "\n",
       "                                                url_x      sanskrit_Name  \\\n",
       "4    https://www.yogajournal.com/poses/corpse-pose-2/           Savasana   \n",
       "22  https://www.yogajournal.com/poses/types/tree-p...          Vrksasana   \n",
       "30  https://www.yogajournal.com/poses/warrior-ii-p...  Virabhadrasana II   \n",
       "34      https://www.yogajournal.com/poses/wild-thing/      Camatkarasana   \n",
       "35  https://www.yogajournal.com/poses/standing-hal...   Ardha Uttanasana   \n",
       "39   https://www.yogajournal.com/poses/upward-salute/   Urdhva Hastasana   \n",
       "\n",
       "                                            pose_Type  \\\n",
       "4                            [Restorative Yoga Poses]   \n",
       "22        [Balancing Yoga Poses, Standing Yoga Poses]   \n",
       "30    [Standing Yoga Poses, Strengthening Yoga Poses]   \n",
       "34  [Arm Balance Yoga Poses, Chest-Opening Yoga Po...   \n",
       "35     [Forward Bend Yoga Poses, Standing Yoga Poses]   \n",
       "39                              [Standing Yoga Poses]   \n",
       "\n",
       "                                                url_y Anatomies  \n",
       "4    https://www.yogajournal.com/poses/corpse-pose-2/       NaN  \n",
       "22  https://www.yogajournal.com/poses/types/tree-p...       NaN  \n",
       "30  https://www.yogajournal.com/poses/warrior-ii-p...       NaN  \n",
       "34      https://www.yogajournal.com/poses/wild-thing/       NaN  \n",
       "35  https://www.yogajournal.com/poses/standing-hal...       NaN  \n",
       "39   https://www.yogajournal.com/poses/upward-salute/       NaN  "
      ]
     },
     "execution_count": 44,
     "metadata": {},
     "output_type": "execute_result"
    }
   ],
   "source": [
    "yoga_details_full[yoga_details_full.Anatomies.isnull()]"
   ]
  },
  {
   "cell_type": "markdown",
   "id": "8d45dbfb",
   "metadata": {},
   "source": [
    "## Meditation"
   ]
  },
  {
   "cell_type": "markdown",
   "id": "4bef8096",
   "metadata": {},
   "source": [
    "#### Clean meditation names"
   ]
  },
  {
   "cell_type": "code",
   "execution_count": 45,
   "id": "cd1fb3a7",
   "metadata": {},
   "outputs": [],
   "source": [
    "def unify_meditation_names(x):\n",
    "    name = x.split(\":\")[0].strip().lower()\n",
    "    if name in yoga_name_map:\n",
    "        name = yoga_name_map[name]\n",
    "    return name"
   ]
  },
  {
   "cell_type": "markdown",
   "id": "344156eb",
   "metadata": {},
   "source": [
    "### Meditation names"
   ]
  },
  {
   "cell_type": "code",
   "execution_count": 46,
   "id": "3c97a626",
   "metadata": {},
   "outputs": [],
   "source": [
    "meditation_dict = {\n",
    "                 'english_Name':[], 'sanskrit_Name':[], 'meditation_Type':[],'url': []}\n",
    "\n",
    "with open('..\\Data_Scrape_Yoga\\yoga\\Extracted\\meditation_List.jsonl', 'r', encoding=\"utf8\") as json_file:\n",
    "    json_list = list(json_file)\n",
    "    \n",
    "for json_str in json_list:\n",
    "    result = json.loads(json_str)\n",
    "    \n",
    "    meditation_dict['english_Name'].append(result['english_Name'])\n",
    "    meditation_dict['sanskrit_Name'].append(result['sanskrit_Name'])\n",
    "    meditation_dict['meditation_Type'].append(result['meditation_Type'])\n",
    "    meditation_dict['url'].append(result['url'])\n",
    "\n",
    "meditation_df = pd.DataFrame.from_dict(meditation_dict)    "
   ]
  },
  {
   "cell_type": "code",
   "execution_count": 47,
   "id": "2c83b708",
   "metadata": {},
   "outputs": [
    {
     "data": {
      "text/html": [
       "<div>\n",
       "<style scoped>\n",
       "    .dataframe tbody tr th:only-of-type {\n",
       "        vertical-align: middle;\n",
       "    }\n",
       "\n",
       "    .dataframe tbody tr th {\n",
       "        vertical-align: top;\n",
       "    }\n",
       "\n",
       "    .dataframe thead th {\n",
       "        text-align: right;\n",
       "    }\n",
       "</style>\n",
       "<table border=\"1\" class=\"dataframe\">\n",
       "  <thead>\n",
       "    <tr style=\"text-align: right;\">\n",
       "      <th></th>\n",
       "      <th>english_Name</th>\n",
       "      <th>sanskrit_Name</th>\n",
       "      <th>meditation_Type</th>\n",
       "      <th>url</th>\n",
       "    </tr>\n",
       "  </thead>\n",
       "  <tbody>\n",
       "    <tr>\n",
       "      <th>0</th>\n",
       "      <td>Big Mind Meditation</td>\n",
       "      <td>Dhyana</td>\n",
       "      <td>Meditation</td>\n",
       "      <td>https://www.yogajournal.com/poses/big-mind-med...</td>\n",
       "    </tr>\n",
       "    <tr>\n",
       "      <th>1</th>\n",
       "      <td>Breath Retention</td>\n",
       "      <td>Kumbhaka Pranayama</td>\n",
       "      <td>Pranayama Exercises &amp; Poses</td>\n",
       "      <td>https://www.yogajournal.com/pranayama/breath-r...</td>\n",
       "    </tr>\n",
       "    <tr>\n",
       "      <th>2</th>\n",
       "      <td>Calm Heart Meditation</td>\n",
       "      <td>Dhyana</td>\n",
       "      <td>Meditation</td>\n",
       "      <td>https://www.yogajournal.com/poses/calm-heart-m...</td>\n",
       "    </tr>\n",
       "    <tr>\n",
       "      <th>3</th>\n",
       "      <td>Channel Cleaning Breath</td>\n",
       "      <td>Nadi Shodhana Pranayama</td>\n",
       "      <td>Pranayama Exercises &amp; Poses</td>\n",
       "      <td>https://www.yogajournal.com/pranayama/channel-...</td>\n",
       "    </tr>\n",
       "    <tr>\n",
       "      <th>4</th>\n",
       "      <td>Conqueror Breath</td>\n",
       "      <td>Ujjayi Pranayama</td>\n",
       "      <td>Pranayama Exercises &amp; Poses</td>\n",
       "      <td>https://www.yogajournal.com/pranayama/conquero...</td>\n",
       "    </tr>\n",
       "  </tbody>\n",
       "</table>\n",
       "</div>"
      ],
      "text/plain": [
       "              english_Name            sanskrit_Name  \\\n",
       "0      Big Mind Meditation                   Dhyana   \n",
       "1         Breath Retention       Kumbhaka Pranayama   \n",
       "2    Calm Heart Meditation                   Dhyana   \n",
       "3  Channel Cleaning Breath  Nadi Shodhana Pranayama   \n",
       "4         Conqueror Breath         Ujjayi Pranayama   \n",
       "\n",
       "               meditation_Type  \\\n",
       "0                   Meditation   \n",
       "1  Pranayama Exercises & Poses   \n",
       "2                   Meditation   \n",
       "3  Pranayama Exercises & Poses   \n",
       "4  Pranayama Exercises & Poses   \n",
       "\n",
       "                                                 url  \n",
       "0  https://www.yogajournal.com/poses/big-mind-med...  \n",
       "1  https://www.yogajournal.com/pranayama/breath-r...  \n",
       "2  https://www.yogajournal.com/poses/calm-heart-m...  \n",
       "3  https://www.yogajournal.com/pranayama/channel-...  \n",
       "4  https://www.yogajournal.com/pranayama/conquero...  "
      ]
     },
     "execution_count": 47,
     "metadata": {},
     "output_type": "execute_result"
    }
   ],
   "source": [
    "meditation_df.head()"
   ]
  },
  {
   "cell_type": "code",
   "execution_count": 48,
   "id": "4fcb2b31",
   "metadata": {},
   "outputs": [
    {
     "data": {
      "text/plain": [
       "(32, 4)"
      ]
     },
     "execution_count": 48,
     "metadata": {},
     "output_type": "execute_result"
    }
   ],
   "source": [
    "meditation_df.shape"
   ]
  },
  {
   "cell_type": "code",
   "execution_count": 49,
   "id": "72462f17",
   "metadata": {},
   "outputs": [],
   "source": [
    "meditation_df.english_Name = meditation_df.english_Name.apply(lambda x:unify_meditation_names(x))"
   ]
  },
  {
   "cell_type": "code",
   "execution_count": 50,
   "id": "d455baf0",
   "metadata": {},
   "outputs": [
    {
     "data": {
      "text/plain": [
       "array(['big mind meditation', 'breath retention', 'calm heart meditation',\n",
       "       'channel-cleaning breath', 'conqueror breath',\n",
       "       'consciousness seal', 'cross-heart kirtan kriya meditation',\n",
       "       'deer seal', 'do-the-right-thing meditation', 'eagle seal',\n",
       "       'fearless heart seal', 'ganesha mudra',\n",
       "       'i-want-it-so-badly meditation', 'intuition meditation',\n",
       "       'life force seal', 'lion pose', 'lotus seal',\n",
       "       'loving your enemies meditation', 'mantra meditation',\n",
       "       'meditation seal', 'net-bearer bond',\n",
       "       'practice enlightenment meditation', 'root bond',\n",
       "       'salutation seal', 'self-inquiry meditation',\n",
       "       'single nostril breath', 'skull shining breath', 'truth seal',\n",
       "       'upright seal', 'upward abdominal lock', 'wheel of dharma seal',\n",
       "       'yoga of sound breath'], dtype=object)"
      ]
     },
     "execution_count": 50,
     "metadata": {},
     "output_type": "execute_result"
    }
   ],
   "source": [
    "meditation_df.english_Name.values"
   ]
  },
  {
   "cell_type": "markdown",
   "id": "0d676d2a",
   "metadata": {},
   "source": [
    "### Meditation Details"
   ]
  },
  {
   "cell_type": "code",
   "execution_count": 51,
   "id": "8da7a611",
   "metadata": {},
   "outputs": [],
   "source": [
    "meditation_details_dict = {\n",
    "                 'name':[], 'instructions':[]}\n",
    "\n",
    "with open('..\\Data_Scrape_Yoga\\yoga\\Extracted\\meditationdetails.jsonl', 'r', encoding=\"utf8\") as json_file:\n",
    "    json_list = list(json_file)\n",
    "    \n",
    "for json_str in json_list:\n",
    "    result = json.loads(json_str)\n",
    "    \n",
    "    meditation_details_dict['name'].append(result['name'])\n",
    "    meditation_details_dict['instructions'].append(result['instructions'])\n",
    "\n",
    "meditation_detials_df = pd.DataFrame.from_dict(meditation_details_dict)    "
   ]
  },
  {
   "cell_type": "code",
   "execution_count": 52,
   "id": "c07d9c50",
   "metadata": {},
   "outputs": [
    {
     "data": {
      "text/plain": [
       "(32, 2)"
      ]
     },
     "execution_count": 52,
     "metadata": {},
     "output_type": "execute_result"
    }
   ],
   "source": [
    "meditation_detials_df.shape"
   ]
  },
  {
   "cell_type": "code",
   "execution_count": 53,
   "id": "14d0524c",
   "metadata": {},
   "outputs": [
    {
     "data": {
      "text/html": [
       "<div>\n",
       "<style scoped>\n",
       "    .dataframe tbody tr th:only-of-type {\n",
       "        vertical-align: middle;\n",
       "    }\n",
       "\n",
       "    .dataframe tbody tr th {\n",
       "        vertical-align: top;\n",
       "    }\n",
       "\n",
       "    .dataframe thead th {\n",
       "        text-align: right;\n",
       "    }\n",
       "</style>\n",
       "<table border=\"1\" class=\"dataframe\">\n",
       "  <thead>\n",
       "    <tr style=\"text-align: right;\">\n",
       "      <th></th>\n",
       "      <th>name</th>\n",
       "      <th>instructions</th>\n",
       "    </tr>\n",
       "  </thead>\n",
       "  <tbody>\n",
       "    <tr>\n",
       "      <th>27</th>\n",
       "      <td>Eagle Seal</td>\n",
       "      <td>[garuda, = eagle, mudra, = seal, Step 1, Turn ...</td>\n",
       "    </tr>\n",
       "    <tr>\n",
       "      <th>28</th>\n",
       "      <td>Consciousness Seal</td>\n",
       "      <td>[chin, = consciousness, mudra, = seal, gesture...</td>\n",
       "    </tr>\n",
       "    <tr>\n",
       "      <th>29</th>\n",
       "      <td>Do-the-Right-Thing Meditation</td>\n",
       "      <td>[Step by Step, Step 1, First, seek guidance. B...</td>\n",
       "    </tr>\n",
       "    <tr>\n",
       "      <th>30</th>\n",
       "      <td>Nadi Shodhana Pranayama:  Channel-Cleaning Breath</td>\n",
       "      <td>[]</td>\n",
       "    </tr>\n",
       "    <tr>\n",
       "      <th>31</th>\n",
       "      <td>Conqueror Breath</td>\n",
       "      <td>[(oo-jy [rhymes with pie]-ee), ujjayi, = to co...</td>\n",
       "    </tr>\n",
       "  </tbody>\n",
       "</table>\n",
       "</div>"
      ],
      "text/plain": [
       "                                                 name  \\\n",
       "27                                         Eagle Seal   \n",
       "28                                 Consciousness Seal   \n",
       "29                      Do-the-Right-Thing Meditation   \n",
       "30  Nadi Shodhana Pranayama:  Channel-Cleaning Breath   \n",
       "31                                   Conqueror Breath   \n",
       "\n",
       "                                         instructions  \n",
       "27  [garuda, = eagle, mudra, = seal, Step 1, Turn ...  \n",
       "28  [chin, = consciousness, mudra, = seal, gesture...  \n",
       "29  [Step by Step, Step 1, First, seek guidance. B...  \n",
       "30                                                 []  \n",
       "31  [(oo-jy [rhymes with pie]-ee), ujjayi, = to co...  "
      ]
     },
     "execution_count": 53,
     "metadata": {},
     "output_type": "execute_result"
    }
   ],
   "source": [
    "meditation_detials_df.tail(5)"
   ]
  },
  {
   "cell_type": "code",
   "execution_count": 54,
   "id": "28f7ba46",
   "metadata": {},
   "outputs": [
    {
     "data": {
      "text/plain": [
       "'breath retention'"
      ]
     },
     "execution_count": 54,
     "metadata": {},
     "output_type": "execute_result"
    }
   ],
   "source": [
    "unify_meditation_names(\"Kumbhaka Pranayama: Breath Retention\")"
   ]
  },
  {
   "cell_type": "code",
   "execution_count": 55,
   "id": "6f04e7e1",
   "metadata": {},
   "outputs": [],
   "source": [
    "meditation_detials_df.name = meditation_detials_df.name.apply(lambda x:unify_meditation_names(x))"
   ]
  },
  {
   "cell_type": "code",
   "execution_count": 56,
   "id": "98b1e736",
   "metadata": {},
   "outputs": [
    {
     "data": {
      "text/plain": [
       "array(['big mind meditation', 'deer seal', 'upright seal',\n",
       "       'upward abdominal lock', 'truth seal', 'wheel of dharma seal',\n",
       "       'skull shining breath', 'root bond', 'yoga of sound breath',\n",
       "       'salutation seal', 'breath retention',\n",
       "       'practice enlightenment meditation', 'net-bearer bond',\n",
       "       'meditation seal', 'calm heart meditation', 'mantra meditation',\n",
       "       'self-inquiry meditation', 'loving your enemies meditation',\n",
       "       'i-want-it-so-badly meditation', 'single nostril breath',\n",
       "       'lotus seal', 'life force seal',\n",
       "       'cross-heart kirtan kriya meditation', 'intuition meditation',\n",
       "       'lion pose', 'ganesha mudra', 'fearless heart seal', 'eagle seal',\n",
       "       'consciousness seal', 'do-the-right-thing meditation',\n",
       "       'channel-cleaning breath', 'conqueror breath'], dtype=object)"
      ]
     },
     "execution_count": 56,
     "metadata": {},
     "output_type": "execute_result"
    }
   ],
   "source": [
    "meditation_detials_df.name.values"
   ]
  },
  {
   "cell_type": "markdown",
   "id": "17a378de",
   "metadata": {},
   "source": [
    "## Merge the meditations"
   ]
  },
  {
   "cell_type": "code",
   "execution_count": 57,
   "id": "5101cf77",
   "metadata": {},
   "outputs": [],
   "source": [
    "meditation_df_merged = meditation_df.merge(meditation_detials_df, right_on=\"name\",  left_on=\"english_Name\", how = \"left\")"
   ]
  },
  {
   "cell_type": "code",
   "execution_count": 58,
   "id": "ecaa43b2",
   "metadata": {},
   "outputs": [
    {
     "data": {
      "text/plain": [
       "array([], dtype=object)"
      ]
     },
     "execution_count": 58,
     "metadata": {},
     "output_type": "execute_result"
    }
   ],
   "source": [
    "meditation_df_merged[meditation_df_merged.name.isnull()][\"url\"].values"
   ]
  },
  {
   "cell_type": "code",
   "execution_count": 59,
   "id": "c9bdad94",
   "metadata": {},
   "outputs": [],
   "source": [
    "# unique_meditation_names = pd.concat([meditation_detials_df['name'], meditation_df['english_Name']], axis=0, ignore_index= True).drop_duplicates()\n",
    "# unique_meditation_names.to_csv(\"test_unique_meditation_names.csv\", index = False)"
   ]
  },
  {
   "cell_type": "markdown",
   "id": "c554f302",
   "metadata": {},
   "source": [
    "# Gym Details"
   ]
  },
  {
   "cell_type": "code",
   "execution_count": 60,
   "id": "a3741a56",
   "metadata": {},
   "outputs": [],
   "source": [
    "exercise_dict = {\n",
    "                 'id':[], 'name':[], 'muscle':[],'url': [], 'type':[], \n",
    "    'equipment':[], 'mechanics':[], 'difficulty':[], 'image_url': []}\n",
    "\n",
    "with open('..\\\\fitness_kg\\\\Extracted\\\\Gym\\\\exercise.jsonl', 'r', encoding=\"utf8\") as json_file:\n",
    "    json_list = list(json_file)\n",
    "    \n",
    "for json_str in json_list:\n",
    "    result = json.loads(json_str)\n",
    "#     print(result)\n",
    "#     break\n",
    "    exercise_dict['id'].append(result['id'])\n",
    "    exercise_dict['name'].append(result['name'])    \n",
    "    exercise_dict['url'].append(result['url'])\n",
    "    exercise_dict['muscle'].append(result['muscle'])\n",
    "    exercise_dict['type'].append(result['type'])\n",
    "    exercise_dict['equipment'].append(result['equipment'])\n",
    "    exercise_dict['mechanics'].append(result['mechanics'])\n",
    "    exercise_dict['difficulty'].append(result['difficulty'])\n",
    "    exercise_dict['image_url'].append(result['image_url'])\n",
    "\n",
    "exercise_df = pd.DataFrame.from_dict(exercise_dict)    "
   ]
  },
  {
   "cell_type": "code",
   "execution_count": 61,
   "id": "3e4e6b4e",
   "metadata": {},
   "outputs": [
    {
     "data": {
      "text/html": [
       "<div>\n",
       "<style scoped>\n",
       "    .dataframe tbody tr th:only-of-type {\n",
       "        vertical-align: middle;\n",
       "    }\n",
       "\n",
       "    .dataframe tbody tr th {\n",
       "        vertical-align: top;\n",
       "    }\n",
       "\n",
       "    .dataframe thead th {\n",
       "        text-align: right;\n",
       "    }\n",
       "</style>\n",
       "<table border=\"1\" class=\"dataframe\">\n",
       "  <thead>\n",
       "    <tr style=\"text-align: right;\">\n",
       "      <th></th>\n",
       "      <th>id</th>\n",
       "      <th>name</th>\n",
       "      <th>muscle</th>\n",
       "      <th>url</th>\n",
       "      <th>type</th>\n",
       "      <th>equipment</th>\n",
       "      <th>mechanics</th>\n",
       "      <th>difficulty</th>\n",
       "      <th>image_url</th>\n",
       "    </tr>\n",
       "  </thead>\n",
       "  <tbody>\n",
       "    <tr>\n",
       "      <th>0</th>\n",
       "      <td>https://www.muscleandstrength.com/exercises/du...</td>\n",
       "      <td>Dumbbell Goblet Squat</td>\n",
       "      <td>quads</td>\n",
       "      <td>https://www.muscleandstrength.com/exercises/du...</td>\n",
       "      <td>strength</td>\n",
       "      <td>dumbbell</td>\n",
       "      <td>compound</td>\n",
       "      <td>beginner</td>\n",
       "      <td>https://cdn.muscleandstrength.com/sites/defaul...</td>\n",
       "    </tr>\n",
       "    <tr>\n",
       "      <th>1</th>\n",
       "      <td>https://www.muscleandstrength.com/exercises/sq...</td>\n",
       "      <td>Barbell Back Squat</td>\n",
       "      <td>quads</td>\n",
       "      <td>https://www.muscleandstrength.com/exercises/sq...</td>\n",
       "      <td>strength</td>\n",
       "      <td>barbell</td>\n",
       "      <td>compound</td>\n",
       "      <td>intermediate</td>\n",
       "      <td>https://cdn.muscleandstrength.com/sites/defaul...</td>\n",
       "    </tr>\n",
       "    <tr>\n",
       "      <th>2</th>\n",
       "      <td>https://www.muscleandstrength.com/exercises/le...</td>\n",
       "      <td>Leg Extension</td>\n",
       "      <td>quads</td>\n",
       "      <td>https://www.muscleandstrength.com/exercises/le...</td>\n",
       "      <td>strength</td>\n",
       "      <td>machine</td>\n",
       "      <td>isolation</td>\n",
       "      <td>beginner</td>\n",
       "      <td>https://cdn.muscleandstrength.com/sites/defaul...</td>\n",
       "    </tr>\n",
       "    <tr>\n",
       "      <th>3</th>\n",
       "      <td>https://www.muscleandstrength.com/exercises/du...</td>\n",
       "      <td>Dumbbell Lunge</td>\n",
       "      <td>quads</td>\n",
       "      <td>https://www.muscleandstrength.com/exercises/du...</td>\n",
       "      <td>strength</td>\n",
       "      <td>dumbbell</td>\n",
       "      <td>compound</td>\n",
       "      <td>beginner</td>\n",
       "      <td>https://cdn.muscleandstrength.com/sites/defaul...</td>\n",
       "    </tr>\n",
       "    <tr>\n",
       "      <th>4</th>\n",
       "      <td>https://www.muscleandstrength.com/exercises/du...</td>\n",
       "      <td>Dumbbell Squat</td>\n",
       "      <td>quads</td>\n",
       "      <td>https://www.muscleandstrength.com/exercises/du...</td>\n",
       "      <td>strength</td>\n",
       "      <td>dumbbell</td>\n",
       "      <td>compound</td>\n",
       "      <td>beginner</td>\n",
       "      <td>https://cdn.muscleandstrength.com/sites/defaul...</td>\n",
       "    </tr>\n",
       "  </tbody>\n",
       "</table>\n",
       "</div>"
      ],
      "text/plain": [
       "                                                  id                   name  \\\n",
       "0  https://www.muscleandstrength.com/exercises/du...  Dumbbell Goblet Squat   \n",
       "1  https://www.muscleandstrength.com/exercises/sq...     Barbell Back Squat   \n",
       "2  https://www.muscleandstrength.com/exercises/le...          Leg Extension   \n",
       "3  https://www.muscleandstrength.com/exercises/du...         Dumbbell Lunge   \n",
       "4  https://www.muscleandstrength.com/exercises/du...         Dumbbell Squat   \n",
       "\n",
       "  muscle                                                url      type  \\\n",
       "0  quads  https://www.muscleandstrength.com/exercises/du...  strength   \n",
       "1  quads  https://www.muscleandstrength.com/exercises/sq...  strength   \n",
       "2  quads  https://www.muscleandstrength.com/exercises/le...  strength   \n",
       "3  quads  https://www.muscleandstrength.com/exercises/du...  strength   \n",
       "4  quads  https://www.muscleandstrength.com/exercises/du...  strength   \n",
       "\n",
       "  equipment  mechanics    difficulty  \\\n",
       "0  dumbbell   compound      beginner   \n",
       "1   barbell   compound  intermediate   \n",
       "2   machine  isolation      beginner   \n",
       "3  dumbbell   compound      beginner   \n",
       "4  dumbbell   compound      beginner   \n",
       "\n",
       "                                           image_url  \n",
       "0  https://cdn.muscleandstrength.com/sites/defaul...  \n",
       "1  https://cdn.muscleandstrength.com/sites/defaul...  \n",
       "2  https://cdn.muscleandstrength.com/sites/defaul...  \n",
       "3  https://cdn.muscleandstrength.com/sites/defaul...  \n",
       "4  https://cdn.muscleandstrength.com/sites/defaul...  "
      ]
     },
     "execution_count": 61,
     "metadata": {},
     "output_type": "execute_result"
    }
   ],
   "source": [
    "exercise_df.head()"
   ]
  },
  {
   "cell_type": "code",
   "execution_count": 62,
   "id": "11180dac",
   "metadata": {
    "scrolled": true
   },
   "outputs": [],
   "source": [
    "####unify exercise names\n",
    "exercise_df.name = exercise_df.name.str.lower()\n",
    "\n",
    "#####unify muscle names\n",
    "exercise_df.muscle = exercise_df.muscle.apply(lambda x:unifyMuscleNames(x)).drop_duplicates()"
   ]
  },
  {
   "cell_type": "code",
   "execution_count": 63,
   "id": "aa294ff5",
   "metadata": {},
   "outputs": [
    {
     "data": {
      "text/plain": [
       "id              0\n",
       "name            0\n",
       "muscle        984\n",
       "url             0\n",
       "type           23\n",
       "equipment      23\n",
       "mechanics      23\n",
       "difficulty     23\n",
       "image_url       0\n",
       "dtype: int64"
      ]
     },
     "execution_count": 63,
     "metadata": {},
     "output_type": "execute_result"
    }
   ],
   "source": [
    "exercise_df.isnull().sum()"
   ]
  },
  {
   "cell_type": "markdown",
   "id": "b91de1bc",
   "metadata": {},
   "source": [
    "### Exercise Group"
   ]
  },
  {
   "cell_type": "code",
   "execution_count": 64,
   "id": "ffc892bb",
   "metadata": {},
   "outputs": [],
   "source": [
    "exercise_group_dict = {\n",
    "                 'id':[], 'name':[], 'url': [], 'muscle':[], 'type':[], 'equipment':[], 'mechanics':[], \n",
    "    'force_type': [], 'difficulty':[], 'overview': [], 'instructions':[], 'secondary_muscle':[]}\n",
    "\n",
    "with open('..\\\\fitness_kg\\\\Extracted\\\\Gym\\\\exercise_group.jsonl', 'r', encoding=\"utf8\") as json_file:\n",
    "    json_list = list(json_file)\n",
    "    \n",
    "for json_str in json_list:\n",
    "    result = json.loads(json_str)\n",
    "\n",
    "    exercise_group_dict['id'].append(result['id'])\n",
    "    exercise_group_dict['name'].append(result['name'])    \n",
    "    exercise_group_dict['url'].append(result['url'])\n",
    "    exercise_group_dict['muscle'].append(result['muscle'])\n",
    "    exercise_group_dict['type'].append(result['type'])\n",
    "    exercise_group_dict['equipment'].append(result['equipment'])\n",
    "    exercise_group_dict['mechanics'].append(result['mechanics'])\n",
    "    exercise_group_dict['force_type'].append(result['force_type'])\n",
    "    exercise_group_dict['difficulty'].append(result['difficulty'])    \n",
    "    exercise_group_dict['overview'].append(result['overview'])    \n",
    "    exercise_group_dict['instructions'].append(result['instructions'])\n",
    "    exercise_group_dict['secondary_muscle'].append(result['secondary_muscle'])\n",
    "\n",
    "exercise_group_df = pd.DataFrame.from_dict(exercise_group_dict)"
   ]
  },
  {
   "cell_type": "code",
   "execution_count": 65,
   "id": "b3c1f700",
   "metadata": {},
   "outputs": [],
   "source": [
    "####unify exercise names\n",
    "exercise_group_df.name = exercise_group_df.name.str.lower()\n",
    "\n",
    "#####unify muscle names\n",
    "exercise_group_df.muscle = exercise_group_df.muscle.apply(lambda x:unifyMuscleNames(x))"
   ]
  },
  {
   "cell_type": "code",
   "execution_count": 66,
   "id": "cb3fc518",
   "metadata": {},
   "outputs": [
    {
     "data": {
      "text/html": [
       "<div>\n",
       "<style scoped>\n",
       "    .dataframe tbody tr th:only-of-type {\n",
       "        vertical-align: middle;\n",
       "    }\n",
       "\n",
       "    .dataframe tbody tr th {\n",
       "        vertical-align: top;\n",
       "    }\n",
       "\n",
       "    .dataframe thead th {\n",
       "        text-align: right;\n",
       "    }\n",
       "</style>\n",
       "<table border=\"1\" class=\"dataframe\">\n",
       "  <thead>\n",
       "    <tr style=\"text-align: right;\">\n",
       "      <th></th>\n",
       "      <th>id</th>\n",
       "      <th>name</th>\n",
       "      <th>url</th>\n",
       "      <th>muscle</th>\n",
       "      <th>type</th>\n",
       "      <th>equipment</th>\n",
       "      <th>mechanics</th>\n",
       "      <th>force_type</th>\n",
       "      <th>difficulty</th>\n",
       "      <th>overview</th>\n",
       "      <th>instructions</th>\n",
       "      <th>secondary_muscle</th>\n",
       "    </tr>\n",
       "  </thead>\n",
       "  <tbody>\n",
       "    <tr>\n",
       "      <th>0</th>\n",
       "      <td>https://www.muscleandstrength.com/exercises/pl...</td>\n",
       "      <td>plantar fascia lacrosse ball</td>\n",
       "      <td>https://www.muscleandstrength.com/exercises/pl...</td>\n",
       "      <td>plantar fascia</td>\n",
       "      <td>smr</td>\n",
       "      <td>lacrosse ball</td>\n",
       "      <td>isolation</td>\n",
       "      <td>compression</td>\n",
       "      <td>intermediate</td>\n",
       "      <td>using a lacrosse ball to perform smr on your p...</td>\n",
       "      <td>in a standing position, place the lacrosse bal...</td>\n",
       "      <td>none</td>\n",
       "    </tr>\n",
       "    <tr>\n",
       "      <th>1</th>\n",
       "      <td>https://www.muscleandstrength.com/exercises/la...</td>\n",
       "      <td>landmine rotation</td>\n",
       "      <td>https://www.muscleandstrength.com/exercises/la...</td>\n",
       "      <td>obliques</td>\n",
       "      <td>strength</td>\n",
       "      <td>landmine</td>\n",
       "      <td>compound</td>\n",
       "      <td>isometric</td>\n",
       "      <td>intermediate</td>\n",
       "      <td>the landmine rotation is a variation of the ru...</td>\n",
       "      <td>assume an athletic position with your feet sli...</td>\n",
       "      <td>abs</td>\n",
       "    </tr>\n",
       "    <tr>\n",
       "      <th>2</th>\n",
       "      <td>https://www.muscleandstrength.com/exercises/ta...</td>\n",
       "      <td>tall kneeling cable lift</td>\n",
       "      <td>https://www.muscleandstrength.com/exercises/ta...</td>\n",
       "      <td>obliques</td>\n",
       "      <td>strength</td>\n",
       "      <td>cable</td>\n",
       "      <td>compound</td>\n",
       "      <td>isometric</td>\n",
       "      <td>beginner</td>\n",
       "      <td>the tall kneeling cable lift is a variation of...</td>\n",
       "      <td>assume a tall kneeling position and attach a r...</td>\n",
       "      <td>abs</td>\n",
       "    </tr>\n",
       "    <tr>\n",
       "      <th>3</th>\n",
       "      <td>https://www.muscleandstrength.com/exercises/si...</td>\n",
       "      <td>side plank with hip dip</td>\n",
       "      <td>https://www.muscleandstrength.com/exercises/si...</td>\n",
       "      <td>obliques</td>\n",
       "      <td>strength</td>\n",
       "      <td>bodyweight</td>\n",
       "      <td>compound</td>\n",
       "      <td>isometric</td>\n",
       "      <td>beginner</td>\n",
       "      <td>the side plank with hip dip is a variation of ...</td>\n",
       "      <td>assume a side lying position with your forearm...</td>\n",
       "      <td>abs</td>\n",
       "    </tr>\n",
       "    <tr>\n",
       "      <th>4</th>\n",
       "      <td>https://www.muscleandstrength.com/exercises/wo...</td>\n",
       "      <td>wood chop</td>\n",
       "      <td>https://www.muscleandstrength.com/exercises/wo...</td>\n",
       "      <td>obliques</td>\n",
       "      <td>strength</td>\n",
       "      <td>cable</td>\n",
       "      <td>compound</td>\n",
       "      <td>isometric</td>\n",
       "      <td>beginner</td>\n",
       "      <td>the standing cable chop is an exercise used to...</td>\n",
       "      <td>assume an athletic position with your feet jus...</td>\n",
       "      <td>abs</td>\n",
       "    </tr>\n",
       "    <tr>\n",
       "      <th>5</th>\n",
       "      <td>https://www.muscleandstrength.com/exercises/fo...</td>\n",
       "      <td>it band foam rolling</td>\n",
       "      <td>https://www.muscleandstrength.com/exercises/fo...</td>\n",
       "      <td>it band</td>\n",
       "      <td>smr</td>\n",
       "      <td>foam roll</td>\n",
       "      <td>isolation</td>\n",
       "      <td>compression</td>\n",
       "      <td>beginner</td>\n",
       "      <td>foam rolling your it band is a great way to wa...</td>\n",
       "      <td>in a side lying position, place the foam rolle...</td>\n",
       "      <td>none</td>\n",
       "    </tr>\n",
       "    <tr>\n",
       "      <th>6</th>\n",
       "      <td>https://www.muscleandstrength.com/exercises/se...</td>\n",
       "      <td>seated cable row</td>\n",
       "      <td>https://www.muscleandstrength.com/exercises/se...</td>\n",
       "      <td>upper back</td>\n",
       "      <td>strength</td>\n",
       "      <td>cable</td>\n",
       "      <td>compound</td>\n",
       "      <td>pull</td>\n",
       "      <td>beginner</td>\n",
       "      <td></td>\n",
       "      <td>set the appropriate weight on the weight stack...</td>\n",
       "      <td>biceps, lats, shoulders</td>\n",
       "    </tr>\n",
       "  </tbody>\n",
       "</table>\n",
       "</div>"
      ],
      "text/plain": [
       "                                                  id  \\\n",
       "0  https://www.muscleandstrength.com/exercises/pl...   \n",
       "1  https://www.muscleandstrength.com/exercises/la...   \n",
       "2  https://www.muscleandstrength.com/exercises/ta...   \n",
       "3  https://www.muscleandstrength.com/exercises/si...   \n",
       "4  https://www.muscleandstrength.com/exercises/wo...   \n",
       "5  https://www.muscleandstrength.com/exercises/fo...   \n",
       "6  https://www.muscleandstrength.com/exercises/se...   \n",
       "\n",
       "                           name  \\\n",
       "0  plantar fascia lacrosse ball   \n",
       "1             landmine rotation   \n",
       "2      tall kneeling cable lift   \n",
       "3       side plank with hip dip   \n",
       "4                     wood chop   \n",
       "5          it band foam rolling   \n",
       "6              seated cable row   \n",
       "\n",
       "                                                 url          muscle  \\\n",
       "0  https://www.muscleandstrength.com/exercises/pl...  plantar fascia   \n",
       "1  https://www.muscleandstrength.com/exercises/la...        obliques   \n",
       "2  https://www.muscleandstrength.com/exercises/ta...        obliques   \n",
       "3  https://www.muscleandstrength.com/exercises/si...        obliques   \n",
       "4  https://www.muscleandstrength.com/exercises/wo...        obliques   \n",
       "5  https://www.muscleandstrength.com/exercises/fo...         it band   \n",
       "6  https://www.muscleandstrength.com/exercises/se...      upper back   \n",
       "\n",
       "       type      equipment  mechanics   force_type    difficulty  \\\n",
       "0       smr  lacrosse ball  isolation  compression  intermediate   \n",
       "1  strength       landmine   compound    isometric  intermediate   \n",
       "2  strength          cable   compound    isometric      beginner   \n",
       "3  strength     bodyweight   compound    isometric      beginner   \n",
       "4  strength          cable   compound    isometric      beginner   \n",
       "5       smr      foam roll  isolation  compression      beginner   \n",
       "6  strength          cable   compound         pull      beginner   \n",
       "\n",
       "                                            overview  \\\n",
       "0  using a lacrosse ball to perform smr on your p...   \n",
       "1  the landmine rotation is a variation of the ru...   \n",
       "2  the tall kneeling cable lift is a variation of...   \n",
       "3  the side plank with hip dip is a variation of ...   \n",
       "4  the standing cable chop is an exercise used to...   \n",
       "5  foam rolling your it band is a great way to wa...   \n",
       "6                                                      \n",
       "\n",
       "                                        instructions         secondary_muscle  \n",
       "0  in a standing position, place the lacrosse bal...                     none  \n",
       "1  assume an athletic position with your feet sli...                      abs  \n",
       "2  assume a tall kneeling position and attach a r...                      abs  \n",
       "3  assume a side lying position with your forearm...                      abs  \n",
       "4  assume an athletic position with your feet jus...                      abs  \n",
       "5  in a side lying position, place the foam rolle...                     none  \n",
       "6  set the appropriate weight on the weight stack...  biceps, lats, shoulders  "
      ]
     },
     "execution_count": 66,
     "metadata": {},
     "output_type": "execute_result"
    }
   ],
   "source": [
    "exercise_group_df.head(7) "
   ]
  },
  {
   "cell_type": "code",
   "execution_count": 67,
   "id": "fa81c188",
   "metadata": {},
   "outputs": [],
   "source": [
    "# def cleanExercise(x):\n",
    "#     return_list = []\n",
    "#     if x==\"none\":\n",
    "#         return return_list\n",
    "#     for exercise in x.split(\",\"):\n",
    "#         return_list.append(exercise.strip())\n",
    "#     return return_list\n",
    "# exercise_group_df[\"secondary_muscle\"] = exercise_group_df[\"secondary_muscle\"].apply(lambda x: cleanExercise(x))\n",
    "\n",
    "def cleanMuscleList(x):\n",
    "    return_list = []\n",
    "    if x==\"none\":\n",
    "        return return_list\n",
    "    for exercise in x.split(\",\"):\n",
    "        mapped_name = unifyMuscleNames(exercise.strip())\n",
    "        return_list.append(mapped_name)\n",
    "    return list(set(return_list))"
   ]
  },
  {
   "cell_type": "code",
   "execution_count": 68,
   "id": "9a78a113",
   "metadata": {},
   "outputs": [],
   "source": [
    "exercise_group_df[\"secondary_muscle\"] = exercise_group_df[\"secondary_muscle\"].apply(lambda x: cleanMuscleList(x))"
   ]
  },
  {
   "cell_type": "code",
   "execution_count": 69,
   "id": "8865835b",
   "metadata": {},
   "outputs": [
    {
     "data": {
      "text/html": [
       "<div>\n",
       "<style scoped>\n",
       "    .dataframe tbody tr th:only-of-type {\n",
       "        vertical-align: middle;\n",
       "    }\n",
       "\n",
       "    .dataframe tbody tr th {\n",
       "        vertical-align: top;\n",
       "    }\n",
       "\n",
       "    .dataframe thead th {\n",
       "        text-align: right;\n",
       "    }\n",
       "</style>\n",
       "<table border=\"1\" class=\"dataframe\">\n",
       "  <thead>\n",
       "    <tr style=\"text-align: right;\">\n",
       "      <th></th>\n",
       "      <th>id</th>\n",
       "      <th>name</th>\n",
       "      <th>url</th>\n",
       "      <th>muscle</th>\n",
       "      <th>type</th>\n",
       "      <th>equipment</th>\n",
       "      <th>mechanics</th>\n",
       "      <th>force_type</th>\n",
       "      <th>difficulty</th>\n",
       "      <th>overview</th>\n",
       "      <th>instructions</th>\n",
       "      <th>secondary_muscle</th>\n",
       "    </tr>\n",
       "  </thead>\n",
       "  <tbody>\n",
       "    <tr>\n",
       "      <th>0</th>\n",
       "      <td>https://www.muscleandstrength.com/exercises/pl...</td>\n",
       "      <td>plantar fascia lacrosse ball</td>\n",
       "      <td>https://www.muscleandstrength.com/exercises/pl...</td>\n",
       "      <td>plantar fascia</td>\n",
       "      <td>smr</td>\n",
       "      <td>lacrosse ball</td>\n",
       "      <td>isolation</td>\n",
       "      <td>compression</td>\n",
       "      <td>intermediate</td>\n",
       "      <td>using a lacrosse ball to perform smr on your p...</td>\n",
       "      <td>in a standing position, place the lacrosse bal...</td>\n",
       "      <td>[]</td>\n",
       "    </tr>\n",
       "    <tr>\n",
       "      <th>1</th>\n",
       "      <td>https://www.muscleandstrength.com/exercises/la...</td>\n",
       "      <td>landmine rotation</td>\n",
       "      <td>https://www.muscleandstrength.com/exercises/la...</td>\n",
       "      <td>obliques</td>\n",
       "      <td>strength</td>\n",
       "      <td>landmine</td>\n",
       "      <td>compound</td>\n",
       "      <td>isometric</td>\n",
       "      <td>intermediate</td>\n",
       "      <td>the landmine rotation is a variation of the ru...</td>\n",
       "      <td>assume an athletic position with your feet sli...</td>\n",
       "      <td>[abs]</td>\n",
       "    </tr>\n",
       "    <tr>\n",
       "      <th>2</th>\n",
       "      <td>https://www.muscleandstrength.com/exercises/ta...</td>\n",
       "      <td>tall kneeling cable lift</td>\n",
       "      <td>https://www.muscleandstrength.com/exercises/ta...</td>\n",
       "      <td>obliques</td>\n",
       "      <td>strength</td>\n",
       "      <td>cable</td>\n",
       "      <td>compound</td>\n",
       "      <td>isometric</td>\n",
       "      <td>beginner</td>\n",
       "      <td>the tall kneeling cable lift is a variation of...</td>\n",
       "      <td>assume a tall kneeling position and attach a r...</td>\n",
       "      <td>[abs]</td>\n",
       "    </tr>\n",
       "    <tr>\n",
       "      <th>3</th>\n",
       "      <td>https://www.muscleandstrength.com/exercises/si...</td>\n",
       "      <td>side plank with hip dip</td>\n",
       "      <td>https://www.muscleandstrength.com/exercises/si...</td>\n",
       "      <td>obliques</td>\n",
       "      <td>strength</td>\n",
       "      <td>bodyweight</td>\n",
       "      <td>compound</td>\n",
       "      <td>isometric</td>\n",
       "      <td>beginner</td>\n",
       "      <td>the side plank with hip dip is a variation of ...</td>\n",
       "      <td>assume a side lying position with your forearm...</td>\n",
       "      <td>[abs]</td>\n",
       "    </tr>\n",
       "    <tr>\n",
       "      <th>4</th>\n",
       "      <td>https://www.muscleandstrength.com/exercises/wo...</td>\n",
       "      <td>wood chop</td>\n",
       "      <td>https://www.muscleandstrength.com/exercises/wo...</td>\n",
       "      <td>obliques</td>\n",
       "      <td>strength</td>\n",
       "      <td>cable</td>\n",
       "      <td>compound</td>\n",
       "      <td>isometric</td>\n",
       "      <td>beginner</td>\n",
       "      <td>the standing cable chop is an exercise used to...</td>\n",
       "      <td>assume an athletic position with your feet jus...</td>\n",
       "      <td>[abs]</td>\n",
       "    </tr>\n",
       "  </tbody>\n",
       "</table>\n",
       "</div>"
      ],
      "text/plain": [
       "                                                  id  \\\n",
       "0  https://www.muscleandstrength.com/exercises/pl...   \n",
       "1  https://www.muscleandstrength.com/exercises/la...   \n",
       "2  https://www.muscleandstrength.com/exercises/ta...   \n",
       "3  https://www.muscleandstrength.com/exercises/si...   \n",
       "4  https://www.muscleandstrength.com/exercises/wo...   \n",
       "\n",
       "                           name  \\\n",
       "0  plantar fascia lacrosse ball   \n",
       "1             landmine rotation   \n",
       "2      tall kneeling cable lift   \n",
       "3       side plank with hip dip   \n",
       "4                     wood chop   \n",
       "\n",
       "                                                 url          muscle  \\\n",
       "0  https://www.muscleandstrength.com/exercises/pl...  plantar fascia   \n",
       "1  https://www.muscleandstrength.com/exercises/la...        obliques   \n",
       "2  https://www.muscleandstrength.com/exercises/ta...        obliques   \n",
       "3  https://www.muscleandstrength.com/exercises/si...        obliques   \n",
       "4  https://www.muscleandstrength.com/exercises/wo...        obliques   \n",
       "\n",
       "       type      equipment  mechanics   force_type    difficulty  \\\n",
       "0       smr  lacrosse ball  isolation  compression  intermediate   \n",
       "1  strength       landmine   compound    isometric  intermediate   \n",
       "2  strength          cable   compound    isometric      beginner   \n",
       "3  strength     bodyweight   compound    isometric      beginner   \n",
       "4  strength          cable   compound    isometric      beginner   \n",
       "\n",
       "                                            overview  \\\n",
       "0  using a lacrosse ball to perform smr on your p...   \n",
       "1  the landmine rotation is a variation of the ru...   \n",
       "2  the tall kneeling cable lift is a variation of...   \n",
       "3  the side plank with hip dip is a variation of ...   \n",
       "4  the standing cable chop is an exercise used to...   \n",
       "\n",
       "                                        instructions secondary_muscle  \n",
       "0  in a standing position, place the lacrosse bal...               []  \n",
       "1  assume an athletic position with your feet sli...            [abs]  \n",
       "2  assume a tall kneeling position and attach a r...            [abs]  \n",
       "3  assume a side lying position with your forearm...            [abs]  \n",
       "4  assume an athletic position with your feet jus...            [abs]  "
      ]
     },
     "execution_count": 69,
     "metadata": {},
     "output_type": "execute_result"
    }
   ],
   "source": [
    "exercise_group_df.head()"
   ]
  },
  {
   "cell_type": "code",
   "execution_count": 70,
   "id": "914d8351",
   "metadata": {},
   "outputs": [
    {
     "data": {
      "text/plain": [
       "id                  0\n",
       "name                0\n",
       "url                 0\n",
       "muscle              0\n",
       "type                0\n",
       "equipment           0\n",
       "mechanics           0\n",
       "force_type          0\n",
       "difficulty          0\n",
       "overview            0\n",
       "instructions        0\n",
       "secondary_muscle    0\n",
       "dtype: int64"
      ]
     },
     "execution_count": 70,
     "metadata": {},
     "output_type": "execute_result"
    }
   ],
   "source": [
    "exercise_group_df.isnull().sum()"
   ]
  },
  {
   "cell_type": "code",
   "execution_count": 71,
   "id": "36f36cbc",
   "metadata": {},
   "outputs": [
    {
     "data": {
      "text/plain": [
       "83"
      ]
     },
     "execution_count": 71,
     "metadata": {},
     "output_type": "execute_result"
    }
   ],
   "source": [
    "len(exercise_group_df[exercise_group_df.equipment == 'machine'][\"url\"].values)"
   ]
  },
  {
   "cell_type": "markdown",
   "id": "5fc94154",
   "metadata": {},
   "source": [
    "### Muscle Groups"
   ]
  },
  {
   "cell_type": "code",
   "execution_count": 72,
   "id": "cded192a",
   "metadata": {},
   "outputs": [],
   "source": [
    "muscle_group_dict = {\n",
    "                 'id':[], 'name':[], 'url': []}\n",
    "\n",
    "with open('..\\\\fitness_kg\\\\Extracted\\\\Gym\\\\muscle_groups.jsonl', 'r', encoding=\"utf8\") as json_file:\n",
    "    json_list = list(json_file)\n",
    "    \n",
    "for json_str in json_list:\n",
    "    result = json.loads(json_str)\n",
    "    \n",
    "\n",
    "    muscle_group_dict['id'].append(result['id'])\n",
    "    muscle_group_dict['name'].append(result['name'])    \n",
    "    muscle_group_dict['url'].append(result['url'])\n",
    "\n",
    "muscle_group_df = pd.DataFrame.from_dict(muscle_group_dict)    "
   ]
  },
  {
   "cell_type": "code",
   "execution_count": 73,
   "id": "d62f8f5f",
   "metadata": {},
   "outputs": [],
   "source": [
    "muscle_group_df.name = muscle_group_df.name.str.lower()"
   ]
  },
  {
   "cell_type": "code",
   "execution_count": 74,
   "id": "1949ad86",
   "metadata": {},
   "outputs": [
    {
     "data": {
      "text/html": [
       "<div>\n",
       "<style scoped>\n",
       "    .dataframe tbody tr th:only-of-type {\n",
       "        vertical-align: middle;\n",
       "    }\n",
       "\n",
       "    .dataframe tbody tr th {\n",
       "        vertical-align: top;\n",
       "    }\n",
       "\n",
       "    .dataframe thead th {\n",
       "        text-align: right;\n",
       "    }\n",
       "</style>\n",
       "<table border=\"1\" class=\"dataframe\">\n",
       "  <thead>\n",
       "    <tr style=\"text-align: right;\">\n",
       "      <th></th>\n",
       "      <th>id</th>\n",
       "      <th>name</th>\n",
       "      <th>url</th>\n",
       "    </tr>\n",
       "  </thead>\n",
       "  <tbody>\n",
       "    <tr>\n",
       "      <th>0</th>\n",
       "      <td>https://www.muscleandstrength.com/exercises/ab...</td>\n",
       "      <td>abductors</td>\n",
       "      <td>https://www.muscleandstrength.com/exercises/ab...</td>\n",
       "    </tr>\n",
       "    <tr>\n",
       "      <th>1</th>\n",
       "      <td>https://www.muscleandstrength.com/exercises/abs</td>\n",
       "      <td>abs</td>\n",
       "      <td>https://www.muscleandstrength.com/exercises/abs</td>\n",
       "    </tr>\n",
       "    <tr>\n",
       "      <th>2</th>\n",
       "      <td>https://www.muscleandstrength.com/exercises/ad...</td>\n",
       "      <td>adductors</td>\n",
       "      <td>https://www.muscleandstrength.com/exercises/ad...</td>\n",
       "    </tr>\n",
       "    <tr>\n",
       "      <th>3</th>\n",
       "      <td>https://www.muscleandstrength.com/exercises/bi...</td>\n",
       "      <td>biceps</td>\n",
       "      <td>https://www.muscleandstrength.com/exercises/bi...</td>\n",
       "    </tr>\n",
       "    <tr>\n",
       "      <th>4</th>\n",
       "      <td>https://www.muscleandstrength.com/exercises/ca...</td>\n",
       "      <td>calves</td>\n",
       "      <td>https://www.muscleandstrength.com/exercises/ca...</td>\n",
       "    </tr>\n",
       "  </tbody>\n",
       "</table>\n",
       "</div>"
      ],
      "text/plain": [
       "                                                  id       name  \\\n",
       "0  https://www.muscleandstrength.com/exercises/ab...  abductors   \n",
       "1    https://www.muscleandstrength.com/exercises/abs        abs   \n",
       "2  https://www.muscleandstrength.com/exercises/ad...  adductors   \n",
       "3  https://www.muscleandstrength.com/exercises/bi...     biceps   \n",
       "4  https://www.muscleandstrength.com/exercises/ca...     calves   \n",
       "\n",
       "                                                 url  \n",
       "0  https://www.muscleandstrength.com/exercises/ab...  \n",
       "1    https://www.muscleandstrength.com/exercises/abs  \n",
       "2  https://www.muscleandstrength.com/exercises/ad...  \n",
       "3  https://www.muscleandstrength.com/exercises/bi...  \n",
       "4  https://www.muscleandstrength.com/exercises/ca...  "
      ]
     },
     "execution_count": 74,
     "metadata": {},
     "output_type": "execute_result"
    }
   ],
   "source": [
    "muscle_group_df.head()"
   ]
  },
  {
   "cell_type": "code",
   "execution_count": 75,
   "id": "5461bd40",
   "metadata": {},
   "outputs": [
    {
     "data": {
      "text/plain": [
       "<bound method Series.unique of 0          abductors\n",
       "1                abs\n",
       "2          adductors\n",
       "3             biceps\n",
       "4             calves\n",
       "5              chest\n",
       "6           forearms\n",
       "7             glutes\n",
       "8         hamstrings\n",
       "9        hip flexors\n",
       "10           it band\n",
       "11              lats\n",
       "12        lower back\n",
       "13        upper back\n",
       "14              neck\n",
       "15          obliques\n",
       "16     palmar fascia\n",
       "17    plantar fascia\n",
       "18             quads\n",
       "19         shoulders\n",
       "20             traps\n",
       "21           triceps\n",
       "Name: name, dtype: object>"
      ]
     },
     "execution_count": 75,
     "metadata": {},
     "output_type": "execute_result"
    }
   ],
   "source": [
    "muscle_group_df.name.unique"
   ]
  },
  {
   "cell_type": "markdown",
   "id": "cb76ac66",
   "metadata": {},
   "source": [
    "#### Join Muscle and Strength details"
   ]
  },
  {
   "cell_type": "code",
   "execution_count": 76,
   "id": "b576473f",
   "metadata": {},
   "outputs": [],
   "source": [
    "exercise_group_df[[\"name\",\"url\", \"equipment\"]].to_excel(\"data_test/test_exercise_group_df.xlsx\", index = False)\n",
    "exercise_df.to_excel(\"data_test/test_exercise_df.xlsx\", index = False)\n",
    "# yoga_pose_anatomy_df.to_csv(\"data_test/yoga_pose_anatomy_df.csv\", index = False)"
   ]
  },
  {
   "cell_type": "code",
   "execution_count": 77,
   "id": "63050346",
   "metadata": {},
   "outputs": [
    {
     "data": {
      "text/plain": [
       "id                  0\n",
       "name                0\n",
       "url                 0\n",
       "image_url           0\n",
       "muscle              0\n",
       "type                0\n",
       "equipment           0\n",
       "mechanics           0\n",
       "force_type          0\n",
       "difficulty          0\n",
       "overview            0\n",
       "instructions        0\n",
       "secondary_muscle    0\n",
       "dtype: int64"
      ]
     },
     "execution_count": 77,
     "metadata": {},
     "output_type": "execute_result"
    }
   ],
   "source": [
    "exercise_df_merged = exercise_df.merge( exercise_group_df, on=\"url\", how = \"left\").\\\n",
    "drop(columns=['id_y','name_y', 'muscle_x', 'type_x', 'equipment_x', 'mechanics_x', 'difficulty_x']).\\\n",
    "rename(columns={'id_x':'id', 'name_x':'name', 'muscle_y':'muscle', 'type_y':'type', 'equipment_y':'equipment', \n",
    "                'mechanics_y':'mechanics', 'difficulty_y':'difficulty'})\n",
    "exercise_df_merged.isnull().sum()"
   ]
  },
  {
   "cell_type": "markdown",
   "id": "f98ded62",
   "metadata": {},
   "source": [
    "### Information Extracted"
   ]
  },
  {
   "cell_type": "code",
   "execution_count": 78,
   "id": "8a75a073",
   "metadata": {},
   "outputs": [],
   "source": [
    "exercise_additional_info = pd.read_csv(\"..\\\\Information Extraction\\\\Data Extracted\\\\Gym_info_extracted.csv\")"
   ]
  },
  {
   "cell_type": "code",
   "execution_count": 79,
   "id": "ce64b872",
   "metadata": {},
   "outputs": [
    {
     "data": {
      "text/html": [
       "<div>\n",
       "<style scoped>\n",
       "    .dataframe tbody tr th:only-of-type {\n",
       "        vertical-align: middle;\n",
       "    }\n",
       "\n",
       "    .dataframe tbody tr th {\n",
       "        vertical-align: top;\n",
       "    }\n",
       "\n",
       "    .dataframe thead th {\n",
       "        text-align: right;\n",
       "    }\n",
       "</style>\n",
       "<table border=\"1\" class=\"dataframe\">\n",
       "  <thead>\n",
       "    <tr style=\"text-align: right;\">\n",
       "      <th></th>\n",
       "      <th>id</th>\n",
       "      <th>equipment</th>\n",
       "      <th>position</th>\n",
       "    </tr>\n",
       "  </thead>\n",
       "  <tbody>\n",
       "    <tr>\n",
       "      <th>0</th>\n",
       "      <td>https://www.muscleandstrength.com/exercises/wi...</td>\n",
       "      <td>['bar', 'barbell']</td>\n",
       "      <td>['stand']</td>\n",
       "    </tr>\n",
       "    <tr>\n",
       "      <th>1</th>\n",
       "      <td>https://www.muscleandstrength.com/exercises/ba...</td>\n",
       "      <td>['bar']</td>\n",
       "      <td>['stand']</td>\n",
       "    </tr>\n",
       "    <tr>\n",
       "      <th>2</th>\n",
       "      <td>https://www.muscleandstrength.com/exercises/du...</td>\n",
       "      <td>['dumbbell']</td>\n",
       "      <td>[]</td>\n",
       "    </tr>\n",
       "    <tr>\n",
       "      <th>3</th>\n",
       "      <td>https://www.muscleandstrength.com/exercises/du...</td>\n",
       "      <td>['dumbbell']</td>\n",
       "      <td>['stand']</td>\n",
       "    </tr>\n",
       "    <tr>\n",
       "      <th>4</th>\n",
       "      <td>https://www.muscleandstrength.com/exercises/du...</td>\n",
       "      <td>['dumbbell']</td>\n",
       "      <td>[]</td>\n",
       "    </tr>\n",
       "  </tbody>\n",
       "</table>\n",
       "</div>"
      ],
      "text/plain": [
       "                                                  id           equipment  \\\n",
       "0  https://www.muscleandstrength.com/exercises/wi...  ['bar', 'barbell']   \n",
       "1  https://www.muscleandstrength.com/exercises/ba...             ['bar']   \n",
       "2  https://www.muscleandstrength.com/exercises/du...        ['dumbbell']   \n",
       "3  https://www.muscleandstrength.com/exercises/du...        ['dumbbell']   \n",
       "4  https://www.muscleandstrength.com/exercises/du...        ['dumbbell']   \n",
       "\n",
       "    position  \n",
       "0  ['stand']  \n",
       "1  ['stand']  \n",
       "2         []  \n",
       "3  ['stand']  \n",
       "4         []  "
      ]
     },
     "execution_count": 79,
     "metadata": {},
     "output_type": "execute_result"
    }
   ],
   "source": [
    "exercise_additional_info.head()"
   ]
  },
  {
   "cell_type": "code",
   "execution_count": 80,
   "id": "636c7753",
   "metadata": {},
   "outputs": [
    {
     "data": {
      "text/plain": [
       "array([\"['bar', 'barbell']\", \"['bar']\", \"['dumbbell']\",\n",
       "       \"['dumbbell', 'bench']\", '[]', \"['barbell']\", \"['bench', 'cable']\",\n",
       "       \"['kettlebell', 'bar']\", \"['kettlebell']\", \"['physioball']\",\n",
       "       \"['cable']\", \"['bar', 'barbell', 'bench']\",\n",
       "       \"['bar', 'bench', 'cable']\", \"['bar', 'bench']\", \"['bench']\",\n",
       "       \"['chair']\", \"['kettlebell', 'kettle']\", \"['bar', 'dumbbell']\",\n",
       "       \"['physioball', 'dumbbell']\", \"['barbell', 'bench']\",\n",
       "       \"['bar', 'cable']\", \"['bar', 'belt']\", \"['belt']\"], dtype=object)"
      ]
     },
     "execution_count": 80,
     "metadata": {},
     "output_type": "execute_result"
    }
   ],
   "source": [
    "exercise_additional_info.equipment.unique()"
   ]
  },
  {
   "cell_type": "code",
   "execution_count": 81,
   "id": "8952a121",
   "metadata": {},
   "outputs": [],
   "source": [
    "exercise_additional_info[\"equipment\"] = exercise_additional_info[\"equipment\"].apply(lambda x: eval(x))"
   ]
  },
  {
   "cell_type": "code",
   "execution_count": 82,
   "id": "6e676fa2",
   "metadata": {},
   "outputs": [],
   "source": [
    "exercise_additional_info[\"position\"] = exercise_additional_info[\"position\"].apply(lambda x: eval(x))"
   ]
  },
  {
   "cell_type": "markdown",
   "id": "e39b56d1",
   "metadata": {},
   "source": [
    "# exRx"
   ]
  },
  {
   "cell_type": "markdown",
   "id": "8c83ac5c",
   "metadata": {},
   "source": [
    "### ExrX Exercise"
   ]
  },
  {
   "cell_type": "code",
   "execution_count": 83,
   "id": "b166626e",
   "metadata": {},
   "outputs": [],
   "source": [
    "exrx_exercise_dict = {\n",
    "                 'id':[], 'name':[], 'url': [], 'muscle':[], 'equipment':[]}\n",
    "\n",
    "with open('..\\\\fitness_kg\\\\Extracted\\\\exrx\\\\exrx_exercise.jsonl', 'r', encoding=\"utf8\") as json_file:\n",
    "    json_list = list(json_file)\n",
    "    \n",
    "for json_str in json_list:\n",
    "    result = json.loads(json_str)\n",
    "#     print(result)\n",
    "#     break\n",
    "    exrx_exercise_dict['id'].append(result['id'])\n",
    "    exrx_exercise_dict['name'].append(result['name'])   \n",
    "    exrx_exercise_dict['url'].append(result['url'])\n",
    "    exrx_exercise_dict['muscle'].append(result['muscle'])\n",
    "    exrx_exercise_dict['equipment'].append(result['equipment'])\n",
    "\n",
    "exrx_exercise_df = pd.DataFrame.from_dict(exrx_exercise_dict)"
   ]
  },
  {
   "cell_type": "code",
   "execution_count": 84,
   "id": "67de1657",
   "metadata": {},
   "outputs": [
    {
     "data": {
      "text/html": [
       "<div>\n",
       "<style scoped>\n",
       "    .dataframe tbody tr th:only-of-type {\n",
       "        vertical-align: middle;\n",
       "    }\n",
       "\n",
       "    .dataframe tbody tr th {\n",
       "        vertical-align: top;\n",
       "    }\n",
       "\n",
       "    .dataframe thead th {\n",
       "        text-align: right;\n",
       "    }\n",
       "</style>\n",
       "<table border=\"1\" class=\"dataframe\">\n",
       "  <thead>\n",
       "    <tr style=\"text-align: right;\">\n",
       "      <th></th>\n",
       "      <th>id</th>\n",
       "      <th>name</th>\n",
       "      <th>url</th>\n",
       "      <th>muscle</th>\n",
       "      <th>equipment</th>\n",
       "    </tr>\n",
       "  </thead>\n",
       "  <tbody>\n",
       "    <tr>\n",
       "      <th>0</th>\n",
       "      <td>https://exrx.net/WeightExercises/Gastrocnemius...</td>\n",
       "      <td>safety calf raise</td>\n",
       "      <td>https://exrx.net/WeightExercises/Gastrocnemius...</td>\n",
       "      <td>https://exrx.net/Muscles/Gastrocnemius</td>\n",
       "      <td>Barbell\\n</td>\n",
       "    </tr>\n",
       "    <tr>\n",
       "      <th>1</th>\n",
       "      <td>https://exrx.net/WeightExercises/Gastrocnemius...</td>\n",
       "      <td>standing calf raise</td>\n",
       "      <td>https://exrx.net/WeightExercises/Gastrocnemius...</td>\n",
       "      <td>https://exrx.net/Muscles/Gastrocnemius</td>\n",
       "      <td>Barbell\\n</td>\n",
       "    </tr>\n",
       "    <tr>\n",
       "      <th>2</th>\n",
       "      <td>https://exrx.net/WeightExercises/Gastrocnemius...</td>\n",
       "      <td>standing calf raise</td>\n",
       "      <td>https://exrx.net/WeightExercises/Gastrocnemius...</td>\n",
       "      <td>https://exrx.net/Muscles/Gastrocnemius</td>\n",
       "      <td>Cable\\n</td>\n",
       "    </tr>\n",
       "    <tr>\n",
       "      <th>3</th>\n",
       "      <td>https://exrx.net/WeightExercises/Gastrocnemius...</td>\n",
       "      <td>standing calf raise_single leg</td>\n",
       "      <td>https://exrx.net/WeightExercises/Gastrocnemius...</td>\n",
       "      <td>https://exrx.net/Muscles/Gastrocnemius</td>\n",
       "      <td>Cable\\n</td>\n",
       "    </tr>\n",
       "    <tr>\n",
       "      <th>4</th>\n",
       "      <td>https://exrx.net/WeightExercises/Gastrocnemius...</td>\n",
       "      <td>standing calf raise_one arm</td>\n",
       "      <td>https://exrx.net/WeightExercises/Gastrocnemius...</td>\n",
       "      <td>https://exrx.net/Muscles/Gastrocnemius</td>\n",
       "      <td>Cable\\n</td>\n",
       "    </tr>\n",
       "  </tbody>\n",
       "</table>\n",
       "</div>"
      ],
      "text/plain": [
       "                                                  id  \\\n",
       "0  https://exrx.net/WeightExercises/Gastrocnemius...   \n",
       "1  https://exrx.net/WeightExercises/Gastrocnemius...   \n",
       "2  https://exrx.net/WeightExercises/Gastrocnemius...   \n",
       "3  https://exrx.net/WeightExercises/Gastrocnemius...   \n",
       "4  https://exrx.net/WeightExercises/Gastrocnemius...   \n",
       "\n",
       "                             name  \\\n",
       "0               safety calf raise   \n",
       "1             standing calf raise   \n",
       "2             standing calf raise   \n",
       "3  standing calf raise_single leg   \n",
       "4     standing calf raise_one arm   \n",
       "\n",
       "                                                 url  \\\n",
       "0  https://exrx.net/WeightExercises/Gastrocnemius...   \n",
       "1  https://exrx.net/WeightExercises/Gastrocnemius...   \n",
       "2  https://exrx.net/WeightExercises/Gastrocnemius...   \n",
       "3  https://exrx.net/WeightExercises/Gastrocnemius...   \n",
       "4  https://exrx.net/WeightExercises/Gastrocnemius...   \n",
       "\n",
       "                                   muscle  equipment  \n",
       "0  https://exrx.net/Muscles/Gastrocnemius  Barbell\\n  \n",
       "1  https://exrx.net/Muscles/Gastrocnemius  Barbell\\n  \n",
       "2  https://exrx.net/Muscles/Gastrocnemius    Cable\\n  \n",
       "3  https://exrx.net/Muscles/Gastrocnemius    Cable\\n  \n",
       "4  https://exrx.net/Muscles/Gastrocnemius    Cable\\n  "
      ]
     },
     "execution_count": 84,
     "metadata": {},
     "output_type": "execute_result"
    }
   ],
   "source": [
    "exrx_exercise_df.head()"
   ]
  },
  {
   "cell_type": "code",
   "execution_count": 85,
   "id": "c3dfd329",
   "metadata": {},
   "outputs": [],
   "source": [
    "####unify exercise names\n",
    "exrx_exercise_df.name = exrx_exercise_df.name.str.lower()\n",
    "\n",
    "exrx_exercise_df.equipment = exercise_group_df.equipment.str.strip()"
   ]
  },
  {
   "cell_type": "markdown",
   "id": "4161e974",
   "metadata": {},
   "source": [
    "### ExRx Exercise Group"
   ]
  },
  {
   "cell_type": "code",
   "execution_count": 86,
   "id": "9805f91a",
   "metadata": {},
   "outputs": [],
   "source": [
    "exrx_exercise_group_dict = {\n",
    "                 'id':[], 'name':[], 'url': [], 'mechanics':[], 'force_type':[], 'utility':[], 'instructions':[]}\n",
    "\n",
    "with open('..\\\\fitness_kg\\\\Extracted\\\\exrx\\\\exrx_exercise_group.jsonl', 'r', encoding=\"utf8\") as json_file:\n",
    "    json_list = list(json_file)\n",
    "    \n",
    "for json_str in json_list:\n",
    "    result = json.loads(json_str)\n",
    "#     print(result)\n",
    "#     break\n",
    "    exrx_exercise_group_dict['id'].append(result['id'])\n",
    "    exrx_exercise_group_dict['name'].append(result['name'])    \n",
    "    exrx_exercise_group_dict['url'].append(result['url'])\n",
    "    exrx_exercise_group_dict['mechanics'].append(result['mechanics'])\n",
    "    exrx_exercise_group_dict['force_type'].append(result['force_type'])\n",
    "    exrx_exercise_group_dict['utility'].append(result['utility'])\n",
    "    exrx_exercise_group_dict['instructions'].append(result['instructions'])\n",
    "\n",
    "exrx_exercise_group_df = pd.DataFrame.from_dict(exrx_exercise_group_dict)"
   ]
  },
  {
   "cell_type": "code",
   "execution_count": 87,
   "id": "269bffe4",
   "metadata": {},
   "outputs": [
    {
     "data": {
      "text/html": [
       "<div>\n",
       "<style scoped>\n",
       "    .dataframe tbody tr th:only-of-type {\n",
       "        vertical-align: middle;\n",
       "    }\n",
       "\n",
       "    .dataframe tbody tr th {\n",
       "        vertical-align: top;\n",
       "    }\n",
       "\n",
       "    .dataframe thead th {\n",
       "        text-align: right;\n",
       "    }\n",
       "</style>\n",
       "<table border=\"1\" class=\"dataframe\">\n",
       "  <thead>\n",
       "    <tr style=\"text-align: right;\">\n",
       "      <th></th>\n",
       "      <th>id</th>\n",
       "      <th>name</th>\n",
       "      <th>url</th>\n",
       "      <th>mechanics</th>\n",
       "      <th>force_type</th>\n",
       "      <th>utility</th>\n",
       "      <th>instructions</th>\n",
       "    </tr>\n",
       "  </thead>\n",
       "  <tbody>\n",
       "    <tr>\n",
       "      <th>0</th>\n",
       "      <td>https://exrx.net/WeightExercises/Gastrocnemius...</td>\n",
       "      <td>Lever Alternating Calf Extension</td>\n",
       "      <td>https://exrx.net/WeightExercises/Gastrocnemius...</td>\n",
       "      <td>isolated</td>\n",
       "      <td>push</td>\n",
       "      <td>[basic, auxiliary]</td>\n",
       "      <td>Preparation:\\nsit on seat and position forefee...</td>\n",
       "    </tr>\n",
       "    <tr>\n",
       "      <th>1</th>\n",
       "      <td>https://exrx.net/WeightExercises/Gastrocnemius...</td>\n",
       "      <td>Lever Calf Extension (bilateral)</td>\n",
       "      <td>https://exrx.net/WeightExercises/Gastrocnemius...</td>\n",
       "      <td>isolated</td>\n",
       "      <td>push</td>\n",
       "      <td>[basic]</td>\n",
       "      <td>Preparation:\\nsit on seat and position forefee...</td>\n",
       "    </tr>\n",
       "    <tr>\n",
       "      <th>2</th>\n",
       "      <td>https://exrx.net/WeightExercises/Gastrocnemius...</td>\n",
       "      <td>Lever Calf Raise (on v-squat machine, plate lo...</td>\n",
       "      <td>https://exrx.net/WeightExercises/Gastrocnemius...</td>\n",
       "      <td>isolated</td>\n",
       "      <td>push</td>\n",
       "      <td>[basic]</td>\n",
       "      <td>Preparation:\\nposition shoulders under shoulde...</td>\n",
       "    </tr>\n",
       "    <tr>\n",
       "      <th>3</th>\n",
       "      <td>https://exrx.net/WeightExercises/Gastrocnemius...</td>\n",
       "      <td>Lever 45° Calf Raise</td>\n",
       "      <td>https://exrx.net/WeightExercises/Gastrocnemius...</td>\n",
       "      <td>isolated</td>\n",
       "      <td>push</td>\n",
       "      <td>[basic]</td>\n",
       "      <td>Preparation:\\nsit on machine with low back aga...</td>\n",
       "    </tr>\n",
       "    <tr>\n",
       "      <th>4</th>\n",
       "      <td>https://exrx.net/WeightExercises/Gastrocnemius...</td>\n",
       "      <td>Lever Seated Calf Press</td>\n",
       "      <td>https://exrx.net/WeightExercises/Gastrocnemius...</td>\n",
       "      <td>isolated</td>\n",
       "      <td>push</td>\n",
       "      <td>[basic]</td>\n",
       "      <td>Preparation:\\nplace seat away from platform. s...</td>\n",
       "    </tr>\n",
       "  </tbody>\n",
       "</table>\n",
       "</div>"
      ],
      "text/plain": [
       "                                                  id  \\\n",
       "0  https://exrx.net/WeightExercises/Gastrocnemius...   \n",
       "1  https://exrx.net/WeightExercises/Gastrocnemius...   \n",
       "2  https://exrx.net/WeightExercises/Gastrocnemius...   \n",
       "3  https://exrx.net/WeightExercises/Gastrocnemius...   \n",
       "4  https://exrx.net/WeightExercises/Gastrocnemius...   \n",
       "\n",
       "                                                name  \\\n",
       "0                   Lever Alternating Calf Extension   \n",
       "1                   Lever Calf Extension (bilateral)   \n",
       "2  Lever Calf Raise (on v-squat machine, plate lo...   \n",
       "3                               Lever 45° Calf Raise   \n",
       "4                            Lever Seated Calf Press   \n",
       "\n",
       "                                                 url mechanics force_type  \\\n",
       "0  https://exrx.net/WeightExercises/Gastrocnemius...  isolated       push   \n",
       "1  https://exrx.net/WeightExercises/Gastrocnemius...  isolated       push   \n",
       "2  https://exrx.net/WeightExercises/Gastrocnemius...  isolated       push   \n",
       "3  https://exrx.net/WeightExercises/Gastrocnemius...  isolated       push   \n",
       "4  https://exrx.net/WeightExercises/Gastrocnemius...  isolated       push   \n",
       "\n",
       "              utility                                       instructions  \n",
       "0  [basic, auxiliary]  Preparation:\\nsit on seat and position forefee...  \n",
       "1             [basic]  Preparation:\\nsit on seat and position forefee...  \n",
       "2             [basic]  Preparation:\\nposition shoulders under shoulde...  \n",
       "3             [basic]  Preparation:\\nsit on machine with low back aga...  \n",
       "4             [basic]  Preparation:\\nplace seat away from platform. s...  "
      ]
     },
     "execution_count": 87,
     "metadata": {},
     "output_type": "execute_result"
    }
   ],
   "source": [
    "exrx_exercise_group_df.head()"
   ]
  },
  {
   "cell_type": "code",
   "execution_count": 88,
   "id": "5a94f67a",
   "metadata": {},
   "outputs": [],
   "source": [
    "####unify exercise names\n",
    "exrx_exercise_df.name = exrx_exercise_df.name.str.lower()"
   ]
  },
  {
   "cell_type": "markdown",
   "id": "d4064174",
   "metadata": {},
   "source": [
    "### exrx_muscle_groups"
   ]
  },
  {
   "cell_type": "code",
   "execution_count": 89,
   "id": "9d387db6",
   "metadata": {},
   "outputs": [],
   "source": [
    "exrx_muscle_groups_dict = {\n",
    "                 'id':[], 'name':[], 'url': [], 'parent_muscle':[]}\n",
    "\n",
    "with open('..\\\\fitness_kg\\\\Extracted\\\\exrx\\\\exrx_muscle_groups.jsonl', 'r', encoding=\"utf8\") as json_file:\n",
    "    json_list = list(json_file)\n",
    "    \n",
    "for json_str in json_list:\n",
    "    result = json.loads(json_str)\n",
    "#     print(result)\n",
    "#     break\n",
    "    exrx_muscle_groups_dict['id'].append(result['id'])\n",
    "    exrx_muscle_groups_dict['name'].append(result['name'])    \n",
    "    exrx_muscle_groups_dict['url'].append(result['url'])\n",
    "    exrx_muscle_groups_dict['parent_muscle'].append(result['parent_muscle'])\n",
    "\n",
    "exrx_muscle_groups_df = pd.DataFrame.from_dict(exrx_muscle_groups_dict)"
   ]
  },
  {
   "cell_type": "code",
   "execution_count": 90,
   "id": "af46d0de",
   "metadata": {},
   "outputs": [
    {
     "data": {
      "text/html": [
       "<div>\n",
       "<style scoped>\n",
       "    .dataframe tbody tr th:only-of-type {\n",
       "        vertical-align: middle;\n",
       "    }\n",
       "\n",
       "    .dataframe tbody tr th {\n",
       "        vertical-align: top;\n",
       "    }\n",
       "\n",
       "    .dataframe thead th {\n",
       "        text-align: right;\n",
       "    }\n",
       "</style>\n",
       "<table border=\"1\" class=\"dataframe\">\n",
       "  <thead>\n",
       "    <tr style=\"text-align: right;\">\n",
       "      <th></th>\n",
       "      <th>id</th>\n",
       "      <th>name</th>\n",
       "      <th>url</th>\n",
       "      <th>parent_muscle</th>\n",
       "    </tr>\n",
       "  </thead>\n",
       "  <tbody>\n",
       "    <tr>\n",
       "      <th>0</th>\n",
       "      <td>https://exrx.net/Lists/ExList/NeckWt</td>\n",
       "      <td>neck</td>\n",
       "      <td>https://exrx.net/Lists/ExList/NeckWt</td>\n",
       "      <td>None</td>\n",
       "    </tr>\n",
       "    <tr>\n",
       "      <th>1</th>\n",
       "      <td>https://exrx.net/Lists/ExList/ShouldWt</td>\n",
       "      <td>shoulders</td>\n",
       "      <td>https://exrx.net/Lists/ExList/ShouldWt</td>\n",
       "      <td>None</td>\n",
       "    </tr>\n",
       "    <tr>\n",
       "      <th>2</th>\n",
       "      <td>https://exrx.net/Lists/ExList/ArmWt</td>\n",
       "      <td>upper arms</td>\n",
       "      <td>https://exrx.net/Lists/ExList/ArmWt</td>\n",
       "      <td>None</td>\n",
       "    </tr>\n",
       "    <tr>\n",
       "      <th>3</th>\n",
       "      <td>https://exrx.net/Lists/ExList/ForeArmWt</td>\n",
       "      <td>forearms</td>\n",
       "      <td>https://exrx.net/Lists/ExList/ForeArmWt</td>\n",
       "      <td>None</td>\n",
       "    </tr>\n",
       "    <tr>\n",
       "      <th>4</th>\n",
       "      <td>https://exrx.net/Lists/ExList/BackWt</td>\n",
       "      <td>back</td>\n",
       "      <td>https://exrx.net/Lists/ExList/BackWt</td>\n",
       "      <td>None</td>\n",
       "    </tr>\n",
       "    <tr>\n",
       "      <th>5</th>\n",
       "      <td>https://exrx.net/Lists/ExList/ChestWt</td>\n",
       "      <td>chest</td>\n",
       "      <td>https://exrx.net/Lists/ExList/ChestWt</td>\n",
       "      <td>None</td>\n",
       "    </tr>\n",
       "    <tr>\n",
       "      <th>6</th>\n",
       "      <td>https://exrx.net/Lists/ExList/WaistWt</td>\n",
       "      <td>waist</td>\n",
       "      <td>https://exrx.net/Lists/ExList/WaistWt</td>\n",
       "      <td>None</td>\n",
       "    </tr>\n",
       "    <tr>\n",
       "      <th>7</th>\n",
       "      <td>https://exrx.net/Lists/ExList/HipsWt</td>\n",
       "      <td>hips</td>\n",
       "      <td>https://exrx.net/Lists/ExList/HipsWt</td>\n",
       "      <td>None</td>\n",
       "    </tr>\n",
       "    <tr>\n",
       "      <th>8</th>\n",
       "      <td>https://exrx.net/Lists/ExList/ThighWt</td>\n",
       "      <td>thighs</td>\n",
       "      <td>https://exrx.net/Lists/ExList/ThighWt</td>\n",
       "      <td>None</td>\n",
       "    </tr>\n",
       "    <tr>\n",
       "      <th>9</th>\n",
       "      <td>https://exrx.net/Lists/ExList/CalfWt</td>\n",
       "      <td>calves</td>\n",
       "      <td>https://exrx.net/Lists/ExList/CalfWt</td>\n",
       "      <td>None</td>\n",
       "    </tr>\n",
       "    <tr>\n",
       "      <th>10</th>\n",
       "      <td>https://exrx.net/Muscles/Gastrocnemius</td>\n",
       "      <td>gastrocnemius</td>\n",
       "      <td>https://exrx.net/Muscles/Gastrocnemius</td>\n",
       "      <td>https://exrx.net/Lists/ExList/CalfWt</td>\n",
       "    </tr>\n",
       "    <tr>\n",
       "      <th>11</th>\n",
       "      <td>https://exrx.net/Muscles/PectoralisSternal</td>\n",
       "      <td>pectoralis major, sternal</td>\n",
       "      <td>https://exrx.net/Muscles/PectoralisSternal</td>\n",
       "      <td>https://exrx.net/Lists/ExList/ChestWt</td>\n",
       "    </tr>\n",
       "  </tbody>\n",
       "</table>\n",
       "</div>"
      ],
      "text/plain": [
       "                                            id                       name  \\\n",
       "0         https://exrx.net/Lists/ExList/NeckWt                       neck   \n",
       "1       https://exrx.net/Lists/ExList/ShouldWt                  shoulders   \n",
       "2          https://exrx.net/Lists/ExList/ArmWt                 upper arms   \n",
       "3      https://exrx.net/Lists/ExList/ForeArmWt                   forearms   \n",
       "4         https://exrx.net/Lists/ExList/BackWt                       back   \n",
       "5        https://exrx.net/Lists/ExList/ChestWt                      chest   \n",
       "6        https://exrx.net/Lists/ExList/WaistWt                      waist   \n",
       "7         https://exrx.net/Lists/ExList/HipsWt                       hips   \n",
       "8        https://exrx.net/Lists/ExList/ThighWt                     thighs   \n",
       "9         https://exrx.net/Lists/ExList/CalfWt                     calves   \n",
       "10      https://exrx.net/Muscles/Gastrocnemius              gastrocnemius   \n",
       "11  https://exrx.net/Muscles/PectoralisSternal  pectoralis major, sternal   \n",
       "\n",
       "                                           url  \\\n",
       "0         https://exrx.net/Lists/ExList/NeckWt   \n",
       "1       https://exrx.net/Lists/ExList/ShouldWt   \n",
       "2          https://exrx.net/Lists/ExList/ArmWt   \n",
       "3      https://exrx.net/Lists/ExList/ForeArmWt   \n",
       "4         https://exrx.net/Lists/ExList/BackWt   \n",
       "5        https://exrx.net/Lists/ExList/ChestWt   \n",
       "6        https://exrx.net/Lists/ExList/WaistWt   \n",
       "7         https://exrx.net/Lists/ExList/HipsWt   \n",
       "8        https://exrx.net/Lists/ExList/ThighWt   \n",
       "9         https://exrx.net/Lists/ExList/CalfWt   \n",
       "10      https://exrx.net/Muscles/Gastrocnemius   \n",
       "11  https://exrx.net/Muscles/PectoralisSternal   \n",
       "\n",
       "                            parent_muscle  \n",
       "0                                    None  \n",
       "1                                    None  \n",
       "2                                    None  \n",
       "3                                    None  \n",
       "4                                    None  \n",
       "5                                    None  \n",
       "6                                    None  \n",
       "7                                    None  \n",
       "8                                    None  \n",
       "9                                    None  \n",
       "10   https://exrx.net/Lists/ExList/CalfWt  \n",
       "11  https://exrx.net/Lists/ExList/ChestWt  "
      ]
     },
     "execution_count": 90,
     "metadata": {},
     "output_type": "execute_result"
    }
   ],
   "source": [
    "exrx_muscle_groups_df.head(12)"
   ]
  },
  {
   "cell_type": "code",
   "execution_count": 91,
   "id": "b86a14a5",
   "metadata": {},
   "outputs": [],
   "source": [
    "exrx_muscle_groups_df.name = exrx_muscle_groups_df.name.str.lower()\n",
    "exrx_muscle_groups_df.name = exrx_muscle_groups_df.name.str.replace(\", \", \"-\")"
   ]
  },
  {
   "cell_type": "code",
   "execution_count": 92,
   "id": "d7505a1d",
   "metadata": {},
   "outputs": [
    {
     "data": {
      "text/html": [
       "<div>\n",
       "<style scoped>\n",
       "    .dataframe tbody tr th:only-of-type {\n",
       "        vertical-align: middle;\n",
       "    }\n",
       "\n",
       "    .dataframe tbody tr th {\n",
       "        vertical-align: top;\n",
       "    }\n",
       "\n",
       "    .dataframe thead th {\n",
       "        text-align: right;\n",
       "    }\n",
       "</style>\n",
       "<table border=\"1\" class=\"dataframe\">\n",
       "  <thead>\n",
       "    <tr style=\"text-align: right;\">\n",
       "      <th></th>\n",
       "      <th>id</th>\n",
       "      <th>name</th>\n",
       "      <th>url</th>\n",
       "      <th>parent_muscle</th>\n",
       "    </tr>\n",
       "  </thead>\n",
       "  <tbody>\n",
       "    <tr>\n",
       "      <th>0</th>\n",
       "      <td>https://exrx.net/Lists/ExList/NeckWt</td>\n",
       "      <td>neck</td>\n",
       "      <td>https://exrx.net/Lists/ExList/NeckWt</td>\n",
       "      <td>None</td>\n",
       "    </tr>\n",
       "    <tr>\n",
       "      <th>1</th>\n",
       "      <td>https://exrx.net/Lists/ExList/ShouldWt</td>\n",
       "      <td>shoulders</td>\n",
       "      <td>https://exrx.net/Lists/ExList/ShouldWt</td>\n",
       "      <td>None</td>\n",
       "    </tr>\n",
       "    <tr>\n",
       "      <th>2</th>\n",
       "      <td>https://exrx.net/Lists/ExList/ArmWt</td>\n",
       "      <td>upper arms</td>\n",
       "      <td>https://exrx.net/Lists/ExList/ArmWt</td>\n",
       "      <td>None</td>\n",
       "    </tr>\n",
       "    <tr>\n",
       "      <th>3</th>\n",
       "      <td>https://exrx.net/Lists/ExList/ForeArmWt</td>\n",
       "      <td>forearms</td>\n",
       "      <td>https://exrx.net/Lists/ExList/ForeArmWt</td>\n",
       "      <td>None</td>\n",
       "    </tr>\n",
       "    <tr>\n",
       "      <th>4</th>\n",
       "      <td>https://exrx.net/Lists/ExList/BackWt</td>\n",
       "      <td>back</td>\n",
       "      <td>https://exrx.net/Lists/ExList/BackWt</td>\n",
       "      <td>None</td>\n",
       "    </tr>\n",
       "    <tr>\n",
       "      <th>5</th>\n",
       "      <td>https://exrx.net/Lists/ExList/ChestWt</td>\n",
       "      <td>chest</td>\n",
       "      <td>https://exrx.net/Lists/ExList/ChestWt</td>\n",
       "      <td>None</td>\n",
       "    </tr>\n",
       "    <tr>\n",
       "      <th>6</th>\n",
       "      <td>https://exrx.net/Lists/ExList/WaistWt</td>\n",
       "      <td>waist</td>\n",
       "      <td>https://exrx.net/Lists/ExList/WaistWt</td>\n",
       "      <td>None</td>\n",
       "    </tr>\n",
       "    <tr>\n",
       "      <th>7</th>\n",
       "      <td>https://exrx.net/Lists/ExList/HipsWt</td>\n",
       "      <td>hips</td>\n",
       "      <td>https://exrx.net/Lists/ExList/HipsWt</td>\n",
       "      <td>None</td>\n",
       "    </tr>\n",
       "    <tr>\n",
       "      <th>8</th>\n",
       "      <td>https://exrx.net/Lists/ExList/ThighWt</td>\n",
       "      <td>thighs</td>\n",
       "      <td>https://exrx.net/Lists/ExList/ThighWt</td>\n",
       "      <td>None</td>\n",
       "    </tr>\n",
       "    <tr>\n",
       "      <th>9</th>\n",
       "      <td>https://exrx.net/Lists/ExList/CalfWt</td>\n",
       "      <td>calves</td>\n",
       "      <td>https://exrx.net/Lists/ExList/CalfWt</td>\n",
       "      <td>None</td>\n",
       "    </tr>\n",
       "    <tr>\n",
       "      <th>10</th>\n",
       "      <td>https://exrx.net/Muscles/Gastrocnemius</td>\n",
       "      <td>gastrocnemius</td>\n",
       "      <td>https://exrx.net/Muscles/Gastrocnemius</td>\n",
       "      <td>https://exrx.net/Lists/ExList/CalfWt</td>\n",
       "    </tr>\n",
       "    <tr>\n",
       "      <th>11</th>\n",
       "      <td>https://exrx.net/Muscles/PectoralisSternal</td>\n",
       "      <td>pectoralis major-sternal</td>\n",
       "      <td>https://exrx.net/Muscles/PectoralisSternal</td>\n",
       "      <td>https://exrx.net/Lists/ExList/ChestWt</td>\n",
       "    </tr>\n",
       "  </tbody>\n",
       "</table>\n",
       "</div>"
      ],
      "text/plain": [
       "                                            id                      name  \\\n",
       "0         https://exrx.net/Lists/ExList/NeckWt                      neck   \n",
       "1       https://exrx.net/Lists/ExList/ShouldWt                 shoulders   \n",
       "2          https://exrx.net/Lists/ExList/ArmWt                upper arms   \n",
       "3      https://exrx.net/Lists/ExList/ForeArmWt                  forearms   \n",
       "4         https://exrx.net/Lists/ExList/BackWt                      back   \n",
       "5        https://exrx.net/Lists/ExList/ChestWt                     chest   \n",
       "6        https://exrx.net/Lists/ExList/WaistWt                     waist   \n",
       "7         https://exrx.net/Lists/ExList/HipsWt                      hips   \n",
       "8        https://exrx.net/Lists/ExList/ThighWt                    thighs   \n",
       "9         https://exrx.net/Lists/ExList/CalfWt                    calves   \n",
       "10      https://exrx.net/Muscles/Gastrocnemius             gastrocnemius   \n",
       "11  https://exrx.net/Muscles/PectoralisSternal  pectoralis major-sternal   \n",
       "\n",
       "                                           url  \\\n",
       "0         https://exrx.net/Lists/ExList/NeckWt   \n",
       "1       https://exrx.net/Lists/ExList/ShouldWt   \n",
       "2          https://exrx.net/Lists/ExList/ArmWt   \n",
       "3      https://exrx.net/Lists/ExList/ForeArmWt   \n",
       "4         https://exrx.net/Lists/ExList/BackWt   \n",
       "5        https://exrx.net/Lists/ExList/ChestWt   \n",
       "6        https://exrx.net/Lists/ExList/WaistWt   \n",
       "7         https://exrx.net/Lists/ExList/HipsWt   \n",
       "8        https://exrx.net/Lists/ExList/ThighWt   \n",
       "9         https://exrx.net/Lists/ExList/CalfWt   \n",
       "10      https://exrx.net/Muscles/Gastrocnemius   \n",
       "11  https://exrx.net/Muscles/PectoralisSternal   \n",
       "\n",
       "                            parent_muscle  \n",
       "0                                    None  \n",
       "1                                    None  \n",
       "2                                    None  \n",
       "3                                    None  \n",
       "4                                    None  \n",
       "5                                    None  \n",
       "6                                    None  \n",
       "7                                    None  \n",
       "8                                    None  \n",
       "9                                    None  \n",
       "10   https://exrx.net/Lists/ExList/CalfWt  \n",
       "11  https://exrx.net/Lists/ExList/ChestWt  "
      ]
     },
     "execution_count": 92,
     "metadata": {},
     "output_type": "execute_result"
    }
   ],
   "source": [
    "exrx_muscle_groups_df.head(12)"
   ]
  },
  {
   "cell_type": "markdown",
   "id": "cfaaae57",
   "metadata": {},
   "source": [
    "#### Merge the exrx details"
   ]
  },
  {
   "cell_type": "code",
   "execution_count": 93,
   "id": "80444c5e",
   "metadata": {},
   "outputs": [],
   "source": [
    "exrx_exercise_df.to_excel(\"data_test/test_exrx_exercise_df.xlsx\", index = False)\n",
    "exrx_exercise_group_df[[\"name\",\"url\"]].to_excel(\"data_test/test_exrx_exercise_group_df.xlsx\", index = False)\n",
    "# yoga_pose_anatomy_df.to_csv(\"data_test/yoga_pose_anatomy_df.csv\", index = False)"
   ]
  },
  {
   "cell_type": "code",
   "execution_count": 94,
   "id": "188e946c",
   "metadata": {},
   "outputs": [
    {
     "data": {
      "text/plain": [
       "id_x              0\n",
       "name_x            0\n",
       "url               0\n",
       "muscle            0\n",
       "equipment       607\n",
       "mechanics         2\n",
       "force_type        2\n",
       "utility           2\n",
       "instructions      2\n",
       "dtype: int64"
      ]
     },
     "metadata": {},
     "output_type": "display_data"
    }
   ],
   "source": [
    "exrx_exercise_df_merged = exrx_exercise_df.merge(exrx_exercise_group_df, on=\"url\", how = \"left\").drop(columns=['id_y','name_y'])\n",
    "display(exrx_exercise_df_merged.isnull().sum())\n"
   ]
  },
  {
   "cell_type": "code",
   "execution_count": 95,
   "id": "9df96c38",
   "metadata": {},
   "outputs": [
    {
     "data": {
      "text/html": [
       "<div>\n",
       "<style scoped>\n",
       "    .dataframe tbody tr th:only-of-type {\n",
       "        vertical-align: middle;\n",
       "    }\n",
       "\n",
       "    .dataframe tbody tr th {\n",
       "        vertical-align: top;\n",
       "    }\n",
       "\n",
       "    .dataframe thead th {\n",
       "        text-align: right;\n",
       "    }\n",
       "</style>\n",
       "<table border=\"1\" class=\"dataframe\">\n",
       "  <thead>\n",
       "    <tr style=\"text-align: right;\">\n",
       "      <th></th>\n",
       "      <th>id_x</th>\n",
       "      <th>name_x</th>\n",
       "      <th>url</th>\n",
       "      <th>muscle</th>\n",
       "      <th>equipment</th>\n",
       "      <th>mechanics</th>\n",
       "      <th>force_type</th>\n",
       "      <th>utility</th>\n",
       "      <th>instructions</th>\n",
       "    </tr>\n",
       "  </thead>\n",
       "  <tbody>\n",
       "    <tr>\n",
       "      <th>616</th>\n",
       "      <td>https://exrx.net/WeightExercises/BackGeneral/B...</td>\n",
       "      <td>underhand inverted row</td>\n",
       "      <td>https://exrx.net/WeightExercises/BackGeneral/B...</td>\n",
       "      <td>https://exrx.net/Lists/ExList/BackWt</td>\n",
       "      <td>other</td>\n",
       "      <td>NaN</td>\n",
       "      <td>NaN</td>\n",
       "      <td>NaN</td>\n",
       "      <td>NaN</td>\n",
       "    </tr>\n",
       "    <tr>\n",
       "      <th>617</th>\n",
       "      <td>https://exrx.net/WeightExercises/BackGeneral/B...</td>\n",
       "      <td>underhand inverted row_high bar</td>\n",
       "      <td>https://exrx.net/WeightExercises/BackGeneral/B...</td>\n",
       "      <td>https://exrx.net/Lists/ExList/BackWt</td>\n",
       "      <td>barbell</td>\n",
       "      <td>NaN</td>\n",
       "      <td>NaN</td>\n",
       "      <td>NaN</td>\n",
       "      <td>NaN</td>\n",
       "    </tr>\n",
       "  </tbody>\n",
       "</table>\n",
       "</div>"
      ],
      "text/plain": [
       "                                                  id_x  \\\n",
       "616  https://exrx.net/WeightExercises/BackGeneral/B...   \n",
       "617  https://exrx.net/WeightExercises/BackGeneral/B...   \n",
       "\n",
       "                              name_x  \\\n",
       "616           underhand inverted row   \n",
       "617  underhand inverted row_high bar   \n",
       "\n",
       "                                                   url  \\\n",
       "616  https://exrx.net/WeightExercises/BackGeneral/B...   \n",
       "617  https://exrx.net/WeightExercises/BackGeneral/B...   \n",
       "\n",
       "                                   muscle equipment mechanics force_type  \\\n",
       "616  https://exrx.net/Lists/ExList/BackWt     other       NaN        NaN   \n",
       "617  https://exrx.net/Lists/ExList/BackWt   barbell       NaN        NaN   \n",
       "\n",
       "    utility instructions  \n",
       "616     NaN          NaN  \n",
       "617     NaN          NaN  "
      ]
     },
     "metadata": {},
     "output_type": "display_data"
    }
   ],
   "source": [
    "display(exrx_exercise_df_merged[exrx_exercise_df_merged.mechanics.isnull()])\n",
    "\n",
    "exrx_exercise_df_merged = exrx_exercise_df_merged[exrx_exercise_df_merged.mechanics.notnull()]"
   ]
  },
  {
   "cell_type": "code",
   "execution_count": 96,
   "id": "cfc87db8",
   "metadata": {},
   "outputs": [],
   "source": [
    "exrx_exercise_df_merged_final = exrx_exercise_df_merged.merge(exrx_muscle_groups_df[[\"name\",\"url\"]], left_on=\"muscle\", right_on=\"url\").drop(columns=[\"url_y\", \"muscle\"])"
   ]
  },
  {
   "cell_type": "code",
   "execution_count": 97,
   "id": "df8c100a",
   "metadata": {},
   "outputs": [
    {
     "data": {
      "text/html": [
       "<div>\n",
       "<style scoped>\n",
       "    .dataframe tbody tr th:only-of-type {\n",
       "        vertical-align: middle;\n",
       "    }\n",
       "\n",
       "    .dataframe tbody tr th {\n",
       "        vertical-align: top;\n",
       "    }\n",
       "\n",
       "    .dataframe thead th {\n",
       "        text-align: right;\n",
       "    }\n",
       "</style>\n",
       "<table border=\"1\" class=\"dataframe\">\n",
       "  <thead>\n",
       "    <tr style=\"text-align: right;\">\n",
       "      <th></th>\n",
       "      <th>id_x</th>\n",
       "      <th>name_x</th>\n",
       "      <th>url_x</th>\n",
       "      <th>equipment</th>\n",
       "      <th>mechanics</th>\n",
       "      <th>force_type</th>\n",
       "      <th>utility</th>\n",
       "      <th>instructions</th>\n",
       "      <th>name</th>\n",
       "    </tr>\n",
       "  </thead>\n",
       "  <tbody>\n",
       "    <tr>\n",
       "      <th>0</th>\n",
       "      <td>https://exrx.net/WeightExercises/Gastrocnemius...</td>\n",
       "      <td>safety calf raise</td>\n",
       "      <td>https://exrx.net/WeightExercises/Gastrocnemius...</td>\n",
       "      <td>lacrosse ball</td>\n",
       "      <td>isolated</td>\n",
       "      <td>push</td>\n",
       "      <td>[basic]</td>\n",
       "      <td>Preparation:\\nstand facing safety barbell on r...</td>\n",
       "      <td>gastrocnemius</td>\n",
       "    </tr>\n",
       "    <tr>\n",
       "      <th>1</th>\n",
       "      <td>https://exrx.net/WeightExercises/Gastrocnemius...</td>\n",
       "      <td>standing calf raise</td>\n",
       "      <td>https://exrx.net/WeightExercises/Gastrocnemius...</td>\n",
       "      <td>landmine</td>\n",
       "      <td>isolated</td>\n",
       "      <td>push</td>\n",
       "      <td>[basic]</td>\n",
       "      <td>Preparation:\\nset barbell on power rack upper ...</td>\n",
       "      <td>gastrocnemius</td>\n",
       "    </tr>\n",
       "    <tr>\n",
       "      <th>2</th>\n",
       "      <td>https://exrx.net/WeightExercises/Gastrocnemius...</td>\n",
       "      <td>standing calf raise</td>\n",
       "      <td>https://exrx.net/WeightExercises/Gastrocnemius...</td>\n",
       "      <td>cable</td>\n",
       "      <td>isolated</td>\n",
       "      <td>push</td>\n",
       "      <td>[basic]</td>\n",
       "      <td>Preparation:\\nplace cable belt or dip belt aro...</td>\n",
       "      <td>gastrocnemius</td>\n",
       "    </tr>\n",
       "    <tr>\n",
       "      <th>3</th>\n",
       "      <td>https://exrx.net/WeightExercises/Gastrocnemius...</td>\n",
       "      <td>standing calf raise_single leg</td>\n",
       "      <td>https://exrx.net/WeightExercises/Gastrocnemius...</td>\n",
       "      <td>bodyweight</td>\n",
       "      <td>isolated</td>\n",
       "      <td>push</td>\n",
       "      <td>[basic, auxiliary]</td>\n",
       "      <td>Preparation:\\nkneel before low pulley and atta...</td>\n",
       "      <td>gastrocnemius</td>\n",
       "    </tr>\n",
       "    <tr>\n",
       "      <th>4</th>\n",
       "      <td>https://exrx.net/WeightExercises/Gastrocnemius...</td>\n",
       "      <td>standing calf raise_one arm</td>\n",
       "      <td>https://exrx.net/WeightExercises/Gastrocnemius...</td>\n",
       "      <td>cable</td>\n",
       "      <td>isolated</td>\n",
       "      <td>push</td>\n",
       "      <td>[basic, auxiliary]</td>\n",
       "      <td>Preparation:\\nstand facing low pulley with pla...</td>\n",
       "      <td>gastrocnemius</td>\n",
       "    </tr>\n",
       "  </tbody>\n",
       "</table>\n",
       "</div>"
      ],
      "text/plain": [
       "                                                id_x  \\\n",
       "0  https://exrx.net/WeightExercises/Gastrocnemius...   \n",
       "1  https://exrx.net/WeightExercises/Gastrocnemius...   \n",
       "2  https://exrx.net/WeightExercises/Gastrocnemius...   \n",
       "3  https://exrx.net/WeightExercises/Gastrocnemius...   \n",
       "4  https://exrx.net/WeightExercises/Gastrocnemius...   \n",
       "\n",
       "                           name_x  \\\n",
       "0               safety calf raise   \n",
       "1             standing calf raise   \n",
       "2             standing calf raise   \n",
       "3  standing calf raise_single leg   \n",
       "4     standing calf raise_one arm   \n",
       "\n",
       "                                               url_x      equipment mechanics  \\\n",
       "0  https://exrx.net/WeightExercises/Gastrocnemius...  lacrosse ball  isolated   \n",
       "1  https://exrx.net/WeightExercises/Gastrocnemius...       landmine  isolated   \n",
       "2  https://exrx.net/WeightExercises/Gastrocnemius...          cable  isolated   \n",
       "3  https://exrx.net/WeightExercises/Gastrocnemius...     bodyweight  isolated   \n",
       "4  https://exrx.net/WeightExercises/Gastrocnemius...          cable  isolated   \n",
       "\n",
       "  force_type             utility  \\\n",
       "0       push             [basic]   \n",
       "1       push             [basic]   \n",
       "2       push             [basic]   \n",
       "3       push  [basic, auxiliary]   \n",
       "4       push  [basic, auxiliary]   \n",
       "\n",
       "                                        instructions           name  \n",
       "0  Preparation:\\nstand facing safety barbell on r...  gastrocnemius  \n",
       "1  Preparation:\\nset barbell on power rack upper ...  gastrocnemius  \n",
       "2  Preparation:\\nplace cable belt or dip belt aro...  gastrocnemius  \n",
       "3  Preparation:\\nkneel before low pulley and atta...  gastrocnemius  \n",
       "4  Preparation:\\nstand facing low pulley with pla...  gastrocnemius  "
      ]
     },
     "execution_count": 97,
     "metadata": {},
     "output_type": "execute_result"
    }
   ],
   "source": [
    "exrx_exercise_df_merged_final.head()"
   ]
  },
  {
   "cell_type": "code",
   "execution_count": 98,
   "id": "f148aa87",
   "metadata": {},
   "outputs": [
    {
     "data": {
      "text/plain": [
       "id_x              0\n",
       "name_x            0\n",
       "url_x             0\n",
       "equipment       607\n",
       "mechanics         0\n",
       "force_type        0\n",
       "utility           0\n",
       "instructions      0\n",
       "name              0\n",
       "dtype: int64"
      ]
     },
     "execution_count": 98,
     "metadata": {},
     "output_type": "execute_result"
    }
   ],
   "source": [
    "exrx_exercise_df_merged_final.isnull().sum()"
   ]
  },
  {
   "cell_type": "code",
   "execution_count": 99,
   "id": "cbcc67b1",
   "metadata": {},
   "outputs": [],
   "source": [
    "exrx_exercise_df_merged_final.rename(columns={\"id_x\":\"id\", \"name_x\":\"name\", \"url_x\":\"url\", \"name\":\"muscle\"}, inplace = True)"
   ]
  },
  {
   "cell_type": "code",
   "execution_count": 100,
   "id": "ce532714",
   "metadata": {},
   "outputs": [
    {
     "data": {
      "text/plain": [
       "(1611, 9)"
      ]
     },
     "execution_count": 100,
     "metadata": {},
     "output_type": "execute_result"
    }
   ],
   "source": [
    "exrx_exercise_df_merged_final.shape"
   ]
  },
  {
   "cell_type": "markdown",
   "id": "9c2ac828",
   "metadata": {},
   "source": [
    "### Link ExRx and gym exercise (not needed)"
   ]
  },
  {
   "cell_type": "code",
   "execution_count": 101,
   "id": "6d2318ba",
   "metadata": {},
   "outputs": [],
   "source": [
    "# df1 = exrx_muscle_groups_df[['id','name','parent_muscle']]\n",
    "# df2 = exrx_muscle_groups_df[['id','name']]\n",
    "\n",
    "# df_map = df1.merge(df2, right_on ='id',  left_on ='parent_muscle', how = 'left')[['name_x', 'name_y']].drop_duplicates()\n",
    "\n",
    "# display(df_map.head())\n",
    "\n",
    "# df_map.rename(columns = {'name_x':'child', 'name_y':'parent'}, inplace = True)\n",
    "\n",
    "# print(\"exrx\")\n",
    "# print(exrx_muscle_groups_df.name.unique())\n",
    "\n",
    "# print(\"muscle group\")\n",
    "# print(muscle_group_df.name.unique())"
   ]
  },
  {
   "cell_type": "markdown",
   "id": "972fba19",
   "metadata": {},
   "source": [
    "# Fat"
   ]
  },
  {
   "cell_type": "code",
   "execution_count": 102,
   "id": "a94cb2ad",
   "metadata": {},
   "outputs": [],
   "source": [
    "cardio_dict = {\n",
    "                 'id':[], 'name':[], 'url': [], 'calories':[], 'met':[], 'intensity':[]}\n",
    "\n",
    "with open('..\\\\fitness_kg\\\\Extracted\\\\Fat\\\\cardio.jsonl', 'r', encoding=\"utf8\") as json_file:\n",
    "    json_list = list(json_file)\n",
    "    \n",
    "for json_str in json_list:\n",
    "    result = json.loads(json_str)\n",
    "#     print(result)\n",
    "#     break\n",
    "    cardio_dict['id'].append(result['id'])\n",
    "    cardio_dict['name'].append(result['name'])    \n",
    "    cardio_dict['url'].append(result['url'])\n",
    "    cardio_dict['calories'].append(result['calories'])\n",
    "    cardio_dict['met'].append(result['met'])\n",
    "    cardio_dict['intensity'].append(result['intensity'])\n",
    "\n",
    "cardio_df = pd.DataFrame.from_dict(cardio_dict)"
   ]
  },
  {
   "cell_type": "code",
   "execution_count": 103,
   "id": "21407f26",
   "metadata": {},
   "outputs": [],
   "source": [
    "cardio_df.name = cardio_df.name.str.lower()"
   ]
  },
  {
   "cell_type": "code",
   "execution_count": 104,
   "id": "92ec1ccb",
   "metadata": {},
   "outputs": [
    {
     "data": {
      "text/html": [
       "<div>\n",
       "<style scoped>\n",
       "    .dataframe tbody tr th:only-of-type {\n",
       "        vertical-align: middle;\n",
       "    }\n",
       "\n",
       "    .dataframe tbody tr th {\n",
       "        vertical-align: top;\n",
       "    }\n",
       "\n",
       "    .dataframe thead th {\n",
       "        text-align: right;\n",
       "    }\n",
       "</style>\n",
       "<table border=\"1\" class=\"dataframe\">\n",
       "  <thead>\n",
       "    <tr style=\"text-align: right;\">\n",
       "      <th></th>\n",
       "      <th>id</th>\n",
       "      <th>name</th>\n",
       "      <th>url</th>\n",
       "      <th>calories</th>\n",
       "      <th>met</th>\n",
       "      <th>intensity</th>\n",
       "    </tr>\n",
       "  </thead>\n",
       "  <tbody>\n",
       "    <tr>\n",
       "      <th>0</th>\n",
       "      <td>https://www.fatsecret.com/fitness/sleeping</td>\n",
       "      <td>sleeping</td>\n",
       "      <td>https://www.fatsecret.com/fitness/sleeping</td>\n",
       "      <td>66</td>\n",
       "      <td>0.9</td>\n",
       "      <td>Light Intensity</td>\n",
       "    </tr>\n",
       "    <tr>\n",
       "      <th>1</th>\n",
       "      <td>https://www.fatsecret.com/fitness/resting</td>\n",
       "      <td>resting</td>\n",
       "      <td>https://www.fatsecret.com/fitness/resting</td>\n",
       "      <td>74</td>\n",
       "      <td>1.0</td>\n",
       "      <td>Light Intensity</td>\n",
       "    </tr>\n",
       "    <tr>\n",
       "      <th>2</th>\n",
       "      <td>https://www.fatsecret.com/fitness/sitting</td>\n",
       "      <td>sitting</td>\n",
       "      <td>https://www.fatsecret.com/fitness/sitting</td>\n",
       "      <td>103</td>\n",
       "      <td>1.4</td>\n",
       "      <td>Light Intensity</td>\n",
       "    </tr>\n",
       "    <tr>\n",
       "      <th>3</th>\n",
       "      <td>https://www.fatsecret.com/fitness/desk-work</td>\n",
       "      <td>desk work</td>\n",
       "      <td>https://www.fatsecret.com/fitness/desk-work</td>\n",
       "      <td>110</td>\n",
       "      <td>1.5</td>\n",
       "      <td>Light Intensity</td>\n",
       "    </tr>\n",
       "    <tr>\n",
       "      <th>4</th>\n",
       "      <td>https://www.fatsecret.com/fitness/driving</td>\n",
       "      <td>driving</td>\n",
       "      <td>https://www.fatsecret.com/fitness/driving</td>\n",
       "      <td>118</td>\n",
       "      <td>1.6</td>\n",
       "      <td>Light Intensity</td>\n",
       "    </tr>\n",
       "  </tbody>\n",
       "</table>\n",
       "</div>"
      ],
      "text/plain": [
       "                                            id       name  \\\n",
       "0   https://www.fatsecret.com/fitness/sleeping   sleeping   \n",
       "1    https://www.fatsecret.com/fitness/resting    resting   \n",
       "2    https://www.fatsecret.com/fitness/sitting    sitting   \n",
       "3  https://www.fatsecret.com/fitness/desk-work  desk work   \n",
       "4    https://www.fatsecret.com/fitness/driving    driving   \n",
       "\n",
       "                                           url calories  met        intensity  \n",
       "0   https://www.fatsecret.com/fitness/sleeping       66  0.9  Light Intensity  \n",
       "1    https://www.fatsecret.com/fitness/resting       74  1.0  Light Intensity  \n",
       "2    https://www.fatsecret.com/fitness/sitting      103  1.4  Light Intensity  \n",
       "3  https://www.fatsecret.com/fitness/desk-work      110  1.5  Light Intensity  \n",
       "4    https://www.fatsecret.com/fitness/driving      118  1.6  Light Intensity  "
      ]
     },
     "execution_count": 104,
     "metadata": {},
     "output_type": "execute_result"
    }
   ],
   "source": [
    "cardio_df.head()"
   ]
  },
  {
   "cell_type": "markdown",
   "id": "4a7da571",
   "metadata": {},
   "source": [
    "### Create mapping with url for Anatomy and muscles in mapping file"
   ]
  },
  {
   "cell_type": "code",
   "execution_count": 105,
   "id": "e9a35302",
   "metadata": {},
   "outputs": [],
   "source": [
    "def findMuscleorAnatomyURL(x):\n",
    "\n",
    "    muscle_to_check = x[\"name\"]#.lower()\n",
    "    if muscle_to_check in exrx_url_dict:\n",
    "        return exrx_url_dict[muscle_to_check]\n",
    "    elif muscle_to_check in mns_url_dict:\n",
    "        return mns_url_dict[muscle_to_check]\n",
    "    else:\n",
    "        return yoga_url_dict[muscle_to_check]"
   ]
  },
  {
   "cell_type": "code",
   "execution_count": 106,
   "id": "0a1f9a39",
   "metadata": {},
   "outputs": [
    {
     "data": {
      "text/html": [
       "<div>\n",
       "<style scoped>\n",
       "    .dataframe tbody tr th:only-of-type {\n",
       "        vertical-align: middle;\n",
       "    }\n",
       "\n",
       "    .dataframe tbody tr th {\n",
       "        vertical-align: top;\n",
       "    }\n",
       "\n",
       "    .dataframe thead th {\n",
       "        text-align: right;\n",
       "    }\n",
       "</style>\n",
       "<table border=\"1\" class=\"dataframe\">\n",
       "  <thead>\n",
       "    <tr style=\"text-align: right;\">\n",
       "      <th></th>\n",
       "      <th>name</th>\n",
       "    </tr>\n",
       "  </thead>\n",
       "  <tbody>\n",
       "    <tr>\n",
       "      <th>0</th>\n",
       "      <td>gastrocnemius</td>\n",
       "    </tr>\n",
       "    <tr>\n",
       "      <th>1</th>\n",
       "      <td>quadriceps</td>\n",
       "    </tr>\n",
       "    <tr>\n",
       "      <th>2</th>\n",
       "      <td>brachioradialis</td>\n",
       "    </tr>\n",
       "    <tr>\n",
       "      <th>3</th>\n",
       "      <td>anterior deltoid</td>\n",
       "    </tr>\n",
       "    <tr>\n",
       "      <th>4</th>\n",
       "      <td>pectoralis major-sternal</td>\n",
       "    </tr>\n",
       "  </tbody>\n",
       "</table>\n",
       "</div>"
      ],
      "text/plain": [
       "                       name\n",
       "0             gastrocnemius\n",
       "1                quadriceps\n",
       "2           brachioradialis\n",
       "3          anterior deltoid\n",
       "4  pectoralis major-sternal"
      ]
     },
     "execution_count": 106,
     "metadata": {},
     "output_type": "execute_result"
    }
   ],
   "source": [
    "### read the muscle sheet\n",
    "muscle = pd.read_excel(\"Mapping/new_mapping_master.xlsx\", sheet_name = \"Muscle\") #Anatomy, \n",
    "muscle.head()"
   ]
  },
  {
   "cell_type": "code",
   "execution_count": 107,
   "id": "6ff33dcd",
   "metadata": {},
   "outputs": [],
   "source": [
    "exrx_url_dict = exrx_muscle_groups_df[['name','url']].set_index('name').to_dict()['url']\n",
    "\n",
    "muscle_group_req_df = muscle_group_df[['name','url']]\n",
    "# muscle_group_req_df['name'] = muscle_group_req_df['name'].str.lower()\n",
    "mns_url_dict = muscle_group_req_df.set_index('name').to_dict()['url']\n",
    "\n",
    "yoga_categories_req_df = yoga_categories_df[['anatomy','url']]\n",
    "# yoga_categories_req_df['anatomy'] = yoga_categories_req_df['anatomy'].str.lower()\n",
    "yoga_url_dict = yoga_categories_req_df.set_index('anatomy').to_dict()['url']"
   ]
  },
  {
   "cell_type": "code",
   "execution_count": 108,
   "id": "51c0bef2",
   "metadata": {},
   "outputs": [
    {
     "data": {
      "text/html": [
       "<div>\n",
       "<style scoped>\n",
       "    .dataframe tbody tr th:only-of-type {\n",
       "        vertical-align: middle;\n",
       "    }\n",
       "\n",
       "    .dataframe tbody tr th {\n",
       "        vertical-align: top;\n",
       "    }\n",
       "\n",
       "    .dataframe thead th {\n",
       "        text-align: right;\n",
       "    }\n",
       "</style>\n",
       "<table border=\"1\" class=\"dataframe\">\n",
       "  <thead>\n",
       "    <tr style=\"text-align: right;\">\n",
       "      <th></th>\n",
       "      <th>anatomy</th>\n",
       "      <th>url</th>\n",
       "    </tr>\n",
       "  </thead>\n",
       "  <tbody>\n",
       "    <tr>\n",
       "      <th>0</th>\n",
       "      <td>abs</td>\n",
       "      <td>https://www.yogajournal.com/poses/anatomy/abs/</td>\n",
       "    </tr>\n",
       "    <tr>\n",
       "      <th>1</th>\n",
       "      <td>ankles</td>\n",
       "      <td>https://www.yogajournal.com/poses/anatomy/ankles/</td>\n",
       "    </tr>\n",
       "    <tr>\n",
       "      <th>2</th>\n",
       "      <td>arms</td>\n",
       "      <td>https://www.yogajournal.com/poses/anatomy/arms/</td>\n",
       "    </tr>\n",
       "    <tr>\n",
       "      <th>3</th>\n",
       "      <td>back</td>\n",
       "      <td>https://www.yogajournal.com/poses/anatomy/back/</td>\n",
       "    </tr>\n",
       "    <tr>\n",
       "      <th>4</th>\n",
       "      <td>belly</td>\n",
       "      <td>https://www.yogajournal.com/poses/anatomy/belly/</td>\n",
       "    </tr>\n",
       "    <tr>\n",
       "      <th>5</th>\n",
       "      <td>glutes</td>\n",
       "      <td>https://www.yogajournal.com/poses/anatomy/butt/</td>\n",
       "    </tr>\n",
       "    <tr>\n",
       "      <th>6</th>\n",
       "      <td>hamstrings</td>\n",
       "      <td>https://www.yogajournal.com/poses/anatomy/hams...</td>\n",
       "    </tr>\n",
       "    <tr>\n",
       "      <th>7</th>\n",
       "      <td>hands</td>\n",
       "      <td>https://www.yogajournal.com/poses/anatomy/hands/</td>\n",
       "    </tr>\n",
       "    <tr>\n",
       "      <th>8</th>\n",
       "      <td>flexors</td>\n",
       "      <td>https://www.yogajournal.com/poses/anatomy/hip-...</td>\n",
       "    </tr>\n",
       "    <tr>\n",
       "      <th>9</th>\n",
       "      <td>hips</td>\n",
       "      <td>https://www.yogajournal.com/poses/anatomy/hips/</td>\n",
       "    </tr>\n",
       "    <tr>\n",
       "      <th>10</th>\n",
       "      <td>heart</td>\n",
       "      <td>https://www.yogajournal.com/poses/anatomy/heart/</td>\n",
       "    </tr>\n",
       "    <tr>\n",
       "      <th>11</th>\n",
       "      <td>kidneys</td>\n",
       "      <td>https://www.yogajournal.com/poses/anatomy/kidn...</td>\n",
       "    </tr>\n",
       "    <tr>\n",
       "      <th>12</th>\n",
       "      <td>knees</td>\n",
       "      <td>https://www.yogajournal.com/poses/anatomy/knees/</td>\n",
       "    </tr>\n",
       "    <tr>\n",
       "      <th>13</th>\n",
       "      <td>legs</td>\n",
       "      <td>https://www.yogajournal.com/poses/anatomy/legs/</td>\n",
       "    </tr>\n",
       "    <tr>\n",
       "      <th>14</th>\n",
       "      <td>back</td>\n",
       "      <td>https://www.yogajournal.com/poses/anatomy/lowe...</td>\n",
       "    </tr>\n",
       "    <tr>\n",
       "      <th>15</th>\n",
       "      <td>lungs</td>\n",
       "      <td>https://www.yogajournal.com/poses/anatomy/lungs/</td>\n",
       "    </tr>\n",
       "    <tr>\n",
       "      <th>16</th>\n",
       "      <td>neck</td>\n",
       "      <td>https://www.yogajournal.com/poses/anatomy/neck/</td>\n",
       "    </tr>\n",
       "    <tr>\n",
       "      <th>17</th>\n",
       "      <td>pelvis</td>\n",
       "      <td>https://www.yogajournal.com/poses/anatomy/pelvis/</td>\n",
       "    </tr>\n",
       "    <tr>\n",
       "      <th>18</th>\n",
       "      <td>sacrum</td>\n",
       "      <td>https://www.yogajournal.com/poses/anatomy/sacrum/</td>\n",
       "    </tr>\n",
       "    <tr>\n",
       "      <th>19</th>\n",
       "      <td>shoulders</td>\n",
       "      <td>https://www.yogajournal.com/poses/anatomy/shou...</td>\n",
       "    </tr>\n",
       "    <tr>\n",
       "      <th>20</th>\n",
       "      <td>spine</td>\n",
       "      <td>https://www.yogajournal.com/poses/anatomy/spine/</td>\n",
       "    </tr>\n",
       "    <tr>\n",
       "      <th>21</th>\n",
       "      <td>thighs</td>\n",
       "      <td>https://www.yogajournal.com/poses/anatomy/thighs/</td>\n",
       "    </tr>\n",
       "    <tr>\n",
       "      <th>22</th>\n",
       "      <td>back</td>\n",
       "      <td>https://www.yogajournal.com/poses/anatomy/uppe...</td>\n",
       "    </tr>\n",
       "    <tr>\n",
       "      <th>23</th>\n",
       "      <td>wrists</td>\n",
       "      <td>https://www.yogajournal.com/poses/anatomy/wrists/</td>\n",
       "    </tr>\n",
       "  </tbody>\n",
       "</table>\n",
       "</div>"
      ],
      "text/plain": [
       "       anatomy                                                url\n",
       "0          abs     https://www.yogajournal.com/poses/anatomy/abs/\n",
       "1       ankles  https://www.yogajournal.com/poses/anatomy/ankles/\n",
       "2         arms    https://www.yogajournal.com/poses/anatomy/arms/\n",
       "3         back    https://www.yogajournal.com/poses/anatomy/back/\n",
       "4        belly   https://www.yogajournal.com/poses/anatomy/belly/\n",
       "5       glutes    https://www.yogajournal.com/poses/anatomy/butt/\n",
       "6   hamstrings  https://www.yogajournal.com/poses/anatomy/hams...\n",
       "7        hands   https://www.yogajournal.com/poses/anatomy/hands/\n",
       "8      flexors  https://www.yogajournal.com/poses/anatomy/hip-...\n",
       "9         hips    https://www.yogajournal.com/poses/anatomy/hips/\n",
       "10       heart   https://www.yogajournal.com/poses/anatomy/heart/\n",
       "11     kidneys  https://www.yogajournal.com/poses/anatomy/kidn...\n",
       "12       knees   https://www.yogajournal.com/poses/anatomy/knees/\n",
       "13        legs    https://www.yogajournal.com/poses/anatomy/legs/\n",
       "14        back  https://www.yogajournal.com/poses/anatomy/lowe...\n",
       "15       lungs   https://www.yogajournal.com/poses/anatomy/lungs/\n",
       "16        neck    https://www.yogajournal.com/poses/anatomy/neck/\n",
       "17      pelvis  https://www.yogajournal.com/poses/anatomy/pelvis/\n",
       "18      sacrum  https://www.yogajournal.com/poses/anatomy/sacrum/\n",
       "19   shoulders  https://www.yogajournal.com/poses/anatomy/shou...\n",
       "20       spine   https://www.yogajournal.com/poses/anatomy/spine/\n",
       "21      thighs  https://www.yogajournal.com/poses/anatomy/thighs/\n",
       "22        back  https://www.yogajournal.com/poses/anatomy/uppe...\n",
       "23      wrists  https://www.yogajournal.com/poses/anatomy/wrists/"
      ]
     },
     "execution_count": 108,
     "metadata": {},
     "output_type": "execute_result"
    }
   ],
   "source": [
    "yoga_categories_req_df"
   ]
  },
  {
   "cell_type": "code",
   "execution_count": 109,
   "id": "79816da5",
   "metadata": {},
   "outputs": [
    {
     "data": {
      "text/plain": [
       "name    0\n",
       "url     0\n",
       "dtype: int64"
      ]
     },
     "execution_count": 109,
     "metadata": {},
     "output_type": "execute_result"
    }
   ],
   "source": [
    "muscle[\"url\"] = muscle.apply(lambda x: findMuscleorAnatomyURL(x), axis= 1)\n",
    "muscle.isnull().sum()"
   ]
  },
  {
   "cell_type": "code",
   "execution_count": 110,
   "id": "945ecdc7",
   "metadata": {},
   "outputs": [
    {
     "data": {
      "text/html": [
       "<div>\n",
       "<style scoped>\n",
       "    .dataframe tbody tr th:only-of-type {\n",
       "        vertical-align: middle;\n",
       "    }\n",
       "\n",
       "    .dataframe tbody tr th {\n",
       "        vertical-align: top;\n",
       "    }\n",
       "\n",
       "    .dataframe thead th {\n",
       "        text-align: right;\n",
       "    }\n",
       "</style>\n",
       "<table border=\"1\" class=\"dataframe\">\n",
       "  <thead>\n",
       "    <tr style=\"text-align: right;\">\n",
       "      <th></th>\n",
       "      <th>name</th>\n",
       "      <th>url</th>\n",
       "    </tr>\n",
       "  </thead>\n",
       "  <tbody>\n",
       "    <tr>\n",
       "      <th>0</th>\n",
       "      <td>gastrocnemius</td>\n",
       "      <td>https://exrx.net/Muscles/Gastrocnemius</td>\n",
       "    </tr>\n",
       "    <tr>\n",
       "      <th>1</th>\n",
       "      <td>quadriceps</td>\n",
       "      <td>https://exrx.net/Muscles/Quadriceps</td>\n",
       "    </tr>\n",
       "    <tr>\n",
       "      <th>2</th>\n",
       "      <td>brachioradialis</td>\n",
       "      <td>https://exrx.net/Muscles/Brachioradialis</td>\n",
       "    </tr>\n",
       "    <tr>\n",
       "      <th>3</th>\n",
       "      <td>anterior deltoid</td>\n",
       "      <td>https://exrx.net/Muscles/DeltoidAnterior</td>\n",
       "    </tr>\n",
       "    <tr>\n",
       "      <th>4</th>\n",
       "      <td>pectoralis major-sternal</td>\n",
       "      <td>https://exrx.net/Muscles/PectoralisSternal</td>\n",
       "    </tr>\n",
       "  </tbody>\n",
       "</table>\n",
       "</div>"
      ],
      "text/plain": [
       "                       name                                         url\n",
       "0             gastrocnemius      https://exrx.net/Muscles/Gastrocnemius\n",
       "1                quadriceps         https://exrx.net/Muscles/Quadriceps\n",
       "2           brachioradialis    https://exrx.net/Muscles/Brachioradialis\n",
       "3          anterior deltoid    https://exrx.net/Muscles/DeltoidAnterior\n",
       "4  pectoralis major-sternal  https://exrx.net/Muscles/PectoralisSternal"
      ]
     },
     "execution_count": 110,
     "metadata": {},
     "output_type": "execute_result"
    }
   ],
   "source": [
    "muscle.head()"
   ]
  },
  {
   "cell_type": "code",
   "execution_count": 111,
   "id": "068ff37f",
   "metadata": {},
   "outputs": [],
   "source": [
    "# muscle[\"NAME\"] = muscle[\"NAME\"].str.replace(\", \", \"-\")"
   ]
  },
  {
   "cell_type": "markdown",
   "id": "a51b60bc",
   "metadata": {},
   "source": [
    "#### Add URL for anatomy sheet"
   ]
  },
  {
   "cell_type": "code",
   "execution_count": 112,
   "id": "b387ae11",
   "metadata": {},
   "outputs": [
    {
     "data": {
      "text/html": [
       "<div>\n",
       "<style scoped>\n",
       "    .dataframe tbody tr th:only-of-type {\n",
       "        vertical-align: middle;\n",
       "    }\n",
       "\n",
       "    .dataframe tbody tr th {\n",
       "        vertical-align: top;\n",
       "    }\n",
       "\n",
       "    .dataframe thead th {\n",
       "        text-align: right;\n",
       "    }\n",
       "</style>\n",
       "<table border=\"1\" class=\"dataframe\">\n",
       "  <thead>\n",
       "    <tr style=\"text-align: right;\">\n",
       "      <th></th>\n",
       "      <th>name</th>\n",
       "    </tr>\n",
       "  </thead>\n",
       "  <tbody>\n",
       "    <tr>\n",
       "      <th>0</th>\n",
       "      <td>ankles</td>\n",
       "    </tr>\n",
       "    <tr>\n",
       "      <th>1</th>\n",
       "      <td>arms</td>\n",
       "    </tr>\n",
       "    <tr>\n",
       "      <th>2</th>\n",
       "      <td>back</td>\n",
       "    </tr>\n",
       "    <tr>\n",
       "      <th>3</th>\n",
       "      <td>belly</td>\n",
       "    </tr>\n",
       "    <tr>\n",
       "      <th>4</th>\n",
       "      <td>calves</td>\n",
       "    </tr>\n",
       "  </tbody>\n",
       "</table>\n",
       "</div>"
      ],
      "text/plain": [
       "     name\n",
       "0  ankles\n",
       "1    arms\n",
       "2    back\n",
       "3   belly\n",
       "4  calves"
      ]
     },
     "execution_count": 112,
     "metadata": {},
     "output_type": "execute_result"
    }
   ],
   "source": [
    "anatomy = pd.read_excel(\"Mapping/new_mapping_master.xlsx\", sheet_name = \"Anatomy\") #, \n",
    "anatomy.head()"
   ]
  },
  {
   "cell_type": "code",
   "execution_count": 113,
   "id": "efbf9fb2",
   "metadata": {},
   "outputs": [
    {
     "data": {
      "text/plain": [
       "ankles        1\n",
       "arms          1\n",
       "waist         1\n",
       "upper arms    1\n",
       "thighs        1\n",
       "spine         1\n",
       "shoulders     1\n",
       "sacrum        1\n",
       "pelvis        1\n",
       "neck          1\n",
       "lungs         1\n",
       "legs          1\n",
       "knees         1\n",
       "kidneys       1\n",
       "hips          1\n",
       "heart         1\n",
       "hands         1\n",
       "forearms      1\n",
       "flexors       1\n",
       "chest         1\n",
       "calves        1\n",
       "belly         1\n",
       "back          1\n",
       "wrists        1\n",
       "Name: name, dtype: int64"
      ]
     },
     "execution_count": 113,
     "metadata": {},
     "output_type": "execute_result"
    }
   ],
   "source": [
    "anatomy.name.value_counts()"
   ]
  },
  {
   "cell_type": "code",
   "execution_count": 114,
   "id": "ae36f91c",
   "metadata": {},
   "outputs": [
    {
     "data": {
      "text/plain": [
       "name    0\n",
       "url     0\n",
       "dtype: int64"
      ]
     },
     "execution_count": 114,
     "metadata": {},
     "output_type": "execute_result"
    }
   ],
   "source": [
    "anatomy[\"url\"] = anatomy.apply(lambda x: findMuscleorAnatomyURL(x), axis= 1)\n",
    "anatomy.isnull().sum()"
   ]
  },
  {
   "cell_type": "code",
   "execution_count": 115,
   "id": "d06c713d",
   "metadata": {},
   "outputs": [],
   "source": [
    "# anatomy.to_excel(\"mapping.xlsx\", sheet_name = \"Anatomy\")"
   ]
  },
  {
   "cell_type": "markdown",
   "id": "f6cd42c6",
   "metadata": {},
   "source": [
    "#### Write values to the mapped files"
   ]
  },
  {
   "cell_type": "code",
   "execution_count": 116,
   "id": "e2591c73",
   "metadata": {},
   "outputs": [],
   "source": [
    "writer = pd.ExcelWriter('Mapping/mapped_final_.xlsx', engine='xlsxwriter')\n",
    "anatomy.to_excel(writer,'Anatomy', index = False)\n",
    "muscle.to_excel(writer,'Muscle', index = False)\n",
    "writer.close()"
   ]
  },
  {
   "cell_type": "markdown",
   "id": "2fbacbb4",
   "metadata": {},
   "source": [
    "# Adding group information (for blocking) to exrx and muscle & strength"
   ]
  },
  {
   "cell_type": "markdown",
   "id": "1304502e",
   "metadata": {},
   "source": [
    "#### Read the mapping file"
   ]
  },
  {
   "cell_type": "code",
   "execution_count": 117,
   "id": "4f2ddec2",
   "metadata": {},
   "outputs": [
    {
     "data": {
      "text/html": [
       "<div>\n",
       "<style scoped>\n",
       "    .dataframe tbody tr th:only-of-type {\n",
       "        vertical-align: middle;\n",
       "    }\n",
       "\n",
       "    .dataframe tbody tr th {\n",
       "        vertical-align: top;\n",
       "    }\n",
       "\n",
       "    .dataframe thead th {\n",
       "        text-align: right;\n",
       "    }\n",
       "</style>\n",
       "<table border=\"1\" class=\"dataframe\">\n",
       "  <thead>\n",
       "    <tr style=\"text-align: right;\">\n",
       "      <th></th>\n",
       "      <th>name</th>\n",
       "      <th>parent</th>\n",
       "      <th>Muscle|Anatomy</th>\n",
       "    </tr>\n",
       "  </thead>\n",
       "  <tbody>\n",
       "    <tr>\n",
       "      <th>0</th>\n",
       "      <td>neck</td>\n",
       "      <td>NaN</td>\n",
       "      <td>Anatomy</td>\n",
       "    </tr>\n",
       "    <tr>\n",
       "      <th>1</th>\n",
       "      <td>shoulders</td>\n",
       "      <td>NaN</td>\n",
       "      <td>Anatomy</td>\n",
       "    </tr>\n",
       "    <tr>\n",
       "      <th>2</th>\n",
       "      <td>upper arms</td>\n",
       "      <td>NaN</td>\n",
       "      <td>Anatomy</td>\n",
       "    </tr>\n",
       "    <tr>\n",
       "      <th>3</th>\n",
       "      <td>forearms</td>\n",
       "      <td>NaN</td>\n",
       "      <td>Anatomy</td>\n",
       "    </tr>\n",
       "    <tr>\n",
       "      <th>4</th>\n",
       "      <td>back</td>\n",
       "      <td>NaN</td>\n",
       "      <td>Anatomy</td>\n",
       "    </tr>\n",
       "    <tr>\n",
       "      <th>5</th>\n",
       "      <td>chest</td>\n",
       "      <td>NaN</td>\n",
       "      <td>Anatomy</td>\n",
       "    </tr>\n",
       "    <tr>\n",
       "      <th>6</th>\n",
       "      <td>waist</td>\n",
       "      <td>NaN</td>\n",
       "      <td>Anatomy</td>\n",
       "    </tr>\n",
       "    <tr>\n",
       "      <th>7</th>\n",
       "      <td>hips</td>\n",
       "      <td>NaN</td>\n",
       "      <td>Anatomy</td>\n",
       "    </tr>\n",
       "    <tr>\n",
       "      <th>8</th>\n",
       "      <td>thighs</td>\n",
       "      <td>NaN</td>\n",
       "      <td>Anatomy</td>\n",
       "    </tr>\n",
       "    <tr>\n",
       "      <th>9</th>\n",
       "      <td>calves</td>\n",
       "      <td>NaN</td>\n",
       "      <td>Anatomy</td>\n",
       "    </tr>\n",
       "  </tbody>\n",
       "</table>\n",
       "</div>"
      ],
      "text/plain": [
       "         name parent Muscle|Anatomy\n",
       "0        neck    NaN        Anatomy\n",
       "1   shoulders    NaN        Anatomy\n",
       "2  upper arms    NaN        Anatomy\n",
       "3    forearms    NaN        Anatomy\n",
       "4        back    NaN        Anatomy\n",
       "5       chest    NaN        Anatomy\n",
       "6       waist    NaN        Anatomy\n",
       "7        hips    NaN        Anatomy\n",
       "8      thighs    NaN        Anatomy\n",
       "9      calves    NaN        Anatomy"
      ]
     },
     "execution_count": 117,
     "metadata": {},
     "output_type": "execute_result"
    }
   ],
   "source": [
    "grouping_file = pd.read_excel(\"Mapping/new_mapping_master.xlsx\", sheet_name = \"Muscle&Anatomy\")\n",
    "# grouping_file.fillna(\"\", inplace = True)\n",
    "grouping_file.head(10)"
   ]
  },
  {
   "cell_type": "code",
   "execution_count": 118,
   "id": "69dc4f3f",
   "metadata": {},
   "outputs": [],
   "source": [
    "muscle_parent_map = grouping_file[[\"name\",\"parent\"]].dropna().set_index('name').to_dict()['parent']"
   ]
  },
  {
   "cell_type": "code",
   "execution_count": 119,
   "id": "b1f7b978",
   "metadata": {},
   "outputs": [
    {
     "data": {
      "text/plain": [
       "{'gastrocnemius': 'calves',\n",
       " 'brachioradialis': 'forearms',\n",
       " 'anterior deltoid': 'chest',\n",
       " 'pectoralis major-sternal': 'chest',\n",
       " 'rectus abdominis': 'abs',\n",
       " 'sternocleidomastoid': 'neck',\n",
       " 'wrist flexors': 'forearms',\n",
       " 'splenius': 'neck',\n",
       " 'soleus': 'calves',\n",
       " 'wrist extensors': 'forearms',\n",
       " 'tibialis anterior': 'calves',\n",
       " 'pronators': 'forearms',\n",
       " 'supinators': 'forearms',\n",
       " 'lateral deltoid': 'shoulders',\n",
       " 'popliteus': 'calves',\n",
       " 'posterior deltoid': 'shoulders',\n",
       " 'pectoralis major-clavicular': 'chest',\n",
       " 'biceps brachii': 'upper arms',\n",
       " 'transverse abdominis': 'abs',\n",
       " 'obliques': 'abs',\n",
       " 'pectoralis minor': 'chest',\n",
       " 'brachialis': 'upper arms',\n",
       " 'serratus anterior': 'chest',\n",
       " 'supraspinatus': 'back',\n",
       " 'hamstrings': 'thighs',\n",
       " 'quadratus lumborum': 'back',\n",
       " 'trapezius-upper fibers': 'traps',\n",
       " 'erector spinae': 'back',\n",
       " 'trapezius-middle fibers': 'traps',\n",
       " 'trapezius-lower fibers': 'traps',\n",
       " 'rhomboids': 'back',\n",
       " 'infraspinatus': 'back',\n",
       " 'subscapularis': 'back',\n",
       " 'adductor magnus': 'thighs',\n",
       " 'deep hip external rotators': 'hips',\n",
       " 'abductors': 'thighs',\n",
       " 'lower back': 'back',\n",
       " 'upper back': 'back',\n",
       " 'adductors': 'thighs',\n",
       " 'hip flexors': 'hips',\n",
       " 'it band': 'thighs',\n",
       " 'biceps': 'upper arms'}"
      ]
     },
     "execution_count": 119,
     "metadata": {},
     "output_type": "execute_result"
    }
   ],
   "source": [
    "muscle_parent_map"
   ]
  },
  {
   "cell_type": "markdown",
   "id": "f1a2c507",
   "metadata": {},
   "source": [
    "#### Create url for all of the muscles and anatomy in exrx and muscle&strength"
   ]
  },
  {
   "cell_type": "code",
   "execution_count": 120,
   "id": "0a906870",
   "metadata": {},
   "outputs": [],
   "source": [
    "# mapping_file_combined = pd.concat([muscle_group_df[['name','url']], exrx_muscle_groups_df[['name','url']]], axis = 0, ignore_index=True)\n",
    "# anatomy_url_dict = mapping_file_combined[['name','url']].set_index('name').to_dict()\n",
    "# print(anatomy_url_dict)"
   ]
  },
  {
   "cell_type": "code",
   "execution_count": 121,
   "id": "a93d4102",
   "metadata": {},
   "outputs": [],
   "source": [
    "# def findURL(x, dictname):\n",
    "#     if len(x[\"PARENT\"])>0:\n",
    "#         return dictname[\"url\"][x[\"PARENT\"]]\n",
    "#     elif len(x[\"SAME_AS\"])>0:\n",
    "#         return dictname[\"url\"][x[\"SAME_AS\"]]\n",
    "#     else:\n",
    "#         return dictname[\"url\"][x[\"Name\"]]"
   ]
  },
  {
   "cell_type": "code",
   "execution_count": 122,
   "id": "3c2d873f",
   "metadata": {},
   "outputs": [
    {
     "data": {
      "text/html": [
       "<div>\n",
       "<style scoped>\n",
       "    .dataframe tbody tr th:only-of-type {\n",
       "        vertical-align: middle;\n",
       "    }\n",
       "\n",
       "    .dataframe tbody tr th {\n",
       "        vertical-align: top;\n",
       "    }\n",
       "\n",
       "    .dataframe thead th {\n",
       "        text-align: right;\n",
       "    }\n",
       "</style>\n",
       "<table border=\"1\" class=\"dataframe\">\n",
       "  <thead>\n",
       "    <tr style=\"text-align: right;\">\n",
       "      <th></th>\n",
       "      <th>name</th>\n",
       "      <th>parent</th>\n",
       "      <th>Muscle|Anatomy</th>\n",
       "    </tr>\n",
       "  </thead>\n",
       "  <tbody>\n",
       "    <tr>\n",
       "      <th>0</th>\n",
       "      <td>neck</td>\n",
       "      <td>NaN</td>\n",
       "      <td>Anatomy</td>\n",
       "    </tr>\n",
       "    <tr>\n",
       "      <th>1</th>\n",
       "      <td>shoulders</td>\n",
       "      <td>NaN</td>\n",
       "      <td>Anatomy</td>\n",
       "    </tr>\n",
       "    <tr>\n",
       "      <th>2</th>\n",
       "      <td>upper arms</td>\n",
       "      <td>NaN</td>\n",
       "      <td>Anatomy</td>\n",
       "    </tr>\n",
       "    <tr>\n",
       "      <th>3</th>\n",
       "      <td>forearms</td>\n",
       "      <td>NaN</td>\n",
       "      <td>Anatomy</td>\n",
       "    </tr>\n",
       "    <tr>\n",
       "      <th>4</th>\n",
       "      <td>back</td>\n",
       "      <td>NaN</td>\n",
       "      <td>Anatomy</td>\n",
       "    </tr>\n",
       "    <tr>\n",
       "      <th>...</th>\n",
       "      <td>...</td>\n",
       "      <td>...</td>\n",
       "      <td>...</td>\n",
       "    </tr>\n",
       "    <tr>\n",
       "      <th>59</th>\n",
       "      <td>glutes</td>\n",
       "      <td>NaN</td>\n",
       "      <td>muscle</td>\n",
       "    </tr>\n",
       "    <tr>\n",
       "      <th>60</th>\n",
       "      <td>triceps</td>\n",
       "      <td>NaN</td>\n",
       "      <td>muscle</td>\n",
       "    </tr>\n",
       "    <tr>\n",
       "      <th>61</th>\n",
       "      <td>lats</td>\n",
       "      <td>NaN</td>\n",
       "      <td>muscle</td>\n",
       "    </tr>\n",
       "    <tr>\n",
       "      <th>62</th>\n",
       "      <td>biceps</td>\n",
       "      <td>upper arms</td>\n",
       "      <td>muscle</td>\n",
       "    </tr>\n",
       "    <tr>\n",
       "      <th>63</th>\n",
       "      <td>traps</td>\n",
       "      <td>NaN</td>\n",
       "      <td>muscle</td>\n",
       "    </tr>\n",
       "  </tbody>\n",
       "</table>\n",
       "<p>64 rows × 3 columns</p>\n",
       "</div>"
      ],
      "text/plain": [
       "          name      parent Muscle|Anatomy\n",
       "0         neck         NaN        Anatomy\n",
       "1    shoulders         NaN        Anatomy\n",
       "2   upper arms         NaN        Anatomy\n",
       "3     forearms         NaN        Anatomy\n",
       "4         back         NaN        Anatomy\n",
       "..         ...         ...            ...\n",
       "59      glutes         NaN         muscle\n",
       "60     triceps         NaN         muscle\n",
       "61        lats         NaN         muscle\n",
       "62      biceps  upper arms         muscle\n",
       "63       traps         NaN         muscle\n",
       "\n",
       "[64 rows x 3 columns]"
      ]
     },
     "execution_count": 122,
     "metadata": {},
     "output_type": "execute_result"
    }
   ],
   "source": [
    "grouping_file"
   ]
  },
  {
   "cell_type": "code",
   "execution_count": null,
   "id": "20f5670f",
   "metadata": {},
   "outputs": [],
   "source": []
  },
  {
   "cell_type": "markdown",
   "id": "b382eb9d",
   "metadata": {},
   "source": []
  },
  {
   "cell_type": "code",
   "execution_count": 123,
   "id": "f433a695",
   "metadata": {},
   "outputs": [],
   "source": [
    "# #### Add the parent url to the grouping file\n",
    "# grouping_file[\"URL\"] = grouping_file.apply(lambda x:  findURL(x, anatomy_url_dict), axis = 1)\n",
    "# grouping_file[\"Name\"] = grouping_file[\"Name\"].str.lower()\n",
    "# group_map_dict = grouping_file[[\"Name\", \"URL\"]].set_index(\"Name\").to_dict()\n",
    "# group_map_dict"
   ]
  },
  {
   "cell_type": "markdown",
   "id": "bb8de208",
   "metadata": {},
   "source": [
    "### Add group info to exrx and musclestrength files"
   ]
  },
  {
   "cell_type": "code",
   "execution_count": 124,
   "id": "9efbb9c5",
   "metadata": {},
   "outputs": [],
   "source": [
    "# Add the updated url to the dataset\n",
    "\n",
    "# def findGroup(x, dictname, num):\n",
    "#     if num:\n",
    "#         muscle = x[\"muscle\"].lower()\n",
    "#     else:\n",
    "#         muscle = x[\"name\"].lower()\n",
    "#     if len(muscle)>0:\n",
    "#         return dictname[\"URL\"][muscle].split(\"/\")[-1]\n",
    "#     else:\n",
    "#         print(\"error: \", muscle)\n",
    "        \n",
    "# ### Add for the Muscle and Strength\n",
    "# exercise_group_df[\"group\"] = exercise_group_df.apply(lambda x:  findGroup(x, group_map_dict, 1), axis = 1)\n",
    "# exercise_group_df.head(2)\n",
    "\n",
    "# ### Add group for exrx exercises\n",
    "# exrx_muscle_groups_df[\"group\"] = exrx_muscle_groups_df.apply(lambda x:  findGroup(x, group_map_dict, 0), axis = 1)\n",
    "# exrx_muscle_groups_df.head(15)\n",
    "# exrx_exercise_df.head()\n",
    "# exrx_exercise_group_df.head()\n",
    "\n",
    "# ## Added muscle information to the exrx_exercise_group file\n",
    "# exrx_exercise_group_df = exrx_exercise_group_df.merge(exrx_exercise_df[['url','muscle']], on=\"url\", how = \"left\")\n",
    "# exrx_exercise_group_df.head()\n",
    "\n",
    "# exrx_muscle_groups_df[\"url\"] = exrx_muscle_groups_df[\"url\"].astype(str)\n",
    "# exrx_exercise_group_df[\"url\"] = exrx_exercise_group_df[\"url\"].astype(str)\n",
    "\n",
    "# ## Add the group information to exrx exercise group\n",
    "# exrx_exercise_group_df = exrx_exercise_group_df.merge(exrx_muscle_groups_df[[\"url\",\"group\"]], left_on=\"muscle\", right_on=\"url\", how=\"left\")\n",
    "# exrx_exercise_group_df.head()\n",
    "\n",
    "# #### Retain only the required colums\n",
    "# exrx_exercise_group_df.drop(columns = ['url_y'], inplace = True)\n",
    "# exrx_exercise_group_df.head()\n",
    "\n",
    "# print(exrx_exercise_group_df[\"muscle\"].unique())\n",
    "\n",
    "# exrx_exercise_group_df.columns\n",
    "\n",
    "# exrx_exercise_group_df[exrx_exercise_group_df.group.isnull()]\n",
    "\n",
    "# exrx_exercise_group_df.dropna(inplace = True)"
   ]
  },
  {
   "cell_type": "code",
   "execution_count": 125,
   "id": "9d8c1f76",
   "metadata": {},
   "outputs": [],
   "source": [
    "def findMuscleParent(x):\n",
    "    if x in muscle_parent_map:\n",
    "        return muscle_parent_map[x]\n",
    "    else:\n",
    "        return x"
   ]
  },
  {
   "cell_type": "markdown",
   "id": "4d09ccfa",
   "metadata": {},
   "source": [
    "#### ===>ExrX"
   ]
  },
  {
   "cell_type": "code",
   "execution_count": 126,
   "id": "8b2fc360",
   "metadata": {},
   "outputs": [
    {
     "data": {
      "text/html": [
       "<div>\n",
       "<style scoped>\n",
       "    .dataframe tbody tr th:only-of-type {\n",
       "        vertical-align: middle;\n",
       "    }\n",
       "\n",
       "    .dataframe tbody tr th {\n",
       "        vertical-align: top;\n",
       "    }\n",
       "\n",
       "    .dataframe thead th {\n",
       "        text-align: right;\n",
       "    }\n",
       "</style>\n",
       "<table border=\"1\" class=\"dataframe\">\n",
       "  <thead>\n",
       "    <tr style=\"text-align: right;\">\n",
       "      <th></th>\n",
       "      <th>id</th>\n",
       "      <th>name</th>\n",
       "      <th>url</th>\n",
       "      <th>equipment</th>\n",
       "      <th>mechanics</th>\n",
       "      <th>force_type</th>\n",
       "      <th>utility</th>\n",
       "      <th>instructions</th>\n",
       "      <th>muscle</th>\n",
       "    </tr>\n",
       "  </thead>\n",
       "  <tbody>\n",
       "    <tr>\n",
       "      <th>0</th>\n",
       "      <td>https://exrx.net/WeightExercises/Gastrocnemius...</td>\n",
       "      <td>safety calf raise</td>\n",
       "      <td>https://exrx.net/WeightExercises/Gastrocnemius...</td>\n",
       "      <td>lacrosse ball</td>\n",
       "      <td>isolated</td>\n",
       "      <td>push</td>\n",
       "      <td>[basic]</td>\n",
       "      <td>Preparation:\\nstand facing safety barbell on r...</td>\n",
       "      <td>gastrocnemius</td>\n",
       "    </tr>\n",
       "    <tr>\n",
       "      <th>1</th>\n",
       "      <td>https://exrx.net/WeightExercises/Gastrocnemius...</td>\n",
       "      <td>standing calf raise</td>\n",
       "      <td>https://exrx.net/WeightExercises/Gastrocnemius...</td>\n",
       "      <td>landmine</td>\n",
       "      <td>isolated</td>\n",
       "      <td>push</td>\n",
       "      <td>[basic]</td>\n",
       "      <td>Preparation:\\nset barbell on power rack upper ...</td>\n",
       "      <td>gastrocnemius</td>\n",
       "    </tr>\n",
       "    <tr>\n",
       "      <th>2</th>\n",
       "      <td>https://exrx.net/WeightExercises/Gastrocnemius...</td>\n",
       "      <td>standing calf raise</td>\n",
       "      <td>https://exrx.net/WeightExercises/Gastrocnemius...</td>\n",
       "      <td>cable</td>\n",
       "      <td>isolated</td>\n",
       "      <td>push</td>\n",
       "      <td>[basic]</td>\n",
       "      <td>Preparation:\\nplace cable belt or dip belt aro...</td>\n",
       "      <td>gastrocnemius</td>\n",
       "    </tr>\n",
       "    <tr>\n",
       "      <th>3</th>\n",
       "      <td>https://exrx.net/WeightExercises/Gastrocnemius...</td>\n",
       "      <td>standing calf raise_single leg</td>\n",
       "      <td>https://exrx.net/WeightExercises/Gastrocnemius...</td>\n",
       "      <td>bodyweight</td>\n",
       "      <td>isolated</td>\n",
       "      <td>push</td>\n",
       "      <td>[basic, auxiliary]</td>\n",
       "      <td>Preparation:\\nkneel before low pulley and atta...</td>\n",
       "      <td>gastrocnemius</td>\n",
       "    </tr>\n",
       "    <tr>\n",
       "      <th>4</th>\n",
       "      <td>https://exrx.net/WeightExercises/Gastrocnemius...</td>\n",
       "      <td>standing calf raise_one arm</td>\n",
       "      <td>https://exrx.net/WeightExercises/Gastrocnemius...</td>\n",
       "      <td>cable</td>\n",
       "      <td>isolated</td>\n",
       "      <td>push</td>\n",
       "      <td>[basic, auxiliary]</td>\n",
       "      <td>Preparation:\\nstand facing low pulley with pla...</td>\n",
       "      <td>gastrocnemius</td>\n",
       "    </tr>\n",
       "  </tbody>\n",
       "</table>\n",
       "</div>"
      ],
      "text/plain": [
       "                                                  id  \\\n",
       "0  https://exrx.net/WeightExercises/Gastrocnemius...   \n",
       "1  https://exrx.net/WeightExercises/Gastrocnemius...   \n",
       "2  https://exrx.net/WeightExercises/Gastrocnemius...   \n",
       "3  https://exrx.net/WeightExercises/Gastrocnemius...   \n",
       "4  https://exrx.net/WeightExercises/Gastrocnemius...   \n",
       "\n",
       "                             name  \\\n",
       "0               safety calf raise   \n",
       "1             standing calf raise   \n",
       "2             standing calf raise   \n",
       "3  standing calf raise_single leg   \n",
       "4     standing calf raise_one arm   \n",
       "\n",
       "                                                 url      equipment mechanics  \\\n",
       "0  https://exrx.net/WeightExercises/Gastrocnemius...  lacrosse ball  isolated   \n",
       "1  https://exrx.net/WeightExercises/Gastrocnemius...       landmine  isolated   \n",
       "2  https://exrx.net/WeightExercises/Gastrocnemius...          cable  isolated   \n",
       "3  https://exrx.net/WeightExercises/Gastrocnemius...     bodyweight  isolated   \n",
       "4  https://exrx.net/WeightExercises/Gastrocnemius...          cable  isolated   \n",
       "\n",
       "  force_type             utility  \\\n",
       "0       push             [basic]   \n",
       "1       push             [basic]   \n",
       "2       push             [basic]   \n",
       "3       push  [basic, auxiliary]   \n",
       "4       push  [basic, auxiliary]   \n",
       "\n",
       "                                        instructions         muscle  \n",
       "0  Preparation:\\nstand facing safety barbell on r...  gastrocnemius  \n",
       "1  Preparation:\\nset barbell on power rack upper ...  gastrocnemius  \n",
       "2  Preparation:\\nplace cable belt or dip belt aro...  gastrocnemius  \n",
       "3  Preparation:\\nkneel before low pulley and atta...  gastrocnemius  \n",
       "4  Preparation:\\nstand facing low pulley with pla...  gastrocnemius  "
      ]
     },
     "execution_count": 126,
     "metadata": {},
     "output_type": "execute_result"
    }
   ],
   "source": [
    "exrx_exercise_df_merged_final.head()"
   ]
  },
  {
   "cell_type": "code",
   "execution_count": 127,
   "id": "dba5ac3b",
   "metadata": {},
   "outputs": [],
   "source": [
    "exrx_exercise_df_merged_final[\"group\"] = exrx_exercise_df_merged_final.muscle.apply(lambda x:findMuscleParent(x))"
   ]
  },
  {
   "cell_type": "code",
   "execution_count": 128,
   "id": "3829c380",
   "metadata": {},
   "outputs": [
    {
     "data": {
      "text/plain": [
       "array(['calves', 'chest', 'back', 'abs', 'triceps brachii', 'forearms',\n",
       "       'gluteus maximus', 'quadriceps', 'neck', 'shoulders',\n",
       "       'latissimus dorsi', 'upper arms', 'thighs', 'traps', 'hips'],\n",
       "      dtype=object)"
      ]
     },
     "execution_count": 128,
     "metadata": {},
     "output_type": "execute_result"
    }
   ],
   "source": [
    "exrx_exercise_df_merged_final.group.unique()"
   ]
  },
  {
   "cell_type": "code",
   "execution_count": 129,
   "id": "59d76bd2",
   "metadata": {},
   "outputs": [
    {
     "data": {
      "text/plain": [
       "array([], dtype=object)"
      ]
     },
     "execution_count": 129,
     "metadata": {},
     "output_type": "execute_result"
    }
   ],
   "source": [
    "exrx_exercise_df_merged_final[exrx_exercise_df_merged_final.group=='quads'][\"muscle\"].unique()"
   ]
  },
  {
   "cell_type": "code",
   "execution_count": 130,
   "id": "b0164cb4",
   "metadata": {},
   "outputs": [
    {
     "data": {
      "text/plain": [
       "array(['gastrocnemius', 'pectoralis major-sternal', 'back',\n",
       "       'rectus abdominis', 'triceps brachii', 'brachioradialis',\n",
       "       'gluteus maximus', 'quadriceps', 'sternocleidomastoid',\n",
       "       'anterior deltoid', 'wrist flexors', 'soleus', 'splenius',\n",
       "       'wrist extensors', 'pronators', 'tibialis anterior', 'supinators',\n",
       "       'pectoralis major-clavicular', 'lateral deltoid',\n",
       "       'latissimus dorsi', 'biceps brachii', 'brachialis',\n",
       "       'serratus anterior', 'obliques', 'posterior deltoid', 'hamstrings',\n",
       "       'trapezius-upper fibers', 'rhomboids', 'infraspinatus',\n",
       "       'erector spinae', 'hips', 'subscapularis', 'thighs',\n",
       "       'adductor magnus', 'deep hip external rotators'], dtype=object)"
      ]
     },
     "execution_count": 130,
     "metadata": {},
     "output_type": "execute_result"
    }
   ],
   "source": [
    "exrx_exercise_df_merged_final.muscle.unique()"
   ]
  },
  {
   "cell_type": "markdown",
   "id": "5d0cdee6",
   "metadata": {},
   "source": [
    "#### ==>Muscle n Strength"
   ]
  },
  {
   "cell_type": "code",
   "execution_count": 131,
   "id": "1cc0bdbb",
   "metadata": {},
   "outputs": [
    {
     "data": {
      "text/html": [
       "<div>\n",
       "<style scoped>\n",
       "    .dataframe tbody tr th:only-of-type {\n",
       "        vertical-align: middle;\n",
       "    }\n",
       "\n",
       "    .dataframe tbody tr th {\n",
       "        vertical-align: top;\n",
       "    }\n",
       "\n",
       "    .dataframe thead th {\n",
       "        text-align: right;\n",
       "    }\n",
       "</style>\n",
       "<table border=\"1\" class=\"dataframe\">\n",
       "  <thead>\n",
       "    <tr style=\"text-align: right;\">\n",
       "      <th></th>\n",
       "      <th>id</th>\n",
       "      <th>name</th>\n",
       "      <th>url</th>\n",
       "      <th>image_url</th>\n",
       "      <th>muscle</th>\n",
       "      <th>type</th>\n",
       "      <th>equipment</th>\n",
       "      <th>mechanics</th>\n",
       "      <th>force_type</th>\n",
       "      <th>difficulty</th>\n",
       "      <th>overview</th>\n",
       "      <th>instructions</th>\n",
       "      <th>secondary_muscle</th>\n",
       "    </tr>\n",
       "  </thead>\n",
       "  <tbody>\n",
       "    <tr>\n",
       "      <th>0</th>\n",
       "      <td>https://www.muscleandstrength.com/exercises/du...</td>\n",
       "      <td>dumbbell goblet squat</td>\n",
       "      <td>https://www.muscleandstrength.com/exercises/du...</td>\n",
       "      <td>https://cdn.muscleandstrength.com/sites/defaul...</td>\n",
       "      <td>quadriceps</td>\n",
       "      <td>strength</td>\n",
       "      <td>dumbbell</td>\n",
       "      <td>compound</td>\n",
       "      <td>push (bilateral)</td>\n",
       "      <td>beginner</td>\n",
       "      <td>the dumbbell goblet squat is a variation of th...</td>\n",
       "      <td>select a dumbbell and position it at chest hei...</td>\n",
       "      <td>[abs, hamstrings, lower back, gluteus maximus,...</td>\n",
       "    </tr>\n",
       "    <tr>\n",
       "      <th>1</th>\n",
       "      <td>https://www.muscleandstrength.com/exercises/sq...</td>\n",
       "      <td>barbell back squat</td>\n",
       "      <td>https://www.muscleandstrength.com/exercises/sq...</td>\n",
       "      <td>https://cdn.muscleandstrength.com/sites/defaul...</td>\n",
       "      <td>quadriceps</td>\n",
       "      <td>strength</td>\n",
       "      <td>barbell</td>\n",
       "      <td>compound</td>\n",
       "      <td>push</td>\n",
       "      <td>intermediate</td>\n",
       "      <td>the squat is the king of all exercises, workin...</td>\n",
       "      <td>set up for the exercise by setting the barbell...</td>\n",
       "      <td>[lower back, calves, hamstrings, gluteus maximus]</td>\n",
       "    </tr>\n",
       "  </tbody>\n",
       "</table>\n",
       "</div>"
      ],
      "text/plain": [
       "                                                  id                   name  \\\n",
       "0  https://www.muscleandstrength.com/exercises/du...  dumbbell goblet squat   \n",
       "1  https://www.muscleandstrength.com/exercises/sq...     barbell back squat   \n",
       "\n",
       "                                                 url  \\\n",
       "0  https://www.muscleandstrength.com/exercises/du...   \n",
       "1  https://www.muscleandstrength.com/exercises/sq...   \n",
       "\n",
       "                                           image_url      muscle      type  \\\n",
       "0  https://cdn.muscleandstrength.com/sites/defaul...  quadriceps  strength   \n",
       "1  https://cdn.muscleandstrength.com/sites/defaul...  quadriceps  strength   \n",
       "\n",
       "  equipment mechanics        force_type    difficulty  \\\n",
       "0  dumbbell  compound  push (bilateral)      beginner   \n",
       "1   barbell  compound              push  intermediate   \n",
       "\n",
       "                                            overview  \\\n",
       "0  the dumbbell goblet squat is a variation of th...   \n",
       "1  the squat is the king of all exercises, workin...   \n",
       "\n",
       "                                        instructions  \\\n",
       "0  select a dumbbell and position it at chest hei...   \n",
       "1  set up for the exercise by setting the barbell...   \n",
       "\n",
       "                                    secondary_muscle  \n",
       "0  [abs, hamstrings, lower back, gluteus maximus,...  \n",
       "1  [lower back, calves, hamstrings, gluteus maximus]  "
      ]
     },
     "execution_count": 131,
     "metadata": {},
     "output_type": "execute_result"
    }
   ],
   "source": [
    "exercise_df_merged.head(2)"
   ]
  },
  {
   "cell_type": "code",
   "execution_count": 132,
   "id": "1917ae97",
   "metadata": {},
   "outputs": [],
   "source": [
    "exercise_df_merged[\"group\"] = exercise_df_merged.muscle.apply(lambda x:findMuscleParent(x))"
   ]
  },
  {
   "cell_type": "code",
   "execution_count": 133,
   "id": "69d83cff",
   "metadata": {},
   "outputs": [
    {
     "data": {
      "text/plain": [
       "array(['gastrocnemius', 'pectoralis major-sternal', 'back',\n",
       "       'rectus abdominis', 'triceps brachii', 'brachioradialis',\n",
       "       'gluteus maximus', 'quadriceps', 'sternocleidomastoid',\n",
       "       'anterior deltoid', 'wrist flexors', 'soleus', 'splenius',\n",
       "       'wrist extensors', 'pronators', 'tibialis anterior', 'supinators',\n",
       "       'pectoralis major-clavicular', 'lateral deltoid',\n",
       "       'latissimus dorsi', 'biceps brachii', 'brachialis',\n",
       "       'serratus anterior', 'obliques', 'posterior deltoid', 'hamstrings',\n",
       "       'trapezius-upper fibers', 'rhomboids', 'infraspinatus',\n",
       "       'erector spinae', 'hips', 'subscapularis', 'thighs',\n",
       "       'adductor magnus', 'deep hip external rotators'], dtype=object)"
      ]
     },
     "execution_count": 133,
     "metadata": {},
     "output_type": "execute_result"
    }
   ],
   "source": [
    "exrx_exercise_df_merged_final.muscle.unique()"
   ]
  },
  {
   "cell_type": "code",
   "execution_count": 134,
   "id": "bd2571dc",
   "metadata": {},
   "outputs": [
    {
     "data": {
      "text/plain": [
       "array(['calves', 'chest', 'back', 'abs', 'triceps brachii', 'forearms',\n",
       "       'gluteus maximus', 'quadriceps', 'neck', 'shoulders',\n",
       "       'latissimus dorsi', 'upper arms', 'thighs', 'traps', 'hips'],\n",
       "      dtype=object)"
      ]
     },
     "execution_count": 134,
     "metadata": {},
     "output_type": "execute_result"
    }
   ],
   "source": [
    "exrx_exercise_df_merged_final.group.unique()"
   ]
  },
  {
   "cell_type": "markdown",
   "id": "f231ae6f",
   "metadata": {},
   "source": [
    "# Perform Blocking"
   ]
  },
  {
   "cell_type": "code",
   "execution_count": 135,
   "id": "00bfd20b",
   "metadata": {},
   "outputs": [],
   "source": [
    "import rltk\n",
    "import csv\n",
    "from math import comb\n",
    "from difflib import SequenceMatcher\n",
    "import random\n",
    "# You can use this tokenizer in case you need to manipulate some data\n",
    "tokenizer = rltk.tokenizer.crf_tokenizer.crf_tokenizer.CrfTokenizer()"
   ]
  },
  {
   "cell_type": "code",
   "execution_count": 136,
   "id": "172266f2",
   "metadata": {},
   "outputs": [],
   "source": [
    "#'id', 'name', 'url', 'muscle', 'type', 'equipment', 'mechanics','force_type', 'difficulty', 'overview', 'instructions', 'group'\n",
    "class muscleNstrength(rltk.Record):\n",
    "    def __init__(self, raw_object):\n",
    "        super().__init__(raw_object)\n",
    "        self.name = ''\n",
    "\n",
    "    @rltk.cached_property\n",
    "    def id(self):\n",
    "        return self.raw_object['id']\n",
    "\n",
    "    @rltk.cached_property\n",
    "    def name_string(self):\n",
    "        return self.raw_object['name']\n",
    "\n",
    "    @rltk.cached_property\n",
    "    def name_tokens(self):\n",
    "        return set(tokenizer.tokenize(self.name_string))\n",
    "    \n",
    "    @rltk.cached_property\n",
    "    def muscle(self):\n",
    "        return self.raw_object['muscle']\n",
    "    \n",
    "    @rltk.cached_property\n",
    "    def group(self):\n",
    "        return self.raw_object['group']\n",
    "\n",
    "#'id', 'name', 'url_x', 'mechanics', 'force_type', 'utility', 'instructions', 'muscle', 'group'\n",
    "class exrx(rltk.Record):\n",
    "    def __init__(self, raw_object):\n",
    "        super().__init__(raw_object)\n",
    "        self.name = ''\n",
    "\n",
    "    @rltk.cached_property\n",
    "    def id(self):\n",
    "        return self.raw_object['id']\n",
    "\n",
    "    @rltk.cached_property\n",
    "    def name_string(self):\n",
    "        return self.raw_object['name']\n",
    "    \n",
    "    @rltk.cached_property\n",
    "    def name_tokens(self):\n",
    "        return set(tokenizer.tokenize(self.name_string))\n",
    "    \n",
    "    @rltk.cached_property\n",
    "    def muscle(self):\n",
    "        return self.raw_object['muscle']\n",
    "    \n",
    "    @rltk.cached_property\n",
    "    def group(self):\n",
    "        return self.raw_object['group']\n",
    "    \n",
    "    @rltk.cached_property\n",
    "    def force_type(self):\n",
    "        return self.raw_object['force_type']\n"
   ]
  },
  {
   "cell_type": "code",
   "execution_count": 137,
   "id": "2acb57bf",
   "metadata": {},
   "outputs": [
    {
     "name": "stdout",
     "output_type": "stream",
     "text": [
      "mns:  (1006, 14)\n",
      "exrx:  (1611, 10)\n"
     ]
    }
   ],
   "source": [
    "print(\"mns: \", exercise_df_merged.shape)\n",
    "print(\"exrx: \", exrx_exercise_df_merged_final.shape)"
   ]
  },
  {
   "cell_type": "code",
   "execution_count": 138,
   "id": "689cc942",
   "metadata": {},
   "outputs": [],
   "source": [
    "# ds1 = rltk.Dataset(rltk.DataFrameReader(exercise_group_df), record_class=muscleNstrength)\n",
    "# ds2 = rltk.Dataset(rltk.DataFrameReader(exrx_exercise_group_df), record_class=exrx)\n",
    "\n",
    "ds1 = rltk.Dataset(rltk.DataFrameReader(exercise_df_merged), record_class=muscleNstrength)\n",
    "ds2 = rltk.Dataset(rltk.DataFrameReader(exrx_exercise_df_merged_final), record_class=exrx)"
   ]
  },
  {
   "cell_type": "code",
   "execution_count": 139,
   "id": "4df357a3",
   "metadata": {},
   "outputs": [
    {
     "name": "stdout",
     "output_type": "stream",
     "text": [
      "(1006, 5)\n",
      "(1611, 6)\n",
      "                                                  id            name_string  \\\n",
      "0  https://www.muscleandstrength.com/exercises/du...  dumbbell goblet squat   \n",
      "1  https://www.muscleandstrength.com/exercises/sq...     barbell back squat   \n",
      "2  https://www.muscleandstrength.com/exercises/le...          leg extension   \n",
      "3  https://www.muscleandstrength.com/exercises/du...         dumbbell lunge   \n",
      "4  https://www.muscleandstrength.com/exercises/du...         dumbbell squat   \n",
      "\n",
      "                 name_tokens      muscle       group  \n",
      "0  {goblet, squat, dumbbell}  quadriceps  quadriceps  \n",
      "1     {squat, back, barbell}  quadriceps  quadriceps  \n",
      "2           {extension, leg}  quadriceps  quadriceps  \n",
      "3          {lunge, dumbbell}  quadriceps  quadriceps  \n",
      "4          {squat, dumbbell}  quadriceps  quadriceps  \n",
      "                                                  id  \\\n",
      "0  https://exrx.net/WeightExercises/Gastrocnemius...   \n",
      "1  https://exrx.net/WeightExercises/Gastrocnemius...   \n",
      "2  https://exrx.net/WeightExercises/Gastrocnemius...   \n",
      "3  https://exrx.net/WeightExercises/Gastrocnemius...   \n",
      "4  https://exrx.net/WeightExercises/Gastrocnemius...   \n",
      "\n",
      "                      name_string                              name_tokens  \\\n",
      "0               safety calf raise                    {raise, calf, safety}   \n",
      "1             standing calf raise                  {standing, raise, calf}   \n",
      "2             standing calf raise                  {standing, raise, calf}   \n",
      "3  standing calf raise_single leg  {standing, raise, leg, single, _, calf}   \n",
      "4     standing calf raise_one arm     {standing, one, raise, arm, _, calf}   \n",
      "\n",
      "          muscle   group force_type  \n",
      "0  gastrocnemius  calves       push  \n",
      "1  gastrocnemius  calves       push  \n",
      "2  gastrocnemius  calves       push  \n",
      "3  gastrocnemius  calves       push  \n",
      "4  gastrocnemius  calves       push  \n"
     ]
    }
   ],
   "source": [
    "# print some entries\n",
    "print(ds1.generate_dataframe().shape)\n",
    "print(ds2.generate_dataframe().shape)\n",
    "\n",
    "print(ds1.generate_dataframe().head(5))\n",
    "print(ds2.generate_dataframe().head(5))\n",
    "\n",
    "\n"
   ]
  },
  {
   "cell_type": "code",
   "execution_count": 140,
   "id": "50746731",
   "metadata": {},
   "outputs": [],
   "source": [
    "## Blocking on group\n",
    "bg = rltk.HashBlockGenerator()\n",
    "\n",
    "def blocking(x):\n",
    "    if type(x.group) != 'str':\n",
    "        print(x.group)\n",
    "    return x.group\n",
    "\n",
    "block = bg.generate(\n",
    "    bg.block(ds1, function_=lambda x: x.group),\n",
    "    bg.block(ds2, function_=lambda x: x.group)\n",
    ")"
   ]
  },
  {
   "cell_type": "code",
   "execution_count": 141,
   "id": "08bcb745",
   "metadata": {},
   "outputs": [
    {
     "name": "stdout",
     "output_type": "stream",
     "text": [
      "Total comparisons before blocking:=  1620666\n"
     ]
    }
   ],
   "source": [
    "print(\"Total comparisons before blocking:= \", ds1.generate_dataframe().shape[0]*ds2.generate_dataframe().shape[0])"
   ]
  },
  {
   "cell_type": "markdown",
   "id": "eaf57735",
   "metadata": {},
   "source": [
    "# Entity Linking"
   ]
  },
  {
   "cell_type": "code",
   "execution_count": 142,
   "id": "03ea5ef9",
   "metadata": {},
   "outputs": [],
   "source": [
    "def name_similarity(r1, r2):\n",
    "    s1 = r1.name_string.lower()\n",
    "    s1 = \"\".join(sorted(s1))\n",
    "    s2 = r2.name_string.lower()\n",
    "    s2 = \"\".join(sorted(s2))\n",
    "    \n",
    "    return rltk.levenshtein_similarity(s1,s2)\n",
    "\n",
    "def token_similarity(r1, r2):\n",
    "    s1 = list(r1.name_tokens)\n",
    "    s2 = list(r2.name_tokens)\n",
    "    return rltk.monge_elkan_similarity(s1,s2)\n",
    "\n",
    "\n",
    "MY_TRESH = 0.85\n",
    "def rule_based_method(r1, r2):\n",
    "    score_1 = name_similarity(r1, r2)\n",
    "    score_2 = token_similarity(r1, r2)\n",
    "    \n",
    "    total = 0.5*score_1 + 0.5*score_2\n",
    "    \n",
    "    return score_2 > MY_TRESH, score_2"
   ]
  },
  {
   "cell_type": "code",
   "execution_count": 143,
   "id": "a0a62b72",
   "metadata": {},
   "outputs": [
    {
     "data": {
      "text/plain": [
       "0.5384615384615384"
      ]
     },
     "execution_count": 143,
     "metadata": {},
     "output_type": "execute_result"
    }
   ],
   "source": [
    "s1 = \"rope tricep extension\"\n",
    "s2 = \"Suspended Triceps Extension (with rope)\"\n",
    "rltk.levenshtein_similarity(\"\".join(sorted(s1)), \"\".join(sorted(s2)))"
   ]
  },
  {
   "cell_type": "code",
   "execution_count": 144,
   "id": "9296728d",
   "metadata": {},
   "outputs": [
    {
     "data": {
      "text/plain": [
       "0.9841269841269842"
      ]
     },
     "execution_count": 144,
     "metadata": {},
     "output_type": "execute_result"
    }
   ],
   "source": [
    "rltk.monge_elkan_similarity(tokenizer.tokenize(\"rope tricep extension\"),\n",
    "                                      tokenizer.tokenize(\"Suspended Triceps Extension (with rope)\"))"
   ]
  },
  {
   "cell_type": "code",
   "execution_count": 145,
   "id": "e85da7b4",
   "metadata": {},
   "outputs": [],
   "source": [
    "output_df = {\"muscleNstrength\":[], \"exRx\":[], \"result\":[], \"confidence\":[], \"exrx_muscle\": []}\n",
    "\n",
    "from time import time\n",
    "start = time()\n",
    "pairs = rltk.get_record_pairs(ds1, ds2, block=block)\n",
    "for r1, r2 in pairs:\n",
    "    result, confidence = rule_based_method(r1, r2)\n",
    "    \n",
    "    if result:\n",
    "        output_df['muscleNstrength'].append(r1.name_string)\n",
    "        output_df['exRx'].append(r2.name_string)\n",
    "        output_df['result'].append(result)\n",
    "        output_df['confidence'].append(confidence)\n",
    "        output_df['exrx_muscle'].append(r1.muscle)"
   ]
  },
  {
   "cell_type": "code",
   "execution_count": 146,
   "id": "33dc34cd",
   "metadata": {},
   "outputs": [],
   "source": [
    "block_matched = pd.DataFrame.from_dict(output_df)"
   ]
  },
  {
   "cell_type": "code",
   "execution_count": 147,
   "id": "6ab9fb59",
   "metadata": {},
   "outputs": [
    {
     "data": {
      "text/plain": [
       "True    2077\n",
       "Name: result, dtype: int64"
      ]
     },
     "execution_count": 147,
     "metadata": {},
     "output_type": "execute_result"
    }
   ],
   "source": [
    "block_matched.result.value_counts()"
   ]
  },
  {
   "cell_type": "code",
   "execution_count": 148,
   "id": "3a3b7801",
   "metadata": {},
   "outputs": [
    {
     "data": {
      "text/plain": [
       "279"
      ]
     },
     "execution_count": 148,
     "metadata": {},
     "output_type": "execute_result"
    }
   ],
   "source": [
    "block_matched.muscleNstrength.nunique()"
   ]
  },
  {
   "cell_type": "code",
   "execution_count": 149,
   "id": "eedb5724",
   "metadata": {},
   "outputs": [
    {
     "data": {
      "text/plain": [
       "441"
      ]
     },
     "execution_count": 149,
     "metadata": {},
     "output_type": "execute_result"
    }
   ],
   "source": [
    "block_matched.exRx.nunique()"
   ]
  },
  {
   "cell_type": "code",
   "execution_count": 150,
   "id": "ba689942",
   "metadata": {},
   "outputs": [],
   "source": [
    "# muscleNStrength_map_submuscle = block_matched[[\"muscleNstrength\", \"exrx_muscle\"]].drop_duplicates()"
   ]
  },
  {
   "cell_type": "code",
   "execution_count": 151,
   "id": "9af77262",
   "metadata": {},
   "outputs": [],
   "source": [
    "block_matched[[\"muscleNstrength\", \"exRx\", \"confidence\"]].to_csv(\"BlockedNmatched_pairs.csv\", index = False)"
   ]
  },
  {
   "cell_type": "markdown",
   "id": "a4e6abf9",
   "metadata": {},
   "source": [
    "#### Add submuscle info "
   ]
  },
  {
   "cell_type": "code",
   "execution_count": 152,
   "id": "f846ffee",
   "metadata": {},
   "outputs": [],
   "source": [
    "# block_matched[[\"exRx\"]].drop_duplicates().merge(exrx_exercise_group_df[[\"name\", \"muscle\"]], left_on=\"exRx\", right_on=\"name\",how=\"left\")"
   ]
  },
  {
   "cell_type": "markdown",
   "id": "85faab73",
   "metadata": {},
   "source": [
    "### Find out any missing exercises that did not get blocked"
   ]
  },
  {
   "cell_type": "code",
   "execution_count": 153,
   "id": "5de5efd6",
   "metadata": {},
   "outputs": [],
   "source": [
    "exrx_exercises = set(exrx_exercise_df_merged_final.name)\n",
    "exrx_blocked = set()\n",
    "exrx_missing = set()\n",
    "\n",
    "musclenstren = set(exercise_df_merged.name)\n",
    "musclenstren_blocked = set()\n",
    "musclenstren_missing = set()\n",
    "\n",
    "pairs = rltk.get_record_pairs(ds1, ds2, block=block)\n",
    "for r1,r2 in pairs:\n",
    "    musclenstren_blocked.add(r1.name_string)\n",
    "    exrx_blocked.add(r2.name_string)\n",
    "        \n",
    "exrx_missing = exrx_exercises.difference(exrx_blocked)\n",
    "musclenstren_missing = musclenstren.difference(musclenstren_blocked)"
   ]
  },
  {
   "cell_type": "code",
   "execution_count": 154,
   "id": "1165a72a",
   "metadata": {},
   "outputs": [
    {
     "data": {
      "text/plain": [
       "0"
      ]
     },
     "execution_count": 154,
     "metadata": {},
     "output_type": "execute_result"
    }
   ],
   "source": [
    "len(exrx_missing)"
   ]
  },
  {
   "cell_type": "code",
   "execution_count": 155,
   "id": "9192ab56",
   "metadata": {},
   "outputs": [
    {
     "data": {
      "text/plain": [
       "2"
      ]
     },
     "execution_count": 155,
     "metadata": {},
     "output_type": "execute_result"
    }
   ],
   "source": [
    "len(musclenstren_missing)"
   ]
  },
  {
   "cell_type": "code",
   "execution_count": 156,
   "id": "66d29294",
   "metadata": {},
   "outputs": [
    {
     "data": {
      "text/html": [
       "<div>\n",
       "<style scoped>\n",
       "    .dataframe tbody tr th:only-of-type {\n",
       "        vertical-align: middle;\n",
       "    }\n",
       "\n",
       "    .dataframe tbody tr th {\n",
       "        vertical-align: top;\n",
       "    }\n",
       "\n",
       "    .dataframe thead th {\n",
       "        text-align: right;\n",
       "    }\n",
       "</style>\n",
       "<table border=\"1\" class=\"dataframe\">\n",
       "  <thead>\n",
       "    <tr style=\"text-align: right;\">\n",
       "      <th></th>\n",
       "      <th>id</th>\n",
       "      <th>name</th>\n",
       "      <th>url</th>\n",
       "      <th>image_url</th>\n",
       "      <th>muscle</th>\n",
       "      <th>type</th>\n",
       "      <th>equipment</th>\n",
       "      <th>mechanics</th>\n",
       "      <th>force_type</th>\n",
       "      <th>difficulty</th>\n",
       "      <th>overview</th>\n",
       "      <th>instructions</th>\n",
       "      <th>secondary_muscle</th>\n",
       "      <th>group</th>\n",
       "    </tr>\n",
       "  </thead>\n",
       "  <tbody>\n",
       "    <tr>\n",
       "      <th>20</th>\n",
       "      <td>https://www.muscleandstrength.com/exercises/pl...</td>\n",
       "      <td>plantar fascia lacrosse ball</td>\n",
       "      <td>https://www.muscleandstrength.com/exercises/pl...</td>\n",
       "      <td>https://cdn.muscleandstrength.com/sites/defaul...</td>\n",
       "      <td>plantar fascia</td>\n",
       "      <td>smr</td>\n",
       "      <td>lacrosse ball</td>\n",
       "      <td>isolation</td>\n",
       "      <td>compression</td>\n",
       "      <td>intermediate</td>\n",
       "      <td>using a lacrosse ball to perform smr on your p...</td>\n",
       "      <td>in a standing position, place the lacrosse bal...</td>\n",
       "      <td>[]</td>\n",
       "      <td>plantar fascia</td>\n",
       "    </tr>\n",
       "    <tr>\n",
       "      <th>25</th>\n",
       "      <td>https://www.muscleandstrength.com/exercises/pa...</td>\n",
       "      <td>palmar fascia lacrosse ball</td>\n",
       "      <td>https://www.muscleandstrength.com/exercises/pa...</td>\n",
       "      <td>https://cdn.muscleandstrength.com/sites/defaul...</td>\n",
       "      <td>palmar fascia</td>\n",
       "      <td>smr</td>\n",
       "      <td>lacrosse ball</td>\n",
       "      <td>isolation</td>\n",
       "      <td>compression</td>\n",
       "      <td>intermediate</td>\n",
       "      <td>using a lacrosse ball to perform smr on your p...</td>\n",
       "      <td>place the lacrosse ball directly underneath th...</td>\n",
       "      <td>[]</td>\n",
       "      <td>palmar fascia</td>\n",
       "    </tr>\n",
       "  </tbody>\n",
       "</table>\n",
       "</div>"
      ],
      "text/plain": [
       "                                                   id  \\\n",
       "20  https://www.muscleandstrength.com/exercises/pl...   \n",
       "25  https://www.muscleandstrength.com/exercises/pa...   \n",
       "\n",
       "                            name  \\\n",
       "20  plantar fascia lacrosse ball   \n",
       "25   palmar fascia lacrosse ball   \n",
       "\n",
       "                                                  url  \\\n",
       "20  https://www.muscleandstrength.com/exercises/pl...   \n",
       "25  https://www.muscleandstrength.com/exercises/pa...   \n",
       "\n",
       "                                            image_url          muscle type  \\\n",
       "20  https://cdn.muscleandstrength.com/sites/defaul...  plantar fascia  smr   \n",
       "25  https://cdn.muscleandstrength.com/sites/defaul...   palmar fascia  smr   \n",
       "\n",
       "        equipment  mechanics   force_type    difficulty  \\\n",
       "20  lacrosse ball  isolation  compression  intermediate   \n",
       "25  lacrosse ball  isolation  compression  intermediate   \n",
       "\n",
       "                                             overview  \\\n",
       "20  using a lacrosse ball to perform smr on your p...   \n",
       "25  using a lacrosse ball to perform smr on your p...   \n",
       "\n",
       "                                         instructions secondary_muscle  \\\n",
       "20  in a standing position, place the lacrosse bal...               []   \n",
       "25  place the lacrosse ball directly underneath th...               []   \n",
       "\n",
       "             group  \n",
       "20  plantar fascia  \n",
       "25   palmar fascia  "
      ]
     },
     "execution_count": 156,
     "metadata": {},
     "output_type": "execute_result"
    }
   ],
   "source": [
    "exercise_df_merged[exercise_df_merged.name.isin(list(musclenstren_missing))]"
   ]
  },
  {
   "cell_type": "code",
   "execution_count": 157,
   "id": "c29d5877",
   "metadata": {},
   "outputs": [],
   "source": [
    "# exercise_group_df.to_excel(\"data_test/test_exercise_group_df.xlsx\", index = False)"
   ]
  },
  {
   "cell_type": "code",
   "execution_count": 158,
   "id": "e9c285ac",
   "metadata": {},
   "outputs": [],
   "source": [
    "# exrx_exercise_group_df.to_excel(\"data_test/test_exrx_exercise_group_df.xlsx\", index = False)"
   ]
  },
  {
   "cell_type": "markdown",
   "id": "49909d59",
   "metadata": {},
   "source": [
    "### In the mapped exercises find the ones that do not have a match"
   ]
  },
  {
   "cell_type": "code",
   "execution_count": 159,
   "id": "b6829709",
   "metadata": {},
   "outputs": [
    {
     "data": {
      "text/plain": [
       "['one-leg standing bodyweight calf raise',\n",
       " 'one arm bent over dumbbell tricep kickback',\n",
       " 'alternating waves with kneeling get ups battling ropes',\n",
       " 'reverse grip one-arm standing overhead cable tricep extension',\n",
       " 'standing pvc pec mobilization',\n",
       " 'supine hip internal rotation',\n",
       " 'conventional deadlift',\n",
       " 'standing one arm dumbbell reverse curl',\n",
       " 'decline bench knee raise',\n",
       " 'dumbbell split jump',\n",
       " 'rotational medicine ball shuffle into shot put',\n",
       " 'standing low to high cable fly',\n",
       " 'rotational medicine ball step behind shot put',\n",
       " 'dumbbell tricep kickback',\n",
       " 'incline bench cable row']"
      ]
     },
     "execution_count": 159,
     "metadata": {},
     "output_type": "execute_result"
    }
   ],
   "source": [
    "list(musclenstren.difference(set(block_matched[\"muscleNstrength\"])))[:15]"
   ]
  },
  {
   "cell_type": "code",
   "execution_count": 160,
   "id": "f8f38663",
   "metadata": {},
   "outputs": [
    {
     "data": {
      "text/plain": [
       "727"
      ]
     },
     "execution_count": 160,
     "metadata": {},
     "output_type": "execute_result"
    }
   ],
   "source": [
    "len((musclenstren.difference(set(block_matched[\"muscleNstrength\"]))))"
   ]
  },
  {
   "cell_type": "code",
   "execution_count": 161,
   "id": "95cc33ea",
   "metadata": {},
   "outputs": [
    {
     "data": {
      "text/plain": [
       "1     68\n",
       "2     40\n",
       "4     27\n",
       "3     24\n",
       "5     21\n",
       "6     13\n",
       "8     12\n",
       "7      9\n",
       "10     8\n",
       "27     7\n",
       "14     7\n",
       "18     6\n",
       "12     4\n",
       "30     4\n",
       "19     4\n",
       "16     3\n",
       "44     2\n",
       "25     2\n",
       "9      2\n",
       "11     2\n",
       "56     1\n",
       "26     1\n",
       "20     1\n",
       "23     1\n",
       "63     1\n",
       "37     1\n",
       "17     1\n",
       "13     1\n",
       "24     1\n",
       "33     1\n",
       "51     1\n",
       "31     1\n",
       "46     1\n",
       "22     1\n",
       "Name: exRx, dtype: int64"
      ]
     },
     "execution_count": 161,
     "metadata": {},
     "output_type": "execute_result"
    }
   ],
   "source": [
    "block_matched.groupby(\"muscleNstrength\").count()[\"exRx\"].value_counts()"
   ]
  },
  {
   "cell_type": "code",
   "execution_count": 162,
   "id": "333a8add",
   "metadata": {},
   "outputs": [],
   "source": [
    "## WIthin same muscle group and within equipmenyt whether they are close enough"
   ]
  },
  {
   "cell_type": "markdown",
   "id": "7a49ecc6",
   "metadata": {},
   "source": [
    "# # Create the KG"
   ]
  },
  {
   "cell_type": "markdown",
   "id": "8f4f0e9a",
   "metadata": {},
   "source": [
    "### Muscle Strength"
   ]
  },
  {
   "cell_type": "code",
   "execution_count": 163,
   "id": "e85b851b",
   "metadata": {},
   "outputs": [
    {
     "data": {
      "text/html": [
       "<div>\n",
       "<style scoped>\n",
       "    .dataframe tbody tr th:only-of-type {\n",
       "        vertical-align: middle;\n",
       "    }\n",
       "\n",
       "    .dataframe tbody tr th {\n",
       "        vertical-align: top;\n",
       "    }\n",
       "\n",
       "    .dataframe thead th {\n",
       "        text-align: right;\n",
       "    }\n",
       "</style>\n",
       "<table border=\"1\" class=\"dataframe\">\n",
       "  <thead>\n",
       "    <tr style=\"text-align: right;\">\n",
       "      <th></th>\n",
       "      <th>muscleNstrength</th>\n",
       "      <th>exRx</th>\n",
       "    </tr>\n",
       "  </thead>\n",
       "  <tbody>\n",
       "    <tr>\n",
       "      <th>0</th>\n",
       "      <td>one leg barbell squat</td>\n",
       "      <td>single leg split squat_one arm</td>\n",
       "    </tr>\n",
       "    <tr>\n",
       "      <th>1</th>\n",
       "      <td>one leg barbell squat</td>\n",
       "      <td>single leg split squat_barbell machine</td>\n",
       "    </tr>\n",
       "    <tr>\n",
       "      <th>2</th>\n",
       "      <td>one leg barbell squat</td>\n",
       "      <td>single leg squat (bar)_reclining on pole</td>\n",
       "    </tr>\n",
       "    <tr>\n",
       "      <th>4</th>\n",
       "      <td>one leg barbell squat</td>\n",
       "      <td>single leg squat (bar)</td>\n",
       "    </tr>\n",
       "    <tr>\n",
       "      <th>5</th>\n",
       "      <td>barbell hack squat</td>\n",
       "      <td>single leg split squat_barbell machine</td>\n",
       "    </tr>\n",
       "    <tr>\n",
       "      <th>...</th>\n",
       "      <td>...</td>\n",
       "      <td>...</td>\n",
       "    </tr>\n",
       "    <tr>\n",
       "      <th>2072</th>\n",
       "      <td>cable concentration tricep extension</td>\n",
       "      <td>bent-over triceps extension_cable bar</td>\n",
       "    </tr>\n",
       "    <tr>\n",
       "      <th>2073</th>\n",
       "      <td>cable concentration tricep extension</td>\n",
       "      <td>lying triceps extension_cable bar</td>\n",
       "    </tr>\n",
       "    <tr>\n",
       "      <th>2074</th>\n",
       "      <td>lying barbell reverse extension</td>\n",
       "      <td>lying triceps extension_cable bar</td>\n",
       "    </tr>\n",
       "    <tr>\n",
       "      <th>2075</th>\n",
       "      <td>smith machine reverse close grip bench press</td>\n",
       "      <td>close grip bench press_barbell machine</td>\n",
       "    </tr>\n",
       "    <tr>\n",
       "      <th>2076</th>\n",
       "      <td>smith machine reverse close grip bench press</td>\n",
       "      <td>seated close grip press_incline bench</td>\n",
       "    </tr>\n",
       "  </tbody>\n",
       "</table>\n",
       "<p>1400 rows × 2 columns</p>\n",
       "</div>"
      ],
      "text/plain": [
       "                                   muscleNstrength  \\\n",
       "0                            one leg barbell squat   \n",
       "1                            one leg barbell squat   \n",
       "2                            one leg barbell squat   \n",
       "4                            one leg barbell squat   \n",
       "5                               barbell hack squat   \n",
       "...                                            ...   \n",
       "2072          cable concentration tricep extension   \n",
       "2073          cable concentration tricep extension   \n",
       "2074               lying barbell reverse extension   \n",
       "2075  smith machine reverse close grip bench press   \n",
       "2076  smith machine reverse close grip bench press   \n",
       "\n",
       "                                          exRx  \n",
       "0               single leg split squat_one arm  \n",
       "1       single leg split squat_barbell machine  \n",
       "2     single leg squat (bar)_reclining on pole  \n",
       "4                       single leg squat (bar)  \n",
       "5       single leg split squat_barbell machine  \n",
       "...                                        ...  \n",
       "2072     bent-over triceps extension_cable bar  \n",
       "2073         lying triceps extension_cable bar  \n",
       "2074         lying triceps extension_cable bar  \n",
       "2075    close grip bench press_barbell machine  \n",
       "2076     seated close grip press_incline bench  \n",
       "\n",
       "[1400 rows x 2 columns]"
      ]
     },
     "execution_count": 163,
     "metadata": {},
     "output_type": "execute_result"
    }
   ],
   "source": [
    "block_matched[[\"muscleNstrength\", \"exRx\"]].drop_duplicates()"
   ]
  },
  {
   "cell_type": "code",
   "execution_count": 164,
   "id": "5bc0b039",
   "metadata": {},
   "outputs": [
    {
     "data": {
      "text/plain": [
       "279"
      ]
     },
     "execution_count": 164,
     "metadata": {},
     "output_type": "execute_result"
    }
   ],
   "source": [
    "len(block_matched.muscleNstrength.unique())"
   ]
  },
  {
   "cell_type": "code",
   "execution_count": 165,
   "id": "ad76596b",
   "metadata": {},
   "outputs": [
    {
     "data": {
      "text/plain": [
       "(2286, 3)"
      ]
     },
     "execution_count": 165,
     "metadata": {},
     "output_type": "execute_result"
    }
   ],
   "source": [
    "matched_mNs = block_matched[[\"muscleNstrength\", \"exRx\"]].drop_duplicates()\n",
    "matched_mNs = matched_mNs.merge(exrx_exercise_df_merged_final[[\"name\", \"muscle\", \"force_type\"]], left_on=\"exRx\", right_on=\"name\",how=\"inner\").drop(columns=[\"name\", \"exRx\"])\n",
    "matched_mNs.shape"
   ]
  },
  {
   "cell_type": "code",
   "execution_count": 166,
   "id": "bc7df180",
   "metadata": {},
   "outputs": [
    {
     "data": {
      "text/html": [
       "<div>\n",
       "<style scoped>\n",
       "    .dataframe tbody tr th:only-of-type {\n",
       "        vertical-align: middle;\n",
       "    }\n",
       "\n",
       "    .dataframe tbody tr th {\n",
       "        vertical-align: top;\n",
       "    }\n",
       "\n",
       "    .dataframe thead th {\n",
       "        text-align: right;\n",
       "    }\n",
       "</style>\n",
       "<table border=\"1\" class=\"dataframe\">\n",
       "  <thead>\n",
       "    <tr style=\"text-align: right;\">\n",
       "      <th></th>\n",
       "      <th>muscleNstrength</th>\n",
       "      <th>muscle</th>\n",
       "      <th>force_type</th>\n",
       "    </tr>\n",
       "  </thead>\n",
       "  <tbody>\n",
       "    <tr>\n",
       "      <th>0</th>\n",
       "      <td>one leg barbell squat</td>\n",
       "      <td>gluteus maximus</td>\n",
       "      <td>push</td>\n",
       "    </tr>\n",
       "    <tr>\n",
       "      <th>1</th>\n",
       "      <td>one leg barbell squat</td>\n",
       "      <td>quadriceps</td>\n",
       "      <td>push</td>\n",
       "    </tr>\n",
       "    <tr>\n",
       "      <th>2</th>\n",
       "      <td>one leg hack squat</td>\n",
       "      <td>gluteus maximus</td>\n",
       "      <td>push</td>\n",
       "    </tr>\n",
       "    <tr>\n",
       "      <th>3</th>\n",
       "      <td>one leg hack squat</td>\n",
       "      <td>quadriceps</td>\n",
       "      <td>push</td>\n",
       "    </tr>\n",
       "    <tr>\n",
       "      <th>4</th>\n",
       "      <td>plie squat</td>\n",
       "      <td>gluteus maximus</td>\n",
       "      <td>push</td>\n",
       "    </tr>\n",
       "  </tbody>\n",
       "</table>\n",
       "</div>"
      ],
      "text/plain": [
       "         muscleNstrength           muscle force_type\n",
       "0  one leg barbell squat  gluteus maximus       push\n",
       "1  one leg barbell squat       quadriceps       push\n",
       "2     one leg hack squat  gluteus maximus       push\n",
       "3     one leg hack squat       quadriceps       push\n",
       "4             plie squat  gluteus maximus       push"
      ]
     },
     "execution_count": 166,
     "metadata": {},
     "output_type": "execute_result"
    }
   ],
   "source": [
    "matched_mNs.head()"
   ]
  },
  {
   "cell_type": "code",
   "execution_count": 167,
   "id": "deb4b9a3",
   "metadata": {},
   "outputs": [
    {
     "data": {
      "text/plain": [
       "(446, 3)"
      ]
     },
     "execution_count": 167,
     "metadata": {},
     "output_type": "execute_result"
    }
   ],
   "source": [
    "matched_mNs.drop_duplicates(inplace = True)\n",
    "matched_mNs.shape"
   ]
  },
  {
   "cell_type": "code",
   "execution_count": 168,
   "id": "fe4408ac",
   "metadata": {},
   "outputs": [
    {
     "data": {
      "text/plain": [
       "bench push-up                        4\n",
       "weighted crunch                      4\n",
       "paused push up                       4\n",
       "valslide push up                     4\n",
       "wrist rollers                        4\n",
       "                                    ..\n",
       "eccentric only incline push up       1\n",
       "bosu ball push up                    1\n",
       "one arm medicine ball push up        1\n",
       "alternating medicine ball push up    1\n",
       "decline lying dumbbell extension     1\n",
       "Name: muscleNstrength, Length: 279, dtype: int64"
      ]
     },
     "execution_count": 168,
     "metadata": {},
     "output_type": "execute_result"
    }
   ],
   "source": [
    "matched_mNs.muscleNstrength.value_counts()"
   ]
  },
  {
   "cell_type": "markdown",
   "id": "cae03129",
   "metadata": {},
   "source": [
    "### ===> Check with cibi"
   ]
  },
  {
   "cell_type": "code",
   "execution_count": 169,
   "id": "f9fe472a",
   "metadata": {},
   "outputs": [],
   "source": [
    "matched_mNs = matched_mNs.groupby('muscleNstrength').agg({'muscle':lambda x: list(set(x)), 'force_type':lambda x: list(set(x))}).reset_index()"
   ]
  },
  {
   "cell_type": "code",
   "execution_count": 170,
   "id": "8f4a97a3",
   "metadata": {},
   "outputs": [
    {
     "data": {
      "text/html": [
       "<div>\n",
       "<style scoped>\n",
       "    .dataframe tbody tr th:only-of-type {\n",
       "        vertical-align: middle;\n",
       "    }\n",
       "\n",
       "    .dataframe tbody tr th {\n",
       "        vertical-align: top;\n",
       "    }\n",
       "\n",
       "    .dataframe thead th {\n",
       "        text-align: right;\n",
       "    }\n",
       "</style>\n",
       "<table border=\"1\" class=\"dataframe\">\n",
       "  <thead>\n",
       "    <tr style=\"text-align: right;\">\n",
       "      <th></th>\n",
       "      <th>muscleNstrength</th>\n",
       "      <th>muscle</th>\n",
       "      <th>force_type</th>\n",
       "    </tr>\n",
       "  </thead>\n",
       "  <tbody>\n",
       "    <tr>\n",
       "      <th>0</th>\n",
       "      <td>45 degree leg press calf raise</td>\n",
       "      <td>[tibialis anterior, gastrocnemius]</td>\n",
       "      <td>[push, pull]</td>\n",
       "    </tr>\n",
       "    <tr>\n",
       "      <th>1</th>\n",
       "      <td>ab crunch</td>\n",
       "      <td>[rectus abdominis]</td>\n",
       "      <td>[pull]</td>\n",
       "    </tr>\n",
       "    <tr>\n",
       "      <th>2</th>\n",
       "      <td>alternate seated hammer curl</td>\n",
       "      <td>[biceps brachii]</td>\n",
       "      <td>[pull]</td>\n",
       "    </tr>\n",
       "    <tr>\n",
       "      <th>3</th>\n",
       "      <td>alternating medicine ball push up</td>\n",
       "      <td>[pectoralis major-clavicular]</td>\n",
       "      <td>[push]</td>\n",
       "    </tr>\n",
       "    <tr>\n",
       "      <th>4</th>\n",
       "      <td>archer pull up</td>\n",
       "      <td>[latissimus dorsi]</td>\n",
       "      <td>[pull]</td>\n",
       "    </tr>\n",
       "  </tbody>\n",
       "</table>\n",
       "</div>"
      ],
      "text/plain": [
       "                     muscleNstrength                              muscle  \\\n",
       "0     45 degree leg press calf raise  [tibialis anterior, gastrocnemius]   \n",
       "1                          ab crunch                  [rectus abdominis]   \n",
       "2       alternate seated hammer curl                    [biceps brachii]   \n",
       "3  alternating medicine ball push up       [pectoralis major-clavicular]   \n",
       "4                     archer pull up                  [latissimus dorsi]   \n",
       "\n",
       "     force_type  \n",
       "0  [push, pull]  \n",
       "1        [pull]  \n",
       "2        [pull]  \n",
       "3        [push]  \n",
       "4        [pull]  "
      ]
     },
     "execution_count": 170,
     "metadata": {},
     "output_type": "execute_result"
    }
   ],
   "source": [
    "matched_mNs.head()"
   ]
  },
  {
   "cell_type": "code",
   "execution_count": 171,
   "id": "11386387",
   "metadata": {},
   "outputs": [],
   "source": [
    "# ###Get the original muscle name from exrx muscle groups\n",
    "# matched_mNs = matched_mNs.merge(exrx_muscle_groups_df[[\"name\",\"url\"]], left_on=\"muscle\", right_on=\"url\").\\\n",
    "# drop(columns=[\"url\",\"name_x\",\"muscle\"]).rename(columns={\"name_y\":\"muscle\"})\n",
    "# matched_mNs.head()"
   ]
  },
  {
   "cell_type": "code",
   "execution_count": 172,
   "id": "6d829abd",
   "metadata": {},
   "outputs": [],
   "source": [
    "# matched_mNs[\"muscle\"] = matched_mNs[\"muscle\"].str.replace(\", \",\"-\")\n",
    "# matched_mNs.head()"
   ]
  },
  {
   "cell_type": "code",
   "execution_count": 173,
   "id": "6b25dbdf",
   "metadata": {},
   "outputs": [],
   "source": [
    "## For the matched MnS exercises get the muscle and force_type from exrxy\n",
    "# mns_additional_info = matched_mNs.groupby(['muscleNstrength']).agg({'muscle':lambda x: list(set(x))}).reset_index() #, 'force_type': lambda x: list(set(x))"
   ]
  },
  {
   "cell_type": "code",
   "execution_count": 174,
   "id": "6cdf6fd2",
   "metadata": {},
   "outputs": [],
   "source": [
    "# mns_additional_info.head()\n",
    "# id name,url,type,equipment,mechanics,force_type,difficulty,overview,instructions,secondary_muscle,group,muscle,image_url\n"
   ]
  },
  {
   "cell_type": "code",
   "execution_count": 175,
   "id": "a84ae731",
   "metadata": {},
   "outputs": [
    {
     "data": {
      "text/plain": [
       "(1006, 14)"
      ]
     },
     "execution_count": 175,
     "metadata": {},
     "output_type": "execute_result"
    }
   ],
   "source": [
    "exercise_df_merged.shape"
   ]
  },
  {
   "cell_type": "code",
   "execution_count": 176,
   "id": "457d0e83",
   "metadata": {},
   "outputs": [],
   "source": [
    "exercise_group_df_merged = exercise_df_merged.merge(matched_mNs, left_on=\"name\", right_on=\"muscleNstrength\", how = \"left\").drop(columns=\"muscleNstrength\")"
   ]
  },
  {
   "cell_type": "code",
   "execution_count": 177,
   "id": "79543ad7",
   "metadata": {},
   "outputs": [
    {
     "data": {
      "text/plain": [
       "(1006, 16)"
      ]
     },
     "execution_count": 177,
     "metadata": {},
     "output_type": "execute_result"
    }
   ],
   "source": [
    "exercise_group_df_merged.shape"
   ]
  },
  {
   "cell_type": "code",
   "execution_count": 178,
   "id": "9cea8422",
   "metadata": {},
   "outputs": [
    {
     "data": {
      "text/html": [
       "<div>\n",
       "<style scoped>\n",
       "    .dataframe tbody tr th:only-of-type {\n",
       "        vertical-align: middle;\n",
       "    }\n",
       "\n",
       "    .dataframe tbody tr th {\n",
       "        vertical-align: top;\n",
       "    }\n",
       "\n",
       "    .dataframe thead th {\n",
       "        text-align: right;\n",
       "    }\n",
       "</style>\n",
       "<table border=\"1\" class=\"dataframe\">\n",
       "  <thead>\n",
       "    <tr style=\"text-align: right;\">\n",
       "      <th></th>\n",
       "      <th>id</th>\n",
       "      <th>name</th>\n",
       "      <th>url</th>\n",
       "      <th>image_url</th>\n",
       "      <th>muscle_x</th>\n",
       "      <th>type</th>\n",
       "      <th>equipment</th>\n",
       "      <th>mechanics</th>\n",
       "      <th>force_type_x</th>\n",
       "      <th>difficulty</th>\n",
       "      <th>overview</th>\n",
       "      <th>instructions</th>\n",
       "      <th>secondary_muscle</th>\n",
       "      <th>group</th>\n",
       "      <th>muscle_y</th>\n",
       "      <th>force_type_y</th>\n",
       "    </tr>\n",
       "  </thead>\n",
       "  <tbody>\n",
       "    <tr>\n",
       "      <th>0</th>\n",
       "      <td>https://www.muscleandstrength.com/exercises/du...</td>\n",
       "      <td>dumbbell goblet squat</td>\n",
       "      <td>https://www.muscleandstrength.com/exercises/du...</td>\n",
       "      <td>https://cdn.muscleandstrength.com/sites/defaul...</td>\n",
       "      <td>quadriceps</td>\n",
       "      <td>strength</td>\n",
       "      <td>dumbbell</td>\n",
       "      <td>compound</td>\n",
       "      <td>push (bilateral)</td>\n",
       "      <td>beginner</td>\n",
       "      <td>the dumbbell goblet squat is a variation of th...</td>\n",
       "      <td>select a dumbbell and position it at chest hei...</td>\n",
       "      <td>[abs, hamstrings, lower back, gluteus maximus,...</td>\n",
       "      <td>quadriceps</td>\n",
       "      <td>NaN</td>\n",
       "      <td>NaN</td>\n",
       "    </tr>\n",
       "    <tr>\n",
       "      <th>1</th>\n",
       "      <td>https://www.muscleandstrength.com/exercises/sq...</td>\n",
       "      <td>barbell back squat</td>\n",
       "      <td>https://www.muscleandstrength.com/exercises/sq...</td>\n",
       "      <td>https://cdn.muscleandstrength.com/sites/defaul...</td>\n",
       "      <td>quadriceps</td>\n",
       "      <td>strength</td>\n",
       "      <td>barbell</td>\n",
       "      <td>compound</td>\n",
       "      <td>push</td>\n",
       "      <td>intermediate</td>\n",
       "      <td>the squat is the king of all exercises, workin...</td>\n",
       "      <td>set up for the exercise by setting the barbell...</td>\n",
       "      <td>[lower back, calves, hamstrings, gluteus maximus]</td>\n",
       "      <td>quadriceps</td>\n",
       "      <td>[gluteus maximus, quadriceps]</td>\n",
       "      <td>[push]</td>\n",
       "    </tr>\n",
       "  </tbody>\n",
       "</table>\n",
       "</div>"
      ],
      "text/plain": [
       "                                                  id                   name  \\\n",
       "0  https://www.muscleandstrength.com/exercises/du...  dumbbell goblet squat   \n",
       "1  https://www.muscleandstrength.com/exercises/sq...     barbell back squat   \n",
       "\n",
       "                                                 url  \\\n",
       "0  https://www.muscleandstrength.com/exercises/du...   \n",
       "1  https://www.muscleandstrength.com/exercises/sq...   \n",
       "\n",
       "                                           image_url    muscle_x      type  \\\n",
       "0  https://cdn.muscleandstrength.com/sites/defaul...  quadriceps  strength   \n",
       "1  https://cdn.muscleandstrength.com/sites/defaul...  quadriceps  strength   \n",
       "\n",
       "  equipment mechanics      force_type_x    difficulty  \\\n",
       "0  dumbbell  compound  push (bilateral)      beginner   \n",
       "1   barbell  compound              push  intermediate   \n",
       "\n",
       "                                            overview  \\\n",
       "0  the dumbbell goblet squat is a variation of th...   \n",
       "1  the squat is the king of all exercises, workin...   \n",
       "\n",
       "                                        instructions  \\\n",
       "0  select a dumbbell and position it at chest hei...   \n",
       "1  set up for the exercise by setting the barbell...   \n",
       "\n",
       "                                    secondary_muscle       group  \\\n",
       "0  [abs, hamstrings, lower back, gluteus maximus,...  quadriceps   \n",
       "1  [lower back, calves, hamstrings, gluteus maximus]  quadriceps   \n",
       "\n",
       "                        muscle_y force_type_y  \n",
       "0                            NaN          NaN  \n",
       "1  [gluteus maximus, quadriceps]       [push]  "
      ]
     },
     "execution_count": 178,
     "metadata": {},
     "output_type": "execute_result"
    }
   ],
   "source": [
    "exercise_group_df_merged.head(2)"
   ]
  },
  {
   "cell_type": "code",
   "execution_count": 179,
   "id": "59f17655",
   "metadata": {},
   "outputs": [],
   "source": [
    "exercise_group_df_merged.fillna(\"\", inplace= True)"
   ]
  },
  {
   "cell_type": "code",
   "execution_count": 180,
   "id": "058e9163",
   "metadata": {},
   "outputs": [
    {
     "data": {
      "text/plain": [
       "array(['quadriceps', 'neck', 'plantar fascia', 'palmar fascia',\n",
       "       'lower back', 'obliques', 'it band', 'latissimus dorsi',\n",
       "       'upper back', 'gluteus maximus', 'hamstrings', 'hip flexors',\n",
       "       'chest', 'forearms', 'calves', 'traps', 'adductors', 'shoulders',\n",
       "       'biceps brachii', 'triceps brachii', 'abductors', 'abs'],\n",
       "      dtype=object)"
      ]
     },
     "execution_count": 180,
     "metadata": {},
     "output_type": "execute_result"
    }
   ],
   "source": [
    "exercise_group_df_merged.muscle_x.unique()"
   ]
  },
  {
   "cell_type": "code",
   "execution_count": 181,
   "id": "563a82d2",
   "metadata": {},
   "outputs": [],
   "source": [
    "exercise_group_df_merged[\"muscle\"] = exercise_group_df_merged[[\"muscle_x\", \"muscle_y\"]].apply(lambda x:  list(set([x[0]]+x[1])) if (len(x[1])>0) else [x[0]], axis = 1)"
   ]
  },
  {
   "cell_type": "code",
   "execution_count": 182,
   "id": "d87d289b",
   "metadata": {},
   "outputs": [
    {
     "data": {
      "text/plain": [
       "0"
      ]
     },
     "execution_count": 182,
     "metadata": {},
     "output_type": "execute_result"
    }
   ],
   "source": [
    "exercise_group_df_merged.force_type_x.isnull().sum()"
   ]
  },
  {
   "cell_type": "code",
   "execution_count": 183,
   "id": "75ec2d1e",
   "metadata": {},
   "outputs": [],
   "source": [
    "exercise_group_df_merged[\"force_type\"] = exercise_group_df_merged[[\"force_type_x\", \"force_type_y\"]].apply(lambda x: list(set([x[0]]+x[1])) if (len(x[1])>0) else [x[0]], axis = 1)"
   ]
  },
  {
   "cell_type": "code",
   "execution_count": 184,
   "id": "20d605af",
   "metadata": {},
   "outputs": [],
   "source": [
    "exercise_group_df_merged.drop(columns = [\"muscle_x\", \"muscle_y\", \"force_type_x\", \"force_type_y\"], inplace = True)"
   ]
  },
  {
   "cell_type": "code",
   "execution_count": 185,
   "id": "26a7d19d",
   "metadata": {},
   "outputs": [
    {
     "data": {
      "text/html": [
       "<div>\n",
       "<style scoped>\n",
       "    .dataframe tbody tr th:only-of-type {\n",
       "        vertical-align: middle;\n",
       "    }\n",
       "\n",
       "    .dataframe tbody tr th {\n",
       "        vertical-align: top;\n",
       "    }\n",
       "\n",
       "    .dataframe thead th {\n",
       "        text-align: right;\n",
       "    }\n",
       "</style>\n",
       "<table border=\"1\" class=\"dataframe\">\n",
       "  <thead>\n",
       "    <tr style=\"text-align: right;\">\n",
       "      <th></th>\n",
       "      <th>id</th>\n",
       "      <th>name</th>\n",
       "      <th>url</th>\n",
       "      <th>image_url</th>\n",
       "      <th>type</th>\n",
       "      <th>equipment</th>\n",
       "      <th>mechanics</th>\n",
       "      <th>difficulty</th>\n",
       "      <th>overview</th>\n",
       "      <th>instructions</th>\n",
       "      <th>secondary_muscle</th>\n",
       "      <th>group</th>\n",
       "      <th>muscle</th>\n",
       "      <th>force_type</th>\n",
       "    </tr>\n",
       "  </thead>\n",
       "  <tbody>\n",
       "    <tr>\n",
       "      <th>0</th>\n",
       "      <td>https://www.muscleandstrength.com/exercises/du...</td>\n",
       "      <td>dumbbell goblet squat</td>\n",
       "      <td>https://www.muscleandstrength.com/exercises/du...</td>\n",
       "      <td>https://cdn.muscleandstrength.com/sites/defaul...</td>\n",
       "      <td>strength</td>\n",
       "      <td>dumbbell</td>\n",
       "      <td>compound</td>\n",
       "      <td>beginner</td>\n",
       "      <td>the dumbbell goblet squat is a variation of th...</td>\n",
       "      <td>select a dumbbell and position it at chest hei...</td>\n",
       "      <td>[abs, hamstrings, lower back, gluteus maximus,...</td>\n",
       "      <td>quadriceps</td>\n",
       "      <td>[quadriceps]</td>\n",
       "      <td>[push (bilateral)]</td>\n",
       "    </tr>\n",
       "    <tr>\n",
       "      <th>1</th>\n",
       "      <td>https://www.muscleandstrength.com/exercises/sq...</td>\n",
       "      <td>barbell back squat</td>\n",
       "      <td>https://www.muscleandstrength.com/exercises/sq...</td>\n",
       "      <td>https://cdn.muscleandstrength.com/sites/defaul...</td>\n",
       "      <td>strength</td>\n",
       "      <td>barbell</td>\n",
       "      <td>compound</td>\n",
       "      <td>intermediate</td>\n",
       "      <td>the squat is the king of all exercises, workin...</td>\n",
       "      <td>set up for the exercise by setting the barbell...</td>\n",
       "      <td>[lower back, calves, hamstrings, gluteus maximus]</td>\n",
       "      <td>quadriceps</td>\n",
       "      <td>[gluteus maximus, quadriceps]</td>\n",
       "      <td>[push]</td>\n",
       "    </tr>\n",
       "    <tr>\n",
       "      <th>2</th>\n",
       "      <td>https://www.muscleandstrength.com/exercises/le...</td>\n",
       "      <td>leg extension</td>\n",
       "      <td>https://www.muscleandstrength.com/exercises/le...</td>\n",
       "      <td>https://cdn.muscleandstrength.com/sites/defaul...</td>\n",
       "      <td>strength</td>\n",
       "      <td>machine</td>\n",
       "      <td>isolation</td>\n",
       "      <td>beginner</td>\n",
       "      <td>the seated leg extension is an isolation exerc...</td>\n",
       "      <td>select the desired resistance on the weight st...</td>\n",
       "      <td>[]</td>\n",
       "      <td>quadriceps</td>\n",
       "      <td>[quadriceps]</td>\n",
       "      <td>[push, push (bilateral)]</td>\n",
       "    </tr>\n",
       "    <tr>\n",
       "      <th>3</th>\n",
       "      <td>https://www.muscleandstrength.com/exercises/du...</td>\n",
       "      <td>dumbbell lunge</td>\n",
       "      <td>https://www.muscleandstrength.com/exercises/du...</td>\n",
       "      <td>https://cdn.muscleandstrength.com/sites/defaul...</td>\n",
       "      <td>strength</td>\n",
       "      <td>dumbbell</td>\n",
       "      <td>compound</td>\n",
       "      <td>beginner</td>\n",
       "      <td></td>\n",
       "      <td>choose a pair of dumbbells and stand up straig...</td>\n",
       "      <td>[calves, hamstrings, gluteus maximus]</td>\n",
       "      <td>quadriceps</td>\n",
       "      <td>[gluteus maximus, quadriceps]</td>\n",
       "      <td>[push]</td>\n",
       "    </tr>\n",
       "    <tr>\n",
       "      <th>4</th>\n",
       "      <td>https://www.muscleandstrength.com/exercises/du...</td>\n",
       "      <td>dumbbell squat</td>\n",
       "      <td>https://www.muscleandstrength.com/exercises/du...</td>\n",
       "      <td>https://cdn.muscleandstrength.com/sites/defaul...</td>\n",
       "      <td>strength</td>\n",
       "      <td>dumbbell</td>\n",
       "      <td>compound</td>\n",
       "      <td>beginner</td>\n",
       "      <td></td>\n",
       "      <td>set up for the dumbbell squat by choosing a pa...</td>\n",
       "      <td>[lower back, calves, hamstrings, gluteus maximus]</td>\n",
       "      <td>quadriceps</td>\n",
       "      <td>[gluteus maximus, quadriceps]</td>\n",
       "      <td>[push]</td>\n",
       "    </tr>\n",
       "  </tbody>\n",
       "</table>\n",
       "</div>"
      ],
      "text/plain": [
       "                                                  id                   name  \\\n",
       "0  https://www.muscleandstrength.com/exercises/du...  dumbbell goblet squat   \n",
       "1  https://www.muscleandstrength.com/exercises/sq...     barbell back squat   \n",
       "2  https://www.muscleandstrength.com/exercises/le...          leg extension   \n",
       "3  https://www.muscleandstrength.com/exercises/du...         dumbbell lunge   \n",
       "4  https://www.muscleandstrength.com/exercises/du...         dumbbell squat   \n",
       "\n",
       "                                                 url  \\\n",
       "0  https://www.muscleandstrength.com/exercises/du...   \n",
       "1  https://www.muscleandstrength.com/exercises/sq...   \n",
       "2  https://www.muscleandstrength.com/exercises/le...   \n",
       "3  https://www.muscleandstrength.com/exercises/du...   \n",
       "4  https://www.muscleandstrength.com/exercises/du...   \n",
       "\n",
       "                                           image_url      type equipment  \\\n",
       "0  https://cdn.muscleandstrength.com/sites/defaul...  strength  dumbbell   \n",
       "1  https://cdn.muscleandstrength.com/sites/defaul...  strength   barbell   \n",
       "2  https://cdn.muscleandstrength.com/sites/defaul...  strength   machine   \n",
       "3  https://cdn.muscleandstrength.com/sites/defaul...  strength  dumbbell   \n",
       "4  https://cdn.muscleandstrength.com/sites/defaul...  strength  dumbbell   \n",
       "\n",
       "   mechanics    difficulty                                           overview  \\\n",
       "0   compound      beginner  the dumbbell goblet squat is a variation of th...   \n",
       "1   compound  intermediate  the squat is the king of all exercises, workin...   \n",
       "2  isolation      beginner  the seated leg extension is an isolation exerc...   \n",
       "3   compound      beginner                                                      \n",
       "4   compound      beginner                                                      \n",
       "\n",
       "                                        instructions  \\\n",
       "0  select a dumbbell and position it at chest hei...   \n",
       "1  set up for the exercise by setting the barbell...   \n",
       "2  select the desired resistance on the weight st...   \n",
       "3  choose a pair of dumbbells and stand up straig...   \n",
       "4  set up for the dumbbell squat by choosing a pa...   \n",
       "\n",
       "                                    secondary_muscle       group  \\\n",
       "0  [abs, hamstrings, lower back, gluteus maximus,...  quadriceps   \n",
       "1  [lower back, calves, hamstrings, gluteus maximus]  quadriceps   \n",
       "2                                                 []  quadriceps   \n",
       "3              [calves, hamstrings, gluteus maximus]  quadriceps   \n",
       "4  [lower back, calves, hamstrings, gluteus maximus]  quadriceps   \n",
       "\n",
       "                          muscle                force_type  \n",
       "0                   [quadriceps]        [push (bilateral)]  \n",
       "1  [gluteus maximus, quadriceps]                    [push]  \n",
       "2                   [quadriceps]  [push, push (bilateral)]  \n",
       "3  [gluteus maximus, quadriceps]                    [push]  \n",
       "4  [gluteus maximus, quadriceps]                    [push]  "
      ]
     },
     "execution_count": 185,
     "metadata": {},
     "output_type": "execute_result"
    }
   ],
   "source": [
    "exercise_group_df_merged.head()"
   ]
  },
  {
   "cell_type": "code",
   "execution_count": 186,
   "id": "381aa413",
   "metadata": {},
   "outputs": [
    {
     "data": {
      "text/plain": [
       "(1006, 14)"
      ]
     },
     "execution_count": 186,
     "metadata": {},
     "output_type": "execute_result"
    }
   ],
   "source": [
    "exercise_group_df_merged.shape"
   ]
  },
  {
   "cell_type": "markdown",
   "id": "5c740656",
   "metadata": {},
   "source": [
    "### Add additional info"
   ]
  },
  {
   "cell_type": "code",
   "execution_count": 187,
   "id": "b28490c4",
   "metadata": {},
   "outputs": [
    {
     "data": {
      "text/html": [
       "<div>\n",
       "<style scoped>\n",
       "    .dataframe tbody tr th:only-of-type {\n",
       "        vertical-align: middle;\n",
       "    }\n",
       "\n",
       "    .dataframe tbody tr th {\n",
       "        vertical-align: top;\n",
       "    }\n",
       "\n",
       "    .dataframe thead th {\n",
       "        text-align: right;\n",
       "    }\n",
       "</style>\n",
       "<table border=\"1\" class=\"dataframe\">\n",
       "  <thead>\n",
       "    <tr style=\"text-align: right;\">\n",
       "      <th></th>\n",
       "      <th>id</th>\n",
       "      <th>equipment</th>\n",
       "      <th>position</th>\n",
       "    </tr>\n",
       "  </thead>\n",
       "  <tbody>\n",
       "    <tr>\n",
       "      <th>0</th>\n",
       "      <td>https://www.muscleandstrength.com/exercises/wi...</td>\n",
       "      <td>[bar, barbell]</td>\n",
       "      <td>[stand]</td>\n",
       "    </tr>\n",
       "    <tr>\n",
       "      <th>1</th>\n",
       "      <td>https://www.muscleandstrength.com/exercises/ba...</td>\n",
       "      <td>[bar]</td>\n",
       "      <td>[stand]</td>\n",
       "    </tr>\n",
       "    <tr>\n",
       "      <th>2</th>\n",
       "      <td>https://www.muscleandstrength.com/exercises/du...</td>\n",
       "      <td>[dumbbell]</td>\n",
       "      <td>[]</td>\n",
       "    </tr>\n",
       "    <tr>\n",
       "      <th>3</th>\n",
       "      <td>https://www.muscleandstrength.com/exercises/du...</td>\n",
       "      <td>[dumbbell]</td>\n",
       "      <td>[stand]</td>\n",
       "    </tr>\n",
       "    <tr>\n",
       "      <th>4</th>\n",
       "      <td>https://www.muscleandstrength.com/exercises/du...</td>\n",
       "      <td>[dumbbell]</td>\n",
       "      <td>[]</td>\n",
       "    </tr>\n",
       "  </tbody>\n",
       "</table>\n",
       "</div>"
      ],
      "text/plain": [
       "                                                  id       equipment position\n",
       "0  https://www.muscleandstrength.com/exercises/wi...  [bar, barbell]  [stand]\n",
       "1  https://www.muscleandstrength.com/exercises/ba...           [bar]  [stand]\n",
       "2  https://www.muscleandstrength.com/exercises/du...      [dumbbell]       []\n",
       "3  https://www.muscleandstrength.com/exercises/du...      [dumbbell]  [stand]\n",
       "4  https://www.muscleandstrength.com/exercises/du...      [dumbbell]       []"
      ]
     },
     "execution_count": 187,
     "metadata": {},
     "output_type": "execute_result"
    }
   ],
   "source": [
    "exercise_additional_info.head()"
   ]
  },
  {
   "cell_type": "code",
   "execution_count": 188,
   "id": "9308c963",
   "metadata": {},
   "outputs": [],
   "source": [
    "exercise_group_df_merged = exercise_group_df_merged.merge(exercise_additional_info, on='id', how=\"left\")"
   ]
  },
  {
   "cell_type": "code",
   "execution_count": 189,
   "id": "7b0d24f9",
   "metadata": {},
   "outputs": [
    {
     "data": {
      "text/plain": [
       "id                   0\n",
       "name                 0\n",
       "url                  0\n",
       "image_url            0\n",
       "type                 0\n",
       "equipment_x          0\n",
       "mechanics            0\n",
       "difficulty           0\n",
       "overview             0\n",
       "instructions         0\n",
       "secondary_muscle     0\n",
       "group                0\n",
       "muscle               0\n",
       "force_type           0\n",
       "equipment_y         94\n",
       "position            94\n",
       "dtype: int64"
      ]
     },
     "execution_count": 189,
     "metadata": {},
     "output_type": "execute_result"
    }
   ],
   "source": [
    "exercise_group_df_merged.isnull().sum()"
   ]
  },
  {
   "cell_type": "code",
   "execution_count": 190,
   "id": "3a9a7f9b",
   "metadata": {},
   "outputs": [],
   "source": [
    "exercise_group_df_merged.fillna(\"\", inplace= True)"
   ]
  },
  {
   "cell_type": "code",
   "execution_count": 191,
   "id": "b2ea1c6c",
   "metadata": {},
   "outputs": [],
   "source": [
    "# exercise_group_df_merged[\"force_type\"] = \n",
    "exercise_group_df_merged[\"equipment\"] = exercise_group_df_merged[[\"equipment_x\", \"equipment_y\"]].apply(lambda x: list(set([x[0]]+x[1])) if (len(x[1])>0) else [x[0]], axis = 1)"
   ]
  },
  {
   "cell_type": "code",
   "execution_count": 192,
   "id": "29990455",
   "metadata": {},
   "outputs": [],
   "source": [
    "exercise_group_df_merged.drop(columns = [\"equipment_x\", \"equipment_y\"], inplace = True)"
   ]
  },
  {
   "cell_type": "markdown",
   "id": "9a010789",
   "metadata": {},
   "source": [
    "### Merge with exercise df to get imag url"
   ]
  },
  {
   "cell_type": "code",
   "execution_count": 193,
   "id": "383252d9",
   "metadata": {},
   "outputs": [],
   "source": [
    "# exercise_df_updated = exercise_df[['name', 'image_url']]\n",
    "# exercise_df_updated.head()"
   ]
  },
  {
   "cell_type": "code",
   "execution_count": 194,
   "id": "fc362c05",
   "metadata": {},
   "outputs": [],
   "source": [
    "# exercise_df_updated.shape"
   ]
  },
  {
   "cell_type": "code",
   "execution_count": 195,
   "id": "def735bc",
   "metadata": {},
   "outputs": [],
   "source": [
    "# exercise_df_updated.loc[:, \"name\"] = exercise_df_updated.name.str.lower()"
   ]
  },
  {
   "cell_type": "code",
   "execution_count": 196,
   "id": "76679cf5",
   "metadata": {},
   "outputs": [],
   "source": [
    "# exercise_group_df_merged = exercise_group_df_merged.merge(exercise_df_updated[['name', 'image_url']], on=\"name\", how = \"left\")"
   ]
  },
  {
   "cell_type": "code",
   "execution_count": 197,
   "id": "fc0730c5",
   "metadata": {},
   "outputs": [],
   "source": [
    "# exercise_group_df_merged.head()"
   ]
  },
  {
   "cell_type": "markdown",
   "id": "2948738b",
   "metadata": {},
   "source": [
    "#### Read the SAME_AS file"
   ]
  },
  {
   "cell_type": "code",
   "execution_count": 198,
   "id": "f1b8ce10",
   "metadata": {},
   "outputs": [],
   "source": [
    "# same_as_df = pd.read_excel(\"Mapping/mapping_master.xlsx\", sheet_name=\"SAME_AS\").dropna()"
   ]
  },
  {
   "cell_type": "code",
   "execution_count": 199,
   "id": "04a65dca",
   "metadata": {},
   "outputs": [],
   "source": [
    "# same_as_map = same_as_df.set_index(\"Name\").to_dict()\n",
    "# same_as_map"
   ]
  },
  {
   "cell_type": "code",
   "execution_count": 200,
   "id": "4b15b819",
   "metadata": {},
   "outputs": [],
   "source": [
    "# reverse_map_df = deepcopy(same_as_df)\n",
    "# reverse_map_df.SAME_AS = reverse_map_df.SAME_AS.str.lower()"
   ]
  },
  {
   "cell_type": "code",
   "execution_count": 201,
   "id": "8dc73376",
   "metadata": {},
   "outputs": [],
   "source": [
    "# same_as_muscle_reverse_map = reverse_map_df.set_index(\"SAME_AS\").to_dict()[\"Name\"]\n",
    "# same_as_muscle_reverse_map"
   ]
  },
  {
   "cell_type": "code",
   "execution_count": 202,
   "id": "17a9887a",
   "metadata": {},
   "outputs": [],
   "source": [
    "# def replace_muscle(muscle_list, list_type):\n",
    "#     return_list = []\n",
    "#     i=0\n",
    "#     if list_type==\"secondary\":\n",
    "#         muscle_list=muscle_list.split(\",\")\n",
    "#     for muscle in muscle_list:\n",
    "#         if muscle in same_as_map[\"SAME_AS\"]:\n",
    "#             return_list.append(same_as_map[\"SAME_AS\"][muscle].lower())\n",
    "#         else:\n",
    "#             return_list.append(muscle.lower())\n",
    "#     return list(set(return_list))"
   ]
  },
  {
   "cell_type": "code",
   "execution_count": 203,
   "id": "e2270e27",
   "metadata": {},
   "outputs": [],
   "source": [
    "# def replace_muscle(muscle_list, list_type):\n",
    "#     return_list = []\n",
    "#     i=0\n",
    "# #     if list_type==\"secondary\":\n",
    "# #         muscle_list=muscle_list.split(\",\")\n",
    "#     for muscle in muscle_list:\n",
    "#         if muscle in same_as_muscle_reverse_map:\n",
    "#             return_list.append(same_as_muscle_reverse_map[muscle].lower())\n",
    "#         else:\n",
    "#             return_list.append(muscle.lower())\n",
    "#     return list(set(return_list))"
   ]
  },
  {
   "cell_type": "code",
   "execution_count": 204,
   "id": "b1da4271",
   "metadata": {},
   "outputs": [],
   "source": [
    "# exercise_group_df_merged[\"secondary_muscle\"].values"
   ]
  },
  {
   "cell_type": "code",
   "execution_count": 205,
   "id": "dc7bf1a6",
   "metadata": {
    "scrolled": false
   },
   "outputs": [],
   "source": [
    "# exercise_group_df_merged[\"muscle\"] = exercise_group_df_merged[\"muscle\"].apply(lambda x: replace_muscle(x, \"primary\"))"
   ]
  },
  {
   "cell_type": "code",
   "execution_count": 206,
   "id": "25472dfb",
   "metadata": {},
   "outputs": [],
   "source": [
    "# exercise_group_df_merged[\"secondary_muscle\"] = exercise_group_df_merged.secondary_muscle.apply(lambda x: replace_muscle(x, \"secondary\"))"
   ]
  },
  {
   "cell_type": "code",
   "execution_count": 207,
   "id": "afb3163e",
   "metadata": {},
   "outputs": [],
   "source": [
    "# exercise_group_df_merged.head()"
   ]
  },
  {
   "cell_type": "markdown",
   "id": "20834f1e",
   "metadata": {},
   "source": [
    "#### Replace equipments which has name machine"
   ]
  },
  {
   "cell_type": "code",
   "execution_count": 208,
   "id": "e86f701b",
   "metadata": {},
   "outputs": [
    {
     "data": {
      "text/html": [
       "<div>\n",
       "<style scoped>\n",
       "    .dataframe tbody tr th:only-of-type {\n",
       "        vertical-align: middle;\n",
       "    }\n",
       "\n",
       "    .dataframe tbody tr th {\n",
       "        vertical-align: top;\n",
       "    }\n",
       "\n",
       "    .dataframe thead th {\n",
       "        text-align: right;\n",
       "    }\n",
       "</style>\n",
       "<table border=\"1\" class=\"dataframe\">\n",
       "  <thead>\n",
       "    <tr style=\"text-align: right;\">\n",
       "      <th></th>\n",
       "      <th>name</th>\n",
       "      <th>equipment</th>\n",
       "    </tr>\n",
       "  </thead>\n",
       "  <tbody>\n",
       "    <tr>\n",
       "      <th>0</th>\n",
       "      <td>dumbbell goblet squat</td>\n",
       "      <td>[dumbbell]</td>\n",
       "    </tr>\n",
       "    <tr>\n",
       "      <th>1</th>\n",
       "      <td>barbell back squat</td>\n",
       "      <td>[bar, barbell]</td>\n",
       "    </tr>\n",
       "    <tr>\n",
       "      <th>2</th>\n",
       "      <td>leg extension</td>\n",
       "      <td>[machine]</td>\n",
       "    </tr>\n",
       "    <tr>\n",
       "      <th>3</th>\n",
       "      <td>dumbbell lunge</td>\n",
       "      <td>[dumbbell]</td>\n",
       "    </tr>\n",
       "    <tr>\n",
       "      <th>4</th>\n",
       "      <td>dumbbell squat</td>\n",
       "      <td>[dumbbell]</td>\n",
       "    </tr>\n",
       "    <tr>\n",
       "      <th>5</th>\n",
       "      <td>leg press</td>\n",
       "      <td>[machine]</td>\n",
       "    </tr>\n",
       "    <tr>\n",
       "      <th>6</th>\n",
       "      <td>machine hack squat</td>\n",
       "      <td>[machine]</td>\n",
       "    </tr>\n",
       "    <tr>\n",
       "      <th>7</th>\n",
       "      <td>dumbbell rear lunge</td>\n",
       "      <td>[dumbbell]</td>\n",
       "    </tr>\n",
       "    <tr>\n",
       "      <th>8</th>\n",
       "      <td>one leg dumbbell squat (aka dumbbell bulgarian...</td>\n",
       "      <td>[dumbbell]</td>\n",
       "    </tr>\n",
       "    <tr>\n",
       "      <th>9</th>\n",
       "      <td>front squat</td>\n",
       "      <td>[bar, barbell]</td>\n",
       "    </tr>\n",
       "  </tbody>\n",
       "</table>\n",
       "</div>"
      ],
      "text/plain": [
       "                                                name       equipment\n",
       "0                              dumbbell goblet squat      [dumbbell]\n",
       "1                                 barbell back squat  [bar, barbell]\n",
       "2                                      leg extension       [machine]\n",
       "3                                     dumbbell lunge      [dumbbell]\n",
       "4                                     dumbbell squat      [dumbbell]\n",
       "5                                          leg press       [machine]\n",
       "6                                 machine hack squat       [machine]\n",
       "7                                dumbbell rear lunge      [dumbbell]\n",
       "8  one leg dumbbell squat (aka dumbbell bulgarian...      [dumbbell]\n",
       "9                                        front squat  [bar, barbell]"
      ]
     },
     "execution_count": 208,
     "metadata": {},
     "output_type": "execute_result"
    }
   ],
   "source": [
    "exercise_group_df_merged[[\"name\", \"equipment\"]].head(10)"
   ]
  },
  {
   "cell_type": "code",
   "execution_count": 209,
   "id": "92e5356e",
   "metadata": {},
   "outputs": [],
   "source": [
    "machine_list = [\"leg press\", \"toe raise\", \"lat pull down\", \"smith\", \"back extension\", \"hack squat\", \n",
    "              \"cable chop\", \"bench press\", \"leg curl\", \"calf raise\", \"lat pulldown\", \"t-bar\", \"nordic hamstring\"]\n",
    "# def replaceEquipments(x):\n",
    "#     for machine in machine_list:\n",
    "#         if machine in x[0].lower():\n",
    "#             return machine+\" machine\"\n",
    "    \n",
    "#     if \"machine\" in x[1].lower():\n",
    "#         if \"machine\" in x[0].lower():\n",
    "#             if \"machine\" == x[0].split(\" \")[0].lower():\n",
    "#                 machine_name = x[0].split(\" \")[1:]\n",
    "#                 machine_name = ' '.join(machine_name)\n",
    "#                 return machine_name.lower() + \" machine\"\n",
    "#             else:\n",
    "#                 return x[0].lower().split(\"machine\")[0] + \"machine\"\n",
    "#         else:\n",
    "#             return x[0].lower() + \" machine\"\n",
    "#     else:\n",
    "#         return x[1].lower()"
   ]
  },
  {
   "cell_type": "code",
   "execution_count": 210,
   "id": "d69ba674",
   "metadata": {},
   "outputs": [],
   "source": [
    "def replaceEquipmentsNew(x):\n",
    "    unified_machine_name = []\n",
    "    for equipment in x[1]:\n",
    "        flag = 0\n",
    "        for unique_machine_name in machine_list:\n",
    "            if unique_machine_name in x[0]:                \n",
    "                unified_machine_name.append(unique_machine_name+\" machine\")\n",
    "                flag = 1\n",
    "                break\n",
    "                \n",
    "        if flag!=1: #Check only if the first one didn't work out\n",
    "            if \"machine\" in equipment:\n",
    "                if \"machine\" in x[0]:\n",
    "                    if \"machine\" == x[0].split(\" \")[0]:\n",
    "                        machine_name = x[0].split(\" \")[1:]\n",
    "                        machine_name = ' '.join(machine_name)\n",
    "                        unified_machine_name.append(machine_name + \" machine\")\n",
    "                    else:\n",
    "                        unified_machine_name.append(x[0].lower().split(\"machine\")[0] + \"machine\")\n",
    "                else:\n",
    "                    unified_machine_name.append(x[0].lower() + \" machine\")\n",
    "            else:\n",
    "                unified_machine_name.append(equipment)\n",
    "        \n",
    "    return unified_machine_name"
   ]
  },
  {
   "cell_type": "code",
   "execution_count": 211,
   "id": "0b0495eb",
   "metadata": {},
   "outputs": [],
   "source": [
    "# exercise_group_df_merged[exercise_group_df_merged.equipment==\"machine\"][[\"name\", \"equipment\"]]"
   ]
  },
  {
   "cell_type": "code",
   "execution_count": null,
   "id": "2ea4e5fc",
   "metadata": {},
   "outputs": [],
   "source": []
  },
  {
   "cell_type": "code",
   "execution_count": 212,
   "id": "b258b846",
   "metadata": {},
   "outputs": [],
   "source": [
    "# test = exercise_group_df_merged[[\"name\", \"equipment\"]].apply(lambda x:replaceEquipmentsNew(x), axis = 1)\n",
    "# test_list = []\n",
    "# for equipelist in test.values:\n",
    "#     test_list.extend(equipelist)\n",
    "# set(test_list)"
   ]
  },
  {
   "cell_type": "code",
   "execution_count": 213,
   "id": "bde3cb3a",
   "metadata": {},
   "outputs": [],
   "source": [
    "exercise_group_df_merged[\"equipment\"] = exercise_group_df_merged[[\"name\", \"equipment\"]].apply(lambda x:replaceEquipmentsNew(x), axis = 1)"
   ]
  },
  {
   "cell_type": "code",
   "execution_count": 214,
   "id": "d5890ba8",
   "metadata": {},
   "outputs": [],
   "source": [
    "exercise_group_df_merged.to_csv(\"Data_KG_Creation/exercise.csv\", index = False)"
   ]
  },
  {
   "cell_type": "markdown",
   "id": "dd4b55b0",
   "metadata": {},
   "source": [
    "## Muscles"
   ]
  },
  {
   "cell_type": "code",
   "execution_count": 215,
   "id": "2023bb6d",
   "metadata": {},
   "outputs": [
    {
     "data": {
      "text/html": [
       "<div>\n",
       "<style scoped>\n",
       "    .dataframe tbody tr th:only-of-type {\n",
       "        vertical-align: middle;\n",
       "    }\n",
       "\n",
       "    .dataframe tbody tr th {\n",
       "        vertical-align: top;\n",
       "    }\n",
       "\n",
       "    .dataframe thead th {\n",
       "        text-align: right;\n",
       "    }\n",
       "</style>\n",
       "<table border=\"1\" class=\"dataframe\">\n",
       "  <thead>\n",
       "    <tr style=\"text-align: right;\">\n",
       "      <th></th>\n",
       "      <th>name</th>\n",
       "      <th>url</th>\n",
       "    </tr>\n",
       "  </thead>\n",
       "  <tbody>\n",
       "    <tr>\n",
       "      <th>0</th>\n",
       "      <td>gastrocnemius</td>\n",
       "      <td>https://exrx.net/Muscles/Gastrocnemius</td>\n",
       "    </tr>\n",
       "    <tr>\n",
       "      <th>1</th>\n",
       "      <td>quadriceps</td>\n",
       "      <td>https://exrx.net/Muscles/Quadriceps</td>\n",
       "    </tr>\n",
       "    <tr>\n",
       "      <th>2</th>\n",
       "      <td>brachioradialis</td>\n",
       "      <td>https://exrx.net/Muscles/Brachioradialis</td>\n",
       "    </tr>\n",
       "    <tr>\n",
       "      <th>3</th>\n",
       "      <td>anterior deltoid</td>\n",
       "      <td>https://exrx.net/Muscles/DeltoidAnterior</td>\n",
       "    </tr>\n",
       "    <tr>\n",
       "      <th>4</th>\n",
       "      <td>pectoralis major-sternal</td>\n",
       "      <td>https://exrx.net/Muscles/PectoralisSternal</td>\n",
       "    </tr>\n",
       "  </tbody>\n",
       "</table>\n",
       "</div>"
      ],
      "text/plain": [
       "                       name                                         url\n",
       "0             gastrocnemius      https://exrx.net/Muscles/Gastrocnemius\n",
       "1                quadriceps         https://exrx.net/Muscles/Quadriceps\n",
       "2           brachioradialis    https://exrx.net/Muscles/Brachioradialis\n",
       "3          anterior deltoid    https://exrx.net/Muscles/DeltoidAnterior\n",
       "4  pectoralis major-sternal  https://exrx.net/Muscles/PectoralisSternal"
      ]
     },
     "execution_count": 215,
     "metadata": {},
     "output_type": "execute_result"
    }
   ],
   "source": [
    "muscles = pd.read_excel(\"Mapping/mapped_final_.xlsx\", sheet_name = \"Muscle\") #Anatomy\n",
    "muscles.head()"
   ]
  },
  {
   "cell_type": "code",
   "execution_count": 216,
   "id": "588541d1",
   "metadata": {},
   "outputs": [],
   "source": [
    "reverse_muscle_map = same_as_muscles_df.set_index('name').to_dict()['alternate_name']"
   ]
  },
  {
   "cell_type": "code",
   "execution_count": 217,
   "id": "c198c5fc",
   "metadata": {},
   "outputs": [
    {
     "data": {
      "text/html": [
       "<div>\n",
       "<style scoped>\n",
       "    .dataframe tbody tr th:only-of-type {\n",
       "        vertical-align: middle;\n",
       "    }\n",
       "\n",
       "    .dataframe tbody tr th {\n",
       "        vertical-align: top;\n",
       "    }\n",
       "\n",
       "    .dataframe thead th {\n",
       "        text-align: right;\n",
       "    }\n",
       "</style>\n",
       "<table border=\"1\" class=\"dataframe\">\n",
       "  <thead>\n",
       "    <tr style=\"text-align: right;\">\n",
       "      <th></th>\n",
       "      <th>name</th>\n",
       "      <th>url</th>\n",
       "      <th>same_as</th>\n",
       "    </tr>\n",
       "  </thead>\n",
       "  <tbody>\n",
       "    <tr>\n",
       "      <th>0</th>\n",
       "      <td>gastrocnemius</td>\n",
       "      <td>https://exrx.net/Muscles/Gastrocnemius</td>\n",
       "      <td>NaN</td>\n",
       "    </tr>\n",
       "    <tr>\n",
       "      <th>1</th>\n",
       "      <td>quadriceps</td>\n",
       "      <td>https://exrx.net/Muscles/Quadriceps</td>\n",
       "      <td>quads</td>\n",
       "    </tr>\n",
       "    <tr>\n",
       "      <th>2</th>\n",
       "      <td>brachioradialis</td>\n",
       "      <td>https://exrx.net/Muscles/Brachioradialis</td>\n",
       "      <td>NaN</td>\n",
       "    </tr>\n",
       "    <tr>\n",
       "      <th>3</th>\n",
       "      <td>anterior deltoid</td>\n",
       "      <td>https://exrx.net/Muscles/DeltoidAnterior</td>\n",
       "      <td>NaN</td>\n",
       "    </tr>\n",
       "    <tr>\n",
       "      <th>4</th>\n",
       "      <td>pectoralis major-sternal</td>\n",
       "      <td>https://exrx.net/Muscles/PectoralisSternal</td>\n",
       "      <td>NaN</td>\n",
       "    </tr>\n",
       "  </tbody>\n",
       "</table>\n",
       "</div>"
      ],
      "text/plain": [
       "                       name                                         url  \\\n",
       "0             gastrocnemius      https://exrx.net/Muscles/Gastrocnemius   \n",
       "1                quadriceps         https://exrx.net/Muscles/Quadriceps   \n",
       "2           brachioradialis    https://exrx.net/Muscles/Brachioradialis   \n",
       "3          anterior deltoid    https://exrx.net/Muscles/DeltoidAnterior   \n",
       "4  pectoralis major-sternal  https://exrx.net/Muscles/PectoralisSternal   \n",
       "\n",
       "  same_as  \n",
       "0     NaN  \n",
       "1   quads  \n",
       "2     NaN  \n",
       "3     NaN  \n",
       "4     NaN  "
      ]
     },
     "execution_count": 217,
     "metadata": {},
     "output_type": "execute_result"
    }
   ],
   "source": [
    "muscles[\"same_as\"] = muscles[\"name\"].map(reverse_muscle_map)\n",
    "muscles.head()"
   ]
  },
  {
   "cell_type": "code",
   "execution_count": 218,
   "id": "a967447c",
   "metadata": {},
   "outputs": [],
   "source": [
    "# muscles[\"NAME\"] = muscles[\"NAME\"].str.lower()"
   ]
  },
  {
   "cell_type": "code",
   "execution_count": 219,
   "id": "25a195bc",
   "metadata": {},
   "outputs": [],
   "source": [
    "# muscles[\"SAME_AS\"] = muscles[\"SAME_AS\"].str.lower()"
   ]
  },
  {
   "cell_type": "code",
   "execution_count": 220,
   "id": "1eee10a5",
   "metadata": {},
   "outputs": [],
   "source": [
    "muscles.to_csv(\"Data_KG_Creation/muscles.csv\", index = False)"
   ]
  },
  {
   "cell_type": "markdown",
   "id": "5ba38679",
   "metadata": {},
   "source": [
    "### Anatomy"
   ]
  },
  {
   "cell_type": "code",
   "execution_count": 221,
   "id": "d6a2d40d",
   "metadata": {},
   "outputs": [
    {
     "data": {
      "text/html": [
       "<div>\n",
       "<style scoped>\n",
       "    .dataframe tbody tr th:only-of-type {\n",
       "        vertical-align: middle;\n",
       "    }\n",
       "\n",
       "    .dataframe tbody tr th {\n",
       "        vertical-align: top;\n",
       "    }\n",
       "\n",
       "    .dataframe thead th {\n",
       "        text-align: right;\n",
       "    }\n",
       "</style>\n",
       "<table border=\"1\" class=\"dataframe\">\n",
       "  <thead>\n",
       "    <tr style=\"text-align: right;\">\n",
       "      <th></th>\n",
       "      <th>name</th>\n",
       "      <th>url</th>\n",
       "    </tr>\n",
       "  </thead>\n",
       "  <tbody>\n",
       "    <tr>\n",
       "      <th>0</th>\n",
       "      <td>ankles</td>\n",
       "      <td>https://www.yogajournal.com/poses/anatomy/ankles/</td>\n",
       "    </tr>\n",
       "    <tr>\n",
       "      <th>1</th>\n",
       "      <td>arms</td>\n",
       "      <td>https://www.yogajournal.com/poses/anatomy/arms/</td>\n",
       "    </tr>\n",
       "    <tr>\n",
       "      <th>2</th>\n",
       "      <td>back</td>\n",
       "      <td>https://exrx.net/Lists/ExList/BackWt</td>\n",
       "    </tr>\n",
       "    <tr>\n",
       "      <th>3</th>\n",
       "      <td>belly</td>\n",
       "      <td>https://www.yogajournal.com/poses/anatomy/belly/</td>\n",
       "    </tr>\n",
       "    <tr>\n",
       "      <th>4</th>\n",
       "      <td>calves</td>\n",
       "      <td>https://exrx.net/Lists/ExList/CalfWt</td>\n",
       "    </tr>\n",
       "  </tbody>\n",
       "</table>\n",
       "</div>"
      ],
      "text/plain": [
       "     name                                                url\n",
       "0  ankles  https://www.yogajournal.com/poses/anatomy/ankles/\n",
       "1    arms    https://www.yogajournal.com/poses/anatomy/arms/\n",
       "2    back               https://exrx.net/Lists/ExList/BackWt\n",
       "3   belly   https://www.yogajournal.com/poses/anatomy/belly/\n",
       "4  calves               https://exrx.net/Lists/ExList/CalfWt"
      ]
     },
     "execution_count": 221,
     "metadata": {},
     "output_type": "execute_result"
    }
   ],
   "source": [
    "anatomy = pd.read_excel(\"Mapping/mapped_final_.xlsx\", sheet_name = \"Anatomy\") #\n",
    "anatomy.head()"
   ]
  },
  {
   "cell_type": "code",
   "execution_count": 222,
   "id": "e13919d6",
   "metadata": {},
   "outputs": [],
   "source": [
    "# anatomy[\"NAME\"] = anatomy[\"NAME\"].str.lower()"
   ]
  },
  {
   "cell_type": "code",
   "execution_count": 223,
   "id": "73c8d2dc",
   "metadata": {},
   "outputs": [],
   "source": [
    "anatomy.to_csv(\"Data_KG_Creation/anatomy.csv\", index = False)"
   ]
  },
  {
   "cell_type": "markdown",
   "id": "ee569702",
   "metadata": {},
   "source": [
    "### Equipment"
   ]
  },
  {
   "cell_type": "code",
   "execution_count": 224,
   "id": "a7b400ea",
   "metadata": {},
   "outputs": [],
   "source": [
    "equipment_df  = exercise_group_df_merged[[\"name\", \"equipment\"]]"
   ]
  },
  {
   "cell_type": "code",
   "execution_count": 225,
   "id": "ecad7a84",
   "metadata": {},
   "outputs": [
    {
     "data": {
      "text/html": [
       "<div>\n",
       "<style scoped>\n",
       "    .dataframe tbody tr th:only-of-type {\n",
       "        vertical-align: middle;\n",
       "    }\n",
       "\n",
       "    .dataframe tbody tr th {\n",
       "        vertical-align: top;\n",
       "    }\n",
       "\n",
       "    .dataframe thead th {\n",
       "        text-align: right;\n",
       "    }\n",
       "</style>\n",
       "<table border=\"1\" class=\"dataframe\">\n",
       "  <thead>\n",
       "    <tr style=\"text-align: right;\">\n",
       "      <th></th>\n",
       "      <th>name</th>\n",
       "      <th>equipment</th>\n",
       "    </tr>\n",
       "  </thead>\n",
       "  <tbody>\n",
       "    <tr>\n",
       "      <th>0</th>\n",
       "      <td>dumbbell goblet squat</td>\n",
       "      <td>[dumbbell]</td>\n",
       "    </tr>\n",
       "    <tr>\n",
       "      <th>1</th>\n",
       "      <td>barbell back squat</td>\n",
       "      <td>[bar, barbell]</td>\n",
       "    </tr>\n",
       "    <tr>\n",
       "      <th>2</th>\n",
       "      <td>leg extension</td>\n",
       "      <td>[leg extension machine]</td>\n",
       "    </tr>\n",
       "    <tr>\n",
       "      <th>3</th>\n",
       "      <td>dumbbell lunge</td>\n",
       "      <td>[dumbbell]</td>\n",
       "    </tr>\n",
       "    <tr>\n",
       "      <th>4</th>\n",
       "      <td>dumbbell squat</td>\n",
       "      <td>[dumbbell]</td>\n",
       "    </tr>\n",
       "    <tr>\n",
       "      <th>5</th>\n",
       "      <td>leg press</td>\n",
       "      <td>[leg press machine]</td>\n",
       "    </tr>\n",
       "    <tr>\n",
       "      <th>6</th>\n",
       "      <td>machine hack squat</td>\n",
       "      <td>[hack squat machine]</td>\n",
       "    </tr>\n",
       "    <tr>\n",
       "      <th>7</th>\n",
       "      <td>dumbbell rear lunge</td>\n",
       "      <td>[dumbbell]</td>\n",
       "    </tr>\n",
       "    <tr>\n",
       "      <th>8</th>\n",
       "      <td>one leg dumbbell squat (aka dumbbell bulgarian...</td>\n",
       "      <td>[dumbbell]</td>\n",
       "    </tr>\n",
       "    <tr>\n",
       "      <th>9</th>\n",
       "      <td>front squat</td>\n",
       "      <td>[bar, barbell]</td>\n",
       "    </tr>\n",
       "  </tbody>\n",
       "</table>\n",
       "</div>"
      ],
      "text/plain": [
       "                                                name                equipment\n",
       "0                              dumbbell goblet squat               [dumbbell]\n",
       "1                                 barbell back squat           [bar, barbell]\n",
       "2                                      leg extension  [leg extension machine]\n",
       "3                                     dumbbell lunge               [dumbbell]\n",
       "4                                     dumbbell squat               [dumbbell]\n",
       "5                                          leg press      [leg press machine]\n",
       "6                                 machine hack squat     [hack squat machine]\n",
       "7                                dumbbell rear lunge               [dumbbell]\n",
       "8  one leg dumbbell squat (aka dumbbell bulgarian...               [dumbbell]\n",
       "9                                        front squat           [bar, barbell]"
      ]
     },
     "execution_count": 225,
     "metadata": {},
     "output_type": "execute_result"
    }
   ],
   "source": [
    "equipment_df.head(10)"
   ]
  },
  {
   "cell_type": "code",
   "execution_count": 226,
   "id": "b0ca8e10",
   "metadata": {},
   "outputs": [],
   "source": [
    "# def replaceEquipments(x):\n",
    "#     if \"machine\" in x[1].lower():\n",
    "#         if \"machine\" in x[0].lower():\n",
    "#             return x[0].lower().split(\"machine\")[0] + \"machine\"\n",
    "#         else:\n",
    "#             return x[0].lower() + \" machine\"\n",
    "#     else:\n",
    "#         return x[1].lower()"
   ]
  },
  {
   "cell_type": "code",
   "execution_count": 227,
   "id": "95e794a7",
   "metadata": {},
   "outputs": [],
   "source": [
    "# equipments = equipment_df.apply(lambda x:  replaceEquipments(x) , axis = 1)\n",
    "# ex_mch_lst = [\"leg press\", \"toe raise\", \"lat pull down\", \"smith\", \"back extension\", \"hack squat\", \n",
    "#               \"cable chop\", \"bench press\", \"leg curl\"]"
   ]
  },
  {
   "cell_type": "code",
   "execution_count": 228,
   "id": "cc83b2a6",
   "metadata": {},
   "outputs": [],
   "source": [
    "equipment_set = []\n",
    "for equipment in equipment_df.equipment.values:\n",
    "    equipment_set.extend(equipment)\n",
    "equipment_set = list(set(equipment_set))"
   ]
  },
  {
   "cell_type": "code",
   "execution_count": 229,
   "id": "ccb25f7c",
   "metadata": {},
   "outputs": [
    {
     "data": {
      "text/plain": [
       "57"
      ]
     },
     "execution_count": 229,
     "metadata": {},
     "output_type": "execute_result"
    }
   ],
   "source": [
    "len(equipment_set)"
   ]
  },
  {
   "cell_type": "code",
   "execution_count": 230,
   "id": "e7ecdff5",
   "metadata": {},
   "outputs": [
    {
     "data": {
      "text/plain": [
       "['kettlebell',\n",
       " 'safety bar',\n",
       " 'pit shark belt squat machine',\n",
       " 'rings',\n",
       " 'exercise ball',\n",
       " 'leg curl machine',\n",
       " 'tire',\n",
       " 'hip adduction machine',\n",
       " 'calf raise machine',\n",
       " 'standing calf machine',\n",
       " 'hip abduction machine',\n",
       " 'tiger tail',\n",
       " 'other',\n",
       " 'pec dec machine',\n",
       " 'half kneeling cable lift machine',\n",
       " 'kettle bells',\n",
       " 'standing glute kickback machine',\n",
       " 'shoulder press machine',\n",
       " 'lateral raise machine',\n",
       " 'cable',\n",
       " 'hip thruster',\n",
       " 'lat pull down machine',\n",
       " 'cable external rotation machine',\n",
       " 'bands',\n",
       " 'row machine',\n",
       " 'bar',\n",
       " 'smith machine',\n",
       " 'leg press machine',\n",
       " 'rope',\n",
       " 'lat pulldown machine',\n",
       " 'trap bar',\n",
       " 't-bar machine',\n",
       " 'nordic hamstring machine',\n",
       " 'foam roll',\n",
       " 'shrug machine',\n",
       " 'physioball',\n",
       " 'leg extension machine',\n",
       " 'sled',\n",
       " 'jump rope',\n",
       " 'cable chop machine',\n",
       " 'medicine ball',\n",
       " 'landmine',\n",
       " 'ez bar',\n",
       " 'valslide',\n",
       " 'bodyweight',\n",
       " 'chains',\n",
       " 'bicep curl machine',\n",
       " 'belt',\n",
       " 'dumbbell',\n",
       " 'hack squat machine',\n",
       " 'back extension machine',\n",
       " 'bench',\n",
       " 'lacrosse ball',\n",
       " 'bench press machine',\n",
       " 'toe raise machine',\n",
       " 'box',\n",
       " 'barbell']"
      ]
     },
     "execution_count": 230,
     "metadata": {},
     "output_type": "execute_result"
    }
   ],
   "source": [
    "equipment_set"
   ]
  },
  {
   "cell_type": "markdown",
   "id": "fa566fba",
   "metadata": {},
   "source": [
    "#### Read the extracted information on equipments"
   ]
  },
  {
   "cell_type": "code",
   "execution_count": 231,
   "id": "1e4b5079",
   "metadata": {},
   "outputs": [],
   "source": [
    "# mns_info_extracted = pd.read_csv(\"../Information Extraction/Data Extracted/Gym_info_extracted.csv\")"
   ]
  },
  {
   "cell_type": "code",
   "execution_count": 232,
   "id": "ed565ff5",
   "metadata": {},
   "outputs": [],
   "source": [
    "# for equipments in mns_info_extracted[\"equipment\"].values:\n",
    "#     for equipment in eval(equipments):\n",
    "#         if len(equipment.strip())>0:\n",
    "#             equipment_set.add(equipment.strip())"
   ]
  },
  {
   "cell_type": "code",
   "execution_count": 233,
   "id": "3c29ded6",
   "metadata": {},
   "outputs": [],
   "source": [
    "# len(equipment_set)"
   ]
  },
  {
   "cell_type": "code",
   "execution_count": 234,
   "id": "5f464ac0",
   "metadata": {},
   "outputs": [],
   "source": [
    "# equip_writer = csv.writer(open(\"Data_KG Creation/equipment.csv\",'w'))\n",
    "\n",
    "with open('Data_KG_Creation/equipment.csv', 'w') as notables:\n",
    "    file_write=csv.writer(notables, delimiter = '\\n', quotechar='\"', quoting=csv.QUOTE_MINIMAL)\n",
    "\n",
    "    # write\n",
    "    # TO DO: how to get the values to write as well?\n",
    "    equipment_set_list = list(equipment_set)\n",
    "    equipment_set_list.insert(0, \"name\")\n",
    "    file_write.writerow(equipment_set_list)"
   ]
  },
  {
   "cell_type": "markdown",
   "id": "7f4565e6",
   "metadata": {},
   "source": [
    "## Meditation details"
   ]
  },
  {
   "cell_type": "code",
   "execution_count": 235,
   "id": "492718c6",
   "metadata": {},
   "outputs": [],
   "source": [
    "# #Clean the names in medication details\n",
    "# meditation_detials_df[\"updated_name\"] = meditation_detials_df[\"name\"].apply(lambda x:x.split(\":\")[-1].strip())\n",
    "# #Join with meditation file to get instructions\n",
    "# meditation_df_merged = meditation_df.merge(meditation_detials_df, right_on=\"updated_name\",  left_on=\"english_Name\", how = \"left\")\n",
    "# meditation_df_merged.shape"
   ]
  },
  {
   "cell_type": "code",
   "execution_count": 236,
   "id": "0e0c5132",
   "metadata": {},
   "outputs": [],
   "source": [
    "# #Drop meditations that do not have a match\n",
    "# meditation_df_merged = meditation_df_merged[meditation_df_merged['updated_name'].notna()]\n",
    "# meditation_df_merged.shape"
   ]
  },
  {
   "cell_type": "code",
   "execution_count": 237,
   "id": "2489bdb5",
   "metadata": {},
   "outputs": [],
   "source": [
    "meditation_df_merged.to_csv('Data_KG_Creation/meditation.csv', index = False)"
   ]
  },
  {
   "cell_type": "markdown",
   "id": "befbdc76",
   "metadata": {},
   "source": [
    "## Yoga details"
   ]
  },
  {
   "cell_type": "code",
   "execution_count": 238,
   "id": "e4d07e9c",
   "metadata": {},
   "outputs": [],
   "source": [
    "### Join with pose details to get the additional pose details\n",
    "# yoga_details = yoga_pose_details_df.merge(yoga_pose_df, on=\"url\" , how = \"left\").drop(columns = [\"english_Name\"])"
   ]
  },
  {
   "cell_type": "code",
   "execution_count": 239,
   "id": "d22a1c1b",
   "metadata": {},
   "outputs": [],
   "source": [
    "# print(yoga_details.isnull().sum())\n",
    "\n",
    "# yoga_details_full = yoga_details.merge(yoga_pose_anatomy_df[[\"url\",\"Anatomies\"]], on=\"url\", how = \"left\")\n",
    "# print(yoga_details_full.isnull().sum())"
   ]
  },
  {
   "cell_type": "code",
   "execution_count": 240,
   "id": "117b79c3",
   "metadata": {},
   "outputs": [],
   "source": [
    "# print(yoga_details_full.shape)\n",
    "# display(yoga_details_full[yoga_details_full.Anatomies.isnull()])"
   ]
  },
  {
   "cell_type": "code",
   "execution_count": 241,
   "id": "e5c8be2d",
   "metadata": {},
   "outputs": [],
   "source": [
    "# yoga_details_full = yoga_details_full[yoga_details_full.Anatomies.notna()]\n",
    "\n",
    "# yoga_details_full.name = yoga_details_full.name.str.lower()\n",
    "\n",
    "# yoga_details_full[[\"name\", \"alternate_name\"]] = yoga_details_full.name.str.split(\"|\", expand = True)\n",
    "\n",
    "# yoga_details_full.name = yoga_details_full.name.str.strip()\n",
    "\n",
    "# yoga_details_full.alternate_name = yoga_details_full.alternate_name.str.strip()\n",
    "\n",
    "# display(yoga_details_full.head())\n",
    "\n",
    "# yoga_alterante_mapping = yoga_details_full[[\"name\", \"alternate_name\"]].dropna().set_index(\"alternate_name\").to_dict()[\"name\"]\n",
    "# print(yoga_alterante_mapping)"
   ]
  },
  {
   "cell_type": "code",
   "execution_count": null,
   "id": "f26f6531",
   "metadata": {},
   "outputs": [],
   "source": []
  },
  {
   "cell_type": "code",
   "execution_count": null,
   "id": "437092a2",
   "metadata": {},
   "outputs": [],
   "source": []
  },
  {
   "cell_type": "code",
   "execution_count": null,
   "id": "195056b6",
   "metadata": {},
   "outputs": [],
   "source": []
  },
  {
   "cell_type": "code",
   "execution_count": null,
   "id": "c09598cb",
   "metadata": {},
   "outputs": [],
   "source": []
  },
  {
   "cell_type": "code",
   "execution_count": null,
   "id": "64c1e7b4",
   "metadata": {},
   "outputs": [],
   "source": []
  },
  {
   "cell_type": "code",
   "execution_count": null,
   "id": "9aae169c",
   "metadata": {},
   "outputs": [],
   "source": []
  },
  {
   "cell_type": "code",
   "execution_count": null,
   "id": "787219d2",
   "metadata": {},
   "outputs": [],
   "source": []
  },
  {
   "cell_type": "markdown",
   "id": "dabc6039",
   "metadata": {},
   "source": [
    "##### Add Information Extracted"
   ]
  },
  {
   "cell_type": "code",
   "execution_count": 242,
   "id": "942582c1",
   "metadata": {},
   "outputs": [],
   "source": [
    "yoga_position = pd.read_csv(\"..\\\\Information Extraction\\\\Data Extracted\\\\Yoga_position_info_extracted.csv\")"
   ]
  },
  {
   "cell_type": "code",
   "execution_count": 243,
   "id": "9ebe0a84",
   "metadata": {},
   "outputs": [],
   "source": [
    "yoga_position.name = yoga_position.name.apply(lambda x: unifyYogaNames(x))"
   ]
  },
  {
   "cell_type": "code",
   "execution_count": 244,
   "id": "8bf50ab7",
   "metadata": {},
   "outputs": [],
   "source": [
    "yoga_position.position = yoga_position.position.apply(lambda x:eval(x))"
   ]
  },
  {
   "cell_type": "markdown",
   "id": "251dbcb8",
   "metadata": {},
   "source": [
    "##### Added position info to yoga extract"
   ]
  },
  {
   "cell_type": "code",
   "execution_count": 245,
   "id": "d370f749",
   "metadata": {},
   "outputs": [],
   "source": [
    "yoga_details_full = yoga_details_full.merge(yoga_position, on=\"name\", how = \"left\")"
   ]
  },
  {
   "cell_type": "code",
   "execution_count": 246,
   "id": "d0e50bfe",
   "metadata": {},
   "outputs": [],
   "source": [
    "yoga_details_full.to_csv(\"Data_KG_Creation/yoga.csv\", index = False)"
   ]
  },
  {
   "cell_type": "markdown",
   "id": "4355bff4",
   "metadata": {},
   "source": [
    "# Create relations"
   ]
  },
  {
   "cell_type": "markdown",
   "id": "2b81d665",
   "metadata": {},
   "source": [
    "#### PART_OF"
   ]
  },
  {
   "cell_type": "code",
   "execution_count": 247,
   "id": "2adfa41b",
   "metadata": {},
   "outputs": [],
   "source": [
    "part_of_df = pd.read_excel(\"Mapping/new_mapping_master.xlsx\", sheet_name=\"PART_OF_REL\")"
   ]
  },
  {
   "cell_type": "code",
   "execution_count": 248,
   "id": "7994ee82",
   "metadata": {},
   "outputs": [],
   "source": [
    "part_of_df[\"relation\"] = \"PART_OF\""
   ]
  },
  {
   "cell_type": "code",
   "execution_count": 249,
   "id": "38110d55",
   "metadata": {},
   "outputs": [
    {
     "data": {
      "text/html": [
       "<div>\n",
       "<style scoped>\n",
       "    .dataframe tbody tr th:only-of-type {\n",
       "        vertical-align: middle;\n",
       "    }\n",
       "\n",
       "    .dataframe tbody tr th {\n",
       "        vertical-align: top;\n",
       "    }\n",
       "\n",
       "    .dataframe thead th {\n",
       "        text-align: right;\n",
       "    }\n",
       "</style>\n",
       "<table border=\"1\" class=\"dataframe\">\n",
       "  <thead>\n",
       "    <tr style=\"text-align: right;\">\n",
       "      <th></th>\n",
       "      <th>muscle</th>\n",
       "      <th>anatomy</th>\n",
       "      <th>relation</th>\n",
       "    </tr>\n",
       "  </thead>\n",
       "  <tbody>\n",
       "    <tr>\n",
       "      <th>0</th>\n",
       "      <td>gastrocnemius</td>\n",
       "      <td>calves</td>\n",
       "      <td>PART_OF</td>\n",
       "    </tr>\n",
       "    <tr>\n",
       "      <th>1</th>\n",
       "      <td>quadriceps</td>\n",
       "      <td>thighs</td>\n",
       "      <td>PART_OF</td>\n",
       "    </tr>\n",
       "    <tr>\n",
       "      <th>2</th>\n",
       "      <td>brachioradialis</td>\n",
       "      <td>forearms</td>\n",
       "      <td>PART_OF</td>\n",
       "    </tr>\n",
       "    <tr>\n",
       "      <th>3</th>\n",
       "      <td>anterior deltoid</td>\n",
       "      <td>chest</td>\n",
       "      <td>PART_OF</td>\n",
       "    </tr>\n",
       "    <tr>\n",
       "      <th>4</th>\n",
       "      <td>pectoralis major, sternal</td>\n",
       "      <td>chest</td>\n",
       "      <td>PART_OF</td>\n",
       "    </tr>\n",
       "  </tbody>\n",
       "</table>\n",
       "</div>"
      ],
      "text/plain": [
       "                      muscle   anatomy relation\n",
       "0              gastrocnemius    calves  PART_OF\n",
       "1                 quadriceps    thighs  PART_OF\n",
       "2            brachioradialis  forearms  PART_OF\n",
       "3           anterior deltoid     chest  PART_OF\n",
       "4  pectoralis major, sternal     chest  PART_OF"
      ]
     },
     "execution_count": 249,
     "metadata": {},
     "output_type": "execute_result"
    }
   ],
   "source": [
    "part_of_df.head()"
   ]
  },
  {
   "cell_type": "code",
   "execution_count": 250,
   "id": "f68127c8",
   "metadata": {},
   "outputs": [],
   "source": [
    "# part_of_df[\"name\"] = part_of_df[\"name\"].str.replace(\", \", \"-\")\n",
    "# part_of_df[\"name\"] = part_of_df[\"name\"].str.lower()"
   ]
  },
  {
   "cell_type": "code",
   "execution_count": 251,
   "id": "f7f86bcc",
   "metadata": {},
   "outputs": [],
   "source": [
    "# part_of_df[\"PART_OF\"] = part_of_df[\"PART_OF\"].str.lower()"
   ]
  },
  {
   "cell_type": "code",
   "execution_count": 252,
   "id": "86a12697",
   "metadata": {},
   "outputs": [],
   "source": [
    "# part_of_df = part_of_df.rename(columns = {\"NAME\":\"muscle\", \"PART_OF\":\"anatomy\"})"
   ]
  },
  {
   "cell_type": "code",
   "execution_count": 253,
   "id": "96d26e13",
   "metadata": {},
   "outputs": [],
   "source": [
    "part_of_df[[\"muscle\",\"relation\", \"anatomy\"]].to_csv(\"Data_KG_Creation/rel_PART_OF.csv\", index = False)"
   ]
  },
  {
   "cell_type": "markdown",
   "id": "bf833c4c",
   "metadata": {},
   "source": [
    "#### USES"
   ]
  },
  {
   "cell_type": "code",
   "execution_count": 254,
   "id": "87c54967",
   "metadata": {},
   "outputs": [],
   "source": [
    "uses = exercise_group_df_merged[[\"name\",\"equipment\"]]"
   ]
  },
  {
   "cell_type": "code",
   "execution_count": 255,
   "id": "dbe54e53",
   "metadata": {},
   "outputs": [
    {
     "data": {
      "text/html": [
       "<div>\n",
       "<style scoped>\n",
       "    .dataframe tbody tr th:only-of-type {\n",
       "        vertical-align: middle;\n",
       "    }\n",
       "\n",
       "    .dataframe tbody tr th {\n",
       "        vertical-align: top;\n",
       "    }\n",
       "\n",
       "    .dataframe thead th {\n",
       "        text-align: right;\n",
       "    }\n",
       "</style>\n",
       "<table border=\"1\" class=\"dataframe\">\n",
       "  <thead>\n",
       "    <tr style=\"text-align: right;\">\n",
       "      <th></th>\n",
       "      <th>name</th>\n",
       "      <th>equipment</th>\n",
       "    </tr>\n",
       "  </thead>\n",
       "  <tbody>\n",
       "    <tr>\n",
       "      <th>0</th>\n",
       "      <td>dumbbell goblet squat</td>\n",
       "      <td>[dumbbell]</td>\n",
       "    </tr>\n",
       "    <tr>\n",
       "      <th>1</th>\n",
       "      <td>barbell back squat</td>\n",
       "      <td>[bar, barbell]</td>\n",
       "    </tr>\n",
       "    <tr>\n",
       "      <th>2</th>\n",
       "      <td>leg extension</td>\n",
       "      <td>[leg extension machine]</td>\n",
       "    </tr>\n",
       "    <tr>\n",
       "      <th>3</th>\n",
       "      <td>dumbbell lunge</td>\n",
       "      <td>[dumbbell]</td>\n",
       "    </tr>\n",
       "    <tr>\n",
       "      <th>4</th>\n",
       "      <td>dumbbell squat</td>\n",
       "      <td>[dumbbell]</td>\n",
       "    </tr>\n",
       "  </tbody>\n",
       "</table>\n",
       "</div>"
      ],
      "text/plain": [
       "                    name                equipment\n",
       "0  dumbbell goblet squat               [dumbbell]\n",
       "1     barbell back squat           [bar, barbell]\n",
       "2          leg extension  [leg extension machine]\n",
       "3         dumbbell lunge               [dumbbell]\n",
       "4         dumbbell squat               [dumbbell]"
      ]
     },
     "execution_count": 255,
     "metadata": {},
     "output_type": "execute_result"
    }
   ],
   "source": [
    "uses.head()"
   ]
  },
  {
   "cell_type": "code",
   "execution_count": 256,
   "id": "c07e0b99",
   "metadata": {},
   "outputs": [],
   "source": [
    "uses_dict = {'name':[],'relation':[], 'equipment':[]}"
   ]
  },
  {
   "cell_type": "code",
   "execution_count": 257,
   "id": "e419acd4",
   "metadata": {},
   "outputs": [],
   "source": [
    "for index, data in uses.iterrows():\n",
    "    for equipment in data[1]:\n",
    "        uses_dict['name'].append(data[0])\n",
    "        uses_dict['equipment'].append(equipment)\n",
    "        uses_dict['relation'].append(\"USES\")"
   ]
  },
  {
   "cell_type": "code",
   "execution_count": 258,
   "id": "d4737a4f",
   "metadata": {},
   "outputs": [],
   "source": [
    "# uses[\"relation\"] = \"USES\""
   ]
  },
  {
   "cell_type": "code",
   "execution_count": 259,
   "id": "63dbd205",
   "metadata": {},
   "outputs": [],
   "source": [
    "uses = pd.DataFrame.from_dict(uses_dict)"
   ]
  },
  {
   "cell_type": "code",
   "execution_count": 260,
   "id": "dda39234",
   "metadata": {},
   "outputs": [
    {
     "data": {
      "text/html": [
       "<div>\n",
       "<style scoped>\n",
       "    .dataframe tbody tr th:only-of-type {\n",
       "        vertical-align: middle;\n",
       "    }\n",
       "\n",
       "    .dataframe tbody tr th {\n",
       "        vertical-align: top;\n",
       "    }\n",
       "\n",
       "    .dataframe thead th {\n",
       "        text-align: right;\n",
       "    }\n",
       "</style>\n",
       "<table border=\"1\" class=\"dataframe\">\n",
       "  <thead>\n",
       "    <tr style=\"text-align: right;\">\n",
       "      <th></th>\n",
       "      <th>name</th>\n",
       "      <th>relation</th>\n",
       "      <th>equipment</th>\n",
       "    </tr>\n",
       "  </thead>\n",
       "  <tbody>\n",
       "    <tr>\n",
       "      <th>0</th>\n",
       "      <td>dumbbell goblet squat</td>\n",
       "      <td>USES</td>\n",
       "      <td>dumbbell</td>\n",
       "    </tr>\n",
       "    <tr>\n",
       "      <th>1</th>\n",
       "      <td>barbell back squat</td>\n",
       "      <td>USES</td>\n",
       "      <td>bar</td>\n",
       "    </tr>\n",
       "    <tr>\n",
       "      <th>2</th>\n",
       "      <td>barbell back squat</td>\n",
       "      <td>USES</td>\n",
       "      <td>barbell</td>\n",
       "    </tr>\n",
       "    <tr>\n",
       "      <th>3</th>\n",
       "      <td>leg extension</td>\n",
       "      <td>USES</td>\n",
       "      <td>leg extension machine</td>\n",
       "    </tr>\n",
       "    <tr>\n",
       "      <th>4</th>\n",
       "      <td>dumbbell lunge</td>\n",
       "      <td>USES</td>\n",
       "      <td>dumbbell</td>\n",
       "    </tr>\n",
       "  </tbody>\n",
       "</table>\n",
       "</div>"
      ],
      "text/plain": [
       "                    name relation              equipment\n",
       "0  dumbbell goblet squat     USES               dumbbell\n",
       "1     barbell back squat     USES                    bar\n",
       "2     barbell back squat     USES                barbell\n",
       "3          leg extension     USES  leg extension machine\n",
       "4         dumbbell lunge     USES               dumbbell"
      ]
     },
     "execution_count": 260,
     "metadata": {},
     "output_type": "execute_result"
    }
   ],
   "source": [
    "uses.head()"
   ]
  },
  {
   "cell_type": "code",
   "execution_count": 261,
   "id": "607f265c",
   "metadata": {},
   "outputs": [],
   "source": [
    "uses.to_csv(\"Data_KG_Creation/rel_USES.csv\", index = False)"
   ]
  },
  {
   "cell_type": "markdown",
   "id": "cfc890e7",
   "metadata": {},
   "source": [
    "#### TARGETS GYM"
   ]
  },
  {
   "cell_type": "code",
   "execution_count": 262,
   "id": "d12d8471",
   "metadata": {},
   "outputs": [
    {
     "data": {
      "text/plain": [
       "(1006, 15)"
      ]
     },
     "execution_count": 262,
     "metadata": {},
     "output_type": "execute_result"
    }
   ],
   "source": [
    "exercise_group_df_merged.shape"
   ]
  },
  {
   "cell_type": "code",
   "execution_count": 263,
   "id": "8b33dc37",
   "metadata": {},
   "outputs": [],
   "source": [
    "targets = {\"exercise\":[],\"muscle\":[], \"is_primary\":[]}\n",
    "for index, data in exercise_group_df_merged[[\"name\",\"muscle\"]].iterrows():\n",
    "    for muscle in data[1]:\n",
    "        targets[\"exercise\"].append(data[0])\n",
    "        targets[\"muscle\"].append(muscle)\n",
    "        targets[\"is_primary\"].append(\"Yes\")"
   ]
  },
  {
   "cell_type": "code",
   "execution_count": 264,
   "id": "3f96ceeb",
   "metadata": {},
   "outputs": [],
   "source": [
    "for index, data in exercise_group_df_merged[[\"name\",\"secondary_muscle\"]].iterrows():\n",
    "    for muscle in data[1]:\n",
    "        if muscle!=\"none\":\n",
    "            targets[\"exercise\"].append(data[0])\n",
    "            targets[\"muscle\"].append(muscle.strip())\n",
    "            targets[\"is_primary\"].append(\"No\")"
   ]
  },
  {
   "cell_type": "code",
   "execution_count": 265,
   "id": "e4e28995",
   "metadata": {},
   "outputs": [
    {
     "data": {
      "text/html": [
       "<div>\n",
       "<style scoped>\n",
       "    .dataframe tbody tr th:only-of-type {\n",
       "        vertical-align: middle;\n",
       "    }\n",
       "\n",
       "    .dataframe tbody tr th {\n",
       "        vertical-align: top;\n",
       "    }\n",
       "\n",
       "    .dataframe thead th {\n",
       "        text-align: right;\n",
       "    }\n",
       "</style>\n",
       "<table border=\"1\" class=\"dataframe\">\n",
       "  <thead>\n",
       "    <tr style=\"text-align: right;\">\n",
       "      <th></th>\n",
       "      <th>exercise</th>\n",
       "      <th>muscle</th>\n",
       "      <th>is_primary</th>\n",
       "    </tr>\n",
       "  </thead>\n",
       "  <tbody>\n",
       "    <tr>\n",
       "      <th>0</th>\n",
       "      <td>dumbbell goblet squat</td>\n",
       "      <td>quadriceps</td>\n",
       "      <td>Yes</td>\n",
       "    </tr>\n",
       "    <tr>\n",
       "      <th>1</th>\n",
       "      <td>barbell back squat</td>\n",
       "      <td>gluteus maximus</td>\n",
       "      <td>Yes</td>\n",
       "    </tr>\n",
       "    <tr>\n",
       "      <th>2</th>\n",
       "      <td>barbell back squat</td>\n",
       "      <td>quadriceps</td>\n",
       "      <td>Yes</td>\n",
       "    </tr>\n",
       "    <tr>\n",
       "      <th>3</th>\n",
       "      <td>leg extension</td>\n",
       "      <td>quadriceps</td>\n",
       "      <td>Yes</td>\n",
       "    </tr>\n",
       "    <tr>\n",
       "      <th>4</th>\n",
       "      <td>dumbbell lunge</td>\n",
       "      <td>gluteus maximus</td>\n",
       "      <td>Yes</td>\n",
       "    </tr>\n",
       "  </tbody>\n",
       "</table>\n",
       "</div>"
      ],
      "text/plain": [
       "                exercise           muscle is_primary\n",
       "0  dumbbell goblet squat       quadriceps        Yes\n",
       "1     barbell back squat  gluteus maximus        Yes\n",
       "2     barbell back squat       quadriceps        Yes\n",
       "3          leg extension       quadriceps        Yes\n",
       "4         dumbbell lunge  gluteus maximus        Yes"
      ]
     },
     "execution_count": 265,
     "metadata": {},
     "output_type": "execute_result"
    }
   ],
   "source": [
    "target_df = pd.DataFrame.from_dict(targets)\n",
    "target_df.head()"
   ]
  },
  {
   "cell_type": "code",
   "execution_count": 266,
   "id": "8fb29e82",
   "metadata": {},
   "outputs": [
    {
     "data": {
      "text/plain": [
       "No     2602\n",
       "Yes    1312\n",
       "Name: is_primary, dtype: int64"
      ]
     },
     "execution_count": 266,
     "metadata": {},
     "output_type": "execute_result"
    }
   ],
   "source": [
    "target_df.is_primary.value_counts()"
   ]
  },
  {
   "cell_type": "code",
   "execution_count": 267,
   "id": "c0425310",
   "metadata": {},
   "outputs": [
    {
     "data": {
      "text/plain": [
       "exercise      0\n",
       "muscle        0\n",
       "is_primary    0\n",
       "dtype: int64"
      ]
     },
     "execution_count": 267,
     "metadata": {},
     "output_type": "execute_result"
    }
   ],
   "source": [
    "target_df.isnull().sum()"
   ]
  },
  {
   "cell_type": "code",
   "execution_count": 268,
   "id": "000ecb0e",
   "metadata": {},
   "outputs": [],
   "source": [
    "target_df[\"relation\"] = \"TARGETS\""
   ]
  },
  {
   "cell_type": "code",
   "execution_count": 269,
   "id": "ebdac28d",
   "metadata": {},
   "outputs": [],
   "source": [
    "target_df[[\"exercise\", \"relation\", \"muscle\", \"is_primary\"]].to_csv(\"Data_KG_Creation/rel_TARGETS.csv\", index = False)"
   ]
  },
  {
   "cell_type": "markdown",
   "id": "9c149467",
   "metadata": {},
   "source": [
    "### TARGETS YOGA"
   ]
  },
  {
   "cell_type": "code",
   "execution_count": 270,
   "id": "4e2d7a77",
   "metadata": {},
   "outputs": [
    {
     "data": {
      "text/html": [
       "<div>\n",
       "<style scoped>\n",
       "    .dataframe tbody tr th:only-of-type {\n",
       "        vertical-align: middle;\n",
       "    }\n",
       "\n",
       "    .dataframe tbody tr th {\n",
       "        vertical-align: top;\n",
       "    }\n",
       "\n",
       "    .dataframe thead th {\n",
       "        text-align: right;\n",
       "    }\n",
       "</style>\n",
       "<table border=\"1\" class=\"dataframe\">\n",
       "  <thead>\n",
       "    <tr style=\"text-align: right;\">\n",
       "      <th></th>\n",
       "      <th>name</th>\n",
       "      <th>Anatomies</th>\n",
       "    </tr>\n",
       "  </thead>\n",
       "  <tbody>\n",
       "    <tr>\n",
       "      <th>0</th>\n",
       "      <td>child's pose</td>\n",
       "      <td>[thighs, ankles, hips]</td>\n",
       "    </tr>\n",
       "    <tr>\n",
       "      <th>1</th>\n",
       "      <td>crow pose</td>\n",
       "      <td>[abs, back, flexors, wrists, arms, belly, hands]</td>\n",
       "    </tr>\n",
       "    <tr>\n",
       "      <th>2</th>\n",
       "      <td>cat pose</td>\n",
       "      <td>[back, pelvis, lungs, hips, heart, kidneys, ne...</td>\n",
       "    </tr>\n",
       "    <tr>\n",
       "      <th>3</th>\n",
       "      <td>cow pose</td>\n",
       "      <td>[back, pelvis, lungs, hips, heart, kidneys, ne...</td>\n",
       "    </tr>\n",
       "    <tr>\n",
       "      <th>4</th>\n",
       "      <td>corpse pose</td>\n",
       "      <td>NaN</td>\n",
       "    </tr>\n",
       "    <tr>\n",
       "      <th>...</th>\n",
       "      <td>...</td>\n",
       "      <td>...</td>\n",
       "    </tr>\n",
       "    <tr>\n",
       "      <th>87</th>\n",
       "      <td>dolphin plank pose</td>\n",
       "      <td>[abs, back, neck, arms, shoulders, heart, hands]</td>\n",
       "    </tr>\n",
       "    <tr>\n",
       "      <th>88</th>\n",
       "      <td>extended hand-to-big-toe pose</td>\n",
       "      <td>[thighs, legs, ankles, hamstrings, back, knees...</td>\n",
       "    </tr>\n",
       "    <tr>\n",
       "      <th>89</th>\n",
       "      <td>fire log pose</td>\n",
       "      <td>[belly, gluteus maximus, hips]</td>\n",
       "    </tr>\n",
       "    <tr>\n",
       "      <th>90</th>\n",
       "      <td>extended side angle pose</td>\n",
       "      <td>[legs, abs, ankles, knees, spine, belly]</td>\n",
       "    </tr>\n",
       "    <tr>\n",
       "      <th>91</th>\n",
       "      <td>easy pose</td>\n",
       "      <td>[thighs, legs, ankles, knees, back, lungs, hip...</td>\n",
       "    </tr>\n",
       "  </tbody>\n",
       "</table>\n",
       "<p>92 rows × 2 columns</p>\n",
       "</div>"
      ],
      "text/plain": [
       "                             name  \\\n",
       "0                    child's pose   \n",
       "1                       crow pose   \n",
       "2                        cat pose   \n",
       "3                        cow pose   \n",
       "4                     corpse pose   \n",
       "..                            ...   \n",
       "87             dolphin plank pose   \n",
       "88  extended hand-to-big-toe pose   \n",
       "89                  fire log pose   \n",
       "90       extended side angle pose   \n",
       "91                      easy pose   \n",
       "\n",
       "                                            Anatomies  \n",
       "0                              [thighs, ankles, hips]  \n",
       "1    [abs, back, flexors, wrists, arms, belly, hands]  \n",
       "2   [back, pelvis, lungs, hips, heart, kidneys, ne...  \n",
       "3   [back, pelvis, lungs, hips, heart, kidneys, ne...  \n",
       "4                                                 NaN  \n",
       "..                                                ...  \n",
       "87   [abs, back, neck, arms, shoulders, heart, hands]  \n",
       "88  [thighs, legs, ankles, hamstrings, back, knees...  \n",
       "89                     [belly, gluteus maximus, hips]  \n",
       "90           [legs, abs, ankles, knees, spine, belly]  \n",
       "91  [thighs, legs, ankles, knees, back, lungs, hip...  \n",
       "\n",
       "[92 rows x 2 columns]"
      ]
     },
     "execution_count": 270,
     "metadata": {},
     "output_type": "execute_result"
    }
   ],
   "source": [
    "yoga_details_full[[\"name\", \"Anatomies\"]]"
   ]
  },
  {
   "cell_type": "code",
   "execution_count": 271,
   "id": "d83d100b",
   "metadata": {},
   "outputs": [],
   "source": [
    "targets_yoga = {\"name\":[],\"anatomy\":[]}\n",
    "for index, data in yoga_details_full[[\"name\", \"Anatomies\"]].dropna().iterrows():\n",
    "    for anatomy in data[1]:\n",
    "        targets_yoga[\"name\"].append(data[0])\n",
    "        targets_yoga[\"anatomy\"].append(anatomy)\n",
    "#         targets_yoga[\"anatomy\"].append(anatomy.split(\"|\")[0])"
   ]
  },
  {
   "cell_type": "code",
   "execution_count": 272,
   "id": "111de1c5",
   "metadata": {},
   "outputs": [
    {
     "data": {
      "text/html": [
       "<div>\n",
       "<style scoped>\n",
       "    .dataframe tbody tr th:only-of-type {\n",
       "        vertical-align: middle;\n",
       "    }\n",
       "\n",
       "    .dataframe tbody tr th {\n",
       "        vertical-align: top;\n",
       "    }\n",
       "\n",
       "    .dataframe thead th {\n",
       "        text-align: right;\n",
       "    }\n",
       "</style>\n",
       "<table border=\"1\" class=\"dataframe\">\n",
       "  <thead>\n",
       "    <tr style=\"text-align: right;\">\n",
       "      <th></th>\n",
       "      <th>name</th>\n",
       "      <th>anatomy</th>\n",
       "    </tr>\n",
       "  </thead>\n",
       "  <tbody>\n",
       "    <tr>\n",
       "      <th>0</th>\n",
       "      <td>child's pose</td>\n",
       "      <td>thighs</td>\n",
       "    </tr>\n",
       "    <tr>\n",
       "      <th>1</th>\n",
       "      <td>child's pose</td>\n",
       "      <td>ankles</td>\n",
       "    </tr>\n",
       "    <tr>\n",
       "      <th>2</th>\n",
       "      <td>child's pose</td>\n",
       "      <td>hips</td>\n",
       "    </tr>\n",
       "    <tr>\n",
       "      <th>3</th>\n",
       "      <td>crow pose</td>\n",
       "      <td>abs</td>\n",
       "    </tr>\n",
       "    <tr>\n",
       "      <th>4</th>\n",
       "      <td>crow pose</td>\n",
       "      <td>back</td>\n",
       "    </tr>\n",
       "  </tbody>\n",
       "</table>\n",
       "</div>"
      ],
      "text/plain": [
       "           name anatomy\n",
       "0  child's pose  thighs\n",
       "1  child's pose  ankles\n",
       "2  child's pose    hips\n",
       "3     crow pose     abs\n",
       "4     crow pose    back"
      ]
     },
     "execution_count": 272,
     "metadata": {},
     "output_type": "execute_result"
    }
   ],
   "source": [
    "targets_yoga = pd.DataFrame.from_dict(targets_yoga)\n",
    "targets_yoga.head()"
   ]
  },
  {
   "cell_type": "code",
   "execution_count": 273,
   "id": "9e82f0c0",
   "metadata": {},
   "outputs": [],
   "source": [
    "# targets_yoga.anatomy = targets_yoga.anatomy.str.lower()"
   ]
  },
  {
   "cell_type": "code",
   "execution_count": 274,
   "id": "375d6816",
   "metadata": {},
   "outputs": [],
   "source": [
    "targets_yoga[\"relation\"] = \"TARGETS\""
   ]
  },
  {
   "cell_type": "code",
   "execution_count": 275,
   "id": "b74bc5f5",
   "metadata": {},
   "outputs": [
    {
     "data": {
      "text/html": [
       "<div>\n",
       "<style scoped>\n",
       "    .dataframe tbody tr th:only-of-type {\n",
       "        vertical-align: middle;\n",
       "    }\n",
       "\n",
       "    .dataframe tbody tr th {\n",
       "        vertical-align: top;\n",
       "    }\n",
       "\n",
       "    .dataframe thead th {\n",
       "        text-align: right;\n",
       "    }\n",
       "</style>\n",
       "<table border=\"1\" class=\"dataframe\">\n",
       "  <thead>\n",
       "    <tr style=\"text-align: right;\">\n",
       "      <th></th>\n",
       "      <th>name</th>\n",
       "      <th>anatomy</th>\n",
       "      <th>relation</th>\n",
       "    </tr>\n",
       "  </thead>\n",
       "  <tbody>\n",
       "    <tr>\n",
       "      <th>0</th>\n",
       "      <td>child's pose</td>\n",
       "      <td>thighs</td>\n",
       "      <td>TARGETS</td>\n",
       "    </tr>\n",
       "    <tr>\n",
       "      <th>1</th>\n",
       "      <td>child's pose</td>\n",
       "      <td>ankles</td>\n",
       "      <td>TARGETS</td>\n",
       "    </tr>\n",
       "    <tr>\n",
       "      <th>2</th>\n",
       "      <td>child's pose</td>\n",
       "      <td>hips</td>\n",
       "      <td>TARGETS</td>\n",
       "    </tr>\n",
       "    <tr>\n",
       "      <th>3</th>\n",
       "      <td>crow pose</td>\n",
       "      <td>abs</td>\n",
       "      <td>TARGETS</td>\n",
       "    </tr>\n",
       "    <tr>\n",
       "      <th>4</th>\n",
       "      <td>crow pose</td>\n",
       "      <td>back</td>\n",
       "      <td>TARGETS</td>\n",
       "    </tr>\n",
       "  </tbody>\n",
       "</table>\n",
       "</div>"
      ],
      "text/plain": [
       "           name anatomy relation\n",
       "0  child's pose  thighs  TARGETS\n",
       "1  child's pose  ankles  TARGETS\n",
       "2  child's pose    hips  TARGETS\n",
       "3     crow pose     abs  TARGETS\n",
       "4     crow pose    back  TARGETS"
      ]
     },
     "execution_count": 275,
     "metadata": {},
     "output_type": "execute_result"
    }
   ],
   "source": [
    "targets_yoga.head()"
   ]
  },
  {
   "cell_type": "code",
   "execution_count": 276,
   "id": "6b7ef828",
   "metadata": {},
   "outputs": [],
   "source": [
    "targets_yoga[[\"name\", \"relation\", \"anatomy\"]].to_csv(\"Data_KG_Creation/rel_TARGETS_yoga.csv\", index = False)"
   ]
  },
  {
   "cell_type": "markdown",
   "id": "b24caf96",
   "metadata": {},
   "source": [
    "#### PRECEDES"
   ]
  },
  {
   "cell_type": "code",
   "execution_count": 277,
   "id": "bd8fc5e4",
   "metadata": {
    "scrolled": false
   },
   "outputs": [
    {
     "data": {
      "text/html": [
       "<div>\n",
       "<style scoped>\n",
       "    .dataframe tbody tr th:only-of-type {\n",
       "        vertical-align: middle;\n",
       "    }\n",
       "\n",
       "    .dataframe tbody tr th {\n",
       "        vertical-align: top;\n",
       "    }\n",
       "\n",
       "    .dataframe thead th {\n",
       "        text-align: right;\n",
       "    }\n",
       "</style>\n",
       "<table border=\"1\" class=\"dataframe\">\n",
       "  <thead>\n",
       "    <tr style=\"text-align: right;\">\n",
       "      <th></th>\n",
       "      <th>name</th>\n",
       "      <th>preparatory_poses</th>\n",
       "    </tr>\n",
       "  </thead>\n",
       "  <tbody>\n",
       "    <tr>\n",
       "      <th>0</th>\n",
       "      <td>child's pose</td>\n",
       "      <td>[Balasana can appear at the beginning of class...</td>\n",
       "    </tr>\n",
       "    <tr>\n",
       "      <th>1</th>\n",
       "      <td>crow pose</td>\n",
       "      <td>[Chaturanga Dandasana (Four-Limbed Staff Pose)]</td>\n",
       "    </tr>\n",
       "    <tr>\n",
       "      <th>2</th>\n",
       "      <td>cat pose</td>\n",
       "      <td>[Tabletop]</td>\n",
       "    </tr>\n",
       "    <tr>\n",
       "      <th>3</th>\n",
       "      <td>cow pose</td>\n",
       "      <td>[Marjaryasana (Cat Pose), Balasana (Child’s Po...</td>\n",
       "    </tr>\n",
       "    <tr>\n",
       "      <th>4</th>\n",
       "      <td>corpse pose</td>\n",
       "      <td>[Any poses you practiced prior to Savasana ser...</td>\n",
       "    </tr>\n",
       "    <tr>\n",
       "      <th>...</th>\n",
       "      <td>...</td>\n",
       "      <td>...</td>\n",
       "    </tr>\n",
       "    <tr>\n",
       "      <th>87</th>\n",
       "      <td>dolphin plank pose</td>\n",
       "      <td>[Plank Pose]</td>\n",
       "    </tr>\n",
       "    <tr>\n",
       "      <th>88</th>\n",
       "      <td>extended hand-to-big-toe pose</td>\n",
       "      <td>[Virabhadrasana I (Warrior Pose I), Tadasana (...</td>\n",
       "    </tr>\n",
       "    <tr>\n",
       "      <th>89</th>\n",
       "      <td>fire log pose</td>\n",
       "      <td>[Baddha Konasana, Supta Baddha Konasana]</td>\n",
       "    </tr>\n",
       "    <tr>\n",
       "      <th>90</th>\n",
       "      <td>extended side angle pose</td>\n",
       "      <td>[Since Extended Side Angle engages nearly the ...</td>\n",
       "    </tr>\n",
       "    <tr>\n",
       "      <th>91</th>\n",
       "      <td>easy pose</td>\n",
       "      <td>[Dandasana (Staff Pose)]</td>\n",
       "    </tr>\n",
       "  </tbody>\n",
       "</table>\n",
       "<p>92 rows × 2 columns</p>\n",
       "</div>"
      ],
      "text/plain": [
       "                             name  \\\n",
       "0                    child's pose   \n",
       "1                       crow pose   \n",
       "2                        cat pose   \n",
       "3                        cow pose   \n",
       "4                     corpse pose   \n",
       "..                            ...   \n",
       "87             dolphin plank pose   \n",
       "88  extended hand-to-big-toe pose   \n",
       "89                  fire log pose   \n",
       "90       extended side angle pose   \n",
       "91                      easy pose   \n",
       "\n",
       "                                    preparatory_poses  \n",
       "0   [Balasana can appear at the beginning of class...  \n",
       "1     [Chaturanga Dandasana (Four-Limbed Staff Pose)]  \n",
       "2                                          [Tabletop]  \n",
       "3   [Marjaryasana (Cat Pose), Balasana (Child’s Po...  \n",
       "4   [Any poses you practiced prior to Savasana ser...  \n",
       "..                                                ...  \n",
       "87                                       [Plank Pose]  \n",
       "88  [Virabhadrasana I (Warrior Pose I), Tadasana (...  \n",
       "89           [Baddha Konasana, Supta Baddha Konasana]  \n",
       "90  [Since Extended Side Angle engages nearly the ...  \n",
       "91                           [Dandasana (Staff Pose)]  \n",
       "\n",
       "[92 rows x 2 columns]"
      ]
     },
     "execution_count": 277,
     "metadata": {},
     "output_type": "execute_result"
    }
   ],
   "source": [
    "yoga_details_full[[\"name\", \"preparatory_poses\"]]"
   ]
  },
  {
   "cell_type": "code",
   "execution_count": 278,
   "id": "d06f1dd1",
   "metadata": {},
   "outputs": [
    {
     "data": {
      "text/plain": [
       "array([list(['Since Extended Side Angle engages nearly the entire body, you want to first incorporate poses into your practice that address full-body movement, including', 'Surya Namaskar A', '. Also emphasize poses that lengthen your side body and stretch your hamstrings, hip flexors, and quadriceps.'])],\n",
       "      dtype=object)"
      ]
     },
     "execution_count": 278,
     "metadata": {},
     "output_type": "execute_result"
    }
   ],
   "source": [
    "yoga_details_full[yoga_details_full.name==\"extended side angle pose\"][\"preparatory_poses\"].values"
   ]
  },
  {
   "cell_type": "code",
   "execution_count": 279,
   "id": "9742dfb6",
   "metadata": {},
   "outputs": [],
   "source": [
    "preparatory = {'yoga1':[], 'yoga2':[]}\n",
    "for index, data in yoga_details_full[[\"name\", \"followup_poses\"]].iterrows():\n",
    "    for poses in data[1]:\n",
    "        if \"beginning\" not in poses or \"Surya Namaskar\" not in poses:\n",
    "            preparatory[\"yoga1\"].append(data[0])\n",
    "            pose = unifyYogaNames(poses.split(\"(\")[-1].replace(\")\", \"\").lower())\n",
    "            preparatory[\"yoga2\"].append(pose)"
   ]
  },
  {
   "cell_type": "code",
   "execution_count": 280,
   "id": "fac5ea23",
   "metadata": {},
   "outputs": [
    {
     "data": {
      "text/html": [
       "<div>\n",
       "<style scoped>\n",
       "    .dataframe tbody tr th:only-of-type {\n",
       "        vertical-align: middle;\n",
       "    }\n",
       "\n",
       "    .dataframe tbody tr th {\n",
       "        vertical-align: top;\n",
       "    }\n",
       "\n",
       "    .dataframe thead th {\n",
       "        text-align: right;\n",
       "    }\n",
       "</style>\n",
       "<table border=\"1\" class=\"dataframe\">\n",
       "  <thead>\n",
       "    <tr style=\"text-align: right;\">\n",
       "      <th></th>\n",
       "      <th>yoga1</th>\n",
       "      <th>yoga2</th>\n",
       "    </tr>\n",
       "  </thead>\n",
       "  <tbody>\n",
       "    <tr>\n",
       "      <th>0</th>\n",
       "      <td>crow pose</td>\n",
       "      <td>four-limbed staff pose</td>\n",
       "    </tr>\n",
       "    <tr>\n",
       "      <th>1</th>\n",
       "      <td>cat pose</td>\n",
       "      <td>cow pose</td>\n",
       "    </tr>\n",
       "    <tr>\n",
       "      <th>2</th>\n",
       "      <td>cow pose</td>\n",
       "      <td>cat pose</td>\n",
       "    </tr>\n",
       "    <tr>\n",
       "      <th>3</th>\n",
       "      <td>cow pose</td>\n",
       "      <td>child's pose</td>\n",
       "    </tr>\n",
       "    <tr>\n",
       "      <th>4</th>\n",
       "      <td>cow pose</td>\n",
       "      <td>standing forward bend</td>\n",
       "    </tr>\n",
       "  </tbody>\n",
       "</table>\n",
       "</div>"
      ],
      "text/plain": [
       "       yoga1                   yoga2\n",
       "0  crow pose  four-limbed staff pose\n",
       "1   cat pose                cow pose\n",
       "2   cow pose                cat pose\n",
       "3   cow pose            child's pose\n",
       "4   cow pose   standing forward bend"
      ]
     },
     "execution_count": 280,
     "metadata": {},
     "output_type": "execute_result"
    }
   ],
   "source": [
    "preparatory_yoga = pd.DataFrame.from_dict(preparatory)\n",
    "preparatory_yoga.head()"
   ]
  },
  {
   "cell_type": "code",
   "execution_count": 281,
   "id": "f8cf4a9e",
   "metadata": {},
   "outputs": [],
   "source": [
    "preparatory_yoga[\"relation\"] = \"PRECEDES\""
   ]
  },
  {
   "cell_type": "code",
   "execution_count": 282,
   "id": "d19539f5",
   "metadata": {},
   "outputs": [],
   "source": [
    "preparatory_yoga[[\"yoga1\",\"relation\",\"yoga2\"]].to_csv(\"Data_KG_Creation/rel_PRECEDS_yoga.csv\", index = False)"
   ]
  },
  {
   "cell_type": "markdown",
   "id": "d8a59de5",
   "metadata": {},
   "source": [
    "#### FOLLOWS"
   ]
  },
  {
   "cell_type": "code",
   "execution_count": 283,
   "id": "8d3460e3",
   "metadata": {},
   "outputs": [
    {
     "data": {
      "text/html": [
       "<div>\n",
       "<style scoped>\n",
       "    .dataframe tbody tr th:only-of-type {\n",
       "        vertical-align: middle;\n",
       "    }\n",
       "\n",
       "    .dataframe tbody tr th {\n",
       "        vertical-align: top;\n",
       "    }\n",
       "\n",
       "    .dataframe thead th {\n",
       "        text-align: right;\n",
       "    }\n",
       "</style>\n",
       "<table border=\"1\" class=\"dataframe\">\n",
       "  <thead>\n",
       "    <tr style=\"text-align: right;\">\n",
       "      <th></th>\n",
       "      <th>name</th>\n",
       "      <th>preparatory_poses</th>\n",
       "    </tr>\n",
       "  </thead>\n",
       "  <tbody>\n",
       "    <tr>\n",
       "      <th>0</th>\n",
       "      <td>child's pose</td>\n",
       "      <td>[Balasana can appear at the beginning of class...</td>\n",
       "    </tr>\n",
       "    <tr>\n",
       "      <th>1</th>\n",
       "      <td>crow pose</td>\n",
       "      <td>[Chaturanga Dandasana (Four-Limbed Staff Pose)]</td>\n",
       "    </tr>\n",
       "    <tr>\n",
       "      <th>2</th>\n",
       "      <td>cat pose</td>\n",
       "      <td>[Tabletop]</td>\n",
       "    </tr>\n",
       "    <tr>\n",
       "      <th>3</th>\n",
       "      <td>cow pose</td>\n",
       "      <td>[Marjaryasana (Cat Pose), Balasana (Child’s Po...</td>\n",
       "    </tr>\n",
       "    <tr>\n",
       "      <th>4</th>\n",
       "      <td>corpse pose</td>\n",
       "      <td>[Any poses you practiced prior to Savasana ser...</td>\n",
       "    </tr>\n",
       "    <tr>\n",
       "      <th>...</th>\n",
       "      <td>...</td>\n",
       "      <td>...</td>\n",
       "    </tr>\n",
       "    <tr>\n",
       "      <th>87</th>\n",
       "      <td>dolphin plank pose</td>\n",
       "      <td>[Plank Pose]</td>\n",
       "    </tr>\n",
       "    <tr>\n",
       "      <th>88</th>\n",
       "      <td>extended hand-to-big-toe pose</td>\n",
       "      <td>[Virabhadrasana I (Warrior Pose I), Tadasana (...</td>\n",
       "    </tr>\n",
       "    <tr>\n",
       "      <th>89</th>\n",
       "      <td>fire log pose</td>\n",
       "      <td>[Baddha Konasana, Supta Baddha Konasana]</td>\n",
       "    </tr>\n",
       "    <tr>\n",
       "      <th>90</th>\n",
       "      <td>extended side angle pose</td>\n",
       "      <td>[Since Extended Side Angle engages nearly the ...</td>\n",
       "    </tr>\n",
       "    <tr>\n",
       "      <th>91</th>\n",
       "      <td>easy pose</td>\n",
       "      <td>[Dandasana (Staff Pose)]</td>\n",
       "    </tr>\n",
       "  </tbody>\n",
       "</table>\n",
       "<p>92 rows × 2 columns</p>\n",
       "</div>"
      ],
      "text/plain": [
       "                             name  \\\n",
       "0                    child's pose   \n",
       "1                       crow pose   \n",
       "2                        cat pose   \n",
       "3                        cow pose   \n",
       "4                     corpse pose   \n",
       "..                            ...   \n",
       "87             dolphin plank pose   \n",
       "88  extended hand-to-big-toe pose   \n",
       "89                  fire log pose   \n",
       "90       extended side angle pose   \n",
       "91                      easy pose   \n",
       "\n",
       "                                    preparatory_poses  \n",
       "0   [Balasana can appear at the beginning of class...  \n",
       "1     [Chaturanga Dandasana (Four-Limbed Staff Pose)]  \n",
       "2                                          [Tabletop]  \n",
       "3   [Marjaryasana (Cat Pose), Balasana (Child’s Po...  \n",
       "4   [Any poses you practiced prior to Savasana ser...  \n",
       "..                                                ...  \n",
       "87                                       [Plank Pose]  \n",
       "88  [Virabhadrasana I (Warrior Pose I), Tadasana (...  \n",
       "89           [Baddha Konasana, Supta Baddha Konasana]  \n",
       "90  [Since Extended Side Angle engages nearly the ...  \n",
       "91                           [Dandasana (Staff Pose)]  \n",
       "\n",
       "[92 rows x 2 columns]"
      ]
     },
     "execution_count": 283,
     "metadata": {},
     "output_type": "execute_result"
    }
   ],
   "source": [
    "yoga_details_full[[\"name\", \"preparatory_poses\"]]"
   ]
  },
  {
   "cell_type": "code",
   "execution_count": 284,
   "id": "4df420fe",
   "metadata": {},
   "outputs": [],
   "source": [
    "follow_up = {'yoga1':[], 'yoga2':[]}\n",
    "for index, data in yoga_details_full[[\"name\", \"preparatory_poses\"]].iterrows():\n",
    "    for poses in data[1]:\n",
    "        if poses:\n",
    "            follow_up[\"yoga1\"].append(data[0])\n",
    "            pose = unifyYogaNames(poses.split(\"(\")[-1].replace(\")\", \"\").lower())\n",
    "            follow_up[\"yoga2\"].append(pose)"
   ]
  },
  {
   "cell_type": "code",
   "execution_count": 285,
   "id": "9c2c8292",
   "metadata": {},
   "outputs": [
    {
     "data": {
      "text/html": [
       "<div>\n",
       "<style scoped>\n",
       "    .dataframe tbody tr th:only-of-type {\n",
       "        vertical-align: middle;\n",
       "    }\n",
       "\n",
       "    .dataframe tbody tr th {\n",
       "        vertical-align: top;\n",
       "    }\n",
       "\n",
       "    .dataframe thead th {\n",
       "        text-align: right;\n",
       "    }\n",
       "</style>\n",
       "<table border=\"1\" class=\"dataframe\">\n",
       "  <thead>\n",
       "    <tr style=\"text-align: right;\">\n",
       "      <th></th>\n",
       "      <th>yoga1</th>\n",
       "      <th>yoga2</th>\n",
       "    </tr>\n",
       "  </thead>\n",
       "  <tbody>\n",
       "    <tr>\n",
       "      <th>0</th>\n",
       "      <td>child's pose</td>\n",
       "      <td>balasana can appear at the beginning of class ...</td>\n",
       "    </tr>\n",
       "    <tr>\n",
       "      <th>1</th>\n",
       "      <td>crow pose</td>\n",
       "      <td>four-limbed staff pose</td>\n",
       "    </tr>\n",
       "    <tr>\n",
       "      <th>2</th>\n",
       "      <td>cat pose</td>\n",
       "      <td>tabletop</td>\n",
       "    </tr>\n",
       "    <tr>\n",
       "      <th>3</th>\n",
       "      <td>cow pose</td>\n",
       "      <td>cat pose</td>\n",
       "    </tr>\n",
       "    <tr>\n",
       "      <th>4</th>\n",
       "      <td>cow pose</td>\n",
       "      <td>child's pose</td>\n",
       "    </tr>\n",
       "  </tbody>\n",
       "</table>\n",
       "</div>"
      ],
      "text/plain": [
       "          yoga1                                              yoga2\n",
       "0  child's pose  balasana can appear at the beginning of class ...\n",
       "1     crow pose                             four-limbed staff pose\n",
       "2      cat pose                                           tabletop\n",
       "3      cow pose                                           cat pose\n",
       "4      cow pose                                       child's pose"
      ]
     },
     "execution_count": 285,
     "metadata": {},
     "output_type": "execute_result"
    }
   ],
   "source": [
    "follow_up_yoga = pd.DataFrame.from_dict(follow_up)\n",
    "follow_up_yoga.head()"
   ]
  },
  {
   "cell_type": "code",
   "execution_count": 286,
   "id": "61e12500",
   "metadata": {},
   "outputs": [
    {
     "data": {
      "text/html": [
       "<div>\n",
       "<style scoped>\n",
       "    .dataframe tbody tr th:only-of-type {\n",
       "        vertical-align: middle;\n",
       "    }\n",
       "\n",
       "    .dataframe tbody tr th {\n",
       "        vertical-align: top;\n",
       "    }\n",
       "\n",
       "    .dataframe thead th {\n",
       "        text-align: right;\n",
       "    }\n",
       "</style>\n",
       "<table border=\"1\" class=\"dataframe\">\n",
       "  <thead>\n",
       "    <tr style=\"text-align: right;\">\n",
       "      <th></th>\n",
       "      <th>yoga1</th>\n",
       "      <th>yoga2</th>\n",
       "    </tr>\n",
       "  </thead>\n",
       "  <tbody>\n",
       "    <tr>\n",
       "      <th>199</th>\n",
       "      <td>extended hand-to-big-toe pose</td>\n",
       "      <td>warrior pose i</td>\n",
       "    </tr>\n",
       "    <tr>\n",
       "      <th>200</th>\n",
       "      <td>extended hand-to-big-toe pose</td>\n",
       "      <td>mountain pose</td>\n",
       "    </tr>\n",
       "    <tr>\n",
       "      <th>201</th>\n",
       "      <td>extended hand-to-big-toe pose</td>\n",
       "      <td>reclining hand-to-big toe pose i</td>\n",
       "    </tr>\n",
       "    <tr>\n",
       "      <th>202</th>\n",
       "      <td>extended hand-to-big-toe pose</td>\n",
       "      <td>tree pose</td>\n",
       "    </tr>\n",
       "  </tbody>\n",
       "</table>\n",
       "</div>"
      ],
      "text/plain": [
       "                             yoga1                             yoga2\n",
       "199  extended hand-to-big-toe pose                    warrior pose i\n",
       "200  extended hand-to-big-toe pose                     mountain pose\n",
       "201  extended hand-to-big-toe pose  reclining hand-to-big toe pose i\n",
       "202  extended hand-to-big-toe pose                         tree pose"
      ]
     },
     "execution_count": 286,
     "metadata": {},
     "output_type": "execute_result"
    }
   ],
   "source": [
    "follow_up_yoga[follow_up_yoga.yoga1==\"extended hand-to-big-toe pose\"]"
   ]
  },
  {
   "cell_type": "code",
   "execution_count": 287,
   "id": "20890bb5",
   "metadata": {},
   "outputs": [],
   "source": [
    "follow_up_yoga[\"relation\"] = \"FOLLOWS\""
   ]
  },
  {
   "cell_type": "code",
   "execution_count": 288,
   "id": "26d69f9d",
   "metadata": {},
   "outputs": [],
   "source": [
    "follow_up_yoga[[\"yoga1\",\"relation\",\"yoga2\"]].to_csv(\"Data_KG_Creation/rel_FOLLOWS_yoga.csv\", index = False)"
   ]
  },
  {
   "cell_type": "markdown",
   "id": "d7b550c9",
   "metadata": {},
   "source": [
    "> change the apostrophe everywhere\n",
    "\n",
    "> do mapping of muscles\n",
    "\n",
    "> check the follows and preceds relation\n",
    "\n",
    "> uses -> implement manual checking of machines"
   ]
  }
 ],
 "metadata": {
  "kernelspec": {
   "display_name": "Python 3 (ipykernel)",
   "language": "python",
   "name": "python3"
  },
  "language_info": {
   "codemirror_mode": {
    "name": "ipython",
    "version": 3
   },
   "file_extension": ".py",
   "mimetype": "text/x-python",
   "name": "python",
   "nbconvert_exporter": "python",
   "pygments_lexer": "ipython3",
   "version": "3.9.7"
  }
 },
 "nbformat": 4,
 "nbformat_minor": 5
}

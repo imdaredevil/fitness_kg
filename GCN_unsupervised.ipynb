{
  "nbformat": 4,
  "nbformat_minor": 0,
  "metadata": {
    "colab": {
      "provenance": []
    },
    "kernelspec": {
      "name": "python3",
      "display_name": "Python 3"
    },
    "language_info": {
      "name": "python"
    },
    "accelerator": "GPU",
    "gpuClass": "standard"
  },
  "cells": [
    {
      "cell_type": "code",
      "execution_count": null,
      "metadata": {
        "colab": {
          "base_uri": "https://localhost:8080/"
        },
        "id": "cJlXOIqzCWUa",
        "outputId": "6639bc3b-5666-4ada-d211-d43e3b8b1252"
      },
      "outputs": [
        {
          "output_type": "stream",
          "name": "stdout",
          "text": [
            "Looking in indexes: https://pypi.org/simple, https://us-python.pkg.dev/colab-wheels/public/simple/\n",
            "Requirement already satisfied: torch in /usr/local/lib/python3.7/dist-packages (1.12.1+cu113)\n",
            "Requirement already satisfied: typing-extensions in /usr/local/lib/python3.7/dist-packages (from torch) (4.1.1)\n",
            "1.12.1+cu113\n",
            "Looking in indexes: https://pypi.org/simple, https://us-python.pkg.dev/colab-wheels/public/simple/\n",
            "Requirement already satisfied: pandas in /usr/local/lib/python3.7/dist-packages (1.3.5)\n",
            "Requirement already satisfied: python-dateutil>=2.7.3 in /usr/local/lib/python3.7/dist-packages (from pandas) (2.8.2)\n",
            "Requirement already satisfied: pytz>=2017.3 in /usr/local/lib/python3.7/dist-packages (from pandas) (2022.6)\n",
            "Requirement already satisfied: numpy>=1.17.3 in /usr/local/lib/python3.7/dist-packages (from pandas) (1.21.6)\n",
            "Requirement already satisfied: six>=1.5 in /usr/local/lib/python3.7/dist-packages (from python-dateutil>=2.7.3->pandas) (1.15.0)\n"
          ]
        }
      ],
      "source": [
        "!pip install torch\n",
        "import torch\n",
        "print(torch.__version__)\n",
        "\n",
        "!pip install pandas"
      ]
    },
    {
      "cell_type": "code",
      "source": [
        "!pip install torch-geometric torch-scatter torch-sparse -f https://data.pyg.org/whl/torch-{torch.__version__}.html"
      ],
      "metadata": {
        "colab": {
          "base_uri": "https://localhost:8080/"
        },
        "id": "-pIWcaJfCwsa",
        "outputId": "5a012e6e-0204-4e1e-83c7-f2e753d73f9a"
      },
      "execution_count": null,
      "outputs": [
        {
          "output_type": "stream",
          "name": "stdout",
          "text": [
            "Looking in indexes: https://pypi.org/simple, https://us-python.pkg.dev/colab-wheels/public/simple/\n",
            "Looking in links: https://data.pyg.org/whl/torch-1.12.1+cu113.html\n",
            "Collecting torch-geometric\n",
            "  Downloading torch_geometric-2.1.0.post1.tar.gz (467 kB)\n",
            "\u001b[K     |████████████████████████████████| 467 kB 14.0 MB/s \n",
            "\u001b[?25hCollecting torch-scatter\n",
            "  Downloading https://data.pyg.org/whl/torch-1.12.0%2Bcu113/torch_scatter-2.1.0%2Bpt112cu113-cp37-cp37m-linux_x86_64.whl (8.9 MB)\n",
            "\u001b[K     |████████████████████████████████| 8.9 MB 14.1 MB/s \n",
            "\u001b[?25hCollecting torch-sparse\n",
            "  Downloading https://data.pyg.org/whl/torch-1.12.0%2Bcu113/torch_sparse-0.6.15%2Bpt112cu113-cp37-cp37m-linux_x86_64.whl (3.5 MB)\n",
            "\u001b[K     |████████████████████████████████| 3.5 MB 67.8 MB/s \n",
            "\u001b[?25hRequirement already satisfied: tqdm in /usr/local/lib/python3.7/dist-packages (from torch-geometric) (4.64.1)\n",
            "Requirement already satisfied: numpy in /usr/local/lib/python3.7/dist-packages (from torch-geometric) (1.21.6)\n",
            "Requirement already satisfied: scipy in /usr/local/lib/python3.7/dist-packages (from torch-geometric) (1.7.3)\n",
            "Requirement already satisfied: jinja2 in /usr/local/lib/python3.7/dist-packages (from torch-geometric) (2.11.3)\n",
            "Requirement already satisfied: requests in /usr/local/lib/python3.7/dist-packages (from torch-geometric) (2.23.0)\n",
            "Requirement already satisfied: pyparsing in /usr/local/lib/python3.7/dist-packages (from torch-geometric) (3.0.9)\n",
            "Requirement already satisfied: scikit-learn in /usr/local/lib/python3.7/dist-packages (from torch-geometric) (1.0.2)\n",
            "Requirement already satisfied: MarkupSafe>=0.23 in /usr/local/lib/python3.7/dist-packages (from jinja2->torch-geometric) (2.0.1)\n",
            "Requirement already satisfied: chardet<4,>=3.0.2 in /usr/local/lib/python3.7/dist-packages (from requests->torch-geometric) (3.0.4)\n",
            "Requirement already satisfied: urllib3!=1.25.0,!=1.25.1,<1.26,>=1.21.1 in /usr/local/lib/python3.7/dist-packages (from requests->torch-geometric) (1.24.3)\n",
            "Requirement already satisfied: certifi>=2017.4.17 in /usr/local/lib/python3.7/dist-packages (from requests->torch-geometric) (2022.9.24)\n",
            "Requirement already satisfied: idna<3,>=2.5 in /usr/local/lib/python3.7/dist-packages (from requests->torch-geometric) (2.10)\n",
            "Requirement already satisfied: threadpoolctl>=2.0.0 in /usr/local/lib/python3.7/dist-packages (from scikit-learn->torch-geometric) (3.1.0)\n",
            "Requirement already satisfied: joblib>=0.11 in /usr/local/lib/python3.7/dist-packages (from scikit-learn->torch-geometric) (1.2.0)\n",
            "Building wheels for collected packages: torch-geometric\n",
            "  Building wheel for torch-geometric (setup.py) ... \u001b[?25l\u001b[?25hdone\n",
            "  Created wheel for torch-geometric: filename=torch_geometric-2.1.0.post1-py3-none-any.whl size=689859 sha256=7e65d66c004b92be64cf18166c7fca18d90efbcffa16b96ea029c65630b878e5\n",
            "  Stored in directory: /root/.cache/pip/wheels/d1/cb/43/f7f2e472de4d7cff31bceddadc36d634e1e545fbc17961c282\n",
            "Successfully built torch-geometric\n",
            "Installing collected packages: torch-sparse, torch-scatter, torch-geometric\n",
            "Successfully installed torch-geometric-2.1.0.post1 torch-scatter-2.1.0+pt112cu113 torch-sparse-0.6.15+pt112cu113\n"
          ]
        }
      ]
    },
    {
      "cell_type": "code",
      "source": [
        "import os\n",
        "import csv\n",
        "from copy import deepcopy\n",
        "import pandas as pd\n",
        "import random\n",
        "import tqdm\n",
        "from sklearn.model_selection import train_test_split\n",
        "from sklearn.preprocessing import OneHotEncoder, LabelEncoder\n",
        "import numpy as np\n",
        "import torch\n",
        "from torch import nn\n",
        "from torch_geometric import nn as gnn\n",
        "from torch.nn import functional as F\n",
        "from torch.utils import data\n",
        "from torch import optim\n",
        "from matplotlib import pyplot as plt\n",
        "import seaborn as sns\n",
        "from sklearn.metrics import accuracy_score, recall_score, precision_score, f1_score, confusion_matrix\n",
        "from tqdm import tqdm"
      ],
      "metadata": {
        "id": "FSZSzx4AK5or"
      },
      "execution_count": null,
      "outputs": []
    },
    {
      "cell_type": "code",
      "source": [
        "root_path = \"drive/MyDrive/kg_Data\"\n",
        "\n",
        "\n",
        "def get_data(file_path, convert_to_dict = True):\n",
        "  rows = []\n",
        "  with open(file_path) as csvf:\n",
        "    reader = csv.DictReader(csvf)\n",
        "    for row in reader:\n",
        "      rows.append(row)\n",
        "    if convert_to_dict:\n",
        "      rows = {row['name']: row for row in rows}\n",
        "    return rows, reader.fieldnames\n",
        "\n",
        "\n",
        "def get_relation_data(file_path, source_nodes, dest_nodes):\n",
        "  rows, fieldnames = get_data(file_path, convert_to_dict=False)\n",
        "  relations = [(row[fieldnames[0]], row[fieldnames[2]]) for row in rows]\n",
        "  relations = [rel for rel in relations if \n",
        "               ((rel[0] in source_nodes) and (rel[1] in dest_nodes))]\n",
        "  return relations\n",
        "\n",
        "anatomy, _ = get_data(os.path.join(root_path, \"anatomy.csv\"))\n",
        "equipment, _ = get_data(os.path.join(root_path, \"equipment.csv\"))\n",
        "exercise, _ = get_data(os.path.join(root_path, \"exercise.csv\"))\n",
        "muscles, _ = get_data(os.path.join(root_path, \"muscles.csv\"))\n",
        "yoga, _ = get_data(os.path.join(root_path, \"yoga.csv\"))\n",
        "\n",
        "muscle_and_anatomy = deepcopy(muscles)\n",
        "muscle_and_anatomy.update(anatomy)\n",
        "\n",
        "exercise_and_yoga = deepcopy(exercise)\n",
        "exercise_and_yoga.update(yoga)\n",
        "\n",
        "follows = get_relation_data(os.path.join(root_path, \"rel_FOLLOWS_yoga.csv\"), yoga, yoga)\n",
        "preceds = get_relation_data(os.path.join(root_path, \"rel_PRECEDS_yoga.csv\"), yoga, yoga)\n",
        "targets = get_relation_data(os.path.join(root_path, \"rel_TARGETS.csv\"), exercise, muscle_and_anatomy)\n",
        "targets_yoga = get_relation_data(os.path.join(root_path, \"rel_TARGETS_yoga.csv\"), yoga, muscle_and_anatomy)\n",
        "uses = get_relation_data(os.path.join(root_path, \"rel_USES.csv\"), exercise, equipment)\n",
        "part_of = get_relation_data(os.path.join(root_path, \"rel_PART_OF.csv\"), muscle_and_anatomy, muscle_and_anatomy)"
      ],
      "metadata": {
        "id": "I02vfnYGCy2Q"
      },
      "execution_count": null,
      "outputs": []
    },
    {
      "cell_type": "code",
      "source": [
        "len(follows), len(preceds), len(targets), len(targets_yoga), len(uses), len(part_of)"
      ],
      "metadata": {
        "colab": {
          "base_uri": "https://localhost:8080/"
        },
        "id": "hIKTxag7Hw9K",
        "outputId": "7e6cbea2-542f-4d3f-f55c-5704d8178724"
      },
      "execution_count": null,
      "outputs": [
        {
          "output_type": "execute_result",
          "data": {
            "text/plain": [
              "(175, 179, 3905, 478, 1424, 46)"
            ]
          },
          "metadata": {},
          "execution_count": 5
        }
      ]
    },
    {
      "cell_type": "code",
      "source": [
        "columns = {\n",
        "    'anatomy': [['name']],\n",
        "    'equipment': [['name']],\n",
        "    'exercise': [['name'], ['difficulty', 'force_type', 'mechanics', 'type']],\n",
        "    'muscles': [['name']],\n",
        "    'yoga': [['name']]\n",
        "}\n",
        "\n",
        "def convert_to_list(node_maps):\n",
        "  result = {}\n",
        "  feature_encoders = {}\n",
        "  for k, values in node_maps.items():\n",
        "    curr_list = []\n",
        "    for value in values.values():\n",
        "      curr_value = []\n",
        "      for col in columns[k][0]:\n",
        "        curr_value.append(value[col])\n",
        "      curr_value2 = []\n",
        "      if len(columns[k]) > 1:\n",
        "        for col in columns[k][1]:\n",
        "          curr_value2.append(value[col])\n",
        "      curr_list.append([curr_value[0], curr_value2])\n",
        "    curr_list.sort(key = lambda x: x[0])\n",
        "    curr_list1, curr_list2 = zip(*curr_list)\n",
        "    feature_encoders[k] = [LabelEncoder()]\n",
        "    result[k] = [torch.Tensor(feature_encoders[k][0].fit_transform(curr_list1)).unsqueeze(-1)]\n",
        "    if len(columns[k]) > 1:\n",
        "      feature_encoders[k].append(OneHotEncoder(handle_unknown='ignore'))\n",
        "      result[k].append(torch.Tensor(feature_encoders[k][1].fit_transform(curr_list2).toarray()))\n",
        "    result[k] = torch.cat(result[k], dim=1)\n",
        "  return result, feature_encoders"
      ],
      "metadata": {
        "id": "uNwazoDdiqw7"
      },
      "execution_count": null,
      "outputs": []
    },
    {
      "cell_type": "code",
      "source": [
        "node_type_map = {\n",
        "    'anatomy': anatomy,\n",
        "    'equipment': equipment,\n",
        "    'exercise': exercise,\n",
        "    'muscles': muscles,\n",
        "    'yoga': yoga\n",
        "}\n",
        "\n",
        "node_type_map_lookup = {}\n",
        "for key, value in node_type_map.items():\n",
        "  for node in value:\n",
        "    node_type_map_lookup[node] = key\n",
        "\n",
        "node_vectors, node_encoders = convert_to_list(node_type_map)\n",
        "\n",
        "def get_index_encoder(node_map):\n",
        "  nodes = [(node_type, node) for node_type, node_values in node_map.items() for node in node_values.keys()]\n",
        "  nodes.sort()\n",
        "  encoder = { node: index for index, (node_type, node) in enumerate(nodes)}\n",
        "  return encoder, [node[1] for node in nodes]\n",
        "index_encoder, index_decoder = get_index_encoder(node_type_map)"
      ],
      "metadata": {
        "id": "tteTACl2HwLp"
      },
      "execution_count": null,
      "outputs": []
    },
    {
      "cell_type": "code",
      "source": [
        "class Preprocessor(nn.Module):\n",
        "  def __init__(self, shapes, emb_size=256):\n",
        "    super(Preprocessor, self).__init__()\n",
        "    self.embedding_layers = nn.ModuleList([nn.Embedding(num_rows, (emb_size) - num_features + 1) for _, num_rows,num_features in shapes])\n",
        "    self.nn_layers = nn.ModuleList([nn.Linear(emb_size, emb_size) for _ in shapes])\n",
        "  \n",
        "  def forward(self, nodes):\n",
        "    result = []\n",
        "    for i, node_vector in enumerate(nodes):\n",
        "      x = self.embedding_layers[i](node_vector[:, 0].long())\n",
        "      if node_vector.shape[1] > 1:\n",
        "        x = torch.cat([x, node_vector[:, 1:]], dim=1)\n",
        "      x = self.nn_layers[i](x)\n",
        "      result.append(x)\n",
        "    result = torch.cat(result, dim = 0)\n",
        "    return result"
      ],
      "metadata": {
        "id": "sZ7rbbWGmros"
      },
      "execution_count": null,
      "outputs": []
    },
    {
      "cell_type": "code",
      "source": [
        "node_vector_shapes = [(k, value.shape[0], value.shape[1]) for k, value in node_vectors.items()]\n",
        "node_vector_shapes.sort()\n",
        "node_vector_list = [(k, value) for k, value in node_vectors.items()]\n",
        "node_vector_list.sort(key = lambda x: x[0])\n",
        "_, node_vector_list = zip(*node_vector_list)\n",
        "preprocessor = Preprocessor(node_vector_shapes, emb_size=256)\n",
        "for name, param in preprocessor.named_parameters():\n",
        "  print(name, param.shape)\n",
        "preprocessed_node_vectors = preprocessor(node_vector_list)"
      ],
      "metadata": {
        "colab": {
          "base_uri": "https://localhost:8080/"
        },
        "id": "oVbKvzw4wfMH",
        "outputId": "4051f6e2-ddf8-4813-d153-007b70a65537"
      },
      "execution_count": null,
      "outputs": [
        {
          "output_type": "stream",
          "name": "stdout",
          "text": [
            "embedding_layers.0.weight torch.Size([24, 256])\n",
            "embedding_layers.1.weight torch.Size([57, 256])\n",
            "embedding_layers.2.weight torch.Size([1006, 197])\n",
            "embedding_layers.3.weight torch.Size([49, 256])\n",
            "embedding_layers.4.weight torch.Size([92, 256])\n",
            "nn_layers.0.weight torch.Size([256, 256])\n",
            "nn_layers.0.bias torch.Size([256])\n",
            "nn_layers.1.weight torch.Size([256, 256])\n",
            "nn_layers.1.bias torch.Size([256])\n",
            "nn_layers.2.weight torch.Size([256, 256])\n",
            "nn_layers.2.bias torch.Size([256])\n",
            "nn_layers.3.weight torch.Size([256, 256])\n",
            "nn_layers.3.bias torch.Size([256])\n",
            "nn_layers.4.weight torch.Size([256, 256])\n",
            "nn_layers.4.bias torch.Size([256])\n"
          ]
        }
      ]
    },
    {
      "cell_type": "code",
      "source": [
        "# verification\n",
        "all_node_vectors = [x for lis in node_vector_list for x in lis]\n",
        "index = random.randint(0, preprocessed_node_vectors.shape[0])\n",
        "name = node_encoders[node_type_map_lookup[index_decoder[index]]][0].inverse_transform(all_node_vectors[index][0:1].long().numpy())[0]\n",
        "assert(index_encoder[name] == index)\n",
        "print(index)"
      ],
      "metadata": {
        "colab": {
          "base_uri": "https://localhost:8080/"
        },
        "id": "K_6efkdWzHRk",
        "outputId": "2ae8ee72-2bfd-4de0-cb7a-77c3a11a629a"
      },
      "execution_count": null,
      "outputs": [
        {
          "output_type": "stream",
          "name": "stdout",
          "text": [
            "602\n"
          ]
        }
      ]
    },
    {
      "cell_type": "code",
      "source": [
        "relations = [follows, preceds, targets, targets_yoga, uses, part_of]\n",
        "edges = []\n",
        "for i, relation in enumerate(relations):\n",
        "  curr_edges = [[index_encoder[source], index_encoder[destination], i] for source, destination in relation]  \n",
        "  curr_edges = torch.Tensor(np.array(curr_edges))\n",
        "  edges.append(curr_edges)\n",
        "edges = torch.cat(edges, dim = 0)\n",
        "print(edges.shape)"
      ],
      "metadata": {
        "colab": {
          "base_uri": "https://localhost:8080/"
        },
        "id": "I24yCZ9m7Ucp",
        "outputId": "492fbc24-6838-4bfb-ff0d-26d524359cee"
      },
      "execution_count": null,
      "outputs": [
        {
          "output_type": "stream",
          "name": "stdout",
          "text": [
            "torch.Size([6207, 3])\n"
          ]
        }
      ]
    },
    {
      "cell_type": "code",
      "source": [
        "NUM_RELATION_TYPES = len(np.unique(edges[:, 2]))\n",
        "NUM_RELATIONS = edges.shape[0]\n",
        "NUM_NODES = preprocessed_node_vectors.shape[0]\n",
        "NODE_VECTOR_LENGTH = preprocessed_node_vectors.shape[1]"
      ],
      "metadata": {
        "id": "Nyen6tSh9Y3N"
      },
      "execution_count": null,
      "outputs": []
    },
    {
      "cell_type": "code",
      "source": [
        "class GCNEncoder(nn.Module):\n",
        "  def __init__(self, layers):\n",
        "    super(GCNEncoder, self).__init__()\n",
        "    self.gcns = nn.ModuleList([gnn.RGCNConv(layers[i], layers[i+1], num_relations=NUM_RELATION_TYPES) for i in range(len(layers) - 1)])\n",
        "  \n",
        "  def forward(self, x, edges):\n",
        "    edge_indices = edges[:, :2].reshape((2, NUM_RELATIONS)).long()\n",
        "    edge_types = edges[:, 2].long()\n",
        "    num_gcns = len(self.gcns)\n",
        "    for i, gcn in enumerate(self.gcns):\n",
        "      x = gcn(x, edge_indices, edge_types)\n",
        "      if i < (num_gcns - 1):\n",
        "        x = F.relu(x)\n",
        "    return x"
      ],
      "metadata": {
        "id": "SXSGb4VH38xn"
      },
      "execution_count": null,
      "outputs": []
    },
    {
      "cell_type": "code",
      "source": [
        "layers = [NODE_VECTOR_LENGTH, 512, 256, 128]\n",
        "gcn_encoder = GCNEncoder(layers)\n",
        "node_embeddings = gcn_encoder(preprocessed_node_vectors, edges)"
      ],
      "metadata": {
        "id": "XeRYdf1g_25j"
      },
      "execution_count": null,
      "outputs": []
    },
    {
      "cell_type": "code",
      "source": [
        "positive_targets = targets + targets_yoga\n",
        "positive_uses = uses"
      ],
      "metadata": {
        "id": "P27dLdSeJoLq"
      },
      "execution_count": null,
      "outputs": []
    },
    {
      "cell_type": "code",
      "source": [
        "targets_df = pd.DataFrame(positive_targets, columns=[\"exercise\", \"anatomy\"])\n",
        "targets_df.groupby(\"exercise\").agg({ \"anatomy\": \"count\"}).reset_index()[\"anatomy\"].mean()"
      ],
      "metadata": {
        "colab": {
          "base_uri": "https://localhost:8080/"
        },
        "id": "8kNulYtEKw7Y",
        "outputId": "5280cb9c-0ec8-4b27-cb99-3ced6da8230f"
      },
      "execution_count": null,
      "outputs": [
        {
          "output_type": "execute_result",
          "data": {
            "text/plain": [
              "4.013736263736264"
            ]
          },
          "metadata": {},
          "execution_count": 16
        }
      ]
    },
    {
      "cell_type": "code",
      "source": [
        "uses_df = pd.DataFrame(positive_uses, columns=[\"exercise\", \"equipment\"])\n",
        "uses_df.groupby(\"exercise\").agg({ \"equipment\": \"count\"}).reset_index()[\"equipment\"].mean()"
      ],
      "metadata": {
        "colab": {
          "base_uri": "https://localhost:8080/"
        },
        "id": "g8Ndix2TJpJ4",
        "outputId": "f1049729-b9ee-4b73-9ce9-119121e97e0c"
      },
      "execution_count": null,
      "outputs": [
        {
          "output_type": "execute_result",
          "data": {
            "text/plain": [
              "1.415506958250497"
            ]
          },
          "metadata": {},
          "execution_count": 17
        }
      ]
    },
    {
      "cell_type": "code",
      "source": [
        "negative_targets = []\n",
        "negative_uses = []\n",
        "for exercise in tqdm(exercise_and_yoga.keys()):\n",
        "  valid_muscles = [m for m in muscle_and_anatomy.keys() if (exercise, m) not in positive_targets]\n",
        "  for m in random.sample(valid_muscles, 5):\n",
        "    negative_targets.append((exercise, m))\n",
        "  valid_equipments = [m for m in equipment.keys() if (exercise, m) not in positive_uses]\n",
        "  for m in random.sample(valid_equipments, 2):\n",
        "    negative_uses.append((exercise, m))\n",
        "  "
      ],
      "metadata": {
        "colab": {
          "base_uri": "https://localhost:8080/"
        },
        "id": "maKo84T8Lpoh",
        "outputId": "bd4c33f7-03fc-4187-8d87-4ae9680bd789"
      },
      "execution_count": null,
      "outputs": [
        {
          "output_type": "stream",
          "name": "stderr",
          "text": [
            "100%|██████████| 1098/1098 [00:22<00:00, 47.89it/s]\n"
          ]
        }
      ]
    },
    {
      "cell_type": "code",
      "source": [
        "target_pairs = [(index_encoder[t[0]], index_encoder[t[1]], 1) for t in positive_targets] + [(index_encoder[t[0]], index_encoder[t[1]], 0) for t in negative_targets]\n",
        "uses_pairs = [(index_encoder[t[0]], index_encoder[t[1]], 1) for t in positive_uses] + [(index_encoder[t[0]], index_encoder[t[1]], 0) for t in negative_uses]\n",
        "target_pairs = target_pairs + uses_pairs\n",
        "\n",
        "target_pairs = np.array(target_pairs)\n",
        "train_target_pair_x, test_target_pair_x, train_target_pair_y, test_target_pair_y = train_test_split(target_pairs[:,:2], target_pairs[:, 2], stratify=target_pairs[:, 2], test_size=0.2)"
      ],
      "metadata": {
        "id": "sCudagmgOOqj"
      },
      "execution_count": null,
      "outputs": []
    },
    {
      "cell_type": "code",
      "source": [
        "train_target_pair_x.shape, train_target_pair_y.shape, test_target_pair_x.shape, test_target_pair_y.shape"
      ],
      "metadata": {
        "colab": {
          "base_uri": "https://localhost:8080/"
        },
        "id": "sIS-Xt8JOXin",
        "outputId": "5295fc76-5071-4def-8e0b-698e76b76993"
      },
      "execution_count": null,
      "outputs": [
        {
          "output_type": "execute_result",
          "data": {
            "text/plain": [
              "((10794, 2), (10794,), (2699, 2), (2699,))"
            ]
          },
          "metadata": {},
          "execution_count": 20
        }
      ]
    },
    {
      "cell_type": "code",
      "source": [
        "# defining dataset class for dataloader\n",
        "class PairDataset(data.Dataset):\n",
        "    def __init__(self, x, y):\n",
        "        self.x = x\n",
        "        self.y = y\n",
        "        assert(len(self.x) == len(self.y))\n",
        "\n",
        "    def __len__(self):\n",
        "        return len(self.x)\n",
        "    \n",
        "    def __getitem__(self, idx):\n",
        "        return self.x[idx], self.y[idx]\n",
        "\n",
        "\n",
        "dummy_dataset = PairDataset(train_target_pair_x,train_target_pair_y)\n",
        "dummy_dataloader = data.DataLoader(dummy_dataset, batch_size=32, shuffle=True)\n",
        "output , labels = next(iter(dummy_dataloader))\n",
        "print(output.shape)\n",
        "print(labels)"
      ],
      "metadata": {
        "colab": {
          "base_uri": "https://localhost:8080/"
        },
        "id": "Y0220z6HQ0cD",
        "outputId": "90240331-d15a-43f3-967c-50037375f0cb"
      },
      "execution_count": null,
      "outputs": [
        {
          "output_type": "stream",
          "name": "stdout",
          "text": [
            "torch.Size([32, 2])\n",
            "tensor([0, 1, 1, 0, 1, 1, 1, 0, 0, 1, 1, 0, 0, 1, 0, 1, 0, 0, 0, 1, 1, 1, 0, 0,\n",
            "        0, 1, 0, 1, 0, 1, 0, 0])\n"
          ]
        }
      ]
    },
    {
      "cell_type": "code",
      "source": [
        "train_target_dataset = PairDataset(train_target_pair_x,train_target_pair_y)\n",
        "train_target_dataloader = data.DataLoader(train_target_dataset, batch_size=32, shuffle=True)\n",
        "\n",
        "test_target_dataset = PairDataset(test_target_pair_x,test_target_pair_y)\n",
        "test_target_dataloader = data.DataLoader(test_target_dataset, batch_size=32, shuffle=True)"
      ],
      "metadata": {
        "id": "_R2xBOQXE8pb"
      },
      "execution_count": null,
      "outputs": []
    },
    {
      "cell_type": "code",
      "source": [
        "# training and evaluation functions\n",
        "def send_to_device(tensor):\n",
        "    if (type(tensor) == list) or (type(tensor) == tuple):\n",
        "        return [send_to_device(tenr) for tenr in tensor]\n",
        "    if (type(tensor) == dict):\n",
        "        return {k: send_to_device(v) for k, v in tensor.items()}\n",
        "    elif torch.is_tensor(tensor):\n",
        "        return tensor.to(\"cuda\")\n",
        "    else:\n",
        "        return tensor\n",
        "\n",
        "\n",
        "def train_one_epoch(model, nodes, edges, train_data_loader, optimizer, loss_fn, scheduler):\n",
        "    running_loss = 0.\n",
        "    last_loss = 0.\n",
        "    pb = tqdm(enumerate(train_data_loader))\n",
        "    for i, data in pb:\n",
        "        inp, labels = data\n",
        "        labels = labels\n",
        "        if torch.cuda.is_available():\n",
        "            inp = send_to_device(inp)\n",
        "            labels = send_to_device(labels)\n",
        "            edges = send_to_device(edges)\n",
        "            nodes = send_to_device(nodes)\n",
        "        optimizer.zero_grad()\n",
        "        outputs = model(nodes, edges, inp)\n",
        "        loss = loss_fn(outputs, labels.float())\n",
        "        loss.backward()\n",
        "        torch.nn.utils.clip_grad_norm_(model.parameters(), 1.0)\n",
        "        optimizer.step()\n",
        "        running_loss += loss.item()\n",
        "        pb.set_description('batch {} loss: {}'.format(i + 1, loss.item()))\n",
        "        if i % 10 == 9:\n",
        "            scheduler.step()\n",
        "        del inp, labels\n",
        "        model.zero_grad()\n",
        "    return running_loss / len(train_data_loader.dataset)\n",
        "\n",
        "\n",
        "def save_model(model, save_dir=\".\"):\n",
        "    model_path = os.path.join(save_dir, model.name)\n",
        "    if not os.path.exists(model_path):\n",
        "        os.makedirs(model_path)\n",
        "    model_path = os.path.join(model_path, \"weights\")\n",
        "    torch.save(model.state_dict(), model_path)\n",
        "\n",
        "# model training\n",
        "def train_model(model, nodes, edges, train_data_loader, val_data_loader=None, epochs=30, lr=1e-5, batch_size=16, scheduler_params = None):\n",
        "    print(\"========================================================\")\n",
        "    print(f\"TRAINING {model.name}\")\n",
        "    loss_fn = nn.BCEWithLogitsLoss()\n",
        "    optimizer = optim.AdamW(model.parameters(), lr=lr, eps=1e-8)\n",
        "    decayRate = 0.90\n",
        "    if scheduler_params == None:\n",
        "        scheduler_params = {\n",
        "            \"name\": optim.lr_scheduler.ExponentialLR,\n",
        "            \"params\": {\n",
        "                \"verbose\": True,\n",
        "                \"gamma\": 0.99\n",
        "            }\n",
        "        }\n",
        "    scheduler = scheduler_params[\"name\"](\n",
        "        optimizer=optimizer,**scheduler_params[\"params\"])\n",
        "\n",
        "    best_vloss = 1000000.\n",
        "    best_model_state_dict = None\n",
        "    train_losses = []\n",
        "    val_losses = []\n",
        "    if torch.cuda.is_available():\n",
        "        model = model.to(\"cuda\")\n",
        "    model.zero_grad()\n",
        "    for epoch in range(epochs):\n",
        "        print('EPOCH {}:'.format(epoch + 1))\n",
        "\n",
        "        # Make sure gradient tracking is on, and do a pass over the data\n",
        "        model.train(True)\n",
        "        avg_loss = train_one_epoch(\n",
        "            model, nodes, edges, train_data_loader, optimizer, loss_fn, scheduler)\n",
        "        train_losses.append(avg_loss)\n",
        "        if val_data_loader is not None:\n",
        "            # We don't need gradients on to do reporting\n",
        "            model.train(False) \n",
        "            running_vloss = 0.0\n",
        "            for i, vdata in enumerate(val_data_loader):\n",
        "                vinp, vlabels = vdata\n",
        "                if torch.cuda.is_available():\n",
        "                    vinp = send_to_device(vinp)\n",
        "                    nodes = send_to_device(nodes)\n",
        "                    edges = send_to_device(edges)\n",
        "                    vlabels = send_to_device(vlabels)\n",
        "                with torch.no_grad():\n",
        "                    voutputs = model(nodes, edges, vinp)\n",
        "                    vloss = loss_fn(voutputs, vlabels.float())\n",
        "                    running_vloss += vloss\n",
        "            avg_vloss = running_vloss / (i + 1)\n",
        "            del vinp, vlabels\n",
        "            val_losses.append(avg_vloss.cpu())\n",
        "        else:\n",
        "            print(\"validation data loader not provided. Hence, validation error will be same as training error\")\n",
        "            avg_vloss = avg_loss\n",
        "\n",
        "        print('LOSS train {} valid {}'.format(avg_loss, avg_vloss))\n",
        "\n",
        "        # Track best performance, and save the model's state\n",
        "        if avg_vloss < best_vloss:\n",
        "            best_vloss = avg_vloss\n",
        "            del best_model_state_dict\n",
        "            best_model_state_dict = deepcopy(model.state_dict())\n",
        "            save_model(model)\n",
        "    print(f\"the best loss is {best_vloss}\")\n",
        "    model.state_dict(best_model_state_dict)\n",
        "    return train_losses, val_losses\n",
        "\n",
        "\n",
        "def evaluate(model, nodes, edges, dataloader, labels, working_dir=\".\"):\n",
        "    print(\"========================================================\")\n",
        "    print(f\"EVALUATING {model.name}\")\n",
        "    outputs = []\n",
        "    true_classes = []\n",
        "    sigmoid = nn.Sigmoid()\n",
        "    if torch.cuda.is_available():\n",
        "        sigmoid = sigmoid.to(\"cuda\")\n",
        "    num_labels = list(range(len(labels)))\n",
        "    for i, data in enumerate(dataloader):\n",
        "        inp, true_class = data\n",
        "        if torch.cuda.is_available():\n",
        "            inp = send_to_device(inp)\n",
        "            model = model.to(\"cuda\")\n",
        "            nodes = send_to_device(nodes)\n",
        "            edges = send_to_device(edges)\n",
        "        with torch.no_grad():\n",
        "            output = model(nodes, edges, inp)\n",
        "            output = sigmoid(output)\n",
        "        output = torch.where(output >= 0.5, 1, 0)\n",
        "        output = output.cpu().numpy()\n",
        "        outputs.extend(output.tolist())\n",
        "        true_classes.extend(true_class.tolist())\n",
        "    precision = precision_score(\n",
        "        true_classes, outputs, labels=num_labels, average=\"binary\")\n",
        "    recall = recall_score(true_classes, outputs,\n",
        "                          labels=num_labels, average=\"binary\")\n",
        "    f1 = f1_score(true_classes, outputs, labels=num_labels, average=\"binary\")\n",
        "    accuracy = accuracy_score(true_classes, outputs)\n",
        "    print(f\"precision: {precision}\")\n",
        "    print(f\"recall: {recall}\")\n",
        "    print(f\"f1 score: {f1}\")\n",
        "    print(f\"accuracy: {accuracy}\")\n",
        "    cf = confusion_matrix(true_classes, outputs, labels=num_labels)\n",
        "    plt.figure(figsize=(10, 10))\n",
        "    cf_dataframe = pd.DataFrame(cf, columns=labels, index=labels)\n",
        "    sns.heatmap(cf_dataframe, annot=True, linewidths=.5, cmap=\"YlGnBu\")\n",
        "    plt.show()\n",
        "    return (precision, recall, f1)"
      ],
      "metadata": {
        "id": "JL6m6rvkGdIY"
      },
      "execution_count": null,
      "outputs": []
    },
    {
      "cell_type": "code",
      "source": [
        "class PairDecoder(nn.Module):\n",
        "  def __init__(self):\n",
        "    super(PairDecoder, self).__init__()\n",
        "  \n",
        "  def forward(self, node_embeddings, inp):\n",
        "    src_embeddings = node_embeddings[inp[:, 0].long()]\n",
        "    dest_embeddings = node_embeddings[inp[:, 1].long()]\n",
        "    return torch.sum(src_embeddings * dest_embeddings, axis=1)\n",
        "\n",
        "pair_decoder = PairDecoder()\n",
        "output = pair_decoder(node_embeddings, torch.Tensor(train_target_pair_x))\n",
        "print(output)"
      ],
      "metadata": {
        "colab": {
          "base_uri": "https://localhost:8080/"
        },
        "id": "SZ1z-cfEKOM3",
        "outputId": "928abed6-5ae0-4297-826c-f5fe725de68a"
      },
      "execution_count": null,
      "outputs": [
        {
          "output_type": "stream",
          "name": "stdout",
          "text": [
            "tensor([ 88.2966,  30.8720,  80.0594,  ...,  51.3117, 129.1353,  56.7068],\n",
            "       grad_fn=<SumBackward1>)\n"
          ]
        }
      ]
    },
    {
      "cell_type": "code",
      "source": [
        "class GCNModel(nn.Module):\n",
        "  def __init__(self, node_vector_shapes, layers, emb_size=256, name = 'gcn_model'):\n",
        "    super(GCNModel, self).__init__()\n",
        "    self.name = name\n",
        "    self.preprocessor = Preprocessor(node_vector_shapes, emb_size=emb_size)\n",
        "    layers = [emb_size] + layers\n",
        "    self.gcn_encoder = GCNEncoder(layers)\n",
        "    self.pair_decoder = PairDecoder()\n",
        "  \n",
        "  def forward(self, nodes, edges, inp):\n",
        "    preprocessed_nodes = self.preprocessor(nodes)\n",
        "    node_embeddings = self.gcn_encoder(preprocessed_nodes, edges)\n",
        "    return self.pair_decoder(node_embeddings, inp)\n",
        "\n",
        "gcn_model = GCNModel(node_vector_shapes, layers=[512, 256, 128], emb_size=256)\n",
        "gcn_model(node_vector_list, edges, torch.Tensor(train_target_pair_x))"
      ],
      "metadata": {
        "colab": {
          "base_uri": "https://localhost:8080/"
        },
        "id": "StJo2pI4NY5_",
        "outputId": "71f37d08-09ad-430f-8c8f-3693fab357af"
      },
      "execution_count": null,
      "outputs": [
        {
          "output_type": "execute_result",
          "data": {
            "text/plain": [
              "tensor([ 50.9296,  35.5994,  53.6756,  ...,  52.5949, 114.8929,  73.8575],\n",
              "       grad_fn=<SumBackward1>)"
            ]
          },
          "metadata": {},
          "execution_count": 25
        }
      ]
    },
    {
      "cell_type": "code",
      "source": [
        "gcn_model = GCNModel(node_vector_shapes, layers=[512, 256, 128], emb_size=256)\n",
        "train_target_dataset = PairDataset(train_target_pair_x,train_target_pair_y)\n",
        "train_target_dataloader = data.DataLoader(train_target_dataset, batch_size=64, shuffle=True)\n",
        "\n",
        "test_target_dataset = PairDataset(test_target_pair_x,test_target_pair_y)\n",
        "test_target_dataloader = data.DataLoader(test_target_dataset, batch_size=64, shuffle=True)\n",
        "\n",
        "scheduler_params = {\n",
        "            \"name\": optim.lr_scheduler.ExponentialLR,\n",
        "            \"params\": {\n",
        "                \"verbose\": False,\n",
        "                \"gamma\": 0.99\n",
        "            }\n",
        "        }\n",
        "\n",
        "\n",
        "train_losses, val_losses = train_model(gcn_model, node_vector_list, edges, train_target_dataloader, test_target_dataloader,\n",
        "                                       epochs=50, scheduler_params = scheduler_params, batch_size = 64)"
      ],
      "metadata": {
        "colab": {
          "base_uri": "https://localhost:8080/"
        },
        "id": "UQTWUR6xJ6V2",
        "outputId": "37941e67-6eb4-43f8-d25c-1695d2219a89"
      },
      "execution_count": null,
      "outputs": [
        {
          "output_type": "stream",
          "name": "stdout",
          "text": [
            "========================================================\n",
            "TRAINING gcn_model\n",
            "EPOCH 1:\n"
          ]
        },
        {
          "output_type": "stream",
          "name": "stderr",
          "text": [
            "batch 169 loss: 1.2077088356018066: : 169it [00:12, 13.23it/s]\n"
          ]
        },
        {
          "output_type": "stream",
          "name": "stdout",
          "text": [
            "LOSS train 0.06345278734804768 valid 1.4898864030838013\n",
            "EPOCH 2:\n"
          ]
        },
        {
          "output_type": "stream",
          "name": "stderr",
          "text": [
            "batch 169 loss: 0.7294897437095642: : 169it [00:04, 39.94it/s]\n"
          ]
        },
        {
          "output_type": "stream",
          "name": "stdout",
          "text": [
            "LOSS train 0.016260392415826136 valid 0.9668117761611938\n",
            "EPOCH 3:\n"
          ]
        },
        {
          "output_type": "stream",
          "name": "stderr",
          "text": [
            "batch 169 loss: 0.5427905321121216: : 169it [00:04, 40.86it/s]\n"
          ]
        },
        {
          "output_type": "stream",
          "name": "stdout",
          "text": [
            "LOSS train 0.011375310756397266 valid 0.8124424815177917\n",
            "EPOCH 4:\n"
          ]
        },
        {
          "output_type": "stream",
          "name": "stderr",
          "text": [
            "batch 169 loss: 0.8553263545036316: : 169it [00:04, 40.19it/s]\n"
          ]
        },
        {
          "output_type": "stream",
          "name": "stdout",
          "text": [
            "LOSS train 0.009447785473673878 valid 0.7418997287750244\n",
            "EPOCH 5:\n"
          ]
        },
        {
          "output_type": "stream",
          "name": "stderr",
          "text": [
            "batch 169 loss: 0.40909668803215027: : 169it [00:04, 40.05it/s]\n"
          ]
        },
        {
          "output_type": "stream",
          "name": "stdout",
          "text": [
            "LOSS train 0.008335137656602194 valid 0.7011764645576477\n",
            "EPOCH 6:\n"
          ]
        },
        {
          "output_type": "stream",
          "name": "stderr",
          "text": [
            "batch 169 loss: 0.527130663394928: : 169it [00:06, 24.24it/s]\n"
          ]
        },
        {
          "output_type": "stream",
          "name": "stdout",
          "text": [
            "LOSS train 0.007644248169970906 valid 0.6908693313598633\n",
            "EPOCH 7:\n"
          ]
        },
        {
          "output_type": "stream",
          "name": "stderr",
          "text": [
            "batch 169 loss: 0.4360870122909546: : 169it [00:05, 29.81it/s]\n"
          ]
        },
        {
          "output_type": "stream",
          "name": "stdout",
          "text": [
            "LOSS train 0.00714140031013927 valid 0.6606795787811279\n",
            "EPOCH 8:\n"
          ]
        },
        {
          "output_type": "stream",
          "name": "stderr",
          "text": [
            "batch 169 loss: 0.48658108711242676: : 169it [00:05, 29.14it/s]\n"
          ]
        },
        {
          "output_type": "stream",
          "name": "stdout",
          "text": [
            "LOSS train 0.0067849064317261135 valid 0.646618127822876\n",
            "EPOCH 9:\n"
          ]
        },
        {
          "output_type": "stream",
          "name": "stderr",
          "text": [
            "batch 169 loss: 0.6404510736465454: : 169it [00:06, 27.00it/s]\n"
          ]
        },
        {
          "output_type": "stream",
          "name": "stdout",
          "text": [
            "LOSS train 0.006507926988274781 valid 0.6465071439743042\n",
            "EPOCH 10:\n"
          ]
        },
        {
          "output_type": "stream",
          "name": "stderr",
          "text": [
            "batch 169 loss: 0.4358961582183838: : 169it [00:05, 33.50it/s]\n"
          ]
        },
        {
          "output_type": "stream",
          "name": "stdout",
          "text": [
            "LOSS train 0.006286114836669044 valid 0.6639609336853027\n",
            "EPOCH 11:\n"
          ]
        },
        {
          "output_type": "stream",
          "name": "stderr",
          "text": [
            "batch 169 loss: 0.2013590782880783: : 169it [00:04, 40.67it/s]\n"
          ]
        },
        {
          "output_type": "stream",
          "name": "stdout",
          "text": [
            "LOSS train 0.006103771549751521 valid 0.626664400100708\n",
            "EPOCH 12:\n"
          ]
        },
        {
          "output_type": "stream",
          "name": "stderr",
          "text": [
            "batch 169 loss: 0.3565713167190552: : 169it [00:04, 39.63it/s]\n"
          ]
        },
        {
          "output_type": "stream",
          "name": "stdout",
          "text": [
            "LOSS train 0.0059638572237282654 valid 0.627898633480072\n",
            "EPOCH 13:\n"
          ]
        },
        {
          "output_type": "stream",
          "name": "stderr",
          "text": [
            "batch 169 loss: 0.3444306552410126: : 169it [00:04, 40.54it/s]\n"
          ]
        },
        {
          "output_type": "stream",
          "name": "stdout",
          "text": [
            "LOSS train 0.005849817783960219 valid 0.637347400188446\n",
            "EPOCH 14:\n"
          ]
        },
        {
          "output_type": "stream",
          "name": "stderr",
          "text": [
            "batch 169 loss: 0.40323376655578613: : 169it [00:06, 27.91it/s]\n"
          ]
        },
        {
          "output_type": "stream",
          "name": "stdout",
          "text": [
            "LOSS train 0.0057575329337514105 valid 0.6130871176719666\n",
            "EPOCH 15:\n"
          ]
        },
        {
          "output_type": "stream",
          "name": "stderr",
          "text": [
            "batch 169 loss: 0.30877622961997986: : 169it [00:06, 26.51it/s]\n"
          ]
        },
        {
          "output_type": "stream",
          "name": "stdout",
          "text": [
            "LOSS train 0.0056736191207664155 valid 0.6093601584434509\n",
            "EPOCH 16:\n"
          ]
        },
        {
          "output_type": "stream",
          "name": "stderr",
          "text": [
            "batch 169 loss: 0.296509325504303: : 169it [00:06, 25.30it/s]\n"
          ]
        },
        {
          "output_type": "stream",
          "name": "stdout",
          "text": [
            "LOSS train 0.005607361873697744 valid 0.6196402311325073\n",
            "EPOCH 17:\n"
          ]
        },
        {
          "output_type": "stream",
          "name": "stderr",
          "text": [
            "batch 169 loss: 0.3838789463043213: : 169it [00:04, 36.03it/s]\n"
          ]
        },
        {
          "output_type": "stream",
          "name": "stdout",
          "text": [
            "LOSS train 0.005553610448939327 valid 0.6153740286827087\n",
            "EPOCH 18:\n"
          ]
        },
        {
          "output_type": "stream",
          "name": "stderr",
          "text": [
            "batch 169 loss: 0.32788145542144775: : 169it [00:05, 31.10it/s]\n"
          ]
        },
        {
          "output_type": "stream",
          "name": "stdout",
          "text": [
            "LOSS train 0.005506641275135703 valid 0.6079737544059753\n",
            "EPOCH 19:\n"
          ]
        },
        {
          "output_type": "stream",
          "name": "stderr",
          "text": [
            "batch 169 loss: 0.34322044253349304: : 169it [00:06, 27.31it/s]\n"
          ]
        },
        {
          "output_type": "stream",
          "name": "stdout",
          "text": [
            "LOSS train 0.0054696377464106775 valid 0.6086909174919128\n",
            "EPOCH 20:\n"
          ]
        },
        {
          "output_type": "stream",
          "name": "stderr",
          "text": [
            "batch 169 loss: 0.453158974647522: : 169it [00:04, 40.05it/s]\n"
          ]
        },
        {
          "output_type": "stream",
          "name": "stdout",
          "text": [
            "LOSS train 0.005439860315892307 valid 0.6042482852935791\n",
            "EPOCH 21:\n"
          ]
        },
        {
          "output_type": "stream",
          "name": "stderr",
          "text": [
            "batch 169 loss: 0.24244904518127441: : 169it [00:04, 40.30it/s]\n"
          ]
        },
        {
          "output_type": "stream",
          "name": "stdout",
          "text": [
            "LOSS train 0.005405052111715172 valid 0.6032735109329224\n",
            "EPOCH 22:\n"
          ]
        },
        {
          "output_type": "stream",
          "name": "stderr",
          "text": [
            "batch 169 loss: 0.36283519864082336: : 169it [00:06, 26.27it/s]\n"
          ]
        },
        {
          "output_type": "stream",
          "name": "stdout",
          "text": [
            "LOSS train 0.005386103080592156 valid 0.6094936728477478\n",
            "EPOCH 23:\n"
          ]
        },
        {
          "output_type": "stream",
          "name": "stderr",
          "text": [
            "batch 169 loss: 0.4056451916694641: : 169it [00:04, 40.63it/s]\n"
          ]
        },
        {
          "output_type": "stream",
          "name": "stdout",
          "text": [
            "LOSS train 0.005367420539218496 valid 0.6123618483543396\n",
            "EPOCH 24:\n"
          ]
        },
        {
          "output_type": "stream",
          "name": "stderr",
          "text": [
            "batch 169 loss: 0.36405542492866516: : 169it [00:04, 41.17it/s]\n"
          ]
        },
        {
          "output_type": "stream",
          "name": "stdout",
          "text": [
            "LOSS train 0.005349964037336021 valid 0.6107862591743469\n",
            "EPOCH 25:\n"
          ]
        },
        {
          "output_type": "stream",
          "name": "stderr",
          "text": [
            "batch 169 loss: 0.3012268841266632: : 169it [00:05, 33.68it/s]\n"
          ]
        },
        {
          "output_type": "stream",
          "name": "stdout",
          "text": [
            "LOSS train 0.005333220419484817 valid 0.6055868864059448\n",
            "EPOCH 26:\n"
          ]
        },
        {
          "output_type": "stream",
          "name": "stderr",
          "text": [
            "batch 169 loss: 0.23340731859207153: : 169it [00:04, 38.65it/s]\n"
          ]
        },
        {
          "output_type": "stream",
          "name": "stdout",
          "text": [
            "LOSS train 0.00531899249700566 valid 0.6062564849853516\n",
            "EPOCH 27:\n"
          ]
        },
        {
          "output_type": "stream",
          "name": "stderr",
          "text": [
            "batch 169 loss: 0.30335795879364014: : 169it [00:05, 30.48it/s]\n"
          ]
        },
        {
          "output_type": "stream",
          "name": "stdout",
          "text": [
            "LOSS train 0.005310700971295663 valid 0.6032342910766602\n",
            "EPOCH 28:\n"
          ]
        },
        {
          "output_type": "stream",
          "name": "stderr",
          "text": [
            "batch 169 loss: 0.2155042439699173: : 169it [00:05, 30.27it/s]\n"
          ]
        },
        {
          "output_type": "stream",
          "name": "stdout",
          "text": [
            "LOSS train 0.0052998197344866025 valid 0.6099045872688293\n",
            "EPOCH 29:\n"
          ]
        },
        {
          "output_type": "stream",
          "name": "stderr",
          "text": [
            "batch 169 loss: 0.3089357912540436: : 169it [00:04, 35.42it/s]\n"
          ]
        },
        {
          "output_type": "stream",
          "name": "stdout",
          "text": [
            "LOSS train 0.005295424395818412 valid 0.5990433096885681\n",
            "EPOCH 30:\n"
          ]
        },
        {
          "output_type": "stream",
          "name": "stderr",
          "text": [
            "batch 169 loss: 0.4625052511692047: : 169it [00:04, 37.99it/s]\n"
          ]
        },
        {
          "output_type": "stream",
          "name": "stdout",
          "text": [
            "LOSS train 0.005293790168876623 valid 0.6169752478599548\n",
            "EPOCH 31:\n"
          ]
        },
        {
          "output_type": "stream",
          "name": "stderr",
          "text": [
            "batch 169 loss: 0.3948391079902649: : 169it [00:05, 31.51it/s]\n"
          ]
        },
        {
          "output_type": "stream",
          "name": "stdout",
          "text": [
            "LOSS train 0.005286431877739411 valid 0.6002269387245178\n",
            "EPOCH 32:\n"
          ]
        },
        {
          "output_type": "stream",
          "name": "stderr",
          "text": [
            "batch 169 loss: 0.36842405796051025: : 169it [00:05, 31.40it/s]\n"
          ]
        },
        {
          "output_type": "stream",
          "name": "stdout",
          "text": [
            "LOSS train 0.005281038172315265 valid 0.6107208132743835\n",
            "EPOCH 33:\n"
          ]
        },
        {
          "output_type": "stream",
          "name": "stderr",
          "text": [
            "batch 169 loss: 0.4301013648509979: : 169it [00:06, 28.09it/s]\n"
          ]
        },
        {
          "output_type": "stream",
          "name": "stdout",
          "text": [
            "LOSS train 0.005279245785160906 valid 0.6049257516860962\n",
            "EPOCH 34:\n"
          ]
        },
        {
          "output_type": "stream",
          "name": "stderr",
          "text": [
            "batch 169 loss: 0.2951202392578125: : 169it [00:05, 30.87it/s]\n"
          ]
        },
        {
          "output_type": "stream",
          "name": "stdout",
          "text": [
            "LOSS train 0.005271681751976505 valid 0.6033490896224976\n",
            "EPOCH 35:\n"
          ]
        },
        {
          "output_type": "stream",
          "name": "stderr",
          "text": [
            "batch 169 loss: 0.36172565817832947: : 169it [00:05, 28.62it/s]\n"
          ]
        },
        {
          "output_type": "stream",
          "name": "stdout",
          "text": [
            "LOSS train 0.005271023868608855 valid 0.6117686033248901\n",
            "EPOCH 36:\n"
          ]
        },
        {
          "output_type": "stream",
          "name": "stderr",
          "text": [
            "batch 169 loss: 0.32450026273727417: : 169it [00:05, 30.93it/s]\n"
          ]
        },
        {
          "output_type": "stream",
          "name": "stdout",
          "text": [
            "LOSS train 0.005267478734094698 valid 0.6093476414680481\n",
            "EPOCH 37:\n"
          ]
        },
        {
          "output_type": "stream",
          "name": "stderr",
          "text": [
            "batch 169 loss: 0.3843969702720642: : 169it [00:05, 32.17it/s]\n"
          ]
        },
        {
          "output_type": "stream",
          "name": "stdout",
          "text": [
            "LOSS train 0.005267426250090042 valid 0.604564368724823\n",
            "EPOCH 38:\n"
          ]
        },
        {
          "output_type": "stream",
          "name": "stderr",
          "text": [
            "batch 169 loss: 0.3626234531402588: : 169it [00:04, 35.94it/s]\n"
          ]
        },
        {
          "output_type": "stream",
          "name": "stdout",
          "text": [
            "LOSS train 0.005265068996553402 valid 0.6318264603614807\n",
            "EPOCH 39:\n"
          ]
        },
        {
          "output_type": "stream",
          "name": "stderr",
          "text": [
            "batch 169 loss: 0.41163209080696106: : 169it [00:04, 40.84it/s]\n"
          ]
        },
        {
          "output_type": "stream",
          "name": "stdout",
          "text": [
            "LOSS train 0.0052651187499209605 valid 0.6107187271118164\n",
            "EPOCH 40:\n"
          ]
        },
        {
          "output_type": "stream",
          "name": "stderr",
          "text": [
            "batch 169 loss: 0.36833009123802185: : 169it [00:04, 37.56it/s]\n"
          ]
        },
        {
          "output_type": "stream",
          "name": "stdout",
          "text": [
            "LOSS train 0.005262476841962092 valid 0.6074361801147461\n",
            "EPOCH 41:\n"
          ]
        },
        {
          "output_type": "stream",
          "name": "stderr",
          "text": [
            "batch 169 loss: 0.4320187568664551: : 169it [00:04, 41.05it/s]\n"
          ]
        },
        {
          "output_type": "stream",
          "name": "stdout",
          "text": [
            "LOSS train 0.005263445462996327 valid 0.6002524495124817\n",
            "EPOCH 42:\n"
          ]
        },
        {
          "output_type": "stream",
          "name": "stderr",
          "text": [
            "batch 169 loss: 0.2787582278251648: : 169it [00:06, 27.17it/s]\n"
          ]
        },
        {
          "output_type": "stream",
          "name": "stdout",
          "text": [
            "LOSS train 0.005257669152242951 valid 0.6014639139175415\n",
            "EPOCH 43:\n"
          ]
        },
        {
          "output_type": "stream",
          "name": "stderr",
          "text": [
            "batch 169 loss: 0.2726059556007385: : 169it [00:06, 27.89it/s]\n"
          ]
        },
        {
          "output_type": "stream",
          "name": "stdout",
          "text": [
            "LOSS train 0.0052567244594861826 valid 0.6072916388511658\n",
            "EPOCH 44:\n"
          ]
        },
        {
          "output_type": "stream",
          "name": "stderr",
          "text": [
            "batch 169 loss: 0.25323083996772766: : 169it [00:04, 40.22it/s]\n"
          ]
        },
        {
          "output_type": "stream",
          "name": "stdout",
          "text": [
            "LOSS train 0.005255476914502215 valid 0.6120681762695312\n",
            "EPOCH 45:\n"
          ]
        },
        {
          "output_type": "stream",
          "name": "stderr",
          "text": [
            "batch 169 loss: 0.5208153128623962: : 169it [00:04, 40.27it/s]\n"
          ]
        },
        {
          "output_type": "stream",
          "name": "stdout",
          "text": [
            "LOSS train 0.005263469667374613 valid 0.6143167614936829\n",
            "EPOCH 46:\n"
          ]
        },
        {
          "output_type": "stream",
          "name": "stderr",
          "text": [
            "batch 169 loss: 0.2818273603916168: : 169it [00:04, 35.31it/s]\n"
          ]
        },
        {
          "output_type": "stream",
          "name": "stdout",
          "text": [
            "LOSS train 0.005255439240545482 valid 0.6010787487030029\n",
            "EPOCH 47:\n"
          ]
        },
        {
          "output_type": "stream",
          "name": "stderr",
          "text": [
            "batch 169 loss: 0.2783249616622925: : 169it [00:04, 40.03it/s]\n"
          ]
        },
        {
          "output_type": "stream",
          "name": "stdout",
          "text": [
            "LOSS train 0.005255024111920294 valid 0.6050530076026917\n",
            "EPOCH 48:\n"
          ]
        },
        {
          "output_type": "stream",
          "name": "stderr",
          "text": [
            "batch 169 loss: 0.4120039641857147: : 169it [00:04, 41.13it/s]\n"
          ]
        },
        {
          "output_type": "stream",
          "name": "stdout",
          "text": [
            "LOSS train 0.00525899585671219 valid 0.6140750050544739\n",
            "EPOCH 49:\n"
          ]
        },
        {
          "output_type": "stream",
          "name": "stderr",
          "text": [
            "batch 169 loss: 0.303337961435318: : 169it [00:04, 40.14it/s]\n"
          ]
        },
        {
          "output_type": "stream",
          "name": "stdout",
          "text": [
            "LOSS train 0.005255350523830366 valid 0.6096916198730469\n",
            "EPOCH 50:\n"
          ]
        },
        {
          "output_type": "stream",
          "name": "stderr",
          "text": [
            "batch 169 loss: 0.2767138183116913: : 169it [00:04, 40.81it/s]\n"
          ]
        },
        {
          "output_type": "stream",
          "name": "stdout",
          "text": [
            "LOSS train 0.0052543592307773895 valid 0.6048410534858704\n",
            "the best loss is 0.5990433096885681\n"
          ]
        },
        {
          "output_type": "stream",
          "name": "stderr",
          "text": [
            "/usr/local/lib/python3.7/dist-packages/torch/nn/modules/module.py:1366: UserWarning: Positional args are being deprecated, use kwargs instead. Refer to https://pytorch.org/docs/master/generated/torch.nn.Module.html#torch.nn.Module.state_dict for details.\n",
            "  \"Positional args are being deprecated, use kwargs instead. Refer to \"\n"
          ]
        }
      ]
    },
    {
      "cell_type": "code",
      "source": [
        "evaluate(gcn_model, node_vector_list, edges, test_target_dataloader, [0, 1])\n",
        "plt.figure()\n",
        "plt.plot(train_losses)\n",
        "plt.plot([l.cpu() for l in val_losses])\n",
        "plt.legend([\"train\",\"val\"])\n",
        "plt.show()"
      ],
      "metadata": {
        "colab": {
          "base_uri": "https://localhost:8080/",
          "height": 947
        },
        "id": "pFhpY9agPqy8",
        "outputId": "ed8538ed-d609-4638-8405-ea88446e7801"
      },
      "execution_count": null,
      "outputs": [
        {
          "output_type": "stream",
          "name": "stdout",
          "text": [
            "========================================================\n",
            "EVALUATING gcn_model\n",
            "precision: 0.7000753579502638\n",
            "recall: 0.7994836488812392\n",
            "f1 score: 0.7464845319405384\n",
            "accuracy: 0.7662097072989996\n"
          ]
        },
        {
          "output_type": "display_data",
          "data": {
            "text/plain": [
              "<Figure size 720x720 with 2 Axes>"
            ],
            "image/png": "[encoded data removed]"
          },
          "metadata": {
            "needs_background": "light"
          }
        },
        {
          "output_type": "display_data",
          "data": {
            "text/plain": [
              "<Figure size 432x288 with 1 Axes>"
            ],
            "image/png": "[encoded data removed]"
          },
          "metadata": {
            "needs_background": "light"
          }
        }
      ]
    },
    {
      "cell_type": "code",
      "source": [
        "preprocessed_node_vectors = gcn_model.preprocessor(send_to_device(node_vector_list))\n",
        "node_embeddings = gcn_model.gcn_encoder(preprocessed_node_vectors, send_to_device(edges))\n",
        "print(node_embeddings)"
      ],
      "metadata": {
        "colab": {
          "base_uri": "https://localhost:8080/"
        },
        "id": "3iGRFiTxZl04",
        "outputId": "cfc0cb86-cff7-4088-f0d6-a8f43b8137fd"
      },
      "execution_count": null,
      "outputs": [
        {
          "output_type": "stream",
          "name": "stdout",
          "text": [
            "tensor([[-0.3440, -0.0099, -0.9674,  ..., -0.9776, -0.0922, -0.8979],\n",
            "        [ 0.7179,  0.1215, -0.4239,  ..., -0.2927,  0.1936,  0.0482],\n",
            "        [ 0.6437, -0.1012,  0.5518,  ...,  0.1124, -0.7340, -0.1344],\n",
            "        ...,\n",
            "        [ 0.1441,  0.5823,  0.1317,  ...,  0.4407,  0.5274, -0.0348],\n",
            "        [ 0.0606,  0.6932, -0.3479,  ..., -0.3015,  0.3388, -0.1991],\n",
            "        [ 0.1153,  0.0676,  0.3040,  ...,  0.2021, -0.1536,  0.0445]],\n",
            "       device='cuda:0', grad_fn=<AddBackward0>)\n"
          ]
        }
      ]
    },
    {
      "cell_type": "code",
      "source": [
        "from sklearn.cluster import AgglomerativeClustering\n",
        "agglomerative_algo = AgglomerativeClustering(n_clusters=None, affinity= 'cosine', linkage='average', distance_threshold = 0.9)\n",
        "clusters = agglomerative_algo.fit_predict(node_embeddings.cpu().detach())"
      ],
      "metadata": {
        "id": "WLLD8r5T0_Xv"
      },
      "execution_count": null,
      "outputs": []
    },
    {
      "cell_type": "code",
      "source": [
        "np.unique(clusters)"
      ],
      "metadata": {
        "colab": {
          "base_uri": "https://localhost:8080/"
        },
        "id": "zIC4cayN1dtV",
        "outputId": "5412013d-b408-4372-bb55-e7d9959ab032"
      },
      "execution_count": null,
      "outputs": [
        {
          "output_type": "execute_result",
          "data": {
            "text/plain": [
              "array([ 0,  1,  2,  3,  4,  5,  6,  7,  8,  9, 10, 11, 12, 13, 14])"
            ]
          },
          "metadata": {},
          "execution_count": 35
        }
      ]
    },
    {
      "cell_type": "code",
      "source": [
        "result_df = pd.DataFrame(list(zip(index_decoder, clusters)), columns = ['name', 'cluster'])\n",
        "result_df.to_csv(\"cluster_unsupervised.csv\")"
      ],
      "metadata": {
        "id": "8uT9XC1j1qDV"
      },
      "execution_count": null,
      "outputs": []
    },
    {
      "cell_type": "code",
      "source": [
        "NUM_RELATIONS"
      ],
      "metadata": {
        "colab": {
          "base_uri": "https://localhost:8080/"
        },
        "id": "Vjq-_rb9Hv4Y",
        "outputId": "0b8120ac-1f2a-496d-c6ec-496c6b03e1f2"
      },
      "execution_count": null,
      "outputs": [
        {
          "output_type": "execute_result",
          "data": {
            "text/plain": [
              "6207"
            ]
          },
          "metadata": {},
          "execution_count": 38
        }
      ]
    },
    {
      "cell_type": "code",
      "source": [
        "includes, fieldnames = get_data(os.path.join(root_path, \"rel_INCLUDES_exercise.csv\"), convert_to_dict=False)\n",
        "workout_sessions = [row['workout_name'] for row in includes]\n"
      ],
      "metadata": {
        "id": "Uy34WVHh2DSN"
      },
      "execution_count": null,
      "outputs": []
    }
  ]
}
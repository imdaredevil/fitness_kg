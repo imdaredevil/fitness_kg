{
 "cells": [
  {
   "cell_type": "code",
   "execution_count": 1,
   "id": "846e16fc",
   "metadata": {},
   "outputs": [],
   "source": [
    "import spacy\n",
    "import en_core_web_sm\n",
    "import csv\n",
    "import json\n",
    "from spacy.matcher import Matcher\n",
    "import re\n",
    "import pandas as pd"
   ]
  },
  {
   "cell_type": "code",
   "execution_count": 2,
   "id": "332c738a",
   "metadata": {},
   "outputs": [],
   "source": [
    "nlp = en_core_web_sm.load()"
   ]
  },
  {
   "cell_type": "code",
   "execution_count": 3,
   "id": "5d53f630",
   "metadata": {},
   "outputs": [],
   "source": [
    "#fitness_kg\\Data_Scrape_Yoga\\yoga\\Extracted\n",
    "bio_list = []\n",
    "gym_dict = {'id':[],\n",
    "                 'name':[], 'url':[], 'muscle':[],'type': [],\n",
    "                 'equipment':[], 'mechanics':[],'force_type':[],'difficulty':[]\n",
    "           ,'overview':[],'instructions':[],'tips':[],'secondary_muscle':[]}\n",
    "\n",
    "with open('../fitness_kg/Extracted/Gym/exercise_group.jsonl', 'r', encoding=\"utf8\") as json_file:\n",
    "    json_list = list(json_file)\n",
    "    \n",
    "for json_str in json_list:\n",
    "    result = json.loads(json_str)\n",
    "    \n",
    "    gym_dict['id'].append(result['id'])\n",
    "    gym_dict['name'].append(result['name'])\n",
    "    gym_dict['url'].append(result['url'])\n",
    "    gym_dict['muscle'].append(result['muscle'])\n",
    "    gym_dict['type'].append(result['type'])\n",
    "    gym_dict['equipment'].append(result['equipment'])\n",
    "    gym_dict['mechanics'].append(result['mechanics'])\n",
    "    gym_dict['instructions'].append(result['instructions'])\n",
    "    gym_dict['force_type'].append(result['force_type'])\n",
    "    gym_dict['difficulty'].append(result['difficulty'])\n",
    "    gym_dict['overview'].append(result['overview'])\n",
    "    gym_dict['tips'].append(result['tips'])\n",
    "    gym_dict['secondary_muscle'].append(result['secondary_muscle'])    \n",
    "    "
   ]
  },
  {
   "cell_type": "code",
   "execution_count": 4,
   "id": "95917247",
   "metadata": {},
   "outputs": [],
   "source": [
    "exercise_group_df = pd.DataFrame.from_dict(gym_dict)"
   ]
  },
  {
   "cell_type": "code",
   "execution_count": 5,
   "id": "dd31b3ce",
   "metadata": {},
   "outputs": [
    {
     "data": {
      "text/html": [
       "<div>\n",
       "<style scoped>\n",
       "    .dataframe tbody tr th:only-of-type {\n",
       "        vertical-align: middle;\n",
       "    }\n",
       "\n",
       "    .dataframe tbody tr th {\n",
       "        vertical-align: top;\n",
       "    }\n",
       "\n",
       "    .dataframe thead th {\n",
       "        text-align: right;\n",
       "    }\n",
       "</style>\n",
       "<table border=\"1\" class=\"dataframe\">\n",
       "  <thead>\n",
       "    <tr style=\"text-align: right;\">\n",
       "      <th></th>\n",
       "      <th>id</th>\n",
       "      <th>name</th>\n",
       "      <th>url</th>\n",
       "      <th>muscle</th>\n",
       "      <th>type</th>\n",
       "      <th>equipment</th>\n",
       "      <th>mechanics</th>\n",
       "      <th>force_type</th>\n",
       "      <th>difficulty</th>\n",
       "      <th>overview</th>\n",
       "      <th>instructions</th>\n",
       "      <th>tips</th>\n",
       "      <th>secondary_muscle</th>\n",
       "    </tr>\n",
       "  </thead>\n",
       "  <tbody>\n",
       "    <tr>\n",
       "      <th>0</th>\n",
       "      <td>https://www.muscleandstrength.com/exercises/wi...</td>\n",
       "      <td>wide grip upright row</td>\n",
       "      <td>https://www.muscleandstrength.com/exercises/wi...</td>\n",
       "      <td>traps</td>\n",
       "      <td>strength</td>\n",
       "      <td>barbell</td>\n",
       "      <td>compound</td>\n",
       "      <td>pull</td>\n",
       "      <td>intermediate</td>\n",
       "      <td></td>\n",
       "      <td>load up a barbell with the weight you want to ...</td>\n",
       "      <td>focus on keeping your elbows higher than your ...</td>\n",
       "      <td>lats, shoulders</td>\n",
       "    </tr>\n",
       "    <tr>\n",
       "      <th>1</th>\n",
       "      <td>https://www.muscleandstrength.com/exercises/ba...</td>\n",
       "      <td>barbell shrug</td>\n",
       "      <td>https://www.muscleandstrength.com/exercises/ba...</td>\n",
       "      <td>traps</td>\n",
       "      <td>strength</td>\n",
       "      <td>barbell</td>\n",
       "      <td>isolation</td>\n",
       "      <td>pull (bilateral)</td>\n",
       "      <td>beginner</td>\n",
       "      <td>the barbell shrug is a great exercise for thos...</td>\n",
       "      <td>position the safeties just below waist height ...</td>\n",
       "      <td>looking slightly up while shrugging may enhanc...</td>\n",
       "      <td>shoulders, upper back</td>\n",
       "    </tr>\n",
       "    <tr>\n",
       "      <th>2</th>\n",
       "      <td>https://www.muscleandstrength.com/exercises/du...</td>\n",
       "      <td>dumbbell goblet squat</td>\n",
       "      <td>https://www.muscleandstrength.com/exercises/du...</td>\n",
       "      <td>quads</td>\n",
       "      <td>strength</td>\n",
       "      <td>dumbbell</td>\n",
       "      <td>compound</td>\n",
       "      <td>push (bilateral)</td>\n",
       "      <td>beginner</td>\n",
       "      <td>the dumbbell goblet squat is a variation of th...</td>\n",
       "      <td>select a dumbbell and position it at chest hei...</td>\n",
       "      <td>if you struggle with squatting with a barbell ...</td>\n",
       "      <td>abs, adductors, calves, glutes, hamstrings, lo...</td>\n",
       "    </tr>\n",
       "    <tr>\n",
       "      <th>3</th>\n",
       "      <td>https://www.muscleandstrength.com/exercises/du...</td>\n",
       "      <td>dumbbell rear lunge</td>\n",
       "      <td>https://www.muscleandstrength.com/exercises/du...</td>\n",
       "      <td>quads</td>\n",
       "      <td>strength</td>\n",
       "      <td>dumbbell</td>\n",
       "      <td>compound</td>\n",
       "      <td>push (unilateral)</td>\n",
       "      <td>intermediate</td>\n",
       "      <td>the dumbbell reverse lunge is a dumbbell lunge...</td>\n",
       "      <td>set up with your feet shoulder width apart and...</td>\n",
       "      <td>reverse lunges are a more advanced progression...</td>\n",
       "      <td>calves, glutes, hamstrings</td>\n",
       "    </tr>\n",
       "    <tr>\n",
       "      <th>4</th>\n",
       "      <td>https://www.muscleandstrength.com/exercises/du...</td>\n",
       "      <td>dumbbell split squat</td>\n",
       "      <td>https://www.muscleandstrength.com/exercises/du...</td>\n",
       "      <td>quads</td>\n",
       "      <td>strength</td>\n",
       "      <td>dumbbell</td>\n",
       "      <td>compound</td>\n",
       "      <td>push (unilateral)</td>\n",
       "      <td>beginner</td>\n",
       "      <td>the dumbbell split squat is a dumbbell lunge v...</td>\n",
       "      <td>set up in a split stance position while grippi...</td>\n",
       "      <td>if you want to emphasize the quads during the ...</td>\n",
       "      <td>abs, adductors, calves, glutes, hamstrings</td>\n",
       "    </tr>\n",
       "  </tbody>\n",
       "</table>\n",
       "</div>"
      ],
      "text/plain": [
       "                                                  id                   name  \\\n",
       "0  https://www.muscleandstrength.com/exercises/wi...  wide grip upright row   \n",
       "1  https://www.muscleandstrength.com/exercises/ba...          barbell shrug   \n",
       "2  https://www.muscleandstrength.com/exercises/du...  dumbbell goblet squat   \n",
       "3  https://www.muscleandstrength.com/exercises/du...    dumbbell rear lunge   \n",
       "4  https://www.muscleandstrength.com/exercises/du...   dumbbell split squat   \n",
       "\n",
       "                                                 url muscle      type  \\\n",
       "0  https://www.muscleandstrength.com/exercises/wi...  traps  strength   \n",
       "1  https://www.muscleandstrength.com/exercises/ba...  traps  strength   \n",
       "2  https://www.muscleandstrength.com/exercises/du...  quads  strength   \n",
       "3  https://www.muscleandstrength.com/exercises/du...  quads  strength   \n",
       "4  https://www.muscleandstrength.com/exercises/du...  quads  strength   \n",
       "\n",
       "  equipment  mechanics         force_type    difficulty  \\\n",
       "0   barbell   compound               pull  intermediate   \n",
       "1   barbell  isolation   pull (bilateral)      beginner   \n",
       "2  dumbbell   compound   push (bilateral)      beginner   \n",
       "3  dumbbell   compound  push (unilateral)  intermediate   \n",
       "4  dumbbell   compound  push (unilateral)      beginner   \n",
       "\n",
       "                                            overview  \\\n",
       "0                                                      \n",
       "1  the barbell shrug is a great exercise for thos...   \n",
       "2  the dumbbell goblet squat is a variation of th...   \n",
       "3  the dumbbell reverse lunge is a dumbbell lunge...   \n",
       "4  the dumbbell split squat is a dumbbell lunge v...   \n",
       "\n",
       "                                        instructions  \\\n",
       "0  load up a barbell with the weight you want to ...   \n",
       "1  position the safeties just below waist height ...   \n",
       "2  select a dumbbell and position it at chest hei...   \n",
       "3  set up with your feet shoulder width apart and...   \n",
       "4  set up in a split stance position while grippi...   \n",
       "\n",
       "                                                tips  \\\n",
       "0  focus on keeping your elbows higher than your ...   \n",
       "1  looking slightly up while shrugging may enhanc...   \n",
       "2  if you struggle with squatting with a barbell ...   \n",
       "3  reverse lunges are a more advanced progression...   \n",
       "4  if you want to emphasize the quads during the ...   \n",
       "\n",
       "                                    secondary_muscle  \n",
       "0                                    lats, shoulders  \n",
       "1                              shoulders, upper back  \n",
       "2  abs, adductors, calves, glutes, hamstrings, lo...  \n",
       "3                         calves, glutes, hamstrings  \n",
       "4         abs, adductors, calves, glutes, hamstrings  "
      ]
     },
     "execution_count": 5,
     "metadata": {},
     "output_type": "execute_result"
    }
   ],
   "source": [
    "exercise_group_df.head()"
   ]
  },
  {
   "cell_type": "markdown",
   "id": "6dcd2c24",
   "metadata": {},
   "source": [
    "# Information Extraction"
   ]
  },
  {
   "cell_type": "code",
   "execution_count": 6,
   "id": "e2bb6c2a",
   "metadata": {},
   "outputs": [
    {
     "name": "stdout",
     "output_type": "stream",
     "text": [
      "setup in a supine position with your arms extended vertically and a partner standing over your chest holding a medicine ball.  as you partner pushes the medicine ball towards you, receive the ball and allow your arms to bend as your absorb the impact.  as soon as your elbows touch the floor, explode upwards, extend the elbows, and launch the medicine ball vertically.  your partner should catch the ball in mid flight and immediately direct it downward to complete another repetition.  repeat the entire sequence for the desired number of repetitions.\n",
      "lying medicine ball power drop\n"
     ]
    }
   ],
   "source": [
    "test = exercise_group_df['instructions'].values[26]\n",
    "print(test)\n",
    "print(exercise_group_df['name'].values[26])\n",
    "doc = nlp(test)"
   ]
  },
  {
   "cell_type": "code",
   "execution_count": 7,
   "id": "2f6dfb7c",
   "metadata": {},
   "outputs": [],
   "source": [
    "# find_equipments(doc)"
   ]
  },
  {
   "cell_type": "code",
   "execution_count": 8,
   "id": "a37940d4",
   "metadata": {},
   "outputs": [],
   "source": [
    "for ent in doc.ents:\n",
    "            print(ent.text, ent.label_)"
   ]
  },
  {
   "cell_type": "code",
   "execution_count": 9,
   "id": "e90885f3",
   "metadata": {
    "scrolled": true
   },
   "outputs": [],
   "source": [
    "# for text in exercise_group_df['instructions'].values:\n",
    "#     doc = nlp(text)\n",
    "#     for ent in doc.ents:\n",
    "#             print(ent.text, ent.label_)"
   ]
  },
  {
   "cell_type": "code",
   "execution_count": 10,
   "id": "304e2594",
   "metadata": {},
   "outputs": [],
   "source": [
    "def find_equipments(doc):\n",
    "    equipment_patterns = [\n",
    "               [{'POS':'VERB'},{'POS': 'DET'},{'POS': 'NOUN'}],  \n",
    "                [{'POS':'VERB'},{'POS': 'ADP','OP':'+'},{'POS': 'DET'},{'POS': 'NOUN'}],\n",
    "        [{'POS': 'SCONJ'},{'POS':'VERB'},{'POS': 'NOUN'}], \n",
    "             [{'POS':'VERB'},{'POS': 'DET'},{'POS':'NOUN','OP': '+'},{'POS': 'ADP'},{'POS': 'DET'},{'POS': 'NOUN'}],\n",
    "        [{'POS':'VERB'},{'POS': 'ADP'},{'POS':'ADV'},{'POS': 'ADP'},{'POS': 'NOUN'},{'POS':'ADP'},{'POS': 'DET'}\n",
    "         ,{'POS': 'ADJ'},{'POS': 'NOUN'}],\n",
    "        [{'POS':'VERB'},{'POS': 'DET'},{'POS':'NOUN','OP': '+'}],\n",
    "        [{'POS':'NOUN','OP':'+'}, {'POS':'ADJ'}, {'POS':'ADP'}, {'POS': 'DET'},{'POS':'NOUN'}]\n",
    "        ]\n",
    "    \n",
    "    matcher = Matcher(nlp.vocab) \n",
    "    matcher.add(\"matching_2\", equipment_patterns)\n",
    "    matches = matcher(doc)\n",
    "    matched_strings = []\n",
    "    if len(matches)>0:\n",
    "        for match_id, start, end in matches:\n",
    "            \n",
    "            string_id = nlp.vocab.strings[match_id]  # Get string representation\n",
    "            span = doc[start:end]  # The matched span\n",
    "            req_word = span.text.split(\" \")[-1]\n",
    "            \n",
    "            lemma_word = nlp(req_word)[0].lemma_\n",
    "            \n",
    "            matched_strings.append(lemma_word)\n",
    "    \n",
    "    return list(set(matched_strings))\n",
    "\n",
    "\n",
    "def find_positions(doc):\n",
    "    position_patterns = [\n",
    "              [{'LEMMA': {\"IN\":['sit','stand','standing','supine', 'lay', 'lie']}}],\n",
    "        ]\n",
    "    \n",
    "    matcher = Matcher(nlp.vocab) \n",
    "    matcher.add(\"matching_3\", position_patterns)\n",
    "    matches = matcher(doc)\n",
    "    matched_strings = []\n",
    "    if len(matches)>0:\n",
    "        for match_id, start, end in matches:\n",
    "            \n",
    "            string_id = nlp.vocab.strings[match_id]  # Get string representation\n",
    "            span = doc[start:end]  # The matched span\n",
    "            req_word = span.text.split(\" \")[-1]\n",
    "            \n",
    "            lemma_word = nlp(req_word)[0].lemma_\n",
    "            \n",
    "            matched_strings.append(lemma_word)\n",
    "    \n",
    "    return list(set(matched_strings))"
   ]
  },
  {
   "cell_type": "code",
   "execution_count": 11,
   "id": "c43d4de4",
   "metadata": {
    "scrolled": true
   },
   "outputs": [],
   "source": [
    "\n",
    "# for token in doc:\n",
    "#     print(f'{token.text:{8}} {token.pos_:{6}} {token.tag_:{6}} {token.dep_:{6}} {spacy.explain(token.pos_):{20}} {spacy.explain(token.tag_)}')"
   ]
  },
  {
   "cell_type": "code",
   "execution_count": 12,
   "id": "ef03e1b8",
   "metadata": {},
   "outputs": [],
   "source": [
    "# output_df = exercise_group_df[['id','instructions']]"
   ]
  },
  {
   "cell_type": "code",
   "execution_count": 13,
   "id": "0a56d1d5",
   "metadata": {},
   "outputs": [],
   "source": [
    "extractions = []\n",
    "i=0\n",
    "temp_set = set()\n",
    "equipment_set = set(['kettlebell','physioball','barbell','bench','bar','sled','dumbbell','chair','belt','cable','kettle'])\n",
    "for url, instructions in exercise_group_df[['id','instructions']].values:\n",
    "    cur_dir_dict = {}\n",
    "    doc = nlp(instructions)\n",
    "    \n",
    "    cur_dir_dict['id'] = url\n",
    "    \n",
    "    ##Equipments\n",
    "    data_extracted = find_equipments(doc)\n",
    "    \n",
    "    temp_set.update(data_extracted)\n",
    "    req_equips = equipment_set.intersection(set(data_extracted))\n",
    "    \n",
    "    cur_dir_dict['equipment'] = list(req_equips)\n",
    "    extractions.append(cur_dir_dict)\n",
    "    ###Positions\n",
    "    \n",
    "    cur_dir_dict['position'] = find_positions(doc)"
   ]
  },
  {
   "cell_type": "code",
   "execution_count": 14,
   "id": "395c8761",
   "metadata": {},
   "outputs": [
    {
     "data": {
      "text/plain": [
       "239"
      ]
     },
     "execution_count": 14,
     "metadata": {},
     "output_type": "execute_result"
    }
   ],
   "source": [
    "len(temp_set)"
   ]
  },
  {
   "cell_type": "code",
   "execution_count": 15,
   "id": "2d8d3e1e",
   "metadata": {},
   "outputs": [],
   "source": [
    "final_df = pd.DataFrame.from_dict(extractions)"
   ]
  },
  {
   "cell_type": "code",
   "execution_count": 16,
   "id": "131b190b",
   "metadata": {},
   "outputs": [
    {
     "data": {
      "text/html": [
       "<div>\n",
       "<style scoped>\n",
       "    .dataframe tbody tr th:only-of-type {\n",
       "        vertical-align: middle;\n",
       "    }\n",
       "\n",
       "    .dataframe tbody tr th {\n",
       "        vertical-align: top;\n",
       "    }\n",
       "\n",
       "    .dataframe thead th {\n",
       "        text-align: right;\n",
       "    }\n",
       "</style>\n",
       "<table border=\"1\" class=\"dataframe\">\n",
       "  <thead>\n",
       "    <tr style=\"text-align: right;\">\n",
       "      <th></th>\n",
       "      <th>id</th>\n",
       "      <th>equipment</th>\n",
       "      <th>position</th>\n",
       "    </tr>\n",
       "  </thead>\n",
       "  <tbody>\n",
       "    <tr>\n",
       "      <th>0</th>\n",
       "      <td>https://www.muscleandstrength.com/exercises/wi...</td>\n",
       "      <td>[bar, barbell]</td>\n",
       "      <td>[stand]</td>\n",
       "    </tr>\n",
       "    <tr>\n",
       "      <th>1</th>\n",
       "      <td>https://www.muscleandstrength.com/exercises/ba...</td>\n",
       "      <td>[bar]</td>\n",
       "      <td>[stand]</td>\n",
       "    </tr>\n",
       "    <tr>\n",
       "      <th>2</th>\n",
       "      <td>https://www.muscleandstrength.com/exercises/du...</td>\n",
       "      <td>[dumbbell]</td>\n",
       "      <td>[]</td>\n",
       "    </tr>\n",
       "    <tr>\n",
       "      <th>3</th>\n",
       "      <td>https://www.muscleandstrength.com/exercises/du...</td>\n",
       "      <td>[dumbbell]</td>\n",
       "      <td>[stand]</td>\n",
       "    </tr>\n",
       "    <tr>\n",
       "      <th>4</th>\n",
       "      <td>https://www.muscleandstrength.com/exercises/du...</td>\n",
       "      <td>[dumbbell]</td>\n",
       "      <td>[]</td>\n",
       "    </tr>\n",
       "  </tbody>\n",
       "</table>\n",
       "</div>"
      ],
      "text/plain": [
       "                                                  id       equipment position\n",
       "0  https://www.muscleandstrength.com/exercises/wi...  [bar, barbell]  [stand]\n",
       "1  https://www.muscleandstrength.com/exercises/ba...           [bar]  [stand]\n",
       "2  https://www.muscleandstrength.com/exercises/du...      [dumbbell]       []\n",
       "3  https://www.muscleandstrength.com/exercises/du...      [dumbbell]  [stand]\n",
       "4  https://www.muscleandstrength.com/exercises/du...      [dumbbell]       []"
      ]
     },
     "execution_count": 16,
     "metadata": {},
     "output_type": "execute_result"
    }
   ],
   "source": [
    "final_df.head()"
   ]
  },
  {
   "cell_type": "code",
   "execution_count": 17,
   "id": "83bfaed5",
   "metadata": {},
   "outputs": [
    {
     "data": {
      "text/plain": [
       "id           https://www.muscleandstrength.com/exercises/pl...\n",
       "equipment                                                   []\n",
       "position                                               [stand]\n",
       "Name: 1073, dtype: object"
      ]
     },
     "execution_count": 17,
     "metadata": {},
     "output_type": "execute_result"
    }
   ],
   "source": [
    "final_df.iloc[1073,:]"
   ]
  },
  {
   "cell_type": "code",
   "execution_count": 18,
   "id": "cc5033ca",
   "metadata": {},
   "outputs": [],
   "source": [
    "final_df.to_csv(\"Data Extracted/Gym_info_extracted.csv\", index = False)"
   ]
  }
 ],
 "metadata": {
  "kernelspec": {
   "display_name": "Python 3 (ipykernel)",
   "language": "python",
   "name": "python3"
  },
  "language_info": {
   "codemirror_mode": {
    "name": "ipython",
    "version": 3
   },
   "file_extension": ".py",
   "mimetype": "text/x-python",
   "name": "python",
   "nbconvert_exporter": "python",
   "pygments_lexer": "ipython3",
   "version": "3.9.7"
  }
 },
 "nbformat": 4,
 "nbformat_minor": 5
}
